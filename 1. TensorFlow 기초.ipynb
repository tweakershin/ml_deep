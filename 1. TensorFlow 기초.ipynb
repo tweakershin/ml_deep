{
 "cells": [
  {
   "cell_type": "markdown",
   "metadata": {},
   "source": [
    "# 텐서플로우 실행하기"
   ]
  },
  {
   "cell_type": "code",
   "execution_count": 1,
   "metadata": {},
   "outputs": [
    {
     "name": "stderr",
     "output_type": "stream",
     "text": [
      "WARNING: Logging before flag parsing goes to stderr.\n",
      "W0717 13:31:26.802998 4486428096 __init__.py:308] Limited tf.compat.v2.summary API due to missing TensorBoard installation.\n"
     ]
    }
   ],
   "source": [
    "import tensorflow as tf"
   ]
  },
  {
   "cell_type": "code",
   "execution_count": 2,
   "metadata": {},
   "outputs": [
    {
     "name": "stdout",
     "output_type": "stream",
     "text": [
      "Tensor(\"Const:0\", shape=(), dtype=string)\n",
      "b'Hello TensorFlow'\n"
     ]
    }
   ],
   "source": [
    "hello = tf.constant('Hello TensorFlow')\n",
    "print(hello)\n",
    "\n",
    "sess = tf.Session()\n",
    "result = sess.run(hello)\n",
    "print(result)\n",
    "sess.close()"
   ]
  },
  {
   "cell_type": "markdown",
   "metadata": {},
   "source": [
    "# 계산그래프 만들기"
   ]
  },
  {
   "cell_type": "code",
   "execution_count": 3,
   "metadata": {},
   "outputs": [],
   "source": [
    "import tensorflow as tf\n",
    "\n",
    "node1 = tf.constant(3, tf.float32) # explicitly dtype=tf.float32\n",
    "node2 = tf.constant(4.0) # implicitly  tf.float32\n",
    "node3 = tf.add(node1, node2)"
   ]
  },
  {
   "cell_type": "code",
   "execution_count": 4,
   "metadata": {},
   "outputs": [
    {
     "name": "stdout",
     "output_type": "stream",
     "text": [
      "node1:  Tensor(\"Const_1:0\", shape=(), dtype=float32)\n",
      "node2:  Tensor(\"Const_2:0\", shape=(), dtype=float32)\n",
      "node3:  Tensor(\"Add:0\", shape=(), dtype=float32)\n"
     ]
    }
   ],
   "source": [
    "# node1, node2, node3는 텐서 - 노드일뿐\n",
    "print(\"node1: \", node1)\n",
    "print(\"node2: \", node2)\n",
    "print(\"node3: \", node3)"
   ]
  },
  {
   "cell_type": "code",
   "execution_count": 5,
   "metadata": {},
   "outputs": [
    {
     "name": "stdout",
     "output_type": "stream",
     "text": [
      "session.run([node1, node2]):  [3.0, 4.0]\n",
      "session.run(node3):  7.0\n"
     ]
    }
   ],
   "source": [
    "session = tf.Session()\n",
    "print(\"session.run([node1, node2]): \", session.run([node1, node2]))\n",
    "print(\"session.run(node3): \", session.run(node3))\n",
    "\n",
    "session.close() # session을 열었으면 닫아줘야함.(파일과 똑같이)\n"
   ]
  },
  {
   "cell_type": "markdown",
   "metadata": {},
   "source": [
    "# TensorFlow 자료형"
   ]
  },
  {
   "cell_type": "markdown",
   "metadata": {},
   "source": [
    "### Constant"
   ]
  },
  {
   "cell_type": "code",
   "execution_count": 6,
   "metadata": {},
   "outputs": [
    {
     "name": "stdout",
     "output_type": "stream",
     "text": [
      "Tensor(\"Const_3:0\", shape=(), dtype=float32)\n",
      "()\n",
      "1.0\n"
     ]
    }
   ],
   "source": [
    "# 다른 type으로\n",
    "a = tf.constant(1, dtype=tf.float32)\n",
    "print(a)\n",
    "print(a.shape)\n",
    "with tf.Session() as session:\n",
    "    print(session.run(a))"
   ]
  },
  {
   "cell_type": "code",
   "execution_count": 7,
   "metadata": {},
   "outputs": [
    {
     "name": "stdout",
     "output_type": "stream",
     "text": [
      "Tensor(\"Const_4:0\", shape=(1,), dtype=float32)\n",
      "(1,)\n",
      "[1.]\n"
     ]
    }
   ],
   "source": [
    "# 다른 Shape으로\n",
    "a = tf.constant(1, dtype=tf.float32, shape=(1,))\n",
    "print(a)\n",
    "print(a.shape)\n",
    "with tf.Session() as session:\n",
    "    print(session.run(a))"
   ]
  },
  {
   "cell_type": "code",
   "execution_count": 8,
   "metadata": {},
   "outputs": [
    {
     "name": "stdout",
     "output_type": "stream",
     "text": [
      "Tensor(\"Const_5:0\", shape=(1, 1), dtype=float32)\n",
      "(1, 1)\n",
      "[[1.]]\n"
     ]
    }
   ],
   "source": [
    "# 2차원으로 설정\n",
    "a = tf.constant(1, dtype=tf.float32, shape=(1,1))\n",
    "print(a)\n",
    "print(a.shape)\n",
    "with tf.Session() as session:\n",
    "    print(session.run(a))"
   ]
  },
  {
   "cell_type": "markdown",
   "metadata": {},
   "source": [
    "### Placeholder"
   ]
  },
  {
   "cell_type": "code",
   "execution_count": 9,
   "metadata": {},
   "outputs": [
    {
     "name": "stdout",
     "output_type": "stream",
     "text": [
      "x:  Tensor(\"Placeholder:0\", dtype=float32)\n",
      "y:  Tensor(\"mul:0\", dtype=float32)\n",
      "[2. 4. 6.]\n"
     ]
    }
   ],
   "source": [
    "import tensorflow as tf\n",
    "\n",
    "input_data = [1, 2, 3]\n",
    "x = tf.placeholder(dtype=tf.float32)\n",
    "\n",
    "y = x * 2\n",
    "print(\"x: \", x)\n",
    "print(\"y: \", y)\n",
    "\n",
    "\n",
    "session = tf.Session()\n",
    "\n",
    "# feed_dict를 통해 값을 전달합니다.\n",
    "result = session.run(y, feed_dict={x:input_data})\n",
    "print(result)\n",
    "session.close()"
   ]
  },
  {
   "cell_type": "markdown",
   "metadata": {},
   "source": [
    "### Variable"
   ]
  },
  {
   "cell_type": "code",
   "execution_count": 10,
   "metadata": {},
   "outputs": [
    {
     "name": "stdout",
     "output_type": "stream",
     "text": [
      "x:  Tensor(\"Placeholder_1:0\", dtype=float32)\n",
      "weights:  <tf.Variable 'Variable:0' shape=(1,) dtype=float32_ref>\n",
      "biases: <tf.Variable 'Variable_1:0' shape=(1,) dtype=float32_ref>\n"
     ]
    }
   ],
   "source": [
    "x = tf.placeholder(dtype=tf.float32)\n",
    "x_data = [1, 2, 4]\n",
    "\n",
    "# 초기값: tf.random_normal([1, 3], stddev=0.35)\n",
    "weights = tf.Variable([3], dtype=tf.float32)\n",
    "biases = tf.Variable([4], dtype=tf.float32)\n",
    "\n",
    "y = weights*x + biases\n",
    "\n",
    "print(\"x: \", x)\n",
    "print('weights: ', weights)\n",
    "print('biases:', biases)\n"
   ]
  },
  {
   "cell_type": "markdown",
   "metadata": {},
   "source": [
    "### 개별 initializer"
   ]
  },
  {
   "cell_type": "code",
   "execution_count": 11,
   "metadata": {},
   "outputs": [
    {
     "name": "stdout",
     "output_type": "stream",
     "text": [
      "[ 7. 10. 16.]\n",
      "[ 6.  8. 12.]\n"
     ]
    }
   ],
   "source": [
    "with tf.Session() as session:\n",
    "    # 초기화 오퍼레이션을 실행\n",
    "    session.run([weights.initializer, biases.initializer])\n",
    "    \n",
    "    result = session.run(y, feed_dict={x:x_data})\n",
    "    print(result)\n",
    "    \n",
    "    # 변수 변경 // 변수 재 할당\n",
    "    session.run(tf.assign(weights, [2]))\n",
    "    \n",
    "    # 다시 실행\n",
    "    result = session.run(y, feed_dict={x:x_data})\n",
    "    print(result)"
   ]
  },
  {
   "cell_type": "markdown",
   "metadata": {},
   "source": [
    "### 전체 변수 한번에 초기화 - global_variables_initializer"
   ]
  },
  {
   "cell_type": "code",
   "execution_count": 12,
   "metadata": {},
   "outputs": [
    {
     "name": "stdout",
     "output_type": "stream",
     "text": [
      "x:  Tensor(\"Placeholder_2:0\", dtype=float32)\n",
      "weights:  <tf.Variable 'Variable_2:0' shape=(1,) dtype=float32_ref>\n",
      "biases: <tf.Variable 'Variable_3:0' shape=(1,) dtype=float32_ref>\n"
     ]
    }
   ],
   "source": [
    "x = tf.placeholder(dtype=tf.float32)\n",
    "x_data = [1, 2, 4]\n",
    "\n",
    "# 초기값: tf.random_normal([1, 3], stddev=0.35)\n",
    "weights = tf.Variable([3], dtype=tf.float32)\n",
    "biases = tf.Variable([4], dtype=tf.float32)\n",
    "\n",
    "y = weights*x + biases\n",
    "\n",
    "print(\"x: \", x)\n",
    "print('weights: ', weights)\n",
    "print('biases:', biases)\n"
   ]
  },
  {
   "cell_type": "code",
   "execution_count": 13,
   "metadata": {},
   "outputs": [
    {
     "name": "stdout",
     "output_type": "stream",
     "text": [
      "[ 7. 10. 16.]\n",
      "[ 6.  8. 12.]\n"
     ]
    }
   ],
   "source": [
    "# 변수 초기화 작업\n",
    "init_op = tf.global_variables_initializer()\n",
    "\n",
    "with tf.Session() as session:\n",
    "    # 초기화 오퍼레이션을 실행\n",
    "    session.run(init_op)\n",
    "    \n",
    "    result = session.run(y, feed_dict={x:x_data})\n",
    "    print(result)\n",
    "    \n",
    "    # 변수 변경 // 변수 재 할당\n",
    "    session.run(tf.assign(weights, [2]))\n",
    "    \n",
    "    # 다시 실행\n",
    "    result = session.run(y, feed_dict={x:x_data})\n",
    "    print(result)"
   ]
  },
  {
   "cell_type": "code",
   "execution_count": null,
   "metadata": {},
   "outputs": [],
   "source": []
  },
  {
   "cell_type": "code",
   "execution_count": null,
   "metadata": {},
   "outputs": [],
   "source": []
  },
  {
   "cell_type": "markdown",
   "metadata": {},
   "source": [
    "# Tensor의 속성"
   ]
  },
  {
   "cell_type": "code",
   "execution_count": 14,
   "metadata": {},
   "outputs": [
    {
     "name": "stdout",
     "output_type": "stream",
     "text": [
      "a:  Tensor(\"Const_6:0\", shape=(), dtype=int32)\n",
      "b:  Tensor(\"Const_7:0\", shape=(2,), dtype=float32)\n",
      "c:  Tensor(\"Const_8:0\", shape=(2, 2), dtype=int32)\n",
      "d:  Tensor(\"Const_9:0\", shape=(2, 2, 2), dtype=float32)\n"
     ]
    }
   ],
   "source": [
    "a = tf.constant(1) # 0차원\n",
    "b = tf.constant([1, 2], dtype=tf.float32) # 1차원\n",
    "c = tf.constant([[1, 2], [3,4]], dtype=tf.int32) # 2차원, = 행렬\n",
    "d = tf.constant(\n",
    "    [\n",
    "        [[1.0,2.0],[3, 4]],\n",
    "        [[5,6],[7, 8]]\n",
    "    ]\n",
    ") # 3차원\n",
    "# ...\n",
    "print('a: ', a)\n",
    "print('b: ', b)\n",
    "print('c: ', c)\n",
    "print('d: ', d)"
   ]
  },
  {
   "cell_type": "markdown",
   "metadata": {},
   "source": [
    "## rank"
   ]
  },
  {
   "cell_type": "code",
   "execution_count": 15,
   "metadata": {},
   "outputs": [
    {
     "name": "stdout",
     "output_type": "stream",
     "text": [
      "a's rank:  0\n",
      "b's rank:  1\n",
      "c's rank:  2\n",
      "d's rank:  3\n",
      "--------------------------------------------------\n",
      "a's rank:  Tensor(\"Rank:0\", shape=(), dtype=int32)\n",
      "b's rank:  Tensor(\"Rank_1:0\", shape=(), dtype=int32)\n",
      "c's rank:  Tensor(\"Rank_2:0\", shape=(), dtype=int32)\n",
      "d's rank:  Tensor(\"Rank_3:0\", shape=(), dtype=int32)\n"
     ]
    }
   ],
   "source": [
    "print(\"a's rank: \", a._rank())\n",
    "print(\"b's rank: \", b._rank())\n",
    "print(\"c's rank: \", c._rank())\n",
    "print(\"d's rank: \", d._rank())\n",
    "\n",
    "print(\"-\"*50)\n",
    "# 아래는  텐서로 반환\n",
    "print(\"a's rank: \", tf.rank(a))\n",
    "print(\"b's rank: \", tf.rank(b))\n",
    "print(\"c's rank: \", tf.rank(c))\n",
    "print(\"d's rank: \", tf.rank(d))"
   ]
  },
  {
   "cell_type": "markdown",
   "metadata": {},
   "source": [
    "## Shape"
   ]
  },
  {
   "cell_type": "code",
   "execution_count": 16,
   "metadata": {},
   "outputs": [
    {
     "name": "stdout",
     "output_type": "stream",
     "text": [
      "a's shape:  ()\n",
      "b's shape:  (2,)\n",
      "c's shape:  (2, 2)\n",
      "d's shape:  (2, 2, 2)\n",
      "--------------------------------------------------\n",
      "a's shape:  Tensor(\"Shape:0\", shape=(0,), dtype=int32)\n",
      "b's shape:  Tensor(\"Shape_1:0\", shape=(1,), dtype=int32)\n",
      "c's shape:  Tensor(\"Shape_2:0\", shape=(2,), dtype=int32)\n",
      "d's shape:  Tensor(\"Shape_3:0\", shape=(3,), dtype=int32)\n"
     ]
    }
   ],
   "source": [
    "print(\"a's shape: \", a.get_shape())\n",
    "# print(\"a's shape: \", a.shape)# 같은 결과\n",
    "print(\"b's shape: \", b.get_shape())\n",
    "print(\"c's shape: \", c.get_shape())\n",
    "print(\"d's shape: \", d.get_shape())\n",
    "\n",
    "print(\"-\"*50)\n",
    "\n",
    "# 아래는  텐서로 반환\n",
    "print(\"a's shape: \", tf.shape(a))\n",
    "print(\"b's shape: \", tf.shape(b))\n",
    "print(\"c's shape: \", tf.shape(c))\n",
    "print(\"d's shape: \", tf.shape(d))"
   ]
  },
  {
   "cell_type": "markdown",
   "metadata": {},
   "source": [
    "## dtype"
   ]
  },
  {
   "cell_type": "code",
   "execution_count": 17,
   "metadata": {},
   "outputs": [
    {
     "name": "stdout",
     "output_type": "stream",
     "text": [
      "a's type:  <dtype: 'int32'>\n",
      "b's type:  <dtype: 'float32'>\n",
      "c's type:  <dtype: 'int32'>\n",
      "d's type:  <dtype: 'float32'>\n"
     ]
    }
   ],
   "source": [
    "print(\"a's type: \", a.dtype)\n",
    "print(\"b's type: \", b.dtype)\n",
    "print(\"c's type: \", c.dtype)\n",
    "print(\"d's type: \", d.dtype)"
   ]
  },
  {
   "cell_type": "markdown",
   "metadata": {},
   "source": [
    "# Session 관리"
   ]
  },
  {
   "cell_type": "markdown",
   "metadata": {},
   "source": [
    "### tf.get_default_session()"
   ]
  },
  {
   "cell_type": "code",
   "execution_count": 18,
   "metadata": {},
   "outputs": [
    {
     "name": "stdout",
     "output_type": "stream",
     "text": [
      "None\n"
     ]
    }
   ],
   "source": [
    "session = tf.get_default_session()\n",
    "print(session)"
   ]
  },
  {
   "cell_type": "code",
   "execution_count": 19,
   "metadata": {},
   "outputs": [
    {
     "name": "stdout",
     "output_type": "stream",
     "text": [
      "<tensorflow.python.client.session.Session object at 0x133dc4ba8>\n"
     ]
    }
   ],
   "source": [
    "with tf.Session() as sess:\n",
    "    print(tf.get_default_session())"
   ]
  },
  {
   "cell_type": "markdown",
   "metadata": {},
   "source": [
    "### eval(), initializer.run()"
   ]
  },
  {
   "cell_type": "code",
   "execution_count": 20,
   "metadata": {},
   "outputs": [],
   "source": [
    "a = tf.constant(2, dtype=tf.float32)\n",
    "b = tf.Variable(3, dtype=tf.float32)\n",
    "c = a * b\n"
   ]
  },
  {
   "cell_type": "code",
   "execution_count": 21,
   "metadata": {},
   "outputs": [
    {
     "name": "stdout",
     "output_type": "stream",
     "text": [
      "None\n",
      "2.0\n",
      "6.0\n",
      "----------\n",
      "None\n",
      "2.0\n",
      "6.0\n"
     ]
    }
   ],
   "source": [
    "with tf.Session() as sess:\n",
    "    print(sess.run(b.initializer))\n",
    "    print(sess.run(a))\n",
    "    print(sess.run(c))\n",
    "\n",
    "    print('-'*10)\n",
    "    #### 똑같은 결과\n",
    "    print(b.initializer.run())\n",
    "    print(a.eval())\n",
    "    print(c.eval())"
   ]
  },
  {
   "cell_type": "markdown",
   "metadata": {},
   "source": [
    "### tf.InteractiveSesison"
   ]
  },
  {
   "cell_type": "code",
   "execution_count": 22,
   "metadata": {},
   "outputs": [
    {
     "name": "stdout",
     "output_type": "stream",
     "text": [
      "2.0\n",
      "6.0\n"
     ]
    }
   ],
   "source": [
    "sess = tf.InteractiveSession()\n",
    "sess.run(b.initializer)\n",
    "print(a.eval())\n",
    "print(c.eval())\n",
    "sess.close()"
   ]
  },
  {
   "cell_type": "markdown",
   "metadata": {},
   "source": [
    "# Graph 관리하기"
   ]
  },
  {
   "cell_type": "markdown",
   "metadata": {},
   "source": [
    "### get_default_graph()"
   ]
  },
  {
   "cell_type": "code",
   "execution_count": 23,
   "metadata": {},
   "outputs": [
    {
     "data": {
      "text/plain": [
       "<tensorflow.python.framework.ops.Graph at 0x133d535c0>"
      ]
     },
     "execution_count": 23,
     "metadata": {},
     "output_type": "execute_result"
    }
   ],
   "source": [
    "tf.get_default_graph()"
   ]
  },
  {
   "cell_type": "code",
   "execution_count": 24,
   "metadata": {},
   "outputs": [
    {
     "data": {
      "text/plain": [
       "True"
      ]
     },
     "execution_count": 24,
     "metadata": {},
     "output_type": "execute_result"
    }
   ],
   "source": [
    "a = tf.Variable(3)\n",
    "a.graph is tf.get_default_graph()"
   ]
  },
  {
   "cell_type": "markdown",
   "metadata": {},
   "source": [
    "### Graph객체"
   ]
  },
  {
   "cell_type": "code",
   "execution_count": 25,
   "metadata": {},
   "outputs": [],
   "source": [
    "graph = tf.Graph()\n",
    "with graph.as_default():\n",
    "    b = tf.Variable(2)\n",
    "    "
   ]
  },
  {
   "cell_type": "code",
   "execution_count": 26,
   "metadata": {},
   "outputs": [
    {
     "data": {
      "text/plain": [
       "True"
      ]
     },
     "execution_count": 26,
     "metadata": {},
     "output_type": "execute_result"
    }
   ],
   "source": [
    "b.graph is graph"
   ]
  },
  {
   "cell_type": "code",
   "execution_count": 27,
   "metadata": {},
   "outputs": [
    {
     "data": {
      "text/plain": [
       "[<tf.Operation 'Const' type=Const>,\n",
       " <tf.Operation 'Const_1' type=Const>,\n",
       " <tf.Operation 'Const_2' type=Const>,\n",
       " <tf.Operation 'Add' type=Add>,\n",
       " <tf.Operation 'Const_3' type=Const>,\n",
       " <tf.Operation 'Const_4' type=Const>,\n",
       " <tf.Operation 'Const_5' type=Const>,\n",
       " <tf.Operation 'Placeholder' type=Placeholder>,\n",
       " <tf.Operation 'mul/y' type=Const>,\n",
       " <tf.Operation 'mul' type=Mul>,\n",
       " <tf.Operation 'Placeholder_1' type=Placeholder>,\n",
       " <tf.Operation 'Variable/initial_value' type=Const>,\n",
       " <tf.Operation 'Variable' type=VariableV2>,\n",
       " <tf.Operation 'Variable/Assign' type=Assign>,\n",
       " <tf.Operation 'Variable/read' type=Identity>,\n",
       " <tf.Operation 'Variable_1/initial_value' type=Const>,\n",
       " <tf.Operation 'Variable_1' type=VariableV2>,\n",
       " <tf.Operation 'Variable_1/Assign' type=Assign>,\n",
       " <tf.Operation 'Variable_1/read' type=Identity>,\n",
       " <tf.Operation 'mul_1' type=Mul>,\n",
       " <tf.Operation 'add_1' type=Add>,\n",
       " <tf.Operation 'Assign/value' type=Const>,\n",
       " <tf.Operation 'Assign' type=Assign>,\n",
       " <tf.Operation 'Placeholder_2' type=Placeholder>,\n",
       " <tf.Operation 'Variable_2/initial_value' type=Const>,\n",
       " <tf.Operation 'Variable_2' type=VariableV2>,\n",
       " <tf.Operation 'Variable_2/Assign' type=Assign>,\n",
       " <tf.Operation 'Variable_2/read' type=Identity>,\n",
       " <tf.Operation 'Variable_3/initial_value' type=Const>,\n",
       " <tf.Operation 'Variable_3' type=VariableV2>,\n",
       " <tf.Operation 'Variable_3/Assign' type=Assign>,\n",
       " <tf.Operation 'Variable_3/read' type=Identity>,\n",
       " <tf.Operation 'mul_2' type=Mul>,\n",
       " <tf.Operation 'add_2' type=Add>,\n",
       " <tf.Operation 'init' type=NoOp>,\n",
       " <tf.Operation 'Assign_1/value' type=Const>,\n",
       " <tf.Operation 'Assign_1' type=Assign>,\n",
       " <tf.Operation 'Const_6' type=Const>,\n",
       " <tf.Operation 'Const_7' type=Const>,\n",
       " <tf.Operation 'Const_8' type=Const>,\n",
       " <tf.Operation 'Const_9' type=Const>,\n",
       " <tf.Operation 'Rank' type=Const>,\n",
       " <tf.Operation 'Rank_1' type=Const>,\n",
       " <tf.Operation 'Rank_2' type=Const>,\n",
       " <tf.Operation 'Rank_3' type=Const>,\n",
       " <tf.Operation 'Shape' type=Const>,\n",
       " <tf.Operation 'Shape_1' type=Const>,\n",
       " <tf.Operation 'Shape_2' type=Const>,\n",
       " <tf.Operation 'Shape_3' type=Const>,\n",
       " <tf.Operation 'Const_10' type=Const>,\n",
       " <tf.Operation 'Variable_4/initial_value' type=Const>,\n",
       " <tf.Operation 'Variable_4' type=VariableV2>,\n",
       " <tf.Operation 'Variable_4/Assign' type=Assign>,\n",
       " <tf.Operation 'Variable_4/read' type=Identity>,\n",
       " <tf.Operation 'mul_3' type=Mul>,\n",
       " <tf.Operation 'Variable_5/initial_value' type=Const>,\n",
       " <tf.Operation 'Variable_5' type=VariableV2>,\n",
       " <tf.Operation 'Variable_5/Assign' type=Assign>,\n",
       " <tf.Operation 'Variable_5/read' type=Identity>]"
      ]
     },
     "execution_count": 27,
     "metadata": {},
     "output_type": "execute_result"
    }
   ],
   "source": [
    "tf.get_default_graph().get_operations()"
   ]
  },
  {
   "cell_type": "code",
   "execution_count": 28,
   "metadata": {},
   "outputs": [
    {
     "data": {
      "text/plain": [
       "[]"
      ]
     },
     "execution_count": 28,
     "metadata": {},
     "output_type": "execute_result"
    }
   ],
   "source": [
    "tf.reset_default_graph()\n",
    "tf.get_default_graph().get_operations()"
   ]
  },
  {
   "cell_type": "markdown",
   "metadata": {},
   "source": [
    "# 자주 쓰이는 함수들"
   ]
  },
  {
   "cell_type": "markdown",
   "metadata": {},
   "source": [
    "## 상수만드는 함수"
   ]
  },
  {
   "cell_type": "markdown",
   "metadata": {},
   "source": [
    "### zeros"
   ]
  },
  {
   "cell_type": "code",
   "execution_count": 29,
   "metadata": {},
   "outputs": [
    {
     "name": "stdout",
     "output_type": "stream",
     "text": [
      "Tensor(\"zeros:0\", shape=(3, 3), dtype=float32)\n",
      "------------------------------\n",
      "[[0. 0. 0.]\n",
      " [0. 0. 0.]\n",
      " [0. 0. 0.]]\n"
     ]
    }
   ],
   "source": [
    "a = tf.zeros((3,3), tf.float32)\n",
    "print(a)\n",
    "print('-'*30)\n",
    "with tf.Session() as sess:\n",
    "    print(sess.run(a))"
   ]
  },
  {
   "cell_type": "markdown",
   "metadata": {},
   "source": [
    "### zeros_like"
   ]
  },
  {
   "cell_type": "code",
   "execution_count": 30,
   "metadata": {},
   "outputs": [
    {
     "name": "stdout",
     "output_type": "stream",
     "text": [
      "(2, 3)\n",
      "------------------------------\n",
      "(2, 3)\n",
      "[[0. 0. 0.]\n",
      " [0. 0. 0.]]\n"
     ]
    }
   ],
   "source": [
    "a = tf.constant([[1,2,3],[4,5,6]])\n",
    "print(a.get_shape())\n",
    "\n",
    "print('-'*30)\n",
    "\n",
    "b = tf.zeros_like(a, tf.float32)\n",
    "print(b.get_shape())\n",
    "with tf.Session() as sess:\n",
    "    print(sess.run(b))"
   ]
  },
  {
   "cell_type": "markdown",
   "metadata": {},
   "source": [
    "### ones"
   ]
  },
  {
   "cell_type": "code",
   "execution_count": 31,
   "metadata": {},
   "outputs": [
    {
     "name": "stdout",
     "output_type": "stream",
     "text": [
      "Tensor(\"ones:0\", shape=(3, 3), dtype=float32)\n",
      "------------------------------\n",
      "[[1. 1. 1.]\n",
      " [1. 1. 1.]\n",
      " [1. 1. 1.]]\n"
     ]
    }
   ],
   "source": [
    "a = tf.ones((3,3), tf.float32)\n",
    "print(a)\n",
    "print('-'*30)\n",
    "with tf.Session() as sess:\n",
    "    print(sess.run(a))"
   ]
  },
  {
   "cell_type": "markdown",
   "metadata": {},
   "source": [
    "### ones_like"
   ]
  },
  {
   "cell_type": "code",
   "execution_count": 32,
   "metadata": {},
   "outputs": [
    {
     "name": "stdout",
     "output_type": "stream",
     "text": [
      "(2, 3)\n",
      "------------------------------\n",
      "(2, 3)\n",
      "[[1. 1. 1.]\n",
      " [1. 1. 1.]]\n"
     ]
    }
   ],
   "source": [
    "a = tf.constant([[1,2,3],[4,5,6]])\n",
    "print(a.get_shape())\n",
    "\n",
    "print('-'*30)\n",
    "\n",
    "b = tf.ones_like(a, tf.float32)\n",
    "print(b.get_shape())\n",
    "with tf.Session() as sess:\n",
    "    print(sess.run(b))"
   ]
  },
  {
   "cell_type": "markdown",
   "metadata": {},
   "source": [
    "## 시퀀스 만드는 함수"
   ]
  },
  {
   "cell_type": "markdown",
   "metadata": {},
   "source": [
    "### linspace"
   ]
  },
  {
   "cell_type": "code",
   "execution_count": 33,
   "metadata": {},
   "outputs": [
    {
     "name": "stdout",
     "output_type": "stream",
     "text": [
      "Tensor(\"LinSpace:0\", shape=(10,), dtype=float32)\n",
      "------------------------------\n",
      "[1.        1.2222222 1.4444444 1.6666667 1.8888888 2.1111112 2.3333335\n",
      " 2.5555556 2.7777777 3.       ]\n"
     ]
    }
   ],
   "source": [
    "a = tf.linspace(1.0, 3.0, 10)\n",
    "print(a)\n",
    "print('-'*30)\n",
    "with tf.Session() as sess:\n",
    "    print(sess.run(a))"
   ]
  },
  {
   "cell_type": "markdown",
   "metadata": {},
   "source": [
    "### range"
   ]
  },
  {
   "cell_type": "code",
   "execution_count": 34,
   "metadata": {},
   "outputs": [
    {
     "name": "stdout",
     "output_type": "stream",
     "text": [
      "Tensor(\"range:0\", shape=(5,), dtype=int32)\n",
      "Tensor(\"range_1:0\", shape=(5,), dtype=int32)\n",
      "------------------------------\n",
      "a:  [ 3  6  9 12 15]\n",
      "b:  [0 1 2 3 4]\n"
     ]
    }
   ],
   "source": [
    "# start: 3, limit: 18, delta: 3\n",
    "a = tf.range(3, 18, 3)\n",
    "\n",
    "# limit:5\n",
    "b = tf.range(5)\n",
    "\n",
    "print(a)\n",
    "print(b)\n",
    "print('-'*30)\n",
    "with tf.Session() as sess:\n",
    "    print(\"a: \", sess.run(a))\n",
    "    print(\"b: \", sess.run(b))"
   ]
  },
  {
   "cell_type": "markdown",
   "metadata": {},
   "source": [
    "## 난수 추출 함수"
   ]
  },
  {
   "cell_type": "markdown",
   "metadata": {},
   "source": [
    "### random_normal"
   ]
  },
  {
   "cell_type": "code",
   "execution_count": 35,
   "metadata": {},
   "outputs": [
    {
     "name": "stdout",
     "output_type": "stream",
     "text": [
      "Tensor(\"random_normal:0\", shape=(3, 3), dtype=float32)\n",
      "------------------------------\n",
      "[[ 0.8466059   0.6799951  -0.9283994 ]\n",
      " [ 1.6617868   0.262241   -1.3787961 ]\n",
      " [ 0.8076152   0.52787364  0.7637496 ]]\n"
     ]
    }
   ],
   "source": [
    "a = tf.random_normal((3,3), dtype=tf.float32)\n",
    "print(a)\n",
    "print('-'*30)\n",
    "with tf.Session() as sess:\n",
    "    print(sess.run(a))"
   ]
  },
  {
   "cell_type": "markdown",
   "metadata": {},
   "source": [
    "### ranom_uniform"
   ]
  },
  {
   "cell_type": "code",
   "execution_count": 36,
   "metadata": {},
   "outputs": [
    {
     "name": "stdout",
     "output_type": "stream",
     "text": [
      "Tensor(\"random_uniform:0\", shape=(3, 3), dtype=float32)\n",
      "------------------------------\n",
      "[[0.21060848 0.11433518 0.45305562]\n",
      " [0.10450816 0.98028564 0.51662135]\n",
      " [0.20226789 0.5722877  0.76226735]]\n"
     ]
    }
   ],
   "source": [
    "a = tf.random_uniform((3,3), dtype=tf.float32)\n",
    "print(a)\n",
    "print('-'*30)\n",
    "with tf.Session() as sess:\n",
    "    print(sess.run(a))"
   ]
  },
  {
   "cell_type": "markdown",
   "metadata": {},
   "source": [
    "### random_shuffle"
   ]
  },
  {
   "cell_type": "code",
   "execution_count": 37,
   "metadata": {},
   "outputs": [
    {
     "name": "stdout",
     "output_type": "stream",
     "text": [
      "Tensor(\"RandomShuffle:0\", shape=(7,), dtype=int32)\n",
      "------------------------------\n",
      "[19 16  4 13  1  7 10]\n"
     ]
    }
   ],
   "source": [
    "a = tf.range(1, 20, 3)\n",
    "b = tf.random_shuffle(a, seed=42)\n",
    "\n",
    "print(b)\n",
    "print('-'*30)\n",
    "with tf.Session() as sess:\n",
    "    print(sess.run(b))"
   ]
  },
  {
   "cell_type": "markdown",
   "metadata": {},
   "source": [
    "## 텐서변환"
   ]
  },
  {
   "cell_type": "markdown",
   "metadata": {},
   "source": [
    "### tf.cast"
   ]
  },
  {
   "cell_type": "code",
   "execution_count": 38,
   "metadata": {},
   "outputs": [
    {
     "name": "stdout",
     "output_type": "stream",
     "text": [
      "Tensor(\"Const_2:0\", shape=(), dtype=float32)\n",
      "Tensor(\"Cast:0\", shape=(), dtype=int32)\n"
     ]
    }
   ],
   "source": [
    "a = tf.constant(2.2, dtype=tf.float32)\n",
    "print(a)\n",
    "b = tf.cast(a, tf.int32)\n",
    "print(b)"
   ]
  },
  {
   "cell_type": "markdown",
   "metadata": {},
   "source": [
    "### tf.reshape"
   ]
  },
  {
   "cell_type": "code",
   "execution_count": 39,
   "metadata": {},
   "outputs": [
    {
     "data": {
      "text/plain": [
       "<tf.Tensor 'Reshape:0' shape=(10, 10) dtype=float32>"
      ]
     },
     "execution_count": 39,
     "metadata": {},
     "output_type": "execute_result"
    }
   ],
   "source": [
    "a = tf.linspace(1.0, 10, 100)\n",
    "tf.reshape(a, (10, -1))"
   ]
  },
  {
   "cell_type": "markdown",
   "metadata": {},
   "source": [
    "## 수학함수"
   ]
  },
  {
   "cell_type": "markdown",
   "metadata": {},
   "source": [
    "### tf.abs"
   ]
  },
  {
   "cell_type": "code",
   "execution_count": 40,
   "metadata": {},
   "outputs": [
    {
     "name": "stdout",
     "output_type": "stream",
     "text": [
      "[-10.  -9.  -8.  -7.  -6.  -5.  -4.  -3.  -2.  -1.   0.   1.   2.   3.\n",
      "   4.   5.   6.   7.   8.   9.]\n",
      "------------------------------\n",
      "[10.  9.  8.  7.  6.  5.  4.  3.  2.  1.  0.  1.  2.  3.  4.  5.  6.  7.\n",
      "  8.  9.]\n"
     ]
    }
   ],
   "source": [
    "a = tf.range(-10.0, 10, dtype=tf.float32)\n",
    "b = tf.abs(a)\n",
    "\n",
    "with tf.Session() as sess:\n",
    "    print(sess.run(a))\n",
    "    print('-'*30)\n",
    "    print(sess.run(b))"
   ]
  },
  {
   "cell_type": "markdown",
   "metadata": {},
   "source": [
    "### tf.sqrt"
   ]
  },
  {
   "cell_type": "code",
   "execution_count": 41,
   "metadata": {},
   "outputs": [
    {
     "name": "stdout",
     "output_type": "stream",
     "text": [
      "[ 0.  1.  2.  3.  4.  5.  6.  7.  8.  9. 10. 11. 12. 13. 14. 15. 16. 17.\n",
      " 18. 19.]\n",
      "------------------------------\n",
      "[0.         0.99999994 1.4142134  1.7320508  1.9999999  2.236068\n",
      " 2.4494896  2.6457512  2.8284268  2.9999998  3.1622777  3.3166249\n",
      " 3.4641016  3.6055508  3.7416573  3.8729832  4.         4.1231055\n",
      " 4.2426405  4.358899  ]\n"
     ]
    }
   ],
   "source": [
    "a = tf.range(0, 20, dtype=tf.float32)\n",
    "b = tf.sqrt(a)\n",
    "\n",
    "with tf.Session() as sess:\n",
    "    print(sess.run(a))\n",
    "    print('-'*30)\n",
    "    print(sess.run(b))"
   ]
  },
  {
   "cell_type": "markdown",
   "metadata": {},
   "source": [
    "### tf.exp"
   ]
  },
  {
   "cell_type": "code",
   "execution_count": 42,
   "metadata": {},
   "outputs": [
    {
     "name": "stdout",
     "output_type": "stream",
     "text": [
      "[ 0.  1.  2.  3.  4.  5.  6.  7.  8.  9. 10. 11. 12. 13. 14. 15. 16. 17.\n",
      " 18. 19.]\n",
      "------------------------------\n",
      "[1.0000000e+00 2.7182817e+00 7.3890562e+00 2.0085537e+01 5.4598152e+01\n",
      " 1.4841316e+02 4.0342880e+02 1.0966332e+03 2.9809580e+03 8.1030840e+03\n",
      " 2.2026465e+04 5.9874141e+04 1.6275480e+05 4.4241338e+05 1.2026042e+06\n",
      " 3.2690175e+06 8.8861110e+06 2.4154952e+07 6.5659968e+07 1.7848230e+08]\n"
     ]
    }
   ],
   "source": [
    "a = tf.range(0, 20, dtype=tf.float32)\n",
    "b = tf.exp(a)\n",
    "\n",
    "with tf.Session() as sess:\n",
    "    print(sess.run(a))\n",
    "    print('-'*30)\n",
    "    print(sess.run(b))"
   ]
  },
  {
   "cell_type": "markdown",
   "metadata": {},
   "source": [
    "### tf.log"
   ]
  },
  {
   "cell_type": "code",
   "execution_count": 43,
   "metadata": {},
   "outputs": [
    {
     "name": "stdout",
     "output_type": "stream",
     "text": [
      "[ 1.  2.  3.  4.  5.  6.  7.  8.  9. 10. 11. 12. 13. 14. 15. 16. 17. 18.\n",
      " 19.]\n",
      "------------------------------\n",
      "[0.        0.6931472 1.0986123 1.3862944 1.609438  1.7917595 1.9459102\n",
      " 2.0794415 2.1972246 2.3025851 2.3978953 2.4849067 2.5649493 2.6390574\n",
      " 2.7080503 2.7725887 2.8332133 2.8903718 2.944439 ]\n"
     ]
    }
   ],
   "source": [
    "a = tf.range(1, 20, dtype=tf.float32)\n",
    "b = tf.log(a)\n",
    "\n",
    "with tf.Session() as sess:\n",
    "    print(sess.run(a))\n",
    "    print('-'*30)\n",
    "    print(sess.run(b))"
   ]
  },
  {
   "cell_type": "markdown",
   "metadata": {},
   "source": [
    "### matrix  "
   ]
  },
  {
   "cell_type": "code",
   "execution_count": 44,
   "metadata": {},
   "outputs": [
    {
     "name": "stdout",
     "output_type": "stream",
     "text": [
      "(4, 5) (4, 5)\n"
     ]
    }
   ],
   "source": [
    "X = tf.range(20, dtype=tf.float32)\n",
    "X = tf.reshape(X, (4,5))\n",
    "\n",
    "\n",
    "Y = tf.ones((4,5), dtype=tf.float32)\n",
    "print(X.shape, Y.shape)"
   ]
  },
  {
   "cell_type": "code",
   "execution_count": null,
   "metadata": {},
   "outputs": [],
   "source": []
  },
  {
   "cell_type": "code",
   "execution_count": 45,
   "metadata": {},
   "outputs": [
    {
     "name": "stdout",
     "output_type": "stream",
     "text": [
      "(4, 5) (5, 4)\n"
     ]
    }
   ],
   "source": [
    "# XY = tf.matmul(X, Y) # 오류 발생\n",
    "Y = tf.transpose(Y)\n",
    "print(X.shape, Y.shape)"
   ]
  },
  {
   "cell_type": "code",
   "execution_count": 46,
   "metadata": {},
   "outputs": [
    {
     "name": "stdout",
     "output_type": "stream",
     "text": [
      "Tensor(\"MatMul:0\", shape=(4, 4), dtype=float32)\n",
      "------------------------------\n",
      "[[10. 10. 10. 10.]\n",
      " [35. 35. 35. 35.]\n",
      " [60. 60. 60. 60.]\n",
      " [85. 85. 85. 85.]]\n"
     ]
    }
   ],
   "source": [
    "XY = tf.matmul(X,Y)\n",
    "print(XY)\n",
    "\n",
    "with tf.Session() as sess:\n",
    "    print('-'*30)\n",
    "    print(sess.run(XY))"
   ]
  },
  {
   "cell_type": "markdown",
   "metadata": {},
   "source": [
    "## Reduce --- (sum, prod, min, max, mean, ...)"
   ]
  },
  {
   "cell_type": "markdown",
   "metadata": {},
   "source": [
    "차원을 줄이면서 ~~~ 한다."
   ]
  },
  {
   "cell_type": "code",
   "execution_count": 47,
   "metadata": {},
   "outputs": [
    {
     "name": "stdout",
     "output_type": "stream",
     "text": [
      "10\n",
      "------------------------------\n",
      "[4 6]\n",
      "------------------------------\n",
      "[3 7]\n"
     ]
    }
   ],
   "source": [
    "X = [[1, 2],\n",
    "     [3, 4]]\n",
    "\n",
    "r_sum0 = tf.reduce_sum(X) # 첫번째 배열 (바깥쪽)\n",
    "r_sum1 = tf.reduce_sum(X, axis=0) # 첫번째 배열 (바깥쪽)\n",
    "r_sum2 = tf.reduce_sum(X, axis=1) # 두번째 배열 (안쪽)\n",
    "\n",
    "with tf.Session() as sess:\n",
    "    print(sess.run(r_sum0))\n",
    "    print('-'*30)\n",
    "    \n",
    "    print(sess.run(r_sum1))\n",
    "    print('-'*30)\n",
    "    print(sess.run(r_sum2))"
   ]
  },
  {
   "cell_type": "code",
   "execution_count": 48,
   "metadata": {},
   "outputs": [
    {
     "name": "stdout",
     "output_type": "stream",
     "text": [
      "24\n",
      "------------------------------\n",
      "[3 8]\n",
      "------------------------------\n",
      "[ 2 12]\n"
     ]
    }
   ],
   "source": [
    "X = [[1, 2],\n",
    "     [3, 4]]\n",
    "\n",
    "r_prod0 = tf.reduce_prod(X) # 첫번째 배열 (바깥쪽)\n",
    "r_prod1 = tf.reduce_prod(X, axis=0) # 첫번째 배열 (바깥쪽)\n",
    "r_prod2 = tf.reduce_prod(X, axis=1) # 두번째 배열 (안쪽)\n",
    "\n",
    "with tf.Session() as sess:\n",
    "    print(sess.run(r_prod0))\n",
    "    print('-'*30)\n",
    "    \n",
    "    print(sess.run(r_prod1))\n",
    "    print('-'*30)\n",
    "    print(sess.run(r_prod2))"
   ]
  },
  {
   "cell_type": "code",
   "execution_count": null,
   "metadata": {},
   "outputs": [],
   "source": []
  },
  {
   "cell_type": "code",
   "execution_count": null,
   "metadata": {},
   "outputs": [],
   "source": []
  },
  {
   "cell_type": "markdown",
   "metadata": {},
   "source": [
    "# 연습문제1.\n",
    "덧셈 프로그램 작성  \n",
    "상수 두개인 텐서(5, 8)를 작성하고 덧셈을 연산하는 그래프를 작성하시오.  \n",
    "그리고 해당 결과를 출력하고 확인하시오.  \n"
   ]
  },
  {
   "cell_type": "markdown",
   "metadata": {},
   "source": [
    "# 연습문제2.\n",
    "tf.linspace를 이용해 0부터 10까지 숫자 100개를 만들고 node1에 Tensor를 선언하고  \n",
    "node2에는 node1에 3을 곱하고  \n",
    "node3에는 float32타입의 placeholder를 선언하시오.  \n",
    "node4에는 node2와 node3를 더하시오.  \n",
    "실행시 node3에 값을 1부터 10까지 하여 node4를 반복 출력하시오.(for문)  "
   ]
  },
  {
   "cell_type": "code",
   "execution_count": null,
   "metadata": {
    "scrolled": true
   },
   "outputs": [],
   "source": []
  },
  {
   "cell_type": "code",
   "execution_count": null,
   "metadata": {},
   "outputs": [],
   "source": []
  },
  {
   "cell_type": "code",
   "execution_count": null,
   "metadata": {},
   "outputs": [],
   "source": []
  },
  {
   "cell_type": "code",
   "execution_count": null,
   "metadata": {},
   "outputs": [],
   "source": []
  },
  {
   "cell_type": "code",
   "execution_count": null,
   "metadata": {},
   "outputs": [],
   "source": []
  },
  {
   "cell_type": "markdown",
   "metadata": {},
   "source": [
    "# 모범답안"
   ]
  },
  {
   "cell_type": "markdown",
   "metadata": {},
   "source": [
    "### 연습문제1"
   ]
  },
  {
   "cell_type": "code",
   "execution_count": 49,
   "metadata": {},
   "outputs": [
    {
     "name": "stdout",
     "output_type": "stream",
     "text": [
      "13.3\n"
     ]
    }
   ],
   "source": [
    "# node1 = tf.constant(5) # 오류 발생\n",
    "node1 = tf.constant(5, dtype=tf.float32) # node1 = tf.constant(5.0)\n",
    "node2 = tf.constant(8.3)\n",
    "node3 = tf.add(node1,node2)\n",
    "# node3 = node1 + node2\n",
    "\n",
    "with tf.Session() as sess:\n",
    "    print(node3.eval())"
   ]
  },
  {
   "cell_type": "code",
   "execution_count": null,
   "metadata": {},
   "outputs": [],
   "source": []
  },
  {
   "cell_type": "markdown",
   "metadata": {},
   "source": [
    "### 연습문제2"
   ]
  },
  {
   "cell_type": "code",
   "execution_count": 50,
   "metadata": {},
   "outputs": [
    {
     "name": "stdout",
     "output_type": "stream",
     "text": [
      "[ 1.         1.3030303  1.6060606  1.909091   2.2121212  2.5151515\n",
      "  2.818182   3.121212   3.4242425  3.7272725  4.030303   4.333333\n",
      "  4.636364   4.939394   5.242424   5.5454545  5.848485   6.151515\n",
      "  6.454545   6.7575755  7.060606   7.363636   7.666666   7.9696965\n",
      "  8.272728   8.575758   8.878788   9.181818   9.484848   9.787879\n",
      " 10.090909  10.393939  10.69697   11.        11.30303   11.60606\n",
      " 11.90909   12.212121  12.515151  12.818181  13.121212  13.424242\n",
      " 13.727272  14.030303  14.333332  14.636364  14.939393  15.242424\n",
      " 15.545455  15.848484  16.151516  16.454544  16.757576  17.060606\n",
      " 17.363636  17.666666  17.969696  18.272726  18.575758  18.878788\n",
      " 19.181818  19.484848  19.787878  20.090908  20.39394   20.69697\n",
      " 21.        21.30303   21.60606   21.909092  22.21212   22.515152\n",
      " 22.81818   23.121212  23.424242  23.727272  24.030302  24.333332\n",
      " 24.636362  24.939394  25.242424  25.545454  25.848484  26.151516\n",
      " 26.454544  26.757576  27.060606  27.363636  27.666664  27.969696\n",
      " 28.272728  28.575758  28.878786  29.181816  29.484848  29.78788\n",
      " 30.09091   30.393938  30.696968  31.       ]\n",
      "--------------------------------------------------\n",
      "[ 2.         2.3030303  2.6060605  2.909091   3.2121212  3.5151515\n",
      "  3.818182   4.121212   4.4242425  4.7272725  5.030303   5.333333\n",
      "  5.636364   5.939394   6.242424   6.5454545  6.848485   7.151515\n",
      "  7.454545   7.7575755  8.060606   8.363636   8.666666   8.969696\n",
      "  9.272728   9.575758   9.878788  10.181818  10.484848  10.787879\n",
      " 11.090909  11.393939  11.69697   12.        12.30303   12.60606\n",
      " 12.90909   13.212121  13.515151  13.818181  14.121212  14.424242\n",
      " 14.727272  15.030303  15.333332  15.636364  15.939393  16.242424\n",
      " 16.545456  16.848484  17.151516  17.454544  17.757576  18.060606\n",
      " 18.363636  18.666666  18.969696  19.272726  19.575758  19.878788\n",
      " 20.181818  20.484848  20.787878  21.090908  21.39394   21.69697\n",
      " 22.        22.30303   22.60606   22.909092  23.21212   23.515152\n",
      " 23.81818   24.121212  24.424242  24.727272  25.030302  25.333332\n",
      " 25.636362  25.939394  26.242424  26.545454  26.848484  27.151516\n",
      " 27.454544  27.757576  28.060606  28.363636  28.666664  28.969696\n",
      " 29.272728  29.575758  29.878786  30.181816  30.484848  30.78788\n",
      " 31.09091   31.393938  31.696968  32.       ]\n",
      "--------------------------------------------------\n",
      "[ 3.         3.3030303  3.6060605  3.909091   4.212121   4.5151515\n",
      "  4.818182   5.121212   5.4242425  5.7272725  6.030303   6.333333\n",
      "  6.636364   6.939394   7.242424   7.5454545  7.848485   8.151515\n",
      "  8.454545   8.757576   9.060606   9.363636   9.666666   9.969696\n",
      " 10.272728  10.575758  10.878788  11.181818  11.484848  11.787879\n",
      " 12.090909  12.393939  12.69697   13.        13.30303   13.60606\n",
      " 13.90909   14.212121  14.515151  14.818181  15.121212  15.424242\n",
      " 15.727272  16.030304  16.333332  16.636364  16.939392  17.242424\n",
      " 17.545456  17.848484  18.151516  18.454544  18.757576  19.060606\n",
      " 19.363636  19.666666  19.969696  20.272726  20.575758  20.878788\n",
      " 21.181818  21.484848  21.787878  22.090908  22.39394   22.69697\n",
      " 23.        23.30303   23.60606   23.909092  24.21212   24.515152\n",
      " 24.81818   25.121212  25.424242  25.727272  26.030302  26.333332\n",
      " 26.636362  26.939394  27.242424  27.545454  27.848484  28.151516\n",
      " 28.454544  28.757576  29.060606  29.363636  29.666664  29.969696\n",
      " 30.272728  30.575758  30.878786  31.181816  31.484848  31.78788\n",
      " 32.09091   32.393936  32.696968  33.       ]\n",
      "--------------------------------------------------\n",
      "[ 4.         4.3030305  4.6060605  4.909091   5.212121   5.5151515\n",
      "  5.818182   6.121212   6.4242425  6.7272725  7.030303   7.333333\n",
      "  7.636364   7.939394   8.242424   8.545454   8.848485   9.151515\n",
      "  9.454545   9.757576  10.060606  10.363636  10.666666  10.969696\n",
      " 11.272728  11.575758  11.878788  12.181818  12.484848  12.787879\n",
      " 13.090909  13.393939  13.69697   14.        14.30303   14.60606\n",
      " 14.90909   15.212121  15.515151  15.818181  16.121212  16.424242\n",
      " 16.727272  17.030304  17.333332  17.636364  17.939392  18.242424\n",
      " 18.545456  18.848484  19.151516  19.454544  19.757576  20.060606\n",
      " 20.363636  20.666666  20.969696  21.272726  21.575758  21.878788\n",
      " 22.181818  22.484848  22.787878  23.090908  23.39394   23.69697\n",
      " 24.        24.30303   24.60606   24.909092  25.21212   25.515152\n",
      " 25.81818   26.121212  26.424242  26.727272  27.030302  27.333332\n",
      " 27.636362  27.939394  28.242424  28.545454  28.848484  29.151516\n",
      " 29.454544  29.757576  30.060606  30.363636  30.666664  30.969696\n",
      " 31.272728  31.575758  31.878786  32.181816  32.484848  32.78788\n",
      " 33.09091   33.393936  33.696968  34.       ]\n",
      "--------------------------------------------------\n",
      "[ 5.         5.3030305  5.6060605  5.909091   6.212121   6.5151515\n",
      "  6.818182   7.121212   7.4242425  7.7272725  8.030303   8.333333\n",
      "  8.636364   8.939394   9.242424   9.545454   9.848485  10.151515\n",
      " 10.454545  10.757576  11.060606  11.363636  11.666666  11.969696\n",
      " 12.272728  12.575758  12.878788  13.181818  13.484848  13.787879\n",
      " 14.090909  14.393939  14.69697   15.        15.30303   15.60606\n",
      " 15.90909   16.21212   16.515152  16.81818   17.121212  17.424242\n",
      " 17.727272  18.030304  18.333332  18.636364  18.939392  19.242424\n",
      " 19.545456  19.848484  20.151516  20.454544  20.757576  21.060606\n",
      " 21.363636  21.666666  21.969696  22.272726  22.575758  22.878788\n",
      " 23.181818  23.484848  23.787878  24.090908  24.39394   24.69697\n",
      " 25.        25.30303   25.60606   25.909092  26.21212   26.515152\n",
      " 26.81818   27.121212  27.424242  27.727272  28.030302  28.333332\n",
      " 28.636362  28.939394  29.242424  29.545454  29.848484  30.151516\n",
      " 30.454544  30.757576  31.060606  31.363636  31.666664  31.969696\n",
      " 32.272728  32.57576   32.878784  33.181816  33.484848  33.78788\n",
      " 34.09091   34.393936  34.696968  35.       ]\n",
      "--------------------------------------------------\n",
      "[ 6.         6.3030305  6.6060605  6.909091   7.212121   7.5151515\n",
      "  7.818182   8.121212   8.424242   8.727272   9.030303   9.333333\n",
      "  9.636364   9.939394  10.242424  10.545454  10.848485  11.151515\n",
      " 11.454545  11.757576  12.060606  12.363636  12.666666  12.969696\n",
      " 13.272728  13.575758  13.878788  14.181818  14.484848  14.787879\n",
      " 15.090909  15.393939  15.69697   16.        16.30303   16.60606\n",
      " 16.90909   17.21212   17.515152  17.81818   18.121212  18.424242\n",
      " 18.727272  19.030304  19.333332  19.636364  19.939392  20.242424\n",
      " 20.545456  20.848484  21.151516  21.454544  21.757576  22.060606\n",
      " 22.363636  22.666666  22.969696  23.272726  23.575758  23.878788\n",
      " 24.181818  24.484848  24.787878  25.090908  25.39394   25.69697\n",
      " 26.        26.30303   26.60606   26.909092  27.21212   27.515152\n",
      " 27.81818   28.121212  28.424242  28.727272  29.030302  29.333332\n",
      " 29.636362  29.939394  30.242424  30.545454  30.848484  31.151516\n",
      " 31.454544  31.757576  32.060608  32.363636  32.666664  32.969696\n",
      " 33.272728  33.57576   33.878784  34.181816  34.484848  34.78788\n",
      " 35.09091   35.393936  35.696968  36.       ]\n",
      "--------------------------------------------------\n",
      "[ 7.         7.3030305  7.6060605  7.909091   8.212121   8.515152\n",
      "  8.818182   9.121212   9.424242   9.727272  10.030303  10.333333\n",
      " 10.636364  10.939394  11.242424  11.545454  11.848485  12.151515\n",
      " 12.454545  12.757576  13.060606  13.363636  13.666666  13.969696\n",
      " 14.272728  14.575758  14.878788  15.181818  15.484848  15.787879\n",
      " 16.090908  16.39394   16.69697   17.        17.30303   17.60606\n",
      " 17.90909   18.21212   18.515152  18.81818   19.121212  19.424242\n",
      " 19.727272  20.030304  20.333332  20.636364  20.939392  21.242424\n",
      " 21.545456  21.848484  22.151516  22.454544  22.757576  23.060606\n",
      " 23.363636  23.666666  23.969696  24.272726  24.575758  24.878788\n",
      " 25.181818  25.484848  25.787878  26.090908  26.39394   26.69697\n",
      " 27.        27.30303   27.60606   27.909092  28.21212   28.515152\n",
      " 28.81818   29.121212  29.424242  29.727272  30.030302  30.333332\n",
      " 30.636362  30.939394  31.242424  31.545454  31.848484  32.151516\n",
      " 32.454544  32.757576  33.060608  33.363636  33.666664  33.969696\n",
      " 34.272728  34.57576   34.878784  35.181816  35.484848  35.78788\n",
      " 36.09091   36.393936  36.696968  37.       ]\n",
      "--------------------------------------------------\n",
      "[ 8.        8.30303   8.606061  8.909091  9.212121  9.515152  9.818182\n",
      " 10.121212 10.424242 10.727272 11.030303 11.333333 11.636364 11.939394\n",
      " 12.242424 12.545454 12.848485 13.151515 13.454545 13.757576 14.060606\n",
      " 14.363636 14.666666 14.969696 15.272728 15.575758 15.878788 16.181818\n",
      " 16.484848 16.78788  17.090908 17.39394  17.69697  18.       18.30303\n",
      " 18.60606  18.90909  19.21212  19.515152 19.81818  20.121212 20.424242\n",
      " 20.727272 21.030304 21.333332 21.636364 21.939392 22.242424 22.545456\n",
      " 22.848484 23.151516 23.454544 23.757576 24.060606 24.363636 24.666666\n",
      " 24.969696 25.272726 25.575758 25.878788 26.181818 26.484848 26.787878\n",
      " 27.090908 27.39394  27.69697  28.       28.30303  28.60606  28.909092\n",
      " 29.21212  29.515152 29.81818  30.121212 30.424242 30.727272 31.030302\n",
      " 31.333332 31.636362 31.939394 32.242424 32.545456 32.848484 33.151516\n",
      " 33.454544 33.757576 34.060608 34.363636 34.666664 34.969696 35.272728\n",
      " 35.57576  35.878784 36.181816 36.484848 36.78788  37.09091  37.393936\n",
      " 37.696968 38.      ]\n",
      "--------------------------------------------------\n",
      "[ 9.        9.30303   9.606061  9.909091 10.212121 10.515152 10.818182\n",
      " 11.121212 11.424242 11.727272 12.030303 12.333333 12.636364 12.939394\n",
      " 13.242424 13.545454 13.848485 14.151515 14.454545 14.757576 15.060606\n",
      " 15.363636 15.666666 15.969696 16.272728 16.575758 16.878788 17.181818\n",
      " 17.484848 17.78788  18.090908 18.39394  18.69697  19.       19.30303\n",
      " 19.60606  19.90909  20.21212  20.515152 20.81818  21.121212 21.424242\n",
      " 21.727272 22.030304 22.333332 22.636364 22.939392 23.242424 23.545456\n",
      " 23.848484 24.151516 24.454544 24.757576 25.060606 25.363636 25.666666\n",
      " 25.969696 26.272726 26.575758 26.878788 27.181818 27.484848 27.787878\n",
      " 28.090908 28.39394  28.69697  29.       29.30303  29.60606  29.909092\n",
      " 30.21212  30.515152 30.81818  31.121212 31.424242 31.727272 32.030304\n",
      " 32.333332 32.63636  32.939392 33.242424 33.545456 33.848484 34.151516\n",
      " 34.454544 34.757576 35.060608 35.363636 35.666664 35.969696 36.272728\n",
      " 36.57576  36.878784 37.181816 37.484848 37.78788  38.09091  38.393936\n",
      " 38.696968 39.      ]\n",
      "--------------------------------------------------\n",
      "[10.       10.30303  10.606061 10.909091 11.212121 11.515152 11.818182\n",
      " 12.121212 12.424242 12.727272 13.030303 13.333333 13.636364 13.939394\n",
      " 14.242424 14.545454 14.848485 15.151515 15.454545 15.757576 16.060606\n",
      " 16.363636 16.666666 16.969696 17.272728 17.575758 17.878788 18.181818\n",
      " 18.484848 18.78788  19.090908 19.39394  19.69697  20.       20.30303\n",
      " 20.60606  20.90909  21.21212  21.515152 21.81818  22.121212 22.424242\n",
      " 22.727272 23.030304 23.333332 23.636364 23.939392 24.242424 24.545456\n",
      " 24.848484 25.151516 25.454544 25.757576 26.060606 26.363636 26.666666\n",
      " 26.969696 27.272726 27.575758 27.878788 28.181818 28.484848 28.787878\n",
      " 29.090908 29.39394  29.69697  30.       30.30303  30.60606  30.909092\n",
      " 31.21212  31.515152 31.81818  32.121212 32.42424  32.727272 33.030304\n",
      " 33.333332 33.63636  33.939392 34.242424 34.545456 34.848484 35.151516\n",
      " 35.454544 35.757576 36.060608 36.363636 36.666664 36.969696 37.272728\n",
      " 37.57576  37.878784 38.181816 38.484848 38.78788  39.09091  39.393936\n",
      " 39.696968 40.      ]\n",
      "--------------------------------------------------\n"
     ]
    }
   ],
   "source": [
    "node1 = tf.linspace(0.0,10,100)\n",
    "node2 = node1*3\n",
    "node3 = tf.placeholder(tf.float32)\n",
    "node4 = node2 + node3\n",
    "\n",
    "with tf.Session() as session:\n",
    "    for i in range(1, 11):\n",
    "        result = session.run(node4, feed_dict={node3:i})\n",
    "        print(result)\n",
    "        print('-'*50)"
   ]
  },
  {
   "cell_type": "markdown",
   "metadata": {},
   "source": [
    "# 실습으로 구현하는 TensorFlow"
   ]
  },
  {
   "cell_type": "markdown",
   "metadata": {},
   "source": [
    "## Califonia Dataset으로 Linear Regression 구현하기"
   ]
  },
  {
   "cell_type": "markdown",
   "metadata": {},
   "source": [
    "### 실행순서\n",
    "1. Data Load (Califonia Data)\n",
    "2. Data 전처리\n",
    "3. Graph 정의( Linear Regression)\n",
    "4. 실행"
   ]
  },
  {
   "cell_type": "code",
   "execution_count": 15,
   "metadata": {},
   "outputs": [],
   "source": [
    "import numpy as np\n",
    "import tensorflow as tf\n",
    "from sklearn.datasets import fetch_california_housing\n",
    "\n",
    "def reset_all(seed=0):\n",
    "    # 왜 할까요? 생각해봅시다.\n",
    "    tf.reset_default_graph() # graph 초기화\n",
    "    tf.set_random_seed(seed) # tf.random_seed 초기화\n",
    "    np.random.seed(seed) # np.random_seed 초기화"
   ]
  },
  {
   "cell_type": "code",
   "execution_count": 52,
   "metadata": {},
   "outputs": [],
   "source": [
    "reset_all()"
   ]
  },
  {
   "cell_type": "markdown",
   "metadata": {},
   "source": [
    "## 1.Data 로드"
   ]
  },
  {
   "cell_type": "code",
   "execution_count": 53,
   "metadata": {},
   "outputs": [],
   "source": [
    "housing = fetch_california_housing()"
   ]
  },
  {
   "cell_type": "code",
   "execution_count": 54,
   "metadata": {},
   "outputs": [
    {
     "data": {
      "text/plain": [
       "dict_keys(['data', 'target', 'feature_names', 'DESCR'])"
      ]
     },
     "execution_count": 54,
     "metadata": {},
     "output_type": "execute_result"
    }
   ],
   "source": [
    "housing.keys()"
   ]
  },
  {
   "cell_type": "code",
   "execution_count": 55,
   "metadata": {},
   "outputs": [],
   "source": [
    "housing_data = housing.data # X\n",
    "housing_label = housing.target # Y\n",
    "\n",
    "m, n = housing_data.shape # shape 저장 (m X n)행렬\n",
    "# bias 추가. (1)"
   ]
  },
  {
   "cell_type": "markdown",
   "metadata": {},
   "source": [
    "#### data 탐색하기"
   ]
  },
  {
   "cell_type": "code",
   "execution_count": 56,
   "metadata": {},
   "outputs": [
    {
     "data": {
      "text/html": [
       "<div>\n",
       "<style scoped>\n",
       "    .dataframe tbody tr th:only-of-type {\n",
       "        vertical-align: middle;\n",
       "    }\n",
       "\n",
       "    .dataframe tbody tr th {\n",
       "        vertical-align: top;\n",
       "    }\n",
       "\n",
       "    .dataframe thead th {\n",
       "        text-align: right;\n",
       "    }\n",
       "</style>\n",
       "<table border=\"1\" class=\"dataframe\">\n",
       "  <thead>\n",
       "    <tr style=\"text-align: right;\">\n",
       "      <th></th>\n",
       "      <th>MedInc</th>\n",
       "      <th>HouseAge</th>\n",
       "      <th>AveRooms</th>\n",
       "      <th>AveBedrms</th>\n",
       "      <th>Population</th>\n",
       "      <th>AveOccup</th>\n",
       "      <th>Latitude</th>\n",
       "      <th>Longitude</th>\n",
       "    </tr>\n",
       "  </thead>\n",
       "  <tbody>\n",
       "    <tr>\n",
       "      <th>0</th>\n",
       "      <td>8.3252</td>\n",
       "      <td>41.0</td>\n",
       "      <td>6.984127</td>\n",
       "      <td>1.023810</td>\n",
       "      <td>322.0</td>\n",
       "      <td>2.555556</td>\n",
       "      <td>37.88</td>\n",
       "      <td>-122.23</td>\n",
       "    </tr>\n",
       "    <tr>\n",
       "      <th>1</th>\n",
       "      <td>8.3014</td>\n",
       "      <td>21.0</td>\n",
       "      <td>6.238137</td>\n",
       "      <td>0.971880</td>\n",
       "      <td>2401.0</td>\n",
       "      <td>2.109842</td>\n",
       "      <td>37.86</td>\n",
       "      <td>-122.22</td>\n",
       "    </tr>\n",
       "    <tr>\n",
       "      <th>2</th>\n",
       "      <td>7.2574</td>\n",
       "      <td>52.0</td>\n",
       "      <td>8.288136</td>\n",
       "      <td>1.073446</td>\n",
       "      <td>496.0</td>\n",
       "      <td>2.802260</td>\n",
       "      <td>37.85</td>\n",
       "      <td>-122.24</td>\n",
       "    </tr>\n",
       "    <tr>\n",
       "      <th>3</th>\n",
       "      <td>5.6431</td>\n",
       "      <td>52.0</td>\n",
       "      <td>5.817352</td>\n",
       "      <td>1.073059</td>\n",
       "      <td>558.0</td>\n",
       "      <td>2.547945</td>\n",
       "      <td>37.85</td>\n",
       "      <td>-122.25</td>\n",
       "    </tr>\n",
       "    <tr>\n",
       "      <th>4</th>\n",
       "      <td>3.8462</td>\n",
       "      <td>52.0</td>\n",
       "      <td>6.281853</td>\n",
       "      <td>1.081081</td>\n",
       "      <td>565.0</td>\n",
       "      <td>2.181467</td>\n",
       "      <td>37.85</td>\n",
       "      <td>-122.25</td>\n",
       "    </tr>\n",
       "  </tbody>\n",
       "</table>\n",
       "</div>"
      ],
      "text/plain": [
       "   MedInc  HouseAge  AveRooms  AveBedrms  Population  AveOccup  Latitude  \\\n",
       "0  8.3252      41.0  6.984127   1.023810       322.0  2.555556     37.88   \n",
       "1  8.3014      21.0  6.238137   0.971880      2401.0  2.109842     37.86   \n",
       "2  7.2574      52.0  8.288136   1.073446       496.0  2.802260     37.85   \n",
       "3  5.6431      52.0  5.817352   1.073059       558.0  2.547945     37.85   \n",
       "4  3.8462      52.0  6.281853   1.081081       565.0  2.181467     37.85   \n",
       "\n",
       "   Longitude  \n",
       "0    -122.23  \n",
       "1    -122.22  \n",
       "2    -122.24  \n",
       "3    -122.25  \n",
       "4    -122.25  "
      ]
     },
     "execution_count": 56,
     "metadata": {},
     "output_type": "execute_result"
    }
   ],
   "source": [
    "import pandas as pd\n",
    "housing_df = pd.DataFrame(housing.data, columns=housing.feature_names)\n",
    "housing_df.head()"
   ]
  },
  {
   "cell_type": "code",
   "execution_count": 57,
   "metadata": {},
   "outputs": [
    {
     "name": "stdout",
     "output_type": "stream",
     "text": [
      "<class 'pandas.core.frame.DataFrame'>\n",
      "RangeIndex: 20640 entries, 0 to 20639\n",
      "Data columns (total 8 columns):\n",
      "MedInc        20640 non-null float64\n",
      "HouseAge      20640 non-null float64\n",
      "AveRooms      20640 non-null float64\n",
      "AveBedrms     20640 non-null float64\n",
      "Population    20640 non-null float64\n",
      "AveOccup      20640 non-null float64\n",
      "Latitude      20640 non-null float64\n",
      "Longitude     20640 non-null float64\n",
      "dtypes: float64(8)\n",
      "memory usage: 1.3 MB\n"
     ]
    }
   ],
   "source": [
    "# 결측치는 없네요.\n",
    "# 모든 데이터는 float 형이구요.\n",
    "housing_df.info()"
   ]
  },
  {
   "cell_type": "code",
   "execution_count": 58,
   "metadata": {},
   "outputs": [
    {
     "data": {
      "text/html": [
       "<div>\n",
       "<style scoped>\n",
       "    .dataframe tbody tr th:only-of-type {\n",
       "        vertical-align: middle;\n",
       "    }\n",
       "\n",
       "    .dataframe tbody tr th {\n",
       "        vertical-align: top;\n",
       "    }\n",
       "\n",
       "    .dataframe thead th {\n",
       "        text-align: right;\n",
       "    }\n",
       "</style>\n",
       "<table border=\"1\" class=\"dataframe\">\n",
       "  <thead>\n",
       "    <tr style=\"text-align: right;\">\n",
       "      <th></th>\n",
       "      <th>MedInc</th>\n",
       "      <th>HouseAge</th>\n",
       "      <th>AveRooms</th>\n",
       "      <th>AveBedrms</th>\n",
       "      <th>Population</th>\n",
       "      <th>AveOccup</th>\n",
       "      <th>Latitude</th>\n",
       "      <th>Longitude</th>\n",
       "    </tr>\n",
       "  </thead>\n",
       "  <tbody>\n",
       "    <tr>\n",
       "      <th>count</th>\n",
       "      <td>20640.000000</td>\n",
       "      <td>20640.000000</td>\n",
       "      <td>20640.000000</td>\n",
       "      <td>20640.000000</td>\n",
       "      <td>20640.000000</td>\n",
       "      <td>20640.000000</td>\n",
       "      <td>20640.000000</td>\n",
       "      <td>20640.000000</td>\n",
       "    </tr>\n",
       "    <tr>\n",
       "      <th>mean</th>\n",
       "      <td>3.870671</td>\n",
       "      <td>28.639486</td>\n",
       "      <td>5.429000</td>\n",
       "      <td>1.096675</td>\n",
       "      <td>1425.476744</td>\n",
       "      <td>3.070655</td>\n",
       "      <td>35.631861</td>\n",
       "      <td>-119.569704</td>\n",
       "    </tr>\n",
       "    <tr>\n",
       "      <th>std</th>\n",
       "      <td>1.899822</td>\n",
       "      <td>12.585558</td>\n",
       "      <td>2.474173</td>\n",
       "      <td>0.473911</td>\n",
       "      <td>1132.462122</td>\n",
       "      <td>10.386050</td>\n",
       "      <td>2.135952</td>\n",
       "      <td>2.003532</td>\n",
       "    </tr>\n",
       "    <tr>\n",
       "      <th>min</th>\n",
       "      <td>0.499900</td>\n",
       "      <td>1.000000</td>\n",
       "      <td>0.846154</td>\n",
       "      <td>0.333333</td>\n",
       "      <td>3.000000</td>\n",
       "      <td>0.692308</td>\n",
       "      <td>32.540000</td>\n",
       "      <td>-124.350000</td>\n",
       "    </tr>\n",
       "    <tr>\n",
       "      <th>25%</th>\n",
       "      <td>2.563400</td>\n",
       "      <td>18.000000</td>\n",
       "      <td>4.440716</td>\n",
       "      <td>1.006079</td>\n",
       "      <td>787.000000</td>\n",
       "      <td>2.429741</td>\n",
       "      <td>33.930000</td>\n",
       "      <td>-121.800000</td>\n",
       "    </tr>\n",
       "    <tr>\n",
       "      <th>50%</th>\n",
       "      <td>3.534800</td>\n",
       "      <td>29.000000</td>\n",
       "      <td>5.229129</td>\n",
       "      <td>1.048780</td>\n",
       "      <td>1166.000000</td>\n",
       "      <td>2.818116</td>\n",
       "      <td>34.260000</td>\n",
       "      <td>-118.490000</td>\n",
       "    </tr>\n",
       "    <tr>\n",
       "      <th>75%</th>\n",
       "      <td>4.743250</td>\n",
       "      <td>37.000000</td>\n",
       "      <td>6.052381</td>\n",
       "      <td>1.099526</td>\n",
       "      <td>1725.000000</td>\n",
       "      <td>3.282261</td>\n",
       "      <td>37.710000</td>\n",
       "      <td>-118.010000</td>\n",
       "    </tr>\n",
       "    <tr>\n",
       "      <th>max</th>\n",
       "      <td>15.000100</td>\n",
       "      <td>52.000000</td>\n",
       "      <td>141.909091</td>\n",
       "      <td>34.066667</td>\n",
       "      <td>35682.000000</td>\n",
       "      <td>1243.333333</td>\n",
       "      <td>41.950000</td>\n",
       "      <td>-114.310000</td>\n",
       "    </tr>\n",
       "  </tbody>\n",
       "</table>\n",
       "</div>"
      ],
      "text/plain": [
       "             MedInc      HouseAge      AveRooms     AveBedrms    Population  \\\n",
       "count  20640.000000  20640.000000  20640.000000  20640.000000  20640.000000   \n",
       "mean       3.870671     28.639486      5.429000      1.096675   1425.476744   \n",
       "std        1.899822     12.585558      2.474173      0.473911   1132.462122   \n",
       "min        0.499900      1.000000      0.846154      0.333333      3.000000   \n",
       "25%        2.563400     18.000000      4.440716      1.006079    787.000000   \n",
       "50%        3.534800     29.000000      5.229129      1.048780   1166.000000   \n",
       "75%        4.743250     37.000000      6.052381      1.099526   1725.000000   \n",
       "max       15.000100     52.000000    141.909091     34.066667  35682.000000   \n",
       "\n",
       "           AveOccup      Latitude     Longitude  \n",
       "count  20640.000000  20640.000000  20640.000000  \n",
       "mean       3.070655     35.631861   -119.569704  \n",
       "std       10.386050      2.135952      2.003532  \n",
       "min        0.692308     32.540000   -124.350000  \n",
       "25%        2.429741     33.930000   -121.800000  \n",
       "50%        2.818116     34.260000   -118.490000  \n",
       "75%        3.282261     37.710000   -118.010000  \n",
       "max     1243.333333     41.950000   -114.310000  "
      ]
     },
     "execution_count": 58,
     "metadata": {},
     "output_type": "execute_result"
    }
   ],
   "source": [
    "housing_df.describe()\n",
    "# 확인해보니.. 표준편차 차이가 크네요. \n",
    "# 그리고 값의 범위도 다 달라요.\n",
    "# Feature Scaling이 필요하겠군요."
   ]
  },
  {
   "cell_type": "markdown",
   "metadata": {},
   "source": [
    "## 2. 전처리하기"
   ]
  },
  {
   "cell_type": "code",
   "execution_count": 59,
   "metadata": {},
   "outputs": [
    {
     "name": "stdout",
     "output_type": "stream",
     "text": [
      "mean:  [ 3.87067100e+00  2.86394864e+01  5.42899974e+00  1.09667515e+00\n",
      "  1.42547674e+03  3.07065516e+00  3.56318614e+01 -1.19569704e+02]\n",
      "shape:  (20640, 8)\n"
     ]
    }
   ],
   "source": [
    "# 전처리가 필요하다.\n",
    "# 데이터간 스케일이 크면 학습이 잘 안된다. (속도가 더디거나 발산함.(lr을 줄여야함))\n",
    "print(\"mean: \", housing_data.mean(axis=0)) \n",
    "print(\"shape: \", housing_data.shape)"
   ]
  },
  {
   "cell_type": "markdown",
   "metadata": {},
   "source": [
    "### 표준화"
   ]
  },
  {
   "cell_type": "code",
   "execution_count": 60,
   "metadata": {},
   "outputs": [],
   "source": [
    "from sklearn.preprocessing import StandardScaler, MinMaxScaler # sklearn의 StandardScaler 사용\n",
    "scaler = StandardScaler() # 표준화\n",
    "scaled_housing_data = scaler.fit_transform(housing_data) "
   ]
  },
  {
   "cell_type": "code",
   "execution_count": 61,
   "metadata": {},
   "outputs": [
    {
     "data": {
      "text/html": [
       "<div>\n",
       "<style scoped>\n",
       "    .dataframe tbody tr th:only-of-type {\n",
       "        vertical-align: middle;\n",
       "    }\n",
       "\n",
       "    .dataframe tbody tr th {\n",
       "        vertical-align: top;\n",
       "    }\n",
       "\n",
       "    .dataframe thead th {\n",
       "        text-align: right;\n",
       "    }\n",
       "</style>\n",
       "<table border=\"1\" class=\"dataframe\">\n",
       "  <thead>\n",
       "    <tr style=\"text-align: right;\">\n",
       "      <th></th>\n",
       "      <th>MedInc</th>\n",
       "      <th>HouseAge</th>\n",
       "      <th>AveRooms</th>\n",
       "      <th>AveBedrms</th>\n",
       "      <th>Population</th>\n",
       "      <th>AveOccup</th>\n",
       "      <th>Latitude</th>\n",
       "      <th>Longitude</th>\n",
       "    </tr>\n",
       "  </thead>\n",
       "  <tbody>\n",
       "    <tr>\n",
       "      <th>count</th>\n",
       "      <td>2.064000e+04</td>\n",
       "      <td>2.064000e+04</td>\n",
       "      <td>2.064000e+04</td>\n",
       "      <td>2.064000e+04</td>\n",
       "      <td>2.064000e+04</td>\n",
       "      <td>2.064000e+04</td>\n",
       "      <td>2.064000e+04</td>\n",
       "      <td>2.064000e+04</td>\n",
       "    </tr>\n",
       "    <tr>\n",
       "      <th>mean</th>\n",
       "      <td>6.609700e-17</td>\n",
       "      <td>5.508083e-18</td>\n",
       "      <td>6.609700e-17</td>\n",
       "      <td>-1.060306e-16</td>\n",
       "      <td>-1.101617e-17</td>\n",
       "      <td>3.442552e-18</td>\n",
       "      <td>-1.079584e-15</td>\n",
       "      <td>-8.526513e-15</td>\n",
       "    </tr>\n",
       "    <tr>\n",
       "      <th>std</th>\n",
       "      <td>1.000024e+00</td>\n",
       "      <td>1.000024e+00</td>\n",
       "      <td>1.000024e+00</td>\n",
       "      <td>1.000024e+00</td>\n",
       "      <td>1.000024e+00</td>\n",
       "      <td>1.000024e+00</td>\n",
       "      <td>1.000024e+00</td>\n",
       "      <td>1.000024e+00</td>\n",
       "    </tr>\n",
       "    <tr>\n",
       "      <th>min</th>\n",
       "      <td>-1.774299e+00</td>\n",
       "      <td>-2.196180e+00</td>\n",
       "      <td>-1.852319e+00</td>\n",
       "      <td>-1.610768e+00</td>\n",
       "      <td>-1.256123e+00</td>\n",
       "      <td>-2.290000e-01</td>\n",
       "      <td>-1.447568e+00</td>\n",
       "      <td>-2.385992e+00</td>\n",
       "    </tr>\n",
       "    <tr>\n",
       "      <th>25%</th>\n",
       "      <td>-6.881186e-01</td>\n",
       "      <td>-8.453931e-01</td>\n",
       "      <td>-3.994496e-01</td>\n",
       "      <td>-1.911716e-01</td>\n",
       "      <td>-5.638089e-01</td>\n",
       "      <td>-6.171062e-02</td>\n",
       "      <td>-7.967887e-01</td>\n",
       "      <td>-1.113209e+00</td>\n",
       "    </tr>\n",
       "    <tr>\n",
       "      <th>50%</th>\n",
       "      <td>-1.767951e-01</td>\n",
       "      <td>2.864572e-02</td>\n",
       "      <td>-8.078489e-02</td>\n",
       "      <td>-1.010650e-01</td>\n",
       "      <td>-2.291318e-01</td>\n",
       "      <td>-2.431585e-02</td>\n",
       "      <td>-6.422871e-01</td>\n",
       "      <td>5.389137e-01</td>\n",
       "    </tr>\n",
       "    <tr>\n",
       "      <th>75%</th>\n",
       "      <td>4.593063e-01</td>\n",
       "      <td>6.643103e-01</td>\n",
       "      <td>2.519615e-01</td>\n",
       "      <td>6.015869e-03</td>\n",
       "      <td>2.644949e-01</td>\n",
       "      <td>2.037453e-02</td>\n",
       "      <td>9.729566e-01</td>\n",
       "      <td>7.784964e-01</td>\n",
       "    </tr>\n",
       "    <tr>\n",
       "      <th>max</th>\n",
       "      <td>5.858286e+00</td>\n",
       "      <td>1.856182e+00</td>\n",
       "      <td>5.516324e+01</td>\n",
       "      <td>6.957171e+01</td>\n",
       "      <td>3.025033e+01</td>\n",
       "      <td>1.194191e+02</td>\n",
       "      <td>2.958068e+00</td>\n",
       "      <td>2.625280e+00</td>\n",
       "    </tr>\n",
       "  </tbody>\n",
       "</table>\n",
       "</div>"
      ],
      "text/plain": [
       "             MedInc      HouseAge      AveRooms     AveBedrms    Population  \\\n",
       "count  2.064000e+04  2.064000e+04  2.064000e+04  2.064000e+04  2.064000e+04   \n",
       "mean   6.609700e-17  5.508083e-18  6.609700e-17 -1.060306e-16 -1.101617e-17   \n",
       "std    1.000024e+00  1.000024e+00  1.000024e+00  1.000024e+00  1.000024e+00   \n",
       "min   -1.774299e+00 -2.196180e+00 -1.852319e+00 -1.610768e+00 -1.256123e+00   \n",
       "25%   -6.881186e-01 -8.453931e-01 -3.994496e-01 -1.911716e-01 -5.638089e-01   \n",
       "50%   -1.767951e-01  2.864572e-02 -8.078489e-02 -1.010650e-01 -2.291318e-01   \n",
       "75%    4.593063e-01  6.643103e-01  2.519615e-01  6.015869e-03  2.644949e-01   \n",
       "max    5.858286e+00  1.856182e+00  5.516324e+01  6.957171e+01  3.025033e+01   \n",
       "\n",
       "           AveOccup      Latitude     Longitude  \n",
       "count  2.064000e+04  2.064000e+04  2.064000e+04  \n",
       "mean   3.442552e-18 -1.079584e-15 -8.526513e-15  \n",
       "std    1.000024e+00  1.000024e+00  1.000024e+00  \n",
       "min   -2.290000e-01 -1.447568e+00 -2.385992e+00  \n",
       "25%   -6.171062e-02 -7.967887e-01 -1.113209e+00  \n",
       "50%   -2.431585e-02 -6.422871e-01  5.389137e-01  \n",
       "75%    2.037453e-02  9.729566e-01  7.784964e-01  \n",
       "max    1.194191e+02  2.958068e+00  2.625280e+00  "
      ]
     },
     "execution_count": 61,
     "metadata": {},
     "output_type": "execute_result"
    }
   ],
   "source": [
    "# 평균이 0이고 표준편차가 1.\n",
    "pd.DataFrame(scaled_housing_data, columns=housing.feature_names).describe()"
   ]
  },
  {
   "cell_type": "code",
   "execution_count": null,
   "metadata": {},
   "outputs": [],
   "source": []
  },
  {
   "cell_type": "code",
   "execution_count": 62,
   "metadata": {},
   "outputs": [],
   "source": [
    "# 정규화 예)\n",
    "scaler2 = MinMaxScaler()\n",
    "scaled_housing_data2 = scaler2.fit_transform(housing_data)"
   ]
  },
  {
   "cell_type": "code",
   "execution_count": 63,
   "metadata": {},
   "outputs": [
    {
     "data": {
      "text/html": [
       "<div>\n",
       "<style scoped>\n",
       "    .dataframe tbody tr th:only-of-type {\n",
       "        vertical-align: middle;\n",
       "    }\n",
       "\n",
       "    .dataframe tbody tr th {\n",
       "        vertical-align: top;\n",
       "    }\n",
       "\n",
       "    .dataframe thead th {\n",
       "        text-align: right;\n",
       "    }\n",
       "</style>\n",
       "<table border=\"1\" class=\"dataframe\">\n",
       "  <thead>\n",
       "    <tr style=\"text-align: right;\">\n",
       "      <th></th>\n",
       "      <th>MedInc</th>\n",
       "      <th>HouseAge</th>\n",
       "      <th>AveRooms</th>\n",
       "      <th>AveBedrms</th>\n",
       "      <th>Population</th>\n",
       "      <th>AveOccup</th>\n",
       "      <th>Latitude</th>\n",
       "      <th>Longitude</th>\n",
       "    </tr>\n",
       "  </thead>\n",
       "  <tbody>\n",
       "    <tr>\n",
       "      <th>count</th>\n",
       "      <td>20640.000000</td>\n",
       "      <td>20640.000000</td>\n",
       "      <td>20640.000000</td>\n",
       "      <td>20640.000000</td>\n",
       "      <td>20640.000000</td>\n",
       "      <td>20640.000000</td>\n",
       "      <td>20640.000000</td>\n",
       "      <td>20640.000000</td>\n",
       "    </tr>\n",
       "    <tr>\n",
       "      <th>mean</th>\n",
       "      <td>0.232464</td>\n",
       "      <td>0.541951</td>\n",
       "      <td>0.032488</td>\n",
       "      <td>0.022629</td>\n",
       "      <td>0.039869</td>\n",
       "      <td>0.001914</td>\n",
       "      <td>0.328572</td>\n",
       "      <td>0.476125</td>\n",
       "    </tr>\n",
       "    <tr>\n",
       "      <th>std</th>\n",
       "      <td>0.131020</td>\n",
       "      <td>0.246776</td>\n",
       "      <td>0.017539</td>\n",
       "      <td>0.014049</td>\n",
       "      <td>0.031740</td>\n",
       "      <td>0.008358</td>\n",
       "      <td>0.226988</td>\n",
       "      <td>0.199555</td>\n",
       "    </tr>\n",
       "    <tr>\n",
       "      <th>min</th>\n",
       "      <td>0.000000</td>\n",
       "      <td>0.000000</td>\n",
       "      <td>0.000000</td>\n",
       "      <td>0.000000</td>\n",
       "      <td>0.000000</td>\n",
       "      <td>0.000000</td>\n",
       "      <td>0.000000</td>\n",
       "      <td>0.000000</td>\n",
       "    </tr>\n",
       "    <tr>\n",
       "      <th>25%</th>\n",
       "      <td>0.142308</td>\n",
       "      <td>0.333333</td>\n",
       "      <td>0.025482</td>\n",
       "      <td>0.019943</td>\n",
       "      <td>0.021974</td>\n",
       "      <td>0.001398</td>\n",
       "      <td>0.147715</td>\n",
       "      <td>0.253984</td>\n",
       "    </tr>\n",
       "    <tr>\n",
       "      <th>50%</th>\n",
       "      <td>0.209301</td>\n",
       "      <td>0.549020</td>\n",
       "      <td>0.031071</td>\n",
       "      <td>0.021209</td>\n",
       "      <td>0.032596</td>\n",
       "      <td>0.001711</td>\n",
       "      <td>0.182784</td>\n",
       "      <td>0.583665</td>\n",
       "    </tr>\n",
       "    <tr>\n",
       "      <th>75%</th>\n",
       "      <td>0.292641</td>\n",
       "      <td>0.705882</td>\n",
       "      <td>0.036907</td>\n",
       "      <td>0.022713</td>\n",
       "      <td>0.048264</td>\n",
       "      <td>0.002084</td>\n",
       "      <td>0.549416</td>\n",
       "      <td>0.631474</td>\n",
       "    </tr>\n",
       "    <tr>\n",
       "      <th>max</th>\n",
       "      <td>1.000000</td>\n",
       "      <td>1.000000</td>\n",
       "      <td>1.000000</td>\n",
       "      <td>1.000000</td>\n",
       "      <td>1.000000</td>\n",
       "      <td>1.000000</td>\n",
       "      <td>1.000000</td>\n",
       "      <td>1.000000</td>\n",
       "    </tr>\n",
       "  </tbody>\n",
       "</table>\n",
       "</div>"
      ],
      "text/plain": [
       "             MedInc      HouseAge      AveRooms     AveBedrms    Population  \\\n",
       "count  20640.000000  20640.000000  20640.000000  20640.000000  20640.000000   \n",
       "mean       0.232464      0.541951      0.032488      0.022629      0.039869   \n",
       "std        0.131020      0.246776      0.017539      0.014049      0.031740   \n",
       "min        0.000000      0.000000      0.000000      0.000000      0.000000   \n",
       "25%        0.142308      0.333333      0.025482      0.019943      0.021974   \n",
       "50%        0.209301      0.549020      0.031071      0.021209      0.032596   \n",
       "75%        0.292641      0.705882      0.036907      0.022713      0.048264   \n",
       "max        1.000000      1.000000      1.000000      1.000000      1.000000   \n",
       "\n",
       "           AveOccup      Latitude     Longitude  \n",
       "count  20640.000000  20640.000000  20640.000000  \n",
       "mean       0.001914      0.328572      0.476125  \n",
       "std        0.008358      0.226988      0.199555  \n",
       "min        0.000000      0.000000      0.000000  \n",
       "25%        0.001398      0.147715      0.253984  \n",
       "50%        0.001711      0.182784      0.583665  \n",
       "75%        0.002084      0.549416      0.631474  \n",
       "max        1.000000      1.000000      1.000000  "
      ]
     },
     "execution_count": 63,
     "metadata": {},
     "output_type": "execute_result"
    }
   ],
   "source": [
    "scaled_housing_data2\n",
    "# 평균이 0이고 표준편차가 1.\n",
    "pd.DataFrame(scaled_housing_data2, columns=housing.feature_names).describe()"
   ]
  },
  {
   "cell_type": "code",
   "execution_count": null,
   "metadata": {},
   "outputs": [],
   "source": []
  },
  {
   "cell_type": "markdown",
   "metadata": {},
   "source": [
    "### 결측치 처리"
   ]
  },
  {
   "cell_type": "code",
   "execution_count": 64,
   "metadata": {},
   "outputs": [
    {
     "name": "stdout",
     "output_type": "stream",
     "text": [
      "<class 'pandas.core.frame.DataFrame'>\n",
      "RangeIndex: 20640 entries, 0 to 20639\n",
      "Data columns (total 8 columns):\n",
      "MedInc        20640 non-null float64\n",
      "HouseAge      20640 non-null float64\n",
      "AveRooms      20640 non-null float64\n",
      "AveBedrms     20640 non-null float64\n",
      "Population    20640 non-null float64\n",
      "AveOccup      20640 non-null float64\n",
      "Latitude      20640 non-null float64\n",
      "Longitude     20640 non-null float64\n",
      "dtypes: float64(8)\n",
      "memory usage: 1.3 MB\n"
     ]
    }
   ],
   "source": [
    "# 결측치가 없어요. --> 처리할 게 없어요.\n",
    "pd.DataFrame(scaled_housing_data, columns=housing.feature_names).info()"
   ]
  },
  {
   "cell_type": "markdown",
   "metadata": {},
   "source": [
    "### bias 데이터에 추가"
   ]
  },
  {
   "cell_type": "code",
   "execution_count": 65,
   "metadata": {},
   "outputs": [
    {
     "name": "stdout",
     "output_type": "stream",
     "text": [
      "mean(항목간):  [ 1.00000000e+00  6.60969987e-17  5.50808322e-18  6.60969987e-17\n",
      " -1.06030602e-16 -1.10161664e-17  3.44255201e-18 -1.07958431e-15\n",
      " -8.52651283e-15]\n",
      "mean(전체):  0.11111111111111005\n",
      "shape:  (20640, 9)\n"
     ]
    }
   ],
   "source": [
    "# np.c_ 함수는 concatenate 함수 (연결한다!)\n",
    "# bias에 행렬 추가\n",
    "scaled_housing_data_plus_bias = np.c_[np.ones((m, 1)), scaled_housing_data] ## bias 추가\n",
    "\n",
    "print(\"mean(항목간): \", scaled_housing_data_plus_bias.mean(axis=0))\n",
    "print(\"mean(전체): \", scaled_housing_data_plus_bias.mean())\n",
    "print(\"shape: \",scaled_housing_data_plus_bias.shape)"
   ]
  },
  {
   "cell_type": "markdown",
   "metadata": {},
   "source": [
    "## 3. Graph 정의"
   ]
  },
  {
   "cell_type": "markdown",
   "metadata": {},
   "source": [
    "#### 0. epoch, learning_rate 정의\n",
    "#### 1. X와 y정의  (Placeholder)\n",
    "#### 2. Hypothesis&Cost 함수 정의\n",
    "#### 3. Optimizer정의"
   ]
  },
  {
   "cell_type": "code",
   "execution_count": 66,
   "metadata": {},
   "outputs": [],
   "source": [
    "# 그래프 초기화\n",
    "tf.reset_default_graph()"
   ]
  },
  {
   "cell_type": "code",
   "execution_count": 67,
   "metadata": {},
   "outputs": [],
   "source": [
    "n_epochs = 1000 # epoch --> 학습횟수(반복횟수)\n",
    "lr = 0.01 # learning rate"
   ]
  },
  {
   "cell_type": "markdown",
   "metadata": {},
   "source": [
    "#### 1. X와 y정의"
   ]
  },
  {
   "cell_type": "code",
   "execution_count": 68,
   "metadata": {},
   "outputs": [
    {
     "data": {
      "text/plain": [
       "(20640, 9)"
      ]
     },
     "execution_count": 68,
     "metadata": {},
     "output_type": "execute_result"
    }
   ],
   "source": [
    "scaled_housing_data_plus_bias.shape"
   ]
  },
  {
   "cell_type": "code",
   "execution_count": 69,
   "metadata": {},
   "outputs": [],
   "source": [
    "X = tf.placeholder(dtype=tf.float32, shape=(None, 9), name=\"X\")\n",
    "y = tf.placeholder(dtype=tf.float32, shape=(None, 1), name='y')"
   ]
  },
  {
   "cell_type": "markdown",
   "metadata": {},
   "source": [
    "#### Hypothesis&Cost 정의"
   ]
  },
  {
   "cell_type": "code",
   "execution_count": 70,
   "metadata": {},
   "outputs": [
    {
     "data": {
      "text/plain": [
       "(20640, 8)"
      ]
     },
     "execution_count": 70,
     "metadata": {},
     "output_type": "execute_result"
    }
   ],
   "source": [
    "m,n"
   ]
  },
  {
   "cell_type": "code",
   "execution_count": 71,
   "metadata": {},
   "outputs": [],
   "source": [
    "# M: 데이터의 개수, N: Feature의 개수\n",
    "# n(feature의 개수) +1 --> bias\n",
    "W = tf.Variable(tf.random_uniform([n+1, 1], -1.0, 1.0), name='Weight')  # N+1 X 1 행렬\n",
    "y_pred = tf.matmul(X, W, name='predictions') # hypothesis  --> M X 1행렬  = M X N+1 * N+1 X 1 "
   ]
  },
  {
   "cell_type": "code",
   "execution_count": 72,
   "metadata": {},
   "outputs": [],
   "source": [
    "# ==> y값은 MX1 로 넣어줘야함 행렬연산 위해\n",
    "error = y_pred - y # MX1행렬 (데이터의 개수 만큼 error가 나옴.) --> Data 1개당 에러 (오차)  \n",
    "\n",
    "# Mean Sqaure Error\n",
    "mse = tf.reduce_mean(tf.square(error), name='mse') # Cost Function"
   ]
  },
  {
   "cell_type": "markdown",
   "metadata": {},
   "source": [
    "#### optimizer 방법1. 직접 미분"
   ]
  },
  {
   "cell_type": "code",
   "execution_count": 73,
   "metadata": {},
   "outputs": [],
   "source": [
    "# Optimizer = Gradient Descent\n",
    "\n",
    "# (N+1) X M  *  M X 1 = (N+1) X 1 행렬 --> (Feature+1)의 개수만큼 나오지요.\n",
    "gradients = 2/m * tf.matmul(tf.transpose(X), error) # feature 하나당 기울기 계산. (편미분)\n",
    "\n",
    "training_op = tf.assign(W, W - (lr * gradients)) # optimizer 역할 (gradient 업데이트)"
   ]
  },
  {
   "cell_type": "markdown",
   "metadata": {},
   "source": [
    "#### optimizer 방법2. 자동 미분"
   ]
  },
  {
   "cell_type": "code",
   "execution_count": 74,
   "metadata": {},
   "outputs": [],
   "source": [
    "# tensorflow의 자동 미분 기능 (기울기 미분 자동)\n",
    "gradients = tf.gradients(mse, [W])[0]  # W에 대한 mse 함수\n",
    "training_op = tf.assign(W, W - (lr * gradients)) # optimizer 역할 (gradient 업데이트)"
   ]
  },
  {
   "cell_type": "markdown",
   "metadata": {},
   "source": [
    "#### optimizer 방법3. 옵티마이저 사용"
   ]
  },
  {
   "cell_type": "code",
   "execution_count": 75,
   "metadata": {},
   "outputs": [],
   "source": [
    "optimizer = tf.train.GradientDescentOptimizer(learning_rate=lr)\n",
    "# mse를 최소화하는게 목적!\n",
    "traing_op = optimizer.minimize(mse) "
   ]
  },
  {
   "cell_type": "markdown",
   "metadata": {},
   "source": [
    "### label reshape"
   ]
  },
  {
   "cell_type": "code",
   "execution_count": 76,
   "metadata": {},
   "outputs": [
    {
     "data": {
      "text/plain": [
       "(20640, 1)"
      ]
     },
     "execution_count": 76,
     "metadata": {},
     "output_type": "execute_result"
    }
   ],
   "source": [
    "housing_label.shape\n",
    "# 행렬간 연산을 위해선 2차원 행렬로 만들어줘야함.\n",
    "housing_label = housing_label.reshape(-1, 1)\n",
    "housing_label.shape"
   ]
  },
  {
   "cell_type": "code",
   "execution_count": 77,
   "metadata": {
    "scrolled": true
   },
   "outputs": [
    {
     "name": "stdout",
     "output_type": "stream",
     "text": [
      "Epoch 0 MSE = 6.5061374\n",
      "Epoch 100 MSE = 0.802116\n",
      "Epoch 200 MSE = 0.6705681\n",
      "Epoch 300 MSE = 0.63207287\n",
      "Epoch 400 MSE = 0.60485876\n",
      "Epoch 500 MSE = 0.58478475\n",
      "Epoch 600 MSE = 0.5699107\n",
      "Epoch 700 MSE = 0.55885243\n",
      "Epoch 800 MSE = 0.55060124\n",
      "Epoch 900 MSE = 0.5444207\n"
     ]
    },
    {
     "data": {
      "text/plain": [
       "array([[ 2.0685525 ],\n",
       "       [ 0.8710128 ],\n",
       "       [ 0.16237572],\n",
       "       [-0.27665558],\n",
       "       [ 0.28539938],\n",
       "       [ 0.01082927],\n",
       "       [-0.04389907],\n",
       "       [-0.5430066 ],\n",
       "       [-0.5152347 ]], dtype=float32)"
      ]
     },
     "execution_count": 77,
     "metadata": {},
     "output_type": "execute_result"
    }
   ],
   "source": [
    "init = tf.global_variables_initializer()\n",
    "\n",
    "with tf.Session() as sess:\n",
    "    sess.run(init)\n",
    "\n",
    "    for epoch in range(n_epochs):\n",
    "        if epoch % 100 == 0:\n",
    "            # placeholder 추가\n",
    "            print(\"Epoch\", epoch, \"MSE =\", \n",
    "                  mse.eval(feed_dict={\n",
    "                      X:scaled_housing_data_plus_bias, \n",
    "                      y:housing_label})\n",
    "                 )\n",
    "        \n",
    "        # weight 업데이트\n",
    "        sess.run(training_op, feed_dict={X:scaled_housing_data_plus_bias, y:housing_label})\n",
    "    \n",
    "    best_weight = W.eval()\n",
    "\n",
    "best_weight"
   ]
  },
  {
   "cell_type": "markdown",
   "metadata": {},
   "source": [
    "# Linear Regression 눈으로 확인하기"
   ]
  },
  {
   "cell_type": "code",
   "execution_count": 1,
   "metadata": {},
   "outputs": [
    {
     "name": "stderr",
     "output_type": "stream",
     "text": [
      "WARNING: Logging before flag parsing goes to stderr.\n",
      "W0718 00:46:53.434810 4498535872 __init__.py:308] Limited tf.compat.v2.summary API due to missing TensorBoard installation.\n"
     ]
    }
   ],
   "source": [
    "import tensorflow as tf\n",
    "import matplotlib.pyplot as plt"
   ]
  },
  {
   "cell_type": "markdown",
   "metadata": {},
   "source": [
    "### 1. dataLoad"
   ]
  },
  {
   "cell_type": "code",
   "execution_count": 2,
   "metadata": {},
   "outputs": [],
   "source": [
    "# y = 2*x + 1\n",
    "# w[1] = 2, w[0]= 1\n",
    "x_data = [1, 2, 3]\n",
    "y_data = [3, 5, 7]"
   ]
  },
  {
   "cell_type": "markdown",
   "metadata": {},
   "source": [
    "### 2. Graph 정의"
   ]
  },
  {
   "cell_type": "code",
   "execution_count": 3,
   "metadata": {},
   "outputs": [],
   "source": [
    "# W1과 W0을 구하는게 우리의 목표!\n",
    "# 일단 하나 정하고 조정하기. ==> Variable을 쓰고, 초기값 설정\n",
    "W = tf.Variable(tf.random_uniform([1], -100, 100)) # W1 - Weight\n",
    "b = tf.Variable(tf.random_uniform([1], -100, 100)) # W0 - bias\n",
    "\n",
    "# name: 나중에 텐서보드등으로 값의 변화를 추적하거나 살펴보기 쉽게 하기 위해 이름을 붙여준다.\n",
    "# 왜 tf.placeholder를 사용하는가? 생각해보자!\n",
    "# \n",
    "# 새로운 데이터를 예측하기 위해서 훈련을 합니다.\n",
    "# --> 기존데이터로 훈련을 하고, 훈련된 모델을 새로운 데이터로 바꿀 수 있어야 합니다.\n",
    "X = tf.placeholder(tf.float32, name=\"X\") # 훈련 데이터\n",
    "Y = tf.placeholder(tf.float32, name=\"Y\") # 정답 데이터"
   ]
  },
  {
   "cell_type": "code",
   "execution_count": 4,
   "metadata": {},
   "outputs": [],
   "source": [
    "# hypothesis 정의\n",
    "# W 와 X 가 행렬이 아니므로 tf.matmul 이 아니라 기본 곱셈 기호를 사용한다.\n",
    "hypothesis = W * X + b\n",
    "\n",
    "# Cost Function을 작성한다. (손실 함수)\n",
    "# mean(h - Y)^2 : 예측값과 실제값의 차이의 제곱의 평균\n",
    "err = tf.square(hypothesis - Y)\n",
    "cost = tf.reduce_mean(err)\n"
   ]
  },
  {
   "cell_type": "code",
   "execution_count": 5,
   "metadata": {},
   "outputs": [],
   "source": [
    "# 훈련률: 0.1: optimizer가 Variable을(Weight를) 자동으로 조정한다.\n",
    "optimizer = tf.train.GradientDescentOptimizer(learning_rate=0.1) \n",
    "\n",
    "# 비용을 최소화 하는 것이 최종 목표\n",
    "train_op = optimizer.minimize(cost)  # compute_gradients, apply_gradients가 실행됩니다."
   ]
  },
  {
   "cell_type": "markdown",
   "metadata": {},
   "source": [
    "### 3. 학습"
   ]
  },
  {
   "cell_type": "code",
   "execution_count": 7,
   "metadata": {},
   "outputs": [
    {
     "name": "stdout",
     "output_type": "stream",
     "text": [
      "None\n",
      " step: 0\n",
      " cost:3315.118408203125\n",
      " Weight: [-8.506901] \n",
      " bias:[18.299866]\n",
      "--------------------------------------------------\n"
     ]
    },
    {
     "data": {
      "image/png": "[encoded data removed]",
      "text/plain": [
       "<Figure size 432x288 with 1 Axes>"
      ]
     },
     "metadata": {
      "needs_background": "light"
     },
     "output_type": "display_data"
    },
    {
     "name": "stdout",
     "output_type": "stream",
     "text": [
      "None\n",
      " step: 20\n",
      " cost:19.19765281677246\n",
      " Weight: [-2.9665217] \n",
      " bias:[12.2900715]\n",
      "--------------------------------------------------\n"
     ]
    },
    {
     "data": {
      "image/png": "[encoded data removed]",
      "text/plain": [
       "<Figure size 432x288 with 1 Axes>"
      ]
     },
     "metadata": {
      "needs_background": "light"
     },
     "output_type": "display_data"
    },
    {
     "name": "stdout",
     "output_type": "stream",
     "text": [
      "None\n",
      " step: 40\n",
      " cost:7.253393173217773\n",
      " Weight: [-1.0528036] \n",
      " bias:[7.93974]\n",
      "--------------------------------------------------\n"
     ]
    },
    {
     "data": {
      "image/png": "[encoded data removed]",
      "text/plain": [
       "<Figure size 432x288 with 1 Axes>"
      ]
     },
     "metadata": {
      "needs_background": "light"
     },
     "output_type": "display_data"
    },
    {
     "name": "stdout",
     "output_type": "stream",
     "text": [
      "None\n",
      " step: 60\n",
      " cost:2.7405271530151367\n",
      " Weight: [0.12351401] \n",
      " bias:[5.2656937]\n",
      "--------------------------------------------------\n"
     ]
    },
    {
     "data": {
      "image/png": "[encoded data removed]",
      "text/plain": [
       "<Figure size 432x288 with 1 Axes>"
      ]
     },
     "metadata": {
      "needs_background": "light"
     },
     "output_type": "display_data"
    },
    {
     "name": "stdout",
     "output_type": "stream",
     "text": [
      "None\n",
      " step: 80\n",
      " cost:1.0354448556900024\n",
      " Weight: [0.8465685] \n",
      " bias:[3.622021]\n",
      "--------------------------------------------------\n"
     ]
    },
    {
     "data": {
      "image/png": "[encoded data removed]",
      "text/plain": [
       "<Figure size 432x288 with 1 Axes>"
      ]
     },
     "metadata": {
      "needs_background": "light"
     },
     "output_type": "display_data"
    },
    {
     "name": "stdout",
     "output_type": "stream",
     "text": [
      "None\n",
      " step: 100\n",
      " cost:0.39121899008750916\n",
      " Weight: [1.291013] \n",
      " bias:[2.611694]\n",
      "--------------------------------------------------\n"
     ]
    },
    {
     "data": {
      "image/png": "[encoded data removed]",
      "text/plain": [
       "<Figure size 432x288 with 1 Axes>"
      ]
     },
     "metadata": {
      "needs_background": "light"
     },
     "output_type": "display_data"
    },
    {
     "name": "stdout",
     "output_type": "stream",
     "text": [
      "None\n",
      " step: 120\n",
      " cost:0.1478131115436554\n",
      " Weight: [1.5642024] \n",
      " bias:[1.9906702]\n",
      "--------------------------------------------------\n"
     ]
    },
    {
     "data": {
      "image/png": "[encoded data removed]",
      "text/plain": [
       "<Figure size 432x288 with 1 Axes>"
      ]
     },
     "metadata": {
      "needs_background": "light"
     },
     "output_type": "display_data"
    },
    {
     "name": "stdout",
     "output_type": "stream",
     "text": [
      "None\n",
      " step: 140\n",
      " cost:0.05584784224629402\n",
      " Weight: [1.7321256] \n",
      " bias:[1.6089414]\n",
      "--------------------------------------------------\n"
     ]
    },
    {
     "data": {
      "image/png": "[encoded data removed]",
      "text/plain": [
       "<Figure size 432x288 with 1 Axes>"
      ]
     },
     "metadata": {
      "needs_background": "light"
     },
     "output_type": "display_data"
    },
    {
     "name": "stdout",
     "output_type": "stream",
     "text": [
      "None\n",
      " step: 160\n",
      " cost:0.02110079675912857\n",
      " Weight: [1.835344] \n",
      " bias:[1.3743018]\n",
      "--------------------------------------------------\n"
     ]
    },
    {
     "data": {
      "image/png": "[encoded data removed]",
      "text/plain": [
       "<Figure size 432x288 with 1 Axes>"
      ]
     },
     "metadata": {
      "needs_background": "light"
     },
     "output_type": "display_data"
    },
    {
     "name": "stdout",
     "output_type": "stream",
     "text": [
      "None\n",
      " step: 180\n",
      " cost:0.00797244906425476\n",
      " Weight: [1.8987898] \n",
      " bias:[1.2300745]\n",
      "--------------------------------------------------\n"
     ]
    },
    {
     "data": {
      "image/png": "[encoded data removed]",
      "text/plain": [
       "<Figure size 432x288 with 1 Axes>"
      ]
     },
     "metadata": {
      "needs_background": "light"
     },
     "output_type": "display_data"
    },
    {
     "name": "stdout",
     "output_type": "stream",
     "text": [
      "None\n",
      " step: 200\n",
      " cost:0.00301222107373178\n",
      " Weight: [1.9377886] \n",
      " bias:[1.1414213]\n",
      "--------------------------------------------------\n"
     ]
    },
    {
     "data": {
      "image/png": "[encoded data removed]",
      "text/plain": [
       "<Figure size 432x288 with 1 Axes>"
      ]
     },
     "metadata": {
      "needs_background": "light"
     },
     "output_type": "display_data"
    },
    {
     "name": "stdout",
     "output_type": "stream",
     "text": [
      "None\n",
      " step: 220\n",
      " cost:0.0011380972573533654\n",
      " Weight: [1.9617602] \n",
      " bias:[1.0869284]\n",
      "--------------------------------------------------\n"
     ]
    },
    {
     "data": {
      "image/png": "[encoded data removed]",
      "text/plain": [
       "<Figure size 432x288 with 1 Axes>"
      ]
     },
     "metadata": {
      "needs_background": "light"
     },
     "output_type": "display_data"
    },
    {
     "name": "stdout",
     "output_type": "stream",
     "text": [
      "None\n",
      " step: 240\n",
      " cost:0.00042999666766263545\n",
      " Weight: [1.9764949] \n",
      " bias:[1.0534327]\n",
      "--------------------------------------------------\n"
     ]
    },
    {
     "data": {
      "image/png": "[encoded data removed]",
      "text/plain": [
       "<Figure size 432x288 with 1 Axes>"
      ]
     },
     "metadata": {
      "needs_background": "light"
     },
     "output_type": "display_data"
    },
    {
     "name": "stdout",
     "output_type": "stream",
     "text": [
      "None\n",
      " step: 260\n",
      " cost:0.00016246548329945654\n",
      " Weight: [1.985552] \n",
      " bias:[1.0328438]\n",
      "--------------------------------------------------\n"
     ]
    },
    {
     "data": {
      "image/png": "[encoded data removed]",
      "text/plain": [
       "<Figure size 432x288 with 1 Axes>"
      ]
     },
     "metadata": {
      "needs_background": "light"
     },
     "output_type": "display_data"
    },
    {
     "name": "stdout",
     "output_type": "stream",
     "text": [
      "None\n",
      " step: 280\n",
      " cost:6.13835800322704e-05\n",
      " Weight: [1.991119] \n",
      " bias:[1.0201885]\n",
      "--------------------------------------------------\n"
     ]
    },
    {
     "data": {
      "image/png": "[encoded data removed]",
      "text/plain": [
       "<Figure size 432x288 with 1 Axes>"
      ]
     },
     "metadata": {
      "needs_background": "light"
     },
     "output_type": "display_data"
    },
    {
     "name": "stdout",
     "output_type": "stream",
     "text": [
      "\n",
      "=== Test ===\n",
      "X: 5, Y: [10.984749]\n",
      "X: 2.5, Y: [5.998732]\n",
      "Weight와 bias\n",
      "[array([1.9944067], dtype=float32), array([1.0127152], dtype=float32)]\n"
     ]
    }
   ],
   "source": [
    "# 세션 생성 및 초기화.\n",
    "with tf.Session() as sess:\n",
    "    sess.run(tf.global_variables_initializer()) # 변수 초기화\n",
    "\n",
    "    # 최적화를 300번 수행합니다.\n",
    "    for step in range(300):\n",
    "        # sess.run 을 통해 train_op 와 cost 그래프를 계산한다.\n",
    "        # 이 때, Hypothesis에 넣어야 할 실제값을 feed_dict 을 통해 전달합니다.\n",
    "        _, cost_val, weight, bias = sess.run([train_op, cost, W, b], feed_dict={X: x_data, Y: y_data})\n",
    "        \n",
    "        # _는 None값. --> compute_gradients, apply_gradients가 실행됩니다.\n",
    "        # --> W값 자동으로 조정합니다.\n",
    "        \n",
    "        if step%20==0:\n",
    "            # 20번에 한번씩 진행하기\n",
    "            print(_)\n",
    "            print(\" step: {}\\n cost:{}\\n Weight: {} \\n bias:{}\".format(step, cost_val, weight, bias))\n",
    "            print(\"-\"*50)\n",
    "            h = sess.run(hypothesis, feed_dict={X: x_data})\n",
    "            \n",
    "            plt.plot(x_data, h)\n",
    "            plt.scatter(x_data, y_data)\n",
    "            plt.show()\n",
    "\n",
    "    # 최적화가 완료된 모델에 테스트 값을 넣고 결과가 잘 나오는지 확인해봅니다.\n",
    "    print(\"\\n=== Test ===\")\n",
    "    print(\"X: 5, Y:\", sess.run(hypothesis, feed_dict={X: 5}))\n",
    "    print(\"X: 2.5, Y:\", sess.run(hypothesis, feed_dict={X: 2.5}))\n",
    "    print(\"Weight와 bias\")\n",
    "    print(sess.run([W, b]))\n"
   ]
  },
  {
   "cell_type": "code",
   "execution_count": null,
   "metadata": {},
   "outputs": [],
   "source": []
  },
  {
   "cell_type": "code",
   "execution_count": null,
   "metadata": {},
   "outputs": [],
   "source": []
  },
  {
   "cell_type": "markdown",
   "metadata": {},
   "source": [
    "# 연습문제3. Boston Data LinearRegression"
   ]
  },
  {
   "cell_type": "markdown",
   "metadata": {},
   "source": [
    "### 1. DataLoad"
   ]
  },
  {
   "cell_type": "code",
   "execution_count": 78,
   "metadata": {},
   "outputs": [],
   "source": [
    "reset_all()"
   ]
  },
  {
   "cell_type": "code",
   "execution_count": 79,
   "metadata": {},
   "outputs": [],
   "source": [
    "import tensorflow as tf\n",
    "from sklearn import datasets\n",
    "from sklearn import model_selection\n",
    "from sklearn.preprocessing import StandardScaler\n",
    "import pandas as pd"
   ]
  },
  {
   "cell_type": "code",
   "execution_count": 80,
   "metadata": {},
   "outputs": [
    {
     "data": {
      "text/plain": [
       "dict_keys(['data', 'target', 'feature_names', 'DESCR', 'filename'])"
      ]
     },
     "execution_count": 80,
     "metadata": {},
     "output_type": "execute_result"
    }
   ],
   "source": [
    "# boston 집값 예측\n",
    "boston = datasets.load_boston()\n",
    "boston.keys()"
   ]
  },
  {
   "cell_type": "code",
   "execution_count": 81,
   "metadata": {},
   "outputs": [],
   "source": [
    "# boston data 설명\n",
    "\"\"\"\n",
    "CRIM\t자치시(town) 별 1인당 범죄율\n",
    "ZN\t25,000 평방피트를 초과하는 거주지역의 비율\n",
    "INDUS\t비소매상업지역이 점유하고 있는 토지의 비율\n",
    "CHAS\t찰스강에 대한 더미변수(강의 경계에 위치한 경우는 1, 아니면 0)\n",
    "NOX\t10ppm 당 농축 일산화질소\n",
    "RM\t주택 1가구당 평균 방의 개수\n",
    "AGE\t1940년 이전에 건축된 소유주택의 비율\n",
    "DIS\t5개의 보스턴 직업센터까지의 접근성 지수\n",
    "RAD\t방사형 도로까지의 접근성 지수\n",
    "TAX\t10,000 달러 당 재산세율\n",
    "PTRATIO\t자치시(town)별 학생/교사 비율\n",
    "B\t1000(Bk-0.63)^2, 여기서 Bk는 자치시별 흑인의 비율을 말함.\n",
    "LSTAT\t모집단의 하위계층의 비율(%)\n",
    "MEDV\t본인 소유의 주택가격(중앙값) (단위: $1,000)\n",
    "\"\"\"\n",
    "# boston의 범죄율 등으로 집값 예측\n",
    "boston_housing = boston.data\n",
    "boston_label = boston.target\n",
    "m, n = boston_housing.shape # shape 저장 (m X n)행렬"
   ]
  },
  {
   "cell_type": "code",
   "execution_count": 82,
   "metadata": {},
   "outputs": [],
   "source": [
    "## code 시작!"
   ]
  },
  {
   "cell_type": "markdown",
   "metadata": {},
   "source": [
    "### 2. 전처리"
   ]
  },
  {
   "cell_type": "code",
   "execution_count": null,
   "metadata": {},
   "outputs": [],
   "source": []
  },
  {
   "cell_type": "code",
   "execution_count": null,
   "metadata": {},
   "outputs": [],
   "source": []
  },
  {
   "cell_type": "markdown",
   "metadata": {},
   "source": [
    "## 3. Graph 정의"
   ]
  },
  {
   "cell_type": "code",
   "execution_count": 83,
   "metadata": {},
   "outputs": [],
   "source": [
    "## 3. Graph 정의"
   ]
  },
  {
   "cell_type": "code",
   "execution_count": null,
   "metadata": {},
   "outputs": [],
   "source": []
  },
  {
   "cell_type": "markdown",
   "metadata": {},
   "source": [
    "## 4. 수행"
   ]
  },
  {
   "cell_type": "code",
   "execution_count": null,
   "metadata": {},
   "outputs": [],
   "source": []
  },
  {
   "cell_type": "code",
   "execution_count": null,
   "metadata": {},
   "outputs": [],
   "source": []
  },
  {
   "cell_type": "code",
   "execution_count": null,
   "metadata": {},
   "outputs": [],
   "source": []
  },
  {
   "cell_type": "code",
   "execution_count": null,
   "metadata": {},
   "outputs": [],
   "source": []
  },
  {
   "cell_type": "code",
   "execution_count": null,
   "metadata": {},
   "outputs": [],
   "source": []
  },
  {
   "cell_type": "markdown",
   "metadata": {},
   "source": [
    "# 모범 답안"
   ]
  },
  {
   "cell_type": "markdown",
   "metadata": {},
   "source": [
    "### 2. 전처리"
   ]
  },
  {
   "cell_type": "code",
   "execution_count": 84,
   "metadata": {},
   "outputs": [],
   "source": [
    "boston_df = pd.DataFrame(boston_housing, columns=boston.feature_names)"
   ]
  },
  {
   "cell_type": "code",
   "execution_count": 85,
   "metadata": {},
   "outputs": [
    {
     "data": {
      "text/html": [
       "<div>\n",
       "<style scoped>\n",
       "    .dataframe tbody tr th:only-of-type {\n",
       "        vertical-align: middle;\n",
       "    }\n",
       "\n",
       "    .dataframe tbody tr th {\n",
       "        vertical-align: top;\n",
       "    }\n",
       "\n",
       "    .dataframe thead th {\n",
       "        text-align: right;\n",
       "    }\n",
       "</style>\n",
       "<table border=\"1\" class=\"dataframe\">\n",
       "  <thead>\n",
       "    <tr style=\"text-align: right;\">\n",
       "      <th></th>\n",
       "      <th>CRIM</th>\n",
       "      <th>ZN</th>\n",
       "      <th>INDUS</th>\n",
       "      <th>CHAS</th>\n",
       "      <th>NOX</th>\n",
       "      <th>RM</th>\n",
       "      <th>AGE</th>\n",
       "      <th>DIS</th>\n",
       "      <th>RAD</th>\n",
       "      <th>TAX</th>\n",
       "      <th>PTRATIO</th>\n",
       "      <th>B</th>\n",
       "      <th>LSTAT</th>\n",
       "    </tr>\n",
       "  </thead>\n",
       "  <tbody>\n",
       "    <tr>\n",
       "      <th>count</th>\n",
       "      <td>506.000000</td>\n",
       "      <td>506.000000</td>\n",
       "      <td>506.000000</td>\n",
       "      <td>506.000000</td>\n",
       "      <td>506.000000</td>\n",
       "      <td>506.000000</td>\n",
       "      <td>506.000000</td>\n",
       "      <td>506.000000</td>\n",
       "      <td>506.000000</td>\n",
       "      <td>506.000000</td>\n",
       "      <td>506.000000</td>\n",
       "      <td>506.000000</td>\n",
       "      <td>506.000000</td>\n",
       "    </tr>\n",
       "    <tr>\n",
       "      <th>mean</th>\n",
       "      <td>3.613524</td>\n",
       "      <td>11.363636</td>\n",
       "      <td>11.136779</td>\n",
       "      <td>0.069170</td>\n",
       "      <td>0.554695</td>\n",
       "      <td>6.284634</td>\n",
       "      <td>68.574901</td>\n",
       "      <td>3.795043</td>\n",
       "      <td>9.549407</td>\n",
       "      <td>408.237154</td>\n",
       "      <td>18.455534</td>\n",
       "      <td>356.674032</td>\n",
       "      <td>12.653063</td>\n",
       "    </tr>\n",
       "    <tr>\n",
       "      <th>std</th>\n",
       "      <td>8.601545</td>\n",
       "      <td>23.322453</td>\n",
       "      <td>6.860353</td>\n",
       "      <td>0.253994</td>\n",
       "      <td>0.115878</td>\n",
       "      <td>0.702617</td>\n",
       "      <td>28.148861</td>\n",
       "      <td>2.105710</td>\n",
       "      <td>8.707259</td>\n",
       "      <td>168.537116</td>\n",
       "      <td>2.164946</td>\n",
       "      <td>91.294864</td>\n",
       "      <td>7.141062</td>\n",
       "    </tr>\n",
       "    <tr>\n",
       "      <th>min</th>\n",
       "      <td>0.006320</td>\n",
       "      <td>0.000000</td>\n",
       "      <td>0.460000</td>\n",
       "      <td>0.000000</td>\n",
       "      <td>0.385000</td>\n",
       "      <td>3.561000</td>\n",
       "      <td>2.900000</td>\n",
       "      <td>1.129600</td>\n",
       "      <td>1.000000</td>\n",
       "      <td>187.000000</td>\n",
       "      <td>12.600000</td>\n",
       "      <td>0.320000</td>\n",
       "      <td>1.730000</td>\n",
       "    </tr>\n",
       "    <tr>\n",
       "      <th>25%</th>\n",
       "      <td>0.082045</td>\n",
       "      <td>0.000000</td>\n",
       "      <td>5.190000</td>\n",
       "      <td>0.000000</td>\n",
       "      <td>0.449000</td>\n",
       "      <td>5.885500</td>\n",
       "      <td>45.025000</td>\n",
       "      <td>2.100175</td>\n",
       "      <td>4.000000</td>\n",
       "      <td>279.000000</td>\n",
       "      <td>17.400000</td>\n",
       "      <td>375.377500</td>\n",
       "      <td>6.950000</td>\n",
       "    </tr>\n",
       "    <tr>\n",
       "      <th>50%</th>\n",
       "      <td>0.256510</td>\n",
       "      <td>0.000000</td>\n",
       "      <td>9.690000</td>\n",
       "      <td>0.000000</td>\n",
       "      <td>0.538000</td>\n",
       "      <td>6.208500</td>\n",
       "      <td>77.500000</td>\n",
       "      <td>3.207450</td>\n",
       "      <td>5.000000</td>\n",
       "      <td>330.000000</td>\n",
       "      <td>19.050000</td>\n",
       "      <td>391.440000</td>\n",
       "      <td>11.360000</td>\n",
       "    </tr>\n",
       "    <tr>\n",
       "      <th>75%</th>\n",
       "      <td>3.677083</td>\n",
       "      <td>12.500000</td>\n",
       "      <td>18.100000</td>\n",
       "      <td>0.000000</td>\n",
       "      <td>0.624000</td>\n",
       "      <td>6.623500</td>\n",
       "      <td>94.075000</td>\n",
       "      <td>5.188425</td>\n",
       "      <td>24.000000</td>\n",
       "      <td>666.000000</td>\n",
       "      <td>20.200000</td>\n",
       "      <td>396.225000</td>\n",
       "      <td>16.955000</td>\n",
       "    </tr>\n",
       "    <tr>\n",
       "      <th>max</th>\n",
       "      <td>88.976200</td>\n",
       "      <td>100.000000</td>\n",
       "      <td>27.740000</td>\n",
       "      <td>1.000000</td>\n",
       "      <td>0.871000</td>\n",
       "      <td>8.780000</td>\n",
       "      <td>100.000000</td>\n",
       "      <td>12.126500</td>\n",
       "      <td>24.000000</td>\n",
       "      <td>711.000000</td>\n",
       "      <td>22.000000</td>\n",
       "      <td>396.900000</td>\n",
       "      <td>37.970000</td>\n",
       "    </tr>\n",
       "  </tbody>\n",
       "</table>\n",
       "</div>"
      ],
      "text/plain": [
       "             CRIM          ZN       INDUS        CHAS         NOX          RM  \\\n",
       "count  506.000000  506.000000  506.000000  506.000000  506.000000  506.000000   \n",
       "mean     3.613524   11.363636   11.136779    0.069170    0.554695    6.284634   \n",
       "std      8.601545   23.322453    6.860353    0.253994    0.115878    0.702617   \n",
       "min      0.006320    0.000000    0.460000    0.000000    0.385000    3.561000   \n",
       "25%      0.082045    0.000000    5.190000    0.000000    0.449000    5.885500   \n",
       "50%      0.256510    0.000000    9.690000    0.000000    0.538000    6.208500   \n",
       "75%      3.677083   12.500000   18.100000    0.000000    0.624000    6.623500   \n",
       "max     88.976200  100.000000   27.740000    1.000000    0.871000    8.780000   \n",
       "\n",
       "              AGE         DIS         RAD         TAX     PTRATIO           B  \\\n",
       "count  506.000000  506.000000  506.000000  506.000000  506.000000  506.000000   \n",
       "mean    68.574901    3.795043    9.549407  408.237154   18.455534  356.674032   \n",
       "std     28.148861    2.105710    8.707259  168.537116    2.164946   91.294864   \n",
       "min      2.900000    1.129600    1.000000  187.000000   12.600000    0.320000   \n",
       "25%     45.025000    2.100175    4.000000  279.000000   17.400000  375.377500   \n",
       "50%     77.500000    3.207450    5.000000  330.000000   19.050000  391.440000   \n",
       "75%     94.075000    5.188425   24.000000  666.000000   20.200000  396.225000   \n",
       "max    100.000000   12.126500   24.000000  711.000000   22.000000  396.900000   \n",
       "\n",
       "            LSTAT  \n",
       "count  506.000000  \n",
       "mean    12.653063  \n",
       "std      7.141062  \n",
       "min      1.730000  \n",
       "25%      6.950000  \n",
       "50%     11.360000  \n",
       "75%     16.955000  \n",
       "max     37.970000  "
      ]
     },
     "execution_count": 85,
     "metadata": {},
     "output_type": "execute_result"
    }
   ],
   "source": [
    "boston_df.describe()"
   ]
  },
  {
   "cell_type": "code",
   "execution_count": 86,
   "metadata": {},
   "outputs": [
    {
     "name": "stdout",
     "output_type": "stream",
     "text": [
      "<class 'pandas.core.frame.DataFrame'>\n",
      "RangeIndex: 506 entries, 0 to 505\n",
      "Data columns (total 13 columns):\n",
      "CRIM       506 non-null float64\n",
      "ZN         506 non-null float64\n",
      "INDUS      506 non-null float64\n",
      "CHAS       506 non-null float64\n",
      "NOX        506 non-null float64\n",
      "RM         506 non-null float64\n",
      "AGE        506 non-null float64\n",
      "DIS        506 non-null float64\n",
      "RAD        506 non-null float64\n",
      "TAX        506 non-null float64\n",
      "PTRATIO    506 non-null float64\n",
      "B          506 non-null float64\n",
      "LSTAT      506 non-null float64\n",
      "dtypes: float64(13)\n",
      "memory usage: 51.5 KB\n"
     ]
    }
   ],
   "source": [
    "# 결측치 없음\n",
    "boston_df.info()"
   ]
  },
  {
   "cell_type": "code",
   "execution_count": 87,
   "metadata": {},
   "outputs": [],
   "source": [
    "from sklearn.preprocessing import StandardScaler\n",
    "scaler = StandardScaler()\n",
    "scaled_boston_housing = scaler.fit_transform(boston_housing) "
   ]
  },
  {
   "cell_type": "markdown",
   "metadata": {},
   "source": [
    "### bias 데이터에 추가"
   ]
  },
  {
   "cell_type": "code",
   "execution_count": 88,
   "metadata": {},
   "outputs": [
    {
     "name": "stdout",
     "output_type": "stream",
     "text": [
      "mean(항목간):  [ 1.00000000e+00 -8.78743718e-17 -6.34319123e-16 -2.68291099e-15\n",
      "  4.70199198e-16  2.49032240e-15 -1.14523016e-14 -1.40785495e-15\n",
      "  9.21090169e-16  5.44140929e-16 -8.86861950e-16 -9.20563581e-15\n",
      "  8.16310129e-15 -3.37016317e-16]\n",
      "mean(전체):  0.0714285714285704\n",
      "shape:  (506, 14)\n"
     ]
    }
   ],
   "source": [
    "# np.c_ 함수는 concatenate 함수 (연결한다!)\n",
    "# bias에 행렬 추가\n",
    "scaled_boston_housing_plus_bias = np.c_[np.ones((m, 1)), scaled_boston_housing] ## bias 추가\n",
    "\n",
    "print(\"mean(항목간): \", scaled_boston_housing_plus_bias.mean(axis=0))\n",
    "print(\"mean(전체): \", scaled_boston_housing_plus_bias.mean())\n",
    "print(\"shape: \",scaled_boston_housing_plus_bias.shape)"
   ]
  },
  {
   "cell_type": "markdown",
   "metadata": {},
   "source": [
    "## 3. Graph 정의"
   ]
  },
  {
   "cell_type": "code",
   "execution_count": 89,
   "metadata": {},
   "outputs": [],
   "source": [
    "# 그래프 초기화\n",
    "tf.reset_default_graph()"
   ]
  },
  {
   "cell_type": "code",
   "execution_count": 90,
   "metadata": {},
   "outputs": [],
   "source": [
    "n_epochs = 1000 # epoch --> 학습횟수(반복횟수)\n",
    "lr = 0.01 # learning rate"
   ]
  },
  {
   "cell_type": "markdown",
   "metadata": {},
   "source": [
    "#### 1. X와 y정의"
   ]
  },
  {
   "cell_type": "code",
   "execution_count": 91,
   "metadata": {},
   "outputs": [
    {
     "data": {
      "text/plain": [
       "(506, 14)"
      ]
     },
     "execution_count": 91,
     "metadata": {},
     "output_type": "execute_result"
    }
   ],
   "source": [
    "scaled_boston_housing_plus_bias.shape"
   ]
  },
  {
   "cell_type": "code",
   "execution_count": 92,
   "metadata": {},
   "outputs": [],
   "source": [
    "X = tf.placeholder(dtype=tf.float32, shape=(None, n+1), name=\"X\")\n",
    "y = tf.placeholder(dtype=tf.float32, shape=(None, 1), name='y')"
   ]
  },
  {
   "cell_type": "markdown",
   "metadata": {},
   "source": [
    "#### Hypothesis&Cost 정의"
   ]
  },
  {
   "cell_type": "code",
   "execution_count": 93,
   "metadata": {
    "scrolled": true
   },
   "outputs": [
    {
     "data": {
      "text/plain": [
       "(506, 13)"
      ]
     },
     "execution_count": 93,
     "metadata": {},
     "output_type": "execute_result"
    }
   ],
   "source": [
    "m,n"
   ]
  },
  {
   "cell_type": "code",
   "execution_count": 94,
   "metadata": {},
   "outputs": [],
   "source": [
    "# M: 데이터의 개수, N: Feature의 개수\n",
    "# n(feature의 개수) +1 --> bias\n",
    "W = tf.Variable(tf.random_uniform([n+1, 1], -1.0, 1.0), name='Weight')  # N+1 X 1 행렬\n",
    "y_pred = tf.matmul(X, W, name='predictions') # hypothesis  --> M X 1행렬  = M X N+1 * N+1 X 1 "
   ]
  },
  {
   "cell_type": "code",
   "execution_count": 95,
   "metadata": {},
   "outputs": [],
   "source": [
    "# ==> y값은 MX1 로 넣어줘야함 행렬연산 위해\n",
    "error = y_pred - y # MX1행렬 (데이터의 개수 만큼 error가 나옴.) --> Data 1개당 에러 (오차)  \n",
    "\n",
    "# Mean Sqaure Error\n",
    "mse = tf.reduce_mean(tf.square(error), name='mse') # Cost Function"
   ]
  },
  {
   "cell_type": "markdown",
   "metadata": {},
   "source": [
    "#### 옵티마이저"
   ]
  },
  {
   "cell_type": "code",
   "execution_count": 96,
   "metadata": {},
   "outputs": [],
   "source": [
    "optimizer = tf.train.GradientDescentOptimizer(learning_rate=lr)\n",
    "# mse를 최소화하는게 목적!\n",
    "training_op = optimizer.minimize(mse) "
   ]
  },
  {
   "cell_type": "markdown",
   "metadata": {},
   "source": [
    "### label reshape"
   ]
  },
  {
   "cell_type": "code",
   "execution_count": 97,
   "metadata": {},
   "outputs": [
    {
     "name": "stdout",
     "output_type": "stream",
     "text": [
      "(506,)\n"
     ]
    },
    {
     "data": {
      "text/plain": [
       "(506, 1)"
      ]
     },
     "execution_count": 97,
     "metadata": {},
     "output_type": "execute_result"
    }
   ],
   "source": [
    "print(boston_label.shape)\n",
    "# 행렬간 연산을 위해선 2차원 행렬로 만들어줘야함.\n",
    "boston_label = boston_label.reshape(-1, 1)\n",
    "boston_label.shape"
   ]
  },
  {
   "cell_type": "markdown",
   "metadata": {},
   "source": [
    "## 4. 실행"
   ]
  },
  {
   "cell_type": "code",
   "execution_count": 98,
   "metadata": {
    "scrolled": true
   },
   "outputs": [
    {
     "name": "stdout",
     "output_type": "stream",
     "text": [
      "Epoch 0 MSE = 604.09924\n",
      "Epoch 100 MSE = 32.656425\n",
      "Epoch 200 MSE = 22.976612\n",
      "Epoch 300 MSE = 22.469475\n",
      "Epoch 400 MSE = 22.274014\n",
      "Epoch 500 MSE = 22.158728\n",
      "Epoch 600 MSE = 22.085155\n",
      "Epoch 700 MSE = 22.035545\n",
      "Epoch 800 MSE = 22.000622\n",
      "Epoch 900 MSE = 21.975252\n"
     ]
    },
    {
     "data": {
      "text/plain": [
       "array([[22.53276   ],\n",
       "       [-0.8741372 ],\n",
       "       [ 0.9825873 ],\n",
       "       [-0.09778322],\n",
       "       [ 0.7161328 ],\n",
       "       [-1.9562924 ],\n",
       "       [ 2.7386327 ],\n",
       "       [-0.02938651],\n",
       "       [-3.0651114 ],\n",
       "       [ 2.0365107 ],\n",
       "       [-1.3891711 ],\n",
       "       [-2.029657  ],\n",
       "       [ 0.84994835],\n",
       "       [-3.7100434 ]], dtype=float32)"
      ]
     },
     "execution_count": 98,
     "metadata": {},
     "output_type": "execute_result"
    }
   ],
   "source": [
    "init = tf.global_variables_initializer()\n",
    "\n",
    "with tf.Session() as sess:\n",
    "    sess.run(init)\n",
    "\n",
    "    for epoch in range(n_epochs):\n",
    "        if epoch % 100 == 0:\n",
    "            # feed_dict 추가\n",
    "            print(\"Epoch\", epoch, \"MSE =\", \n",
    "                  mse.eval(feed_dict={\n",
    "                      X:scaled_boston_housing_plus_bias, \n",
    "                      y:boston_label})\n",
    "                 )\n",
    "        \n",
    "        # weight 업데이트\n",
    "        sess.run(training_op, feed_dict={X:scaled_boston_housing_plus_bias, y:boston_label})\n",
    "    \n",
    "    best_weight = W.eval()\n",
    "\n",
    "best_weight"
   ]
  },
  {
   "cell_type": "markdown",
   "metadata": {},
   "source": [
    "# 텐서보드 사용하기"
   ]
  },
  {
   "cell_type": "code",
   "execution_count": 99,
   "metadata": {},
   "outputs": [],
   "source": [
    "from datetime import datetime"
   ]
  },
  {
   "cell_type": "code",
   "execution_count": 100,
   "metadata": {},
   "outputs": [],
   "source": [
    "now = datetime.now().strftime(\"%Y%m%d%H%M%S\")\n",
    "root_logdir = './tf_logs'\n",
    "logdir = \"{}/{}\".format(root_logdir, now)"
   ]
  },
  {
   "cell_type": "code",
   "execution_count": 101,
   "metadata": {},
   "outputs": [],
   "source": [
    "mse_summary = tf.summary.scalar('MSE', mse)   # scalar에 대한 summary 기록 ==> 이것도 tensor\n",
    "file_writer = tf.summary.FileWriter(logdir, tf.get_default_graph()) # 현재 그래프에 대한 내용. (filewriter를 통해 기록할 수 있음)"
   ]
  },
  {
   "cell_type": "markdown",
   "metadata": {},
   "source": [
    "#### 보스턴 학습 데이터 입니다."
   ]
  },
  {
   "cell_type": "code",
   "execution_count": 102,
   "metadata": {},
   "outputs": [
    {
     "data": {
      "text/plain": [
       "array([[22.53276   ],\n",
       "       [-0.8642865 ],\n",
       "       [ 0.9669193 ],\n",
       "       [-0.12862054],\n",
       "       [ 0.7203732 ],\n",
       "       [-1.9374678 ],\n",
       "       [ 2.742877  ],\n",
       "       [-0.02423596],\n",
       "       [-3.0457675 ],\n",
       "       [ 1.9522198 ],\n",
       "       [-1.2974844 ],\n",
       "       [-2.0257564 ],\n",
       "       [ 0.84894943],\n",
       "       [-3.7163231 ]], dtype=float32)"
      ]
     },
     "execution_count": 102,
     "metadata": {},
     "output_type": "execute_result"
    }
   ],
   "source": [
    "init = tf.global_variables_initializer()\n",
    "\n",
    "with tf.Session() as sess:\n",
    "    sess.run(init)\n",
    "\n",
    "    for epoch in range(n_epochs):\n",
    "        if epoch % 100 == 0:\n",
    "            # feed_dict 추가\n",
    "            # summary 만들기\n",
    "            summary_str = mse_summary.eval(feed_dict={X: scaled_boston_housing_plus_bias, y: boston_label})\n",
    "            step = epoch\n",
    "            # summary 추가.\n",
    "            file_writer.add_summary(summary_str, step)\n",
    "        \n",
    "        # weight 업데이트\n",
    "        sess.run(training_op, feed_dict={X:scaled_boston_housing_plus_bias, y:boston_label})\n",
    "    \n",
    "    best_weight = W.eval()\n",
    "\n",
    "best_weight\n",
    "\n"
   ]
  },
  {
   "cell_type": "code",
   "execution_count": 103,
   "metadata": {},
   "outputs": [],
   "source": [
    "file_writer.close()"
   ]
  },
  {
   "cell_type": "code",
   "execution_count": 104,
   "metadata": {},
   "outputs": [
    {
     "name": "stdout",
     "output_type": "stream",
     "text": [
      "./tf_logs/20190717032424:\r\n",
      "events.out.tfevents.1563301464.Genusui-MacBook-Pro-2.local\r\n",
      "\r\n",
      "./tf_logs/20190717130828:\r\n",
      "events.out.tfevents.1563336508.Genusui-MacBook-Pro-2.local\r\n",
      "\r\n",
      "./tf_logs/20190717131712:\r\n",
      "events.out.tfevents.1563337037.Genusui-MacBook-Pro-2.local\r\n",
      "\r\n",
      "./tf_logs/20190717133130:\r\n",
      "events.out.tfevents.1563337890.Genusui-MacBook-Pro-2.local\r\n",
      "\r\n",
      "./tf_logs/boston:\r\n",
      "\u001b[1m\u001b[36m20190717132307\u001b[m\u001b[m\r\n",
      "\r\n",
      "./tf_logs/boston-20190717132200:\r\n",
      "events.out.tfevents.1563337327.Genusui-MacBook-Pro-2.local\r\n"
     ]
    }
   ],
   "source": [
    "# 파일 추가\n",
    "!ls {root_logdir}/*\n",
    "# !dir {root_logdir}/*"
   ]
  },
  {
   "cell_type": "code",
   "execution_count": 105,
   "metadata": {},
   "outputs": [
    {
     "name": "stdout",
     "output_type": "stream",
     "text": [
      "TensorFlow installation not found - running with reduced feature set.\n",
      "TensorBoard 1.14.0 at http://Genusui-MacBook-Pro-2.local:6006/ (Press CTRL+C to quit)\n",
      "^C\n"
     ]
    }
   ],
   "source": [
    "import sys\n",
    "!tensorboard --logdir {root_logdir}"
   ]
  },
  {
   "cell_type": "code",
   "execution_count": null,
   "metadata": {},
   "outputs": [],
   "source": []
  },
  {
   "cell_type": "markdown",
   "metadata": {},
   "source": [
    "# 연습문제 4. diabetes 데이터"
   ]
  },
  {
   "cell_type": "markdown",
   "metadata": {},
   "source": [
    "442명의 당뇨병 환자를 대상으로한 검사 결과를 나타내는 데이터이다.\n",
    "\n",
    "타겟 데이터\n",
    "\n",
    "1년 뒤 측정한 당뇨병의 진행률\n",
    "특징 데이터 (이 데이터셋의 특징 데이터는 모두 정규화된 값이다.)\n",
    "\n",
    "Age\n",
    "Sex\n",
    "Body mass index\n",
    "Average blood pressure\n",
    "S1\n",
    "S2\n",
    "S3\n",
    "S4\n",
    "S5\n",
    "S6"
   ]
  },
  {
   "cell_type": "code",
   "execution_count": null,
   "metadata": {},
   "outputs": [],
   "source": []
  },
  {
   "cell_type": "markdown",
   "metadata": {},
   "source": [
    "# 1. 데이터 로드 "
   ]
  },
  {
   "cell_type": "code",
   "execution_count": 215,
   "metadata": {},
   "outputs": [],
   "source": [
    "reset_all()"
   ]
  },
  {
   "cell_type": "code",
   "execution_count": 216,
   "metadata": {},
   "outputs": [
    {
     "data": {
      "text/html": [
       "<div>\n",
       "<style scoped>\n",
       "    .dataframe tbody tr th:only-of-type {\n",
       "        vertical-align: middle;\n",
       "    }\n",
       "\n",
       "    .dataframe tbody tr th {\n",
       "        vertical-align: top;\n",
       "    }\n",
       "\n",
       "    .dataframe thead th {\n",
       "        text-align: right;\n",
       "    }\n",
       "</style>\n",
       "<table border=\"1\" class=\"dataframe\">\n",
       "  <thead>\n",
       "    <tr style=\"text-align: right;\">\n",
       "      <th></th>\n",
       "      <th>age</th>\n",
       "      <th>sex</th>\n",
       "      <th>bmi</th>\n",
       "      <th>bp</th>\n",
       "      <th>s1</th>\n",
       "      <th>s2</th>\n",
       "      <th>s3</th>\n",
       "      <th>s4</th>\n",
       "      <th>s5</th>\n",
       "      <th>s6</th>\n",
       "    </tr>\n",
       "  </thead>\n",
       "  <tbody>\n",
       "    <tr>\n",
       "      <th>0</th>\n",
       "      <td>0.038076</td>\n",
       "      <td>0.050680</td>\n",
       "      <td>0.061696</td>\n",
       "      <td>0.021872</td>\n",
       "      <td>-0.044223</td>\n",
       "      <td>-0.034821</td>\n",
       "      <td>-0.043401</td>\n",
       "      <td>-0.002592</td>\n",
       "      <td>0.019908</td>\n",
       "      <td>-0.017646</td>\n",
       "    </tr>\n",
       "    <tr>\n",
       "      <th>1</th>\n",
       "      <td>-0.001882</td>\n",
       "      <td>-0.044642</td>\n",
       "      <td>-0.051474</td>\n",
       "      <td>-0.026328</td>\n",
       "      <td>-0.008449</td>\n",
       "      <td>-0.019163</td>\n",
       "      <td>0.074412</td>\n",
       "      <td>-0.039493</td>\n",
       "      <td>-0.068330</td>\n",
       "      <td>-0.092204</td>\n",
       "    </tr>\n",
       "    <tr>\n",
       "      <th>2</th>\n",
       "      <td>0.085299</td>\n",
       "      <td>0.050680</td>\n",
       "      <td>0.044451</td>\n",
       "      <td>-0.005671</td>\n",
       "      <td>-0.045599</td>\n",
       "      <td>-0.034194</td>\n",
       "      <td>-0.032356</td>\n",
       "      <td>-0.002592</td>\n",
       "      <td>0.002864</td>\n",
       "      <td>-0.025930</td>\n",
       "    </tr>\n",
       "    <tr>\n",
       "      <th>3</th>\n",
       "      <td>-0.089063</td>\n",
       "      <td>-0.044642</td>\n",
       "      <td>-0.011595</td>\n",
       "      <td>-0.036656</td>\n",
       "      <td>0.012191</td>\n",
       "      <td>0.024991</td>\n",
       "      <td>-0.036038</td>\n",
       "      <td>0.034309</td>\n",
       "      <td>0.022692</td>\n",
       "      <td>-0.009362</td>\n",
       "    </tr>\n",
       "    <tr>\n",
       "      <th>4</th>\n",
       "      <td>0.005383</td>\n",
       "      <td>-0.044642</td>\n",
       "      <td>-0.036385</td>\n",
       "      <td>0.021872</td>\n",
       "      <td>0.003935</td>\n",
       "      <td>0.015596</td>\n",
       "      <td>0.008142</td>\n",
       "      <td>-0.002592</td>\n",
       "      <td>-0.031991</td>\n",
       "      <td>-0.046641</td>\n",
       "    </tr>\n",
       "  </tbody>\n",
       "</table>\n",
       "</div>"
      ],
      "text/plain": [
       "        age       sex       bmi        bp        s1        s2        s3  \\\n",
       "0  0.038076  0.050680  0.061696  0.021872 -0.044223 -0.034821 -0.043401   \n",
       "1 -0.001882 -0.044642 -0.051474 -0.026328 -0.008449 -0.019163  0.074412   \n",
       "2  0.085299  0.050680  0.044451 -0.005671 -0.045599 -0.034194 -0.032356   \n",
       "3 -0.089063 -0.044642 -0.011595 -0.036656  0.012191  0.024991 -0.036038   \n",
       "4  0.005383 -0.044642 -0.036385  0.021872  0.003935  0.015596  0.008142   \n",
       "\n",
       "         s4        s5        s6  \n",
       "0 -0.002592  0.019908 -0.017646  \n",
       "1 -0.039493 -0.068330 -0.092204  \n",
       "2 -0.002592  0.002864 -0.025930  \n",
       "3  0.034309  0.022692 -0.009362  \n",
       "4 -0.002592 -0.031991 -0.046641  "
      ]
     },
     "execution_count": 216,
     "metadata": {},
     "output_type": "execute_result"
    }
   ],
   "source": [
    "from sklearn.datasets import load_diabetes\n",
    "from sklearn.model_selection import train_test_split\n",
    "import pandas as pd\n",
    "\n",
    "diabetes = load_diabetes()\n",
    "diabetes_df = pd.DataFrame(diabetes.data, columns=diabetes.feature_names)\n",
    "diabetes_df.head()"
   ]
  },
  {
   "cell_type": "code",
   "execution_count": 217,
   "metadata": {},
   "outputs": [
    {
     "name": "stdout",
     "output_type": "stream",
     "text": [
      "<class 'pandas.core.frame.DataFrame'>\n",
      "RangeIndex: 442 entries, 0 to 441\n",
      "Data columns (total 10 columns):\n",
      "age    442 non-null float64\n",
      "sex    442 non-null float64\n",
      "bmi    442 non-null float64\n",
      "bp     442 non-null float64\n",
      "s1     442 non-null float64\n",
      "s2     442 non-null float64\n",
      "s3     442 non-null float64\n",
      "s4     442 non-null float64\n",
      "s5     442 non-null float64\n",
      "s6     442 non-null float64\n",
      "dtypes: float64(10)\n",
      "memory usage: 34.6 KB\n"
     ]
    }
   ],
   "source": [
    "diabetes_df.info()"
   ]
  },
  {
   "cell_type": "markdown",
   "metadata": {},
   "source": [
    "# 시작!"
   ]
  },
  {
   "cell_type": "code",
   "execution_count": null,
   "metadata": {},
   "outputs": [],
   "source": []
  },
  {
   "cell_type": "code",
   "execution_count": null,
   "metadata": {},
   "outputs": [],
   "source": []
  },
  {
   "cell_type": "code",
   "execution_count": null,
   "metadata": {},
   "outputs": [],
   "source": []
  },
  {
   "cell_type": "code",
   "execution_count": null,
   "metadata": {},
   "outputs": [],
   "source": []
  },
  {
   "cell_type": "code",
   "execution_count": null,
   "metadata": {},
   "outputs": [],
   "source": []
  },
  {
   "cell_type": "markdown",
   "metadata": {},
   "source": [
    "# 모범답안"
   ]
  },
  {
   "cell_type": "code",
   "execution_count": 252,
   "metadata": {},
   "outputs": [
    {
     "data": {
      "text/html": [
       "<div>\n",
       "<style scoped>\n",
       "    .dataframe tbody tr th:only-of-type {\n",
       "        vertical-align: middle;\n",
       "    }\n",
       "\n",
       "    .dataframe tbody tr th {\n",
       "        vertical-align: top;\n",
       "    }\n",
       "\n",
       "    .dataframe thead th {\n",
       "        text-align: right;\n",
       "    }\n",
       "</style>\n",
       "<table border=\"1\" class=\"dataframe\">\n",
       "  <thead>\n",
       "    <tr style=\"text-align: right;\">\n",
       "      <th></th>\n",
       "      <th>age</th>\n",
       "      <th>sex</th>\n",
       "      <th>bmi</th>\n",
       "      <th>bp</th>\n",
       "      <th>s1</th>\n",
       "      <th>s2</th>\n",
       "      <th>s3</th>\n",
       "      <th>s4</th>\n",
       "      <th>s5</th>\n",
       "      <th>s6</th>\n",
       "    </tr>\n",
       "  </thead>\n",
       "  <tbody>\n",
       "    <tr>\n",
       "      <th>count</th>\n",
       "      <td>4.420000e+02</td>\n",
       "      <td>4.420000e+02</td>\n",
       "      <td>4.420000e+02</td>\n",
       "      <td>4.420000e+02</td>\n",
       "      <td>4.420000e+02</td>\n",
       "      <td>4.420000e+02</td>\n",
       "      <td>4.420000e+02</td>\n",
       "      <td>4.420000e+02</td>\n",
       "      <td>4.420000e+02</td>\n",
       "      <td>4.420000e+02</td>\n",
       "    </tr>\n",
       "    <tr>\n",
       "      <th>mean</th>\n",
       "      <td>-3.639623e-16</td>\n",
       "      <td>1.309912e-16</td>\n",
       "      <td>-8.013951e-16</td>\n",
       "      <td>1.289818e-16</td>\n",
       "      <td>-9.042540e-17</td>\n",
       "      <td>1.301121e-16</td>\n",
       "      <td>-4.563971e-16</td>\n",
       "      <td>3.863174e-16</td>\n",
       "      <td>-3.848103e-16</td>\n",
       "      <td>-3.398488e-16</td>\n",
       "    </tr>\n",
       "    <tr>\n",
       "      <th>std</th>\n",
       "      <td>4.761905e-02</td>\n",
       "      <td>4.761905e-02</td>\n",
       "      <td>4.761905e-02</td>\n",
       "      <td>4.761905e-02</td>\n",
       "      <td>4.761905e-02</td>\n",
       "      <td>4.761905e-02</td>\n",
       "      <td>4.761905e-02</td>\n",
       "      <td>4.761905e-02</td>\n",
       "      <td>4.761905e-02</td>\n",
       "      <td>4.761905e-02</td>\n",
       "    </tr>\n",
       "    <tr>\n",
       "      <th>min</th>\n",
       "      <td>-1.072256e-01</td>\n",
       "      <td>-4.464164e-02</td>\n",
       "      <td>-9.027530e-02</td>\n",
       "      <td>-1.123996e-01</td>\n",
       "      <td>-1.267807e-01</td>\n",
       "      <td>-1.156131e-01</td>\n",
       "      <td>-1.023071e-01</td>\n",
       "      <td>-7.639450e-02</td>\n",
       "      <td>-1.260974e-01</td>\n",
       "      <td>-1.377672e-01</td>\n",
       "    </tr>\n",
       "    <tr>\n",
       "      <th>25%</th>\n",
       "      <td>-3.729927e-02</td>\n",
       "      <td>-4.464164e-02</td>\n",
       "      <td>-3.422907e-02</td>\n",
       "      <td>-3.665645e-02</td>\n",
       "      <td>-3.424784e-02</td>\n",
       "      <td>-3.035840e-02</td>\n",
       "      <td>-3.511716e-02</td>\n",
       "      <td>-3.949338e-02</td>\n",
       "      <td>-3.324879e-02</td>\n",
       "      <td>-3.317903e-02</td>\n",
       "    </tr>\n",
       "    <tr>\n",
       "      <th>50%</th>\n",
       "      <td>5.383060e-03</td>\n",
       "      <td>-4.464164e-02</td>\n",
       "      <td>-7.283766e-03</td>\n",
       "      <td>-5.670611e-03</td>\n",
       "      <td>-4.320866e-03</td>\n",
       "      <td>-3.819065e-03</td>\n",
       "      <td>-6.584468e-03</td>\n",
       "      <td>-2.592262e-03</td>\n",
       "      <td>-1.947634e-03</td>\n",
       "      <td>-1.077698e-03</td>\n",
       "    </tr>\n",
       "    <tr>\n",
       "      <th>75%</th>\n",
       "      <td>3.807591e-02</td>\n",
       "      <td>5.068012e-02</td>\n",
       "      <td>3.124802e-02</td>\n",
       "      <td>3.564384e-02</td>\n",
       "      <td>2.835801e-02</td>\n",
       "      <td>2.984439e-02</td>\n",
       "      <td>2.931150e-02</td>\n",
       "      <td>3.430886e-02</td>\n",
       "      <td>3.243323e-02</td>\n",
       "      <td>2.791705e-02</td>\n",
       "    </tr>\n",
       "    <tr>\n",
       "      <th>max</th>\n",
       "      <td>1.107267e-01</td>\n",
       "      <td>5.068012e-02</td>\n",
       "      <td>1.705552e-01</td>\n",
       "      <td>1.320442e-01</td>\n",
       "      <td>1.539137e-01</td>\n",
       "      <td>1.987880e-01</td>\n",
       "      <td>1.811791e-01</td>\n",
       "      <td>1.852344e-01</td>\n",
       "      <td>1.335990e-01</td>\n",
       "      <td>1.356118e-01</td>\n",
       "    </tr>\n",
       "  </tbody>\n",
       "</table>\n",
       "</div>"
      ],
      "text/plain": [
       "                age           sex           bmi            bp            s1  \\\n",
       "count  4.420000e+02  4.420000e+02  4.420000e+02  4.420000e+02  4.420000e+02   \n",
       "mean  -3.639623e-16  1.309912e-16 -8.013951e-16  1.289818e-16 -9.042540e-17   \n",
       "std    4.761905e-02  4.761905e-02  4.761905e-02  4.761905e-02  4.761905e-02   \n",
       "min   -1.072256e-01 -4.464164e-02 -9.027530e-02 -1.123996e-01 -1.267807e-01   \n",
       "25%   -3.729927e-02 -4.464164e-02 -3.422907e-02 -3.665645e-02 -3.424784e-02   \n",
       "50%    5.383060e-03 -4.464164e-02 -7.283766e-03 -5.670611e-03 -4.320866e-03   \n",
       "75%    3.807591e-02  5.068012e-02  3.124802e-02  3.564384e-02  2.835801e-02   \n",
       "max    1.107267e-01  5.068012e-02  1.705552e-01  1.320442e-01  1.539137e-01   \n",
       "\n",
       "                 s2            s3            s4            s5            s6  \n",
       "count  4.420000e+02  4.420000e+02  4.420000e+02  4.420000e+02  4.420000e+02  \n",
       "mean   1.301121e-16 -4.563971e-16  3.863174e-16 -3.848103e-16 -3.398488e-16  \n",
       "std    4.761905e-02  4.761905e-02  4.761905e-02  4.761905e-02  4.761905e-02  \n",
       "min   -1.156131e-01 -1.023071e-01 -7.639450e-02 -1.260974e-01 -1.377672e-01  \n",
       "25%   -3.035840e-02 -3.511716e-02 -3.949338e-02 -3.324879e-02 -3.317903e-02  \n",
       "50%   -3.819065e-03 -6.584468e-03 -2.592262e-03 -1.947634e-03 -1.077698e-03  \n",
       "75%    2.984439e-02  2.931150e-02  3.430886e-02  3.243323e-02  2.791705e-02  \n",
       "max    1.987880e-01  1.811791e-01  1.852344e-01  1.335990e-01  1.356118e-01  "
      ]
     },
     "execution_count": 252,
     "metadata": {},
     "output_type": "execute_result"
    }
   ],
   "source": [
    "# 충분히 작네요. \n",
    "# 스케일링이 크게 필요해보이진 않을 거 같은데..\n",
    "diabetes_df.describe()\n",
    "\n",
    "## 이유는..? 이미 정규화가 되어있어서 그렇습니다."
   ]
  },
  {
   "cell_type": "code",
   "execution_count": 253,
   "metadata": {},
   "outputs": [
    {
     "data": {
      "text/plain": [
       "((353, 10), (353,), (89, 10), (89,))"
      ]
     },
     "execution_count": 253,
     "metadata": {},
     "output_type": "execute_result"
    }
   ],
   "source": [
    "# 이번엔 test와 trainset을 나눠서 합니다.\n",
    "X_train, X_test, y_train, y_test = train_test_split(diabetes_data, diabetes.target, test_size=0.2)\n",
    "X_train.shape, y_train.shape, X_test.shape, y_test.shape"
   ]
  },
  {
   "cell_type": "markdown",
   "metadata": {},
   "source": [
    "### bias 추가"
   ]
  },
  {
   "cell_type": "code",
   "execution_count": 254,
   "metadata": {},
   "outputs": [],
   "source": [
    "def plus_bias(X):\n",
    "    # 왜 이번엔 함수로?\n",
    "    m = X.shape[0]\n",
    "    return np.c_[np.ones((m, 1)), X]"
   ]
  },
  {
   "cell_type": "code",
   "execution_count": 255,
   "metadata": {},
   "outputs": [],
   "source": [
    "X_train_plus_bias = plus_bias(X_train)\n",
    "X_test_plus_bias = plus_bias(X_test)\n",
    "\n",
    "y_train_reshaped = y_train.reshape(-1, 1)\n",
    "y_test_reshaped = y_test.reshape(-1, 1)"
   ]
  },
  {
   "cell_type": "markdown",
   "metadata": {},
   "source": [
    "## 3. Graph 정의"
   ]
  },
  {
   "cell_type": "code",
   "execution_count": 256,
   "metadata": {},
   "outputs": [],
   "source": [
    "n_epochs = 1000 # epoch --> 학습횟수(반복횟수)\n",
    "lr = 0.03 # learning rate"
   ]
  },
  {
   "cell_type": "code",
   "execution_count": 257,
   "metadata": {},
   "outputs": [],
   "source": [
    "m, n= X_train_plus_bias.shape"
   ]
  },
  {
   "cell_type": "markdown",
   "metadata": {},
   "source": [
    "#### 1. X와 y정의"
   ]
  },
  {
   "cell_type": "code",
   "execution_count": 258,
   "metadata": {},
   "outputs": [],
   "source": [
    "X = tf.placeholder(dtype=tf.float32, shape=(None, n), name=\"X\")\n",
    "y = tf.placeholder(dtype=tf.float32, shape=(None, y_train_reshaped.shape[1]), name='y')"
   ]
  },
  {
   "cell_type": "markdown",
   "metadata": {},
   "source": [
    "#### Hypothesis&Cost 정의"
   ]
  },
  {
   "cell_type": "code",
   "execution_count": 259,
   "metadata": {
    "scrolled": true
   },
   "outputs": [
    {
     "data": {
      "text/plain": [
       "(353, 11)"
      ]
     },
     "execution_count": 259,
     "metadata": {},
     "output_type": "execute_result"
    }
   ],
   "source": [
    "m,n"
   ]
  },
  {
   "cell_type": "code",
   "execution_count": 260,
   "metadata": {},
   "outputs": [],
   "source": [
    "# M: 데이터의 개수, N: Feature_bias 의 개수\n",
    "W = tf.Variable(tf.random_uniform([n, 1], -1.0, 1.0), name='Weight')  # N X 1 행렬\n",
    "y_pred = tf.matmul(X, W, name='predictions') # hypothesis  --> M X 1행렬  = M X N+1 * N+1 X 1 \n",
    "\n",
    "error = y_pred - y\n",
    "\n",
    "# Mean Sqaure Error\n",
    "mse = tf.reduce_mean(tf.square(error), name='mse') # Cost Function"
   ]
  },
  {
   "cell_type": "markdown",
   "metadata": {},
   "source": [
    "#### 옵티마이저"
   ]
  },
  {
   "cell_type": "code",
   "execution_count": 261,
   "metadata": {},
   "outputs": [],
   "source": [
    "optimizer = tf.train.GradientDescentOptimizer(learning_rate=lr)\n",
    "\n",
    "training_op = optimizer.minimize(mse)  # mse를 최소화하는게 목적!"
   ]
  },
  {
   "cell_type": "markdown",
   "metadata": {},
   "source": [
    "# 수행"
   ]
  },
  {
   "cell_type": "code",
   "execution_count": 262,
   "metadata": {},
   "outputs": [
    {
     "name": "stdout",
     "output_type": "stream",
     "text": [
      "Epoch 0 MSE = 29321.143\n",
      "Epoch 100 MSE = 2894.44\n",
      "Epoch 200 MSE = 2893.5872\n",
      "Epoch 300 MSE = 2893.22\n",
      "Epoch 400 MSE = 2892.886\n",
      "Epoch 500 MSE = 2892.5808\n",
      "Epoch 600 MSE = 2892.3013\n",
      "Epoch 700 MSE = 2892.0457\n",
      "Epoch 800 MSE = 2891.8113\n",
      "Epoch 900 MSE = 2891.597\n"
     ]
    },
    {
     "data": {
      "text/plain": [
       "(array([[153.75525  ],\n",
       "        [ -2.3980136],\n",
       "        [-12.808188 ],\n",
       "        [ 25.502111 ],\n",
       "        [ 15.879994 ],\n",
       "        [ -7.5122223],\n",
       "        [ -1.350328 ],\n",
       "        [ -9.387492 ],\n",
       "        [  5.971335 ],\n",
       "        [ 25.486845 ],\n",
       "        [  2.4361887]], dtype=float32), array([[ 99.902885],\n",
       "        [170.96802 ],\n",
       "        [271.98535 ],\n",
       "        [170.00981 ],\n",
       "        [158.75075 ],\n",
       "        [233.82144 ],\n",
       "        [192.32132 ],\n",
       "        [124.8851  ],\n",
       "        [147.21136 ],\n",
       "        [285.08505 ],\n",
       "        [ 70.38226 ],\n",
       "        [162.7823  ],\n",
       "        [174.14699 ],\n",
       "        [196.8291  ],\n",
       "        [233.61275 ],\n",
       "        [198.7015  ],\n",
       "        [218.43336 ],\n",
       "        [ 92.48653 ],\n",
       "        [142.86653 ],\n",
       "        [120.27972 ],\n",
       "        [184.62056 ],\n",
       "        [171.81502 ],\n",
       "        [103.9253  ],\n",
       "        [135.26508 ],\n",
       "        [170.31659 ],\n",
       "        [ 83.5948  ],\n",
       "        [187.56886 ],\n",
       "        [200.046   ],\n",
       "        [107.84084 ],\n",
       "        [137.4637  ],\n",
       "        [149.15414 ],\n",
       "        [268.93793 ],\n",
       "        [160.39925 ],\n",
       "        [233.07043 ],\n",
       "        [121.29222 ],\n",
       "        [232.90688 ],\n",
       "        [161.68813 ],\n",
       "        [ 69.051315],\n",
       "        [155.29875 ],\n",
       "        [221.46155 ],\n",
       "        [100.66344 ],\n",
       "        [170.80212 ],\n",
       "        [305.47903 ],\n",
       "        [163.42249 ],\n",
       "        [156.21608 ],\n",
       "        [303.03372 ],\n",
       "        [146.4562  ],\n",
       "        [169.44379 ],\n",
       "        [114.92478 ],\n",
       "        [157.70265 ],\n",
       "        [222.38185 ],\n",
       "        [120.60683 ],\n",
       "        [ 96.24858 ],\n",
       "        [ 76.28736 ],\n",
       "        [ 78.18552 ],\n",
       "        [172.80287 ],\n",
       "        [210.21503 ],\n",
       "        [203.12398 ],\n",
       "        [202.50221 ],\n",
       "        [ 59.956356],\n",
       "        [149.24677 ],\n",
       "        [205.00531 ],\n",
       "        [179.85638 ],\n",
       "        [191.42107 ],\n",
       "        [141.26387 ],\n",
       "        [204.54634 ],\n",
       "        [152.7059  ],\n",
       "        [125.596245],\n",
       "        [259.7508  ],\n",
       "        [155.92308 ],\n",
       "        [119.40601 ],\n",
       "        [105.29942 ],\n",
       "        [208.26105 ],\n",
       "        [170.72551 ],\n",
       "        [ 68.06573 ],\n",
       "        [ 94.298065],\n",
       "        [103.90395 ],\n",
       "        [147.77628 ],\n",
       "        [112.23724 ],\n",
       "        [211.6999  ],\n",
       "        [157.62495 ],\n",
       "        [223.72389 ],\n",
       "        [ 52.573055],\n",
       "        [ 87.41876 ],\n",
       "        [191.71518 ],\n",
       "        [179.71217 ],\n",
       "        [ 99.68773 ],\n",
       "        [156.12016 ],\n",
       "        [167.06883 ],\n",
       "        [203.48943 ],\n",
       "        [211.53104 ],\n",
       "        [259.35663 ],\n",
       "        [139.61935 ],\n",
       "        [120.159584],\n",
       "        [ 81.04486 ],\n",
       "        [180.81752 ],\n",
       "        [ 74.806244],\n",
       "        [153.4338  ],\n",
       "        [253.41252 ],\n",
       "        [196.13129 ],\n",
       "        [176.47382 ],\n",
       "        [174.32394 ],\n",
       "        [120.23077 ],\n",
       "        [134.98447 ],\n",
       "        [153.66873 ],\n",
       "        [194.79662 ],\n",
       "        [121.361145],\n",
       "        [205.68394 ],\n",
       "        [ 89.246216],\n",
       "        [236.01518 ],\n",
       "        [172.45851 ],\n",
       "        [242.13545 ],\n",
       "        [128.59335 ],\n",
       "        [187.63736 ],\n",
       "        [115.84898 ],\n",
       "        [ 87.90912 ],\n",
       "        [ 99.70135 ],\n",
       "        [236.09303 ],\n",
       "        [ 46.351227],\n",
       "        [176.46092 ],\n",
       "        [156.73799 ],\n",
       "        [187.99629 ],\n",
       "        [ 92.43975 ],\n",
       "        [109.63413 ],\n",
       "        [252.37206 ],\n",
       "        [145.72018 ],\n",
       "        [140.97589 ],\n",
       "        [202.22145 ],\n",
       "        [207.36703 ],\n",
       "        [116.95232 ],\n",
       "        [140.37282 ],\n",
       "        [219.41655 ],\n",
       "        [103.8541  ],\n",
       "        [261.24625 ],\n",
       "        [ 84.66005 ],\n",
       "        [226.59546 ],\n",
       "        [ 80.53069 ],\n",
       "        [181.45805 ],\n",
       "        [ 56.24085 ],\n",
       "        [228.18501 ],\n",
       "        [147.63489 ],\n",
       "        [147.40776 ],\n",
       "        [177.28781 ],\n",
       "        [267.29837 ],\n",
       "        [142.11623 ],\n",
       "        [163.29243 ],\n",
       "        [ 65.006134],\n",
       "        [120.963   ],\n",
       "        [181.78368 ],\n",
       "        [186.49507 ],\n",
       "        [157.11415 ],\n",
       "        [163.19292 ],\n",
       "        [ 76.78462 ],\n",
       "        [222.82904 ],\n",
       "        [ 80.02332 ],\n",
       "        [273.15662 ],\n",
       "        [227.89246 ],\n",
       "        [191.41504 ],\n",
       "        [141.00858 ],\n",
       "        [ 99.56307 ],\n",
       "        [169.92567 ],\n",
       "        [128.21634 ],\n",
       "        [124.55273 ],\n",
       "        [127.71206 ],\n",
       "        [114.73696 ],\n",
       "        [146.83127 ],\n",
       "        [198.10663 ],\n",
       "        [177.6305  ],\n",
       "        [220.09901 ],\n",
       "        [188.86732 ],\n",
       "        [104.61097 ],\n",
       "        [172.24315 ],\n",
       "        [296.43152 ],\n",
       "        [240.22598 ],\n",
       "        [ 76.29245 ],\n",
       "        [163.80077 ],\n",
       "        [123.56929 ],\n",
       "        [127.42774 ],\n",
       "        [152.95036 ],\n",
       "        [143.44656 ],\n",
       "        [169.26096 ],\n",
       "        [152.49686 ],\n",
       "        [169.89955 ],\n",
       "        [ 73.98574 ],\n",
       "        [111.57126 ],\n",
       "        [105.002075],\n",
       "        [ 96.56455 ],\n",
       "        [ 69.554146],\n",
       "        [ 88.458534],\n",
       "        [100.55198 ],\n",
       "        [ 97.22318 ],\n",
       "        [107.243454],\n",
       "        [211.91074 ],\n",
       "        [ 93.7498  ],\n",
       "        [154.55493 ],\n",
       "        [219.56215 ],\n",
       "        [179.5796  ],\n",
       "        [224.00531 ],\n",
       "        [ 79.945404],\n",
       "        [103.44954 ],\n",
       "        [ 98.85292 ],\n",
       "        [101.17069 ],\n",
       "        [177.64217 ],\n",
       "        [ 63.621666],\n",
       "        [153.19086 ],\n",
       "        [ 96.07103 ],\n",
       "        [109.03518 ],\n",
       "        [200.69432 ],\n",
       "        [120.245415],\n",
       "        [134.74806 ],\n",
       "        [ 98.4327  ],\n",
       "        [ 80.66671 ],\n",
       "        [ 76.78123 ],\n",
       "        [181.32889 ],\n",
       "        [122.69356 ],\n",
       "        [ 84.30219 ],\n",
       "        [157.94919 ],\n",
       "        [ 89.62345 ],\n",
       "        [210.83742 ],\n",
       "        [ 74.28505 ],\n",
       "        [124.67641 ],\n",
       "        [158.58289 ],\n",
       "        [175.93123 ],\n",
       "        [117.27498 ],\n",
       "        [133.60902 ],\n",
       "        [200.1723  ],\n",
       "        [206.29765 ],\n",
       "        [168.52452 ],\n",
       "        [206.0767  ],\n",
       "        [191.88266 ],\n",
       "        [172.27597 ],\n",
       "        [188.95378 ],\n",
       "        [ 66.77531 ],\n",
       "        [159.73972 ],\n",
       "        [154.90306 ],\n",
       "        [193.06264 ],\n",
       "        [160.59283 ],\n",
       "        [215.072   ],\n",
       "        [184.45036 ],\n",
       "        [ 54.24787 ],\n",
       "        [171.13797 ],\n",
       "        [233.4957  ],\n",
       "        [208.12964 ],\n",
       "        [233.79216 ],\n",
       "        [253.93584 ],\n",
       "        [169.7825  ],\n",
       "        [ 49.66743 ],\n",
       "        [180.26854 ],\n",
       "        [ 82.9925  ],\n",
       "        [162.68924 ],\n",
       "        [ 70.82665 ],\n",
       "        [113.129036],\n",
       "        [219.23195 ],\n",
       "        [144.40976 ],\n",
       "        [135.82677 ],\n",
       "        [211.82411 ],\n",
       "        [165.81084 ],\n",
       "        [129.96078 ],\n",
       "        [151.24037 ],\n",
       "        [105.730156],\n",
       "        [266.13196 ],\n",
       "        [123.63046 ],\n",
       "        [ 89.52847 ],\n",
       "        [179.75073 ],\n",
       "        [149.92113 ],\n",
       "        [ 55.238068],\n",
       "        [101.77152 ],\n",
       "        [217.82097 ],\n",
       "        [108.54072 ],\n",
       "        [ 81.40988 ],\n",
       "        [121.22943 ],\n",
       "        [ 99.97857 ],\n",
       "        [ 73.88219 ],\n",
       "        [153.67334 ],\n",
       "        [141.61067 ],\n",
       "        [ 99.71169 ],\n",
       "        [245.59477 ],\n",
       "        [ 49.162464],\n",
       "        [ 91.901405],\n",
       "        [122.61983 ],\n",
       "        [117.77115 ],\n",
       "        [147.00977 ],\n",
       "        [120.22071 ],\n",
       "        [137.19339 ],\n",
       "        [ 85.37001 ],\n",
       "        [147.18896 ],\n",
       "        [120.75344 ],\n",
       "        [170.15498 ],\n",
       "        [111.888725],\n",
       "        [128.7477  ],\n",
       "        [ 58.879597],\n",
       "        [175.49858 ],\n",
       "        [214.17609 ],\n",
       "        [ 77.119064],\n",
       "        [196.44554 ],\n",
       "        [247.68849 ],\n",
       "        [282.48093 ],\n",
       "        [140.69542 ],\n",
       "        [130.75812 ],\n",
       "        [240.01788 ],\n",
       "        [169.51186 ],\n",
       "        [ 87.15182 ],\n",
       "        [120.16513 ],\n",
       "        [ 35.52959 ],\n",
       "        [126.636986],\n",
       "        [172.18657 ],\n",
       "        [160.74728 ],\n",
       "        [128.77121 ],\n",
       "        [ 93.10249 ],\n",
       "        [207.22894 ],\n",
       "        [171.57352 ],\n",
       "        [153.77504 ],\n",
       "        [183.89426 ],\n",
       "        [ 71.52154 ],\n",
       "        [139.37619 ],\n",
       "        [147.66086 ],\n",
       "        [ 59.81468 ],\n",
       "        [104.0151  ],\n",
       "        [172.88747 ],\n",
       "        [160.2688  ],\n",
       "        [106.75202 ],\n",
       "        [181.6622  ],\n",
       "        [257.6189  ],\n",
       "        [131.29852 ],\n",
       "        [ 44.464355],\n",
       "        [ 73.47997 ],\n",
       "        [203.33319 ],\n",
       "        [ 83.66261 ],\n",
       "        [103.27119 ],\n",
       "        [102.46746 ],\n",
       "        [123.548195],\n",
       "        [145.37813 ],\n",
       "        [120.911224],\n",
       "        [221.1843  ],\n",
       "        [162.9379  ],\n",
       "        [259.4969  ],\n",
       "        [189.59787 ],\n",
       "        [150.60722 ],\n",
       "        [110.57497 ],\n",
       "        [ 92.9577  ],\n",
       "        [113.58193 ],\n",
       "        [191.10013 ],\n",
       "        [122.29968 ],\n",
       "        [267.58948 ],\n",
       "        [135.51422 ],\n",
       "        [148.91199 ],\n",
       "        [223.40968 ],\n",
       "        [259.85092 ],\n",
       "        [ 78.297424],\n",
       "        [187.97987 ],\n",
       "        [111.127846],\n",
       "        [231.98077 ],\n",
       "        [178.60786 ]], dtype=float32))"
      ]
     },
     "execution_count": 262,
     "metadata": {},
     "output_type": "execute_result"
    }
   ],
   "source": [
    "init = tf.global_variables_initializer()\n",
    "\n",
    "with tf.Session() as sess:\n",
    "    sess.run(init)\n",
    "\n",
    "    for epoch in range(n_epochs):\n",
    "        if epoch % 100 == 0:\n",
    "            # feed_dict 추가\n",
    "            print(\"Epoch\", epoch, \"MSE =\", \n",
    "                  mse.eval(feed_dict={\n",
    "                      X:X_train_plus_bias, \n",
    "                      y:y_train_reshaped})\n",
    "                 )\n",
    "        \n",
    "        # weight 업데이트\n",
    "        sess.run(training_op, feed_dict={X:X_train_plus_bias, y:y_train_reshaped})\n",
    "    \n",
    "    best_weight = W.eval()\n",
    "    train_y_pred = y_pred.eval(feed_dict={X:X_train_plus_bias})\n",
    "    \n",
    "\n",
    "best_weight, train_y_pred"
   ]
  },
  {
   "cell_type": "markdown",
   "metadata": {},
   "source": [
    "# training set 학습의 평가"
   ]
  },
  {
   "cell_type": "code",
   "execution_count": 263,
   "metadata": {},
   "outputs": [
    {
     "data": {
      "text/plain": [
       "0.5184355308446182"
      ]
     },
     "execution_count": 263,
     "metadata": {},
     "output_type": "execute_result"
    }
   ],
   "source": [
    "# https://scikit-learn.org/stable/modules/generated/sklearn.metrics.r2_score.html\n",
    "from sklearn.metrics import r2_score\n",
    "# r2_score(y_true, y_pred) # 사용법\n",
    "r2_score(y_train_reshaped, train_y_pred)"
   ]
  },
  {
   "cell_type": "markdown",
   "metadata": {},
   "source": [
    "# Test"
   ]
  },
  {
   "cell_type": "code",
   "execution_count": 264,
   "metadata": {},
   "outputs": [],
   "source": [
    "init = tf.global_variables_initializer()\n",
    "with tf.Session() as sess:\n",
    "    sess.run(init)\n",
    "    sess.run(tf.assign(W, best_weight))\n",
    "    \n",
    "    test_y_pred = y_pred.eval(feed_dict={X:X_test_plus_bias})\n",
    "    "
   ]
  },
  {
   "cell_type": "code",
   "execution_count": 265,
   "metadata": {},
   "outputs": [
    {
     "data": {
      "text/plain": [
       "(89, 1)"
      ]
     },
     "execution_count": 265,
     "metadata": {},
     "output_type": "execute_result"
    }
   ],
   "source": [
    "test_y_pred.shape"
   ]
  },
  {
   "cell_type": "code",
   "execution_count": 266,
   "metadata": {},
   "outputs": [
    {
     "data": {
      "text/plain": [
       "0.4896096023126868"
      ]
     },
     "execution_count": 266,
     "metadata": {},
     "output_type": "execute_result"
    }
   ],
   "source": [
    "r2_score(y_test_reshaped, test_y_pred)"
   ]
  },
  {
   "cell_type": "code",
   "execution_count": null,
   "metadata": {},
   "outputs": [],
   "source": []
  },
  {
   "cell_type": "code",
   "execution_count": null,
   "metadata": {},
   "outputs": [],
   "source": []
  },
  {
   "cell_type": "markdown",
   "metadata": {},
   "source": [
    "# 이름 범위 - 관련 노드를 묶기"
   ]
  },
  {
   "cell_type": "markdown",
   "metadata": {},
   "source": [
    "##### boston_data로"
   ]
  },
  {
   "cell_type": "code",
   "execution_count": 106,
   "metadata": {},
   "outputs": [],
   "source": [
    "reset_all()"
   ]
  },
  {
   "cell_type": "code",
   "execution_count": 107,
   "metadata": {},
   "outputs": [],
   "source": [
    "now = datetime.now().strftime(\"%Y%m%d%H%M%S\")\n",
    "root_logdir = \"tf_logs/boston\"\n",
    "logdir = \"{}/{}/\".format(root_logdir, now)\n",
    "\n",
    "n_epochs = 1000\n",
    "learning_rate = 0.01\n",
    "\n",
    "X = tf.placeholder(tf.float32, shape=(None, n + 1), name=\"X\")\n",
    "y = tf.placeholder(tf.float32, shape=(None, 1), name=\"y\")\n",
    "W = tf.Variable(tf.random_uniform([n + 1, 1], -1.0, 1.0, seed=42), name=\"Weight\")\n",
    "y_pred = tf.matmul(X, W, name=\"predictions\")"
   ]
  },
  {
   "cell_type": "markdown",
   "metadata": {},
   "source": [
    "#### Hypothesis&Cost 정의"
   ]
  },
  {
   "cell_type": "code",
   "execution_count": 108,
   "metadata": {
    "scrolled": true
   },
   "outputs": [
    {
     "data": {
      "text/plain": [
       "(506, 13)"
      ]
     },
     "execution_count": 108,
     "metadata": {},
     "output_type": "execute_result"
    }
   ],
   "source": [
    "m,n"
   ]
  },
  {
   "cell_type": "code",
   "execution_count": 109,
   "metadata": {},
   "outputs": [],
   "source": [
    "# M: 데이터의 개수, N: Feature의 개수\n",
    "# n(feature의 개수) +1 --> bias\n",
    "W = tf.Variable(tf.random_uniform([n+1, 1], -1.0, 1.0), name='Weight')  # N+1 X 1 행렬\n",
    "y_pred = tf.matmul(X, W, name='predictions') # hypothesis  --> M X 1행렬  = M X N+1 * N+1 X 1 "
   ]
  },
  {
   "cell_type": "markdown",
   "metadata": {},
   "source": [
    "# 이름 범위로 묶기! (중요)"
   ]
  },
  {
   "cell_type": "code",
   "execution_count": 110,
   "metadata": {},
   "outputs": [],
   "source": [
    "# 이름 범위로 묶기\n",
    "# ==> y값은 MX1 로 넣어줘야함 행렬연산 위해\n",
    "with tf.name_scope(\"loss\") as scope: \n",
    "    error = y_pred - y  # MX1행렬 (데이터의 개수 만큼 error가 나옴.) --> Data 1개당 에러 (오차)  \n",
    "    mse = tf.reduce_mean(tf.square(error), name=\"mse\")"
   ]
  },
  {
   "cell_type": "markdown",
   "metadata": {},
   "source": [
    "#### 옵티마이저"
   ]
  },
  {
   "cell_type": "code",
   "execution_count": 111,
   "metadata": {},
   "outputs": [
    {
     "name": "stdout",
     "output_type": "stream",
     "text": [
      "(506, 1)\n"
     ]
    },
    {
     "data": {
      "text/plain": [
       "(506, 1)"
      ]
     },
     "execution_count": 111,
     "metadata": {},
     "output_type": "execute_result"
    }
   ],
   "source": [
    "optimizer = tf.train.GradientDescentOptimizer(learning_rate=lr)\n",
    "# mse를 최소화하는게 목적!\n",
    "training_op = optimizer.minimize(mse) \n",
    "\n",
    "print(boston_label.shape)\n",
    "# 행렬간 연산을 위해선 2차원 행렬로 만들어줘야함.\n",
    "boston_label = boston_label.reshape(-1, 1)\n",
    "boston_label.shape"
   ]
  },
  {
   "cell_type": "markdown",
   "metadata": {},
   "source": [
    "## 4. 실행"
   ]
  },
  {
   "cell_type": "code",
   "execution_count": 112,
   "metadata": {
    "scrolled": true
   },
   "outputs": [
    {
     "name": "stdout",
     "output_type": "stream",
     "text": [
      "Epoch 0 MSE = 635.07733\n",
      "Epoch 100 MSE = 33.143425\n",
      "Epoch 200 MSE = 22.849066\n",
      "Epoch 300 MSE = 22.352732\n",
      "Epoch 400 MSE = 22.177645\n",
      "Epoch 500 MSE = 22.081043\n",
      "Epoch 600 MSE = 22.023434\n",
      "Epoch 700 MSE = 21.986954\n",
      "Epoch 800 MSE = 21.962587\n",
      "Epoch 900 MSE = 21.945585\n"
     ]
    },
    {
     "data": {
      "text/plain": [
       "array([[ 2.2532761e+01],\n",
       "       [-8.8221163e-01],\n",
       "       [ 9.9677521e-01],\n",
       "       [-4.0630255e-02],\n",
       "       [ 7.0836574e-01],\n",
       "       [-1.9678457e+00],\n",
       "       [ 2.7275236e+00],\n",
       "       [-1.4554740e-02],\n",
       "       [-3.0529330e+00],\n",
       "       [ 2.1692324e+00],\n",
       "       [-1.5392742e+00],\n",
       "       [-2.0368829e+00],\n",
       "       [ 8.5041231e-01],\n",
       "       [-3.7198966e+00]], dtype=float32)"
      ]
     },
     "execution_count": 112,
     "metadata": {},
     "output_type": "execute_result"
    }
   ],
   "source": [
    "init = tf.global_variables_initializer()\n",
    "\n",
    "mse_summary = tf.summary.scalar('MSE', mse)\n",
    "file_writer = tf.summary.FileWriter(logdir, tf.get_default_graph())\n",
    "\n",
    "with tf.Session() as sess:\n",
    "    sess.run(init)\n",
    "\n",
    "    for epoch in range(n_epochs):\n",
    "        if epoch % 100 == 0:\n",
    "            # feed_dict 추가\n",
    "            print(\"Epoch\", epoch, \"MSE =\", \n",
    "                  mse.eval(feed_dict={\n",
    "                      X:scaled_boston_housing_plus_bias, \n",
    "                      y:boston_label})\n",
    "                 )\n",
    "        \n",
    "        # weight 업데이트\n",
    "        sess.run(training_op, feed_dict={X:scaled_boston_housing_plus_bias, y:boston_label})\n",
    "    \n",
    "    best_weight = W.eval()\n",
    "\n",
    "best_weight"
   ]
  },
  {
   "cell_type": "code",
   "execution_count": 113,
   "metadata": {},
   "outputs": [
    {
     "name": "stdout",
     "output_type": "stream",
     "text": [
      "TensorFlow installation not found - running with reduced feature set.\n",
      "TensorBoard 1.14.0 at http://Genusui-MacBook-Pro-2.local:6006/ (Press CTRL+C to quit)\n",
      "^C\n"
     ]
    }
   ],
   "source": [
    "file_writer.close()\n",
    "import sys\n",
    "!tensorboard --logdir {root_logdir}"
   ]
  },
  {
   "cell_type": "code",
   "execution_count": null,
   "metadata": {},
   "outputs": [],
   "source": []
  },
  {
   "cell_type": "code",
   "execution_count": null,
   "metadata": {},
   "outputs": [],
   "source": []
  },
  {
   "cell_type": "markdown",
   "metadata": {},
   "source": [
    "# Logistic Regression 눈으로 확인하기"
   ]
  },
  {
   "cell_type": "code",
   "execution_count": 12,
   "metadata": {},
   "outputs": [
    {
     "data": {
      "image/png": "[encoded data removed]",
      "text/plain": [
       "<Figure size 432x288 with 1 Axes>"
      ]
     },
     "metadata": {
      "needs_background": "light"
     },
     "output_type": "display_data"
    },
    {
     "name": "stdout",
     "output_type": "stream",
     "text": [
      "W: -1.7555\n",
      "b: -0.3913\n",
      "[[0.20356686]\n",
      " [0.27407538]\n",
      " [0.35802713]\n",
      " [0.45169327]\n",
      " [0.54891163]\n",
      " [0.6425341 ]\n",
      " [0.72641033]\n",
      " [0.79682888]\n",
      " [0.85279551]\n",
      " [0.89536963]]\n"
     ]
    }
   ],
   "source": [
    "import tensorflow as tf\n",
    "import matplotlib.pyplot as plt\n",
    "import numpy as np\n",
    "\n",
    "X_train = np.linspace(-1, 1, 10)  # 예를 위한 X 데이터\n",
    "y_train = np.asmatrix([0,0,0,0,1,1,1,1,1,1]).T\n",
    "X_train = np.asmatrix(X_train).T\n",
    "\n",
    "\n",
    "n_dim = X_train.shape[1]\n",
    "\n",
    "lr = tf.constant(0.01,dtype=tf.float32)\n",
    "num_epochs = 3000\n",
    "\n",
    "X = tf.placeholder(tf.float32, [X_train.shape[0],n_dim])\n",
    "y = tf.placeholder(tf.float32, [X_train.shape[0],1])\n",
    "w = tf.Variable(np.ones([n_dim,1]),dtype=tf.float32)\n",
    "b = tf.Variable(0, dtype=tf.float32)\n",
    "init = tf.global_variables_initializer()\n",
    "\n",
    "yhat = (1./(1+tf.exp(tf.matmul(X,w) + b)))\n",
    "loss = tf.reduce_mean(tf.square(yhat - y))\n",
    "train_op = tf.train.GradientDescentOptimizer(lr).minimize(loss)\n",
    "\n",
    "\n",
    "#initialize session\n",
    "sess = tf.Session()\n",
    "sess.run(init)\n",
    "\n",
    "loss_history = []\n",
    "for epoch in range(num_epochs):\n",
    "    sess.run(train_op,feed_dict={X: X_train, y: y_train})\n",
    "    loss_history.append(sess.run(loss,feed_dict={X: X_train, y: y_train}))\n",
    "\n",
    "\n",
    "plt.plot(range(len(loss_history)),loss_history)\n",
    "plt.show()\n",
    "\n",
    "w = sess.run(w)\n",
    "b = sess.run(b)\n",
    "print(\"W: %.4f\" % w) \n",
    "print(\"b: %.4f\" % b) \n",
    "\n",
    "print (1./(1+np.exp(np.dot(X_train,w) + b)))\n"
   ]
  },
  {
   "cell_type": "code",
   "execution_count": null,
   "metadata": {},
   "outputs": [],
   "source": []
  },
  {
   "cell_type": "code",
   "execution_count": null,
   "metadata": {},
   "outputs": [],
   "source": []
  },
  {
   "cell_type": "code",
   "execution_count": null,
   "metadata": {},
   "outputs": [],
   "source": []
  },
  {
   "cell_type": "code",
   "execution_count": null,
   "metadata": {},
   "outputs": [],
   "source": []
  },
  {
   "cell_type": "code",
   "execution_count": null,
   "metadata": {},
   "outputs": [],
   "source": []
  },
  {
   "cell_type": "code",
   "execution_count": null,
   "metadata": {},
   "outputs": [],
   "source": []
  },
  {
   "cell_type": "code",
   "execution_count": null,
   "metadata": {},
   "outputs": [],
   "source": []
  },
  {
   "cell_type": "markdown",
   "metadata": {},
   "source": [
    "# 1장 끝 - 종료"
   ]
  },
  {
   "cell_type": "code",
   "execution_count": null,
   "metadata": {},
   "outputs": [],
   "source": []
  },
  {
   "cell_type": "code",
   "execution_count": null,
   "metadata": {},
   "outputs": [],
   "source": []
  },
  {
   "cell_type": "code",
   "execution_count": null,
   "metadata": {},
   "outputs": [],
   "source": []
  },
  {
   "cell_type": "code",
   "execution_count": null,
   "metadata": {},
   "outputs": [],
   "source": []
  },
  {
   "cell_type": "code",
   "execution_count": null,
   "metadata": {},
   "outputs": [],
   "source": []
  },
  {
   "cell_type": "code",
   "execution_count": null,
   "metadata": {},
   "outputs": [],
   "source": []
  },
  {
   "cell_type": "code",
   "execution_count": null,
   "metadata": {},
   "outputs": [],
   "source": []
  },
  {
   "cell_type": "code",
   "execution_count": null,
   "metadata": {},
   "outputs": [],
   "source": []
  },
  {
   "cell_type": "code",
   "execution_count": null,
   "metadata": {},
   "outputs": [],
   "source": []
  },
  {
   "cell_type": "code",
   "execution_count": null,
   "metadata": {},
   "outputs": [],
   "source": []
  },
  {
   "cell_type": "code",
   "execution_count": null,
   "metadata": {},
   "outputs": [],
   "source": []
  },
  {
   "cell_type": "markdown",
   "metadata": {},
   "source": [
    "# 모범 답안"
   ]
  },
  {
   "cell_type": "markdown",
   "metadata": {},
   "source": [
    "### 2. graph 정의"
   ]
  },
  {
   "cell_type": "code",
   "execution_count": null,
   "metadata": {},
   "outputs": [],
   "source": [
    "# Weight와 bias 정의\n",
    "W = tf.Variable(tf.random_normal([train_X.shape[1], 1])) # 13길이의 열벡터를 랜덤하게 만듬 \n",
    "b = tf.Variable(tf.random_normal([1]))\n",
    "\n",
    "# X data와, Y data 정의\n",
    "X = tf.placeholder(tf.float32, shape=(None, train_X.shape[1]))\n",
    "Y = tf.placeholder(tf.float32)"
   ]
  },
  {
   "cell_type": "code",
   "execution_count": null,
   "metadata": {},
   "outputs": [],
   "source": [
    "# hypothesis와 Cost함수 정의\n",
    "hypothesis = tf.matmul(X, W) + b\n",
    "\n",
    "# 오차 제곱의 평균\n",
    "cost = tf.reduce_mean(tf.square(hypothesis - Y))\n",
    "print(cost)"
   ]
  },
  {
   "cell_type": "code",
   "execution_count": null,
   "metadata": {},
   "outputs": [],
   "source": [
    "# Optimizer\n",
    "learning_rate = 1.0e-6\n",
    "optimizer = tf.train.GradientDescentOptimizer(learning_rate=learning_rate)\n",
    "train_op = optimizer.minimize(cost)"
   ]
  },
  {
   "cell_type": "markdown",
   "metadata": {},
   "source": [
    "### 3. 훈련 (session.run)"
   ]
  },
  {
   "cell_type": "code",
   "execution_count": null,
   "metadata": {
    "scrolled": true
   },
   "outputs": [],
   "source": [
    "import numpy as np\n",
    "tf.set_random_seed(0)\n",
    "\n",
    "with tf.Session() as session:\n",
    "    # W와 b를 초기화\n",
    "    session.run(tf.global_variables_initializer())\n",
    "    \n",
    "    for step in range(1000000):\n",
    "        # 우리가 알고 싶은 값\n",
    "        _, cost_val, W_val, b_val = session.run([train_op, cost, W, b], feed_dict={X:train_X, Y:train_Y})\n",
    "        # 끝났지만 진행 상황을 알고 싶다.\n",
    "        if step%100000==0:\n",
    "            # 20번에 한번씩 진행하기\n",
    "            print(\" step: {}\\n cost:{}\\n Weight: {} \\n bias:{}\".format(step, cost_val, W_val, b_val))\n",
    "            print(\"-\"*50)\n",
    "            \n",
    "    # 최적화가 완료된 모델에 테스트 값을 넣고 결과가 잘 나오는지 확인해봅니다.\n",
    "    print(\"\\n=== Test ===\")\n",
    "    pred_test = session.run(hypothesis, feed_dict={X: test_X})\n",
    "    pred_train = session.run(hypothesis, feed_dict={X: train_X})\n",
    "    print(\"pred: \", pred)\n",
    "    print(\"Weight와 bias: \", session.run([W, b]))\n",
    "    \n",
    "    print(\"=\"*50)\n",
    "print(np.array(zip(pred_test.flatten(), test_Y.flatten())))"
   ]
  },
  {
   "cell_type": "markdown",
   "metadata": {},
   "source": [
    "### 4. Test"
   ]
  },
  {
   "cell_type": "code",
   "execution_count": null,
   "metadata": {},
   "outputs": [],
   "source": []
  },
  {
   "cell_type": "markdown",
   "metadata": {},
   "source": [
    "# Linear Regression 실습하기"
   ]
  },
  {
   "cell_type": "code",
   "execution_count": null,
   "metadata": {},
   "outputs": [],
   "source": [
    "import tensorflow as tf\n",
    "import matplotlib.pyplot as plt"
   ]
  },
  {
   "cell_type": "markdown",
   "metadata": {},
   "source": [
    "### 1. dataLoad"
   ]
  },
  {
   "cell_type": "code",
   "execution_count": null,
   "metadata": {},
   "outputs": [],
   "source": [
    "# y = 2*x + 1\n",
    "# w[1] = 2, w[0]= 1\n",
    "x_data = [1, 2, 3]\n",
    "y_data = [3, 5, 7]"
   ]
  },
  {
   "cell_type": "markdown",
   "metadata": {},
   "source": [
    "### 2. Graph 정의"
   ]
  },
  {
   "cell_type": "code",
   "execution_count": null,
   "metadata": {},
   "outputs": [],
   "source": [
    "# W1과 W0을 구하는게 우리의 목표!\n",
    "# 일단 하나 정하고 조정하기. ==> Variable을 쓰고, 초기값 설정\n",
    "W = tf.Variable(tf.random_uniform([1], -100, 100)) # W1 - Weight\n",
    "b = tf.Variable(tf.random_uniform([1], -100, 100)) # W0 - bias\n",
    "\n",
    "# name: 나중에 텐서보드등으로 값의 변화를 추적하거나 살펴보기 쉽게 하기 위해 이름을 붙여준다.\n",
    "# 왜 tf.placeholder를 사용하는가? 생각해보자!\n",
    "# \n",
    "# 새로운 데이터를 예측하기 위해서 훈련을 합니다.\n",
    "# --> 기존데이터로 훈련을 하고, 훈련된 모델을 새로운 데이터로 바꿀 수 있어야 합니다.\n",
    "X = tf.placeholder(tf.float32, name=\"X\") # 훈련 데이터\n",
    "Y = tf.placeholder(tf.float32, name=\"Y\") # 정답 데이터"
   ]
  },
  {
   "cell_type": "code",
   "execution_count": null,
   "metadata": {},
   "outputs": [],
   "source": [
    "# hypothesis 정의\n",
    "# W 와 X 가 행렬이 아니므로 tf.matmul 이 아니라 기본 곱셈 기호를 사용한다.\n",
    "hypothesis = W * X + b\n",
    "\n",
    "# Cost Function을 작성한다. (손실 함수)\n",
    "# mean(h - Y)^2 : 예측값과 실제값의 차이의 제곱의 평균\n",
    "err = tf.square(hypothesis - Y)\n",
    "cost = tf.reduce_mean(err)\n"
   ]
  },
  {
   "cell_type": "code",
   "execution_count": null,
   "metadata": {},
   "outputs": [],
   "source": [
    "# 훈련률: 0.1: optimizer가 Variable을(Weight를) 자동으로 조정한다.\n",
    "optimizer = tf.train.GradientDescentOptimizer(learning_rate=0.1) \n",
    "\n",
    "# 비용을 최소화 하는 것이 최종 목표\n",
    "train_op = optimizer.minimize(cost)  # compute_gradients, apply_gradients가 실행됩니다."
   ]
  },
  {
   "cell_type": "markdown",
   "metadata": {},
   "source": [
    "### 3. 학습"
   ]
  },
  {
   "cell_type": "code",
   "execution_count": null,
   "metadata": {},
   "outputs": [],
   "source": [
    "# 세션 생성 및 초기화.\n",
    "with tf.Session() as sess:\n",
    "    writer = tf.summary.FileWriter('./summary', session.graph)\n",
    "    sess.run(tf.global_variables_initializer()) # 변수 초기화\n",
    "\n",
    "    # 최적화를 300번 수행합니다.\n",
    "    for step in range(300):\n",
    "        # sess.run 을 통해 train_op 와 cost 그래프를 계산한다.\n",
    "        # 이 때, Hypothesis에 넣어야 할 실제값을 feed_dict 을 통해 전달합니다.\n",
    "        _, cost_val, weight, bias = sess.run([train_op, cost, W, b], feed_dict={X: x_data, Y: y_data})\n",
    "        \n",
    "        # _는 None값. --> compute_gradients, apply_gradients가 실행됩니다.\n",
    "        # --> W값 자동으로 조정합니다.\n",
    "        \n",
    "        if step%20==0:\n",
    "            # 20번에 한번씩 진행하기\n",
    "            print(_)\n",
    "            print(\" step: {}\\n cost:{}\\n Weight: {} \\n bias:{}\".format(step, cost_val, weight, bias))\n",
    "            print(\"-\"*50)\n",
    "            h = sess.run(hypothesis, feed_dict={X: x_data})\n",
    "            \n",
    "            plt.plot(x_data, h)\n",
    "            plt.scatter(x_data, y_data)\n",
    "            plt.show()\n",
    "\n",
    "    # 최적화가 완료된 모델에 테스트 값을 넣고 결과가 잘 나오는지 확인해봅니다.\n",
    "    print(\"\\n=== Test ===\")\n",
    "    print(\"X: 5, Y:\", sess.run(hypothesis, feed_dict={X: 5}))\n",
    "    print(\"X: 2.5, Y:\", sess.run(hypothesis, feed_dict={X: 2.5}))\n",
    "    print(\"Weight와 bias\")\n",
    "    print(sess.run([W, b]))\n"
   ]
  },
  {
   "cell_type": "code",
   "execution_count": null,
   "metadata": {},
   "outputs": [],
   "source": []
  },
  {
   "cell_type": "code",
   "execution_count": null,
   "metadata": {},
   "outputs": [],
   "source": [
    "# optimizer 선택 with data"
   ]
  },
  {
   "cell_type": "code",
   "execution_count": null,
   "metadata": {},
   "outputs": [],
   "source": []
  },
  {
   "cell_type": "code",
   "execution_count": null,
   "metadata": {},
   "outputs": [],
   "source": []
  },
  {
   "cell_type": "markdown",
   "metadata": {},
   "source": [
    "# TensorFlow Graph Final"
   ]
  },
  {
   "cell_type": "code",
   "execution_count": null,
   "metadata": {},
   "outputs": [],
   "source": [
    "import tensorflow as tf\n",
    "node1 = tf.constant(2, dtype=tf.float32)\n",
    "node2 = tf.constant(3, dtype=tf.float32)\n",
    "node3 = tf.placeholder(tf.float32)\n",
    "node4 = tf.placeholder(tf.float32)\n",
    "\n",
    "node5 = node1*node2 + (node3/node4)\n",
    "# 동일합니다.\n",
    "# node4 = tf.add(tf.multiply(node1, node2), node3)"
   ]
  },
  {
   "cell_type": "code",
   "execution_count": null,
   "metadata": {},
   "outputs": [],
   "source": [
    "# with절 사용시 close 안해줘도 됨.\n",
    "with tf.Session() as session:\n",
    "    writer = tf.summary.FileWriter('./summary', session.graph)\n",
    "    print(writer)\n",
    "    result = session.run(node4, feed_dict={node3: 8, node4:2})\n",
    "    print(result)"
   ]
  },
  {
   "cell_type": "code",
   "execution_count": null,
   "metadata": {},
   "outputs": [],
   "source": [
    "# tensorboard\n",
    "!tensorboard --logdir=\"./summary\""
   ]
  },
  {
   "cell_type": "code",
   "execution_count": null,
   "metadata": {},
   "outputs": [],
   "source": []
  }
 ],
 "metadata": {
  "kernelspec": {
   "display_name": "Python 3",
   "language": "python",
   "name": "python3"
  },
  "language_info": {
   "codemirror_mode": {
    "name": "ipython",
    "version": 3
   },
   "file_extension": ".py",
   "mimetype": "text/x-python",
   "name": "python",
   "nbconvert_exporter": "python",
   "pygments_lexer": "ipython3",
   "version": "3.6.6"
  }
 },
 "nbformat": 4,
 "nbformat_minor": 2
}
