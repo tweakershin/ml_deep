{
 "cells": [
  {
   "cell_type": "markdown",
   "metadata": {},
   "source": [
    "# 텐서플로우 실행하기"
   ]
  },
  {
   "cell_type": "code",
   "execution_count": 1,
   "metadata": {},
   "outputs": [],
   "source": [
    "import tensorflow as tf"
   ]
  },
  {
   "cell_type": "code",
   "execution_count": 2,
   "metadata": {},
   "outputs": [
    {
     "name": "stdout",
     "output_type": "stream",
     "text": [
      "Tensor(\"Const:0\", shape=(), dtype=string)\n",
      "b'Hello TensorFlow'\n"
     ]
    }
   ],
   "source": [
    "hello = tf.constant('Hello TensorFlow')\n",
    "print(hello)\n",
    "\n",
    "sess = tf.Session()\n",
    "result = sess.run(hello)\n",
    "print(result)\n",
    "sess.close()"
   ]
  },
  {
   "cell_type": "markdown",
   "metadata": {},
   "source": [
    "# 계산그래프 만들기"
   ]
  },
  {
   "cell_type": "code",
   "execution_count": 3,
   "metadata": {},
   "outputs": [],
   "source": [
    "import tensorflow as tf\n",
    "\n",
    "node1 = tf.constant(3, tf.float32) # explicitly dtype=tf.float32\n",
    "node2 = tf.constant(4.0) # implicitly  tf.float32\n",
    "node3 = tf.add(node1, node2)"
   ]
  },
  {
   "cell_type": "code",
   "execution_count": 4,
   "metadata": {},
   "outputs": [
    {
     "name": "stdout",
     "output_type": "stream",
     "text": [
      "node1:  Tensor(\"Const_1:0\", shape=(), dtype=float32)\n",
      "node2:  Tensor(\"Const_2:0\", shape=(), dtype=float32)\n",
      "node3:  Tensor(\"Add:0\", shape=(), dtype=float32)\n"
     ]
    }
   ],
   "source": [
    "# node1, node2, node3는 텐서 - 노드일뿐\n",
    "print(\"node1: \", node1)\n",
    "print(\"node2: \", node2)\n",
    "print(\"node3: \", node3)"
   ]
  },
  {
   "cell_type": "code",
   "execution_count": 5,
   "metadata": {},
   "outputs": [
    {
     "name": "stdout",
     "output_type": "stream",
     "text": [
      "session.run([node1, node2]):  [3.0, 4.0]\n",
      "session.run(node3):  7.0\n"
     ]
    }
   ],
   "source": [
    "session = tf.Session()\n",
    "print(\"session.run([node1, node2]): \", session.run([node1, node2]))\n",
    "print(\"session.run(node3): \", session.run(node3))\n",
    "\n",
    "session.close() # session을 열었으면 닫아줘야함.(파일과 똑같이)\n"
   ]
  },
  {
   "cell_type": "markdown",
   "metadata": {},
   "source": [
    "# TensorFlow 자료형"
   ]
  },
  {
   "cell_type": "markdown",
   "metadata": {},
   "source": [
    "### Constant"
   ]
  },
  {
   "cell_type": "code",
   "execution_count": 6,
   "metadata": {},
   "outputs": [
    {
     "name": "stdout",
     "output_type": "stream",
     "text": [
      "Tensor(\"Const_3:0\", shape=(), dtype=float32)\n",
      "()\n",
      "1.0\n"
     ]
    }
   ],
   "source": [
    "# 다른 type으로\n",
    "a = tf.constant(1, dtype=tf.float32)\n",
    "print(a)\n",
    "print(a.shape)\n",
    "with tf.Session() as session:\n",
    "    print(session.run(a))"
   ]
  },
  {
   "cell_type": "code",
   "execution_count": 7,
   "metadata": {},
   "outputs": [
    {
     "name": "stdout",
     "output_type": "stream",
     "text": [
      "Tensor(\"Const_4:0\", shape=(1,), dtype=float32)\n",
      "(1,)\n",
      "[1.]\n"
     ]
    }
   ],
   "source": [
    "# 다른 Shape으로\n",
    "a = tf.constant(1, dtype=tf.float32, shape=(1,))\n",
    "print(a)\n",
    "print(a.shape)\n",
    "with tf.Session() as session:\n",
    "    print(session.run(a))"
   ]
  },
  {
   "cell_type": "code",
   "execution_count": 8,
   "metadata": {},
   "outputs": [
    {
     "name": "stdout",
     "output_type": "stream",
     "text": [
      "Tensor(\"Const_5:0\", shape=(1, 1), dtype=float32)\n",
      "(1, 1)\n",
      "[[1.]]\n"
     ]
    }
   ],
   "source": [
    "# 2차원으로 설정\n",
    "a = tf.constant(1, dtype=tf.float32, shape=(1,1))\n",
    "print(a)\n",
    "print(a.shape)\n",
    "with tf.Session() as session:\n",
    "    print(session.run(a))"
   ]
  },
  {
   "cell_type": "markdown",
   "metadata": {},
   "source": [
    "### Placeholder"
   ]
  },
  {
   "cell_type": "code",
   "execution_count": 9,
   "metadata": {},
   "outputs": [
    {
     "name": "stdout",
     "output_type": "stream",
     "text": [
      "x:  Tensor(\"Placeholder:0\", dtype=float32)\n",
      "y:  Tensor(\"mul:0\", dtype=float32)\n",
      "[2. 4. 6.]\n"
     ]
    }
   ],
   "source": [
    "import tensorflow as tf\n",
    "\n",
    "input_data = [1, 2, 3]\n",
    "x = tf.placeholder(dtype=tf.float32)\n",
    "\n",
    "y = x * 2\n",
    "print(\"x: \", x)\n",
    "print(\"y: \", y)\n",
    "\n",
    "\n",
    "session = tf.Session()\n",
    "\n",
    "# feed_dict를 통해 값을 전달합니다.\n",
    "result = session.run(y, feed_dict={x:input_data})\n",
    "print(result)\n",
    "session.close()"
   ]
  },
  {
   "cell_type": "markdown",
   "metadata": {},
   "source": [
    "### Variable"
   ]
  },
  {
   "cell_type": "code",
   "execution_count": 10,
   "metadata": {},
   "outputs": [
    {
     "name": "stdout",
     "output_type": "stream",
     "text": [
      "WARNING:tensorflow:From /Users/Mac/anaconda3/envs/asia_ml/lib/python3.6/site-packages/tensorflow/python/framework/op_def_library.py:263: colocate_with (from tensorflow.python.framework.ops) is deprecated and will be removed in a future version.\n",
      "Instructions for updating:\n",
      "Colocations handled automatically by placer.\n",
      "x:  Tensor(\"Placeholder_1:0\", dtype=float32)\n",
      "weights:  <tf.Variable 'Variable:0' shape=(1,) dtype=float32_ref>\n",
      "biases: <tf.Variable 'Variable_1:0' shape=(1,) dtype=float32_ref>\n"
     ]
    }
   ],
   "source": [
    "x = tf.placeholder(dtype=tf.float32)\n",
    "x_data = [1, 2, 4]\n",
    "\n",
    "# 초기값: tf.random_normal([1, 3], stddev=0.35)\n",
    "weights = tf.Variable([3], dtype=tf.float32)\n",
    "biases = tf.Variable([4], dtype=tf.float32)\n",
    "\n",
    "y = weights*x + biases\n",
    "\n",
    "print(\"x: \", x)\n",
    "print('weights: ', weights)\n",
    "print('biases:', biases)\n"
   ]
  },
  {
   "cell_type": "markdown",
   "metadata": {},
   "source": [
    "### 개별 initializer"
   ]
  },
  {
   "cell_type": "code",
   "execution_count": 11,
   "metadata": {},
   "outputs": [
    {
     "name": "stdout",
     "output_type": "stream",
     "text": [
      "[ 7. 10. 16.]\n",
      "[ 6.  8. 12.]\n"
     ]
    }
   ],
   "source": [
    "with tf.Session() as session:\n",
    "    # 초기화 오퍼레이션을 실행\n",
    "    session.run([weights.initializer, biases.initializer])\n",
    "    \n",
    "    result = session.run(y, feed_dict={x:x_data})\n",
    "    print(result)\n",
    "    \n",
    "    # 변수 변경 // 변수 재 할당\n",
    "    session.run(tf.assign(weights, [2]))\n",
    "    \n",
    "    # 다시 실행\n",
    "    result = session.run(y, feed_dict={x:x_data})\n",
    "    print(result)"
   ]
  },
  {
   "cell_type": "markdown",
   "metadata": {},
   "source": [
    "### 전체 변수 한번에 초기화 - global_variables_initializer"
   ]
  },
  {
   "cell_type": "code",
   "execution_count": 12,
   "metadata": {},
   "outputs": [
    {
     "name": "stdout",
     "output_type": "stream",
     "text": [
      "x:  Tensor(\"Placeholder_2:0\", dtype=float32)\n",
      "weights:  <tf.Variable 'Variable_2:0' shape=(1,) dtype=float32_ref>\n",
      "biases: <tf.Variable 'Variable_3:0' shape=(1,) dtype=float32_ref>\n"
     ]
    }
   ],
   "source": [
    "x = tf.placeholder(dtype=tf.float32)\n",
    "x_data = [1, 2, 4]\n",
    "\n",
    "# 초기값: tf.random_normal([1, 3], stddev=0.35)\n",
    "weights = tf.Variable([3], dtype=tf.float32)\n",
    "biases = tf.Variable([4], dtype=tf.float32)\n",
    "\n",
    "y = weights*x + biases\n",
    "\n",
    "print(\"x: \", x)\n",
    "print('weights: ', weights)\n",
    "print('biases:', biases)\n"
   ]
  },
  {
   "cell_type": "code",
   "execution_count": 13,
   "metadata": {},
   "outputs": [
    {
     "name": "stdout",
     "output_type": "stream",
     "text": [
      "[ 7. 10. 16.]\n",
      "[ 6.  8. 12.]\n"
     ]
    }
   ],
   "source": [
    "# 변수 초기화 작업\n",
    "init_op = tf.global_variables_initializer()\n",
    "\n",
    "with tf.Session() as session:\n",
    "    # 초기화 오퍼레이션을 실행\n",
    "    session.run(init_op)\n",
    "    \n",
    "    result = session.run(y, feed_dict={x:x_data})\n",
    "    print(result)\n",
    "    \n",
    "    # 변수 변경 // 변수 재 할당\n",
    "    session.run(tf.assign(weights, [2]))\n",
    "    \n",
    "    # 다시 실행\n",
    "    result = session.run(y, feed_dict={x:x_data})\n",
    "    print(result)"
   ]
  },
  {
   "cell_type": "code",
   "execution_count": null,
   "metadata": {},
   "outputs": [],
   "source": []
  },
  {
   "cell_type": "code",
   "execution_count": null,
   "metadata": {},
   "outputs": [],
   "source": []
  },
  {
   "cell_type": "markdown",
   "metadata": {},
   "source": [
    "# Tensor의 속성"
   ]
  },
  {
   "cell_type": "code",
   "execution_count": 14,
   "metadata": {},
   "outputs": [
    {
     "name": "stdout",
     "output_type": "stream",
     "text": [
      "a:  Tensor(\"Const_6:0\", shape=(), dtype=int32)\n",
      "b:  Tensor(\"Const_7:0\", shape=(2,), dtype=float32)\n",
      "c:  Tensor(\"Const_8:0\", shape=(2, 2), dtype=int32)\n",
      "d:  Tensor(\"Const_9:0\", shape=(2, 2, 2), dtype=float32)\n"
     ]
    }
   ],
   "source": [
    "a = tf.constant(1) # 0차원\n",
    "b = tf.constant([1, 2], dtype=tf.float32) # 1차원\n",
    "c = tf.constant([[1, 2], [3,4]], dtype=tf.int32) # 2차원, = 행렬\n",
    "d = tf.constant(\n",
    "    [\n",
    "        [[1.0,2.0],[3, 4]],\n",
    "        [[5,6],[7, 8]]\n",
    "    ]\n",
    ") # 3차원\n",
    "# ...\n",
    "print('a: ', a)\n",
    "print('b: ', b)\n",
    "print('c: ', c)\n",
    "print('d: ', d)"
   ]
  },
  {
   "cell_type": "markdown",
   "metadata": {},
   "source": [
    "## rank"
   ]
  },
  {
   "cell_type": "code",
   "execution_count": 15,
   "metadata": {},
   "outputs": [
    {
     "name": "stdout",
     "output_type": "stream",
     "text": [
      "a's rank:  0\n",
      "b's rank:  1\n",
      "c's rank:  2\n",
      "d's rank:  3\n",
      "--------------------------------------------------\n",
      "a's rank:  Tensor(\"Rank:0\", shape=(), dtype=int32)\n",
      "b's rank:  Tensor(\"Rank_1:0\", shape=(), dtype=int32)\n",
      "c's rank:  Tensor(\"Rank_2:0\", shape=(), dtype=int32)\n",
      "d's rank:  Tensor(\"Rank_3:0\", shape=(), dtype=int32)\n"
     ]
    }
   ],
   "source": [
    "print(\"a's rank: \", a._rank())\n",
    "print(\"b's rank: \", b._rank())\n",
    "print(\"c's rank: \", c._rank())\n",
    "print(\"d's rank: \", d._rank())\n",
    "\n",
    "print(\"-\"*50)\n",
    "# 아래는  텐서로 반환\n",
    "print(\"a's rank: \", tf.rank(a))\n",
    "print(\"b's rank: \", tf.rank(b))\n",
    "print(\"c's rank: \", tf.rank(c))\n",
    "print(\"d's rank: \", tf.rank(d))"
   ]
  },
  {
   "cell_type": "markdown",
   "metadata": {},
   "source": [
    "## Shape"
   ]
  },
  {
   "cell_type": "code",
   "execution_count": 18,
   "metadata": {},
   "outputs": [
    {
     "data": {
      "text/plain": [
       "(Dimension(2), Dimension(2))"
      ]
     },
     "execution_count": 18,
     "metadata": {},
     "output_type": "execute_result"
    }
   ],
   "source": [
    "m,n = c.get_shape()\n",
    "m, n"
   ]
  },
  {
   "cell_type": "code",
   "execution_count": 16,
   "metadata": {},
   "outputs": [
    {
     "name": "stdout",
     "output_type": "stream",
     "text": [
      "a's shape:  ()\n",
      "b's shape:  (2,)\n",
      "c's shape:  (2, 2)\n",
      "d's shape:  (2, 2, 2)\n",
      "--------------------------------------------------\n",
      "a's shape:  Tensor(\"Shape:0\", shape=(0,), dtype=int32)\n",
      "b's shape:  Tensor(\"Shape_1:0\", shape=(1,), dtype=int32)\n",
      "c's shape:  Tensor(\"Shape_2:0\", shape=(2,), dtype=int32)\n",
      "d's shape:  Tensor(\"Shape_3:0\", shape=(3,), dtype=int32)\n"
     ]
    }
   ],
   "source": [
    "print(\"a's shape: \", a.get_shape())\n",
    "# print(\"a's shape: \", a.shape)# 같은 결과\n",
    "print(\"b's shape: \", b.get_shape())\n",
    "print(\"c's shape: \", c.get_shape())\n",
    "print(\"d's shape: \", d.get_shape())\n",
    "\n",
    "print(\"-\"*50)\n",
    "\n",
    "# 아래는  텐서로 반환\n",
    "print(\"a's shape: \", tf.shape(a))\n",
    "print(\"b's shape: \", tf.shape(b))\n",
    "print(\"c's shape: \", tf.shape(c))\n",
    "print(\"d's shape: \", tf.shape(d))"
   ]
  },
  {
   "cell_type": "markdown",
   "metadata": {},
   "source": [
    "## dtype"
   ]
  },
  {
   "cell_type": "code",
   "execution_count": 19,
   "metadata": {},
   "outputs": [
    {
     "name": "stdout",
     "output_type": "stream",
     "text": [
      "a's type:  <dtype: 'int32'>\n",
      "b's type:  <dtype: 'float32'>\n",
      "c's type:  <dtype: 'int32'>\n",
      "d's type:  <dtype: 'float32'>\n"
     ]
    }
   ],
   "source": [
    "print(\"a's type: \", a.dtype)\n",
    "print(\"b's type: \", b.dtype)\n",
    "print(\"c's type: \", c.dtype)\n",
    "print(\"d's type: \", d.dtype)"
   ]
  },
  {
   "cell_type": "markdown",
   "metadata": {},
   "source": [
    "# Session 관리"
   ]
  },
  {
   "cell_type": "markdown",
   "metadata": {},
   "source": [
    "### tf.get_default_session()"
   ]
  },
  {
   "cell_type": "code",
   "execution_count": 20,
   "metadata": {},
   "outputs": [
    {
     "name": "stdout",
     "output_type": "stream",
     "text": [
      "None\n"
     ]
    }
   ],
   "source": [
    "session = tf.get_default_session()\n",
    "print(session)"
   ]
  },
  {
   "cell_type": "code",
   "execution_count": 21,
   "metadata": {},
   "outputs": [
    {
     "name": "stdout",
     "output_type": "stream",
     "text": [
      "<tensorflow.python.client.session.Session object at 0xb37c4ce10>\n"
     ]
    }
   ],
   "source": [
    "with tf.Session() as sess:\n",
    "    print(tf.get_default_session())"
   ]
  },
  {
   "cell_type": "markdown",
   "metadata": {},
   "source": [
    "### eval(), initializer.run()"
   ]
  },
  {
   "cell_type": "code",
   "execution_count": 23,
   "metadata": {},
   "outputs": [],
   "source": [
    "a = tf.constant(2, dtype=tf.float32)\n",
    "b = tf.Variable(3, dtype=tf.float32)\n",
    "c = a * b\n"
   ]
  },
  {
   "cell_type": "code",
   "execution_count": 24,
   "metadata": {},
   "outputs": [
    {
     "name": "stdout",
     "output_type": "stream",
     "text": [
      "None\n",
      "2.0\n",
      "6.0\n",
      "----------\n",
      "None\n",
      "2.0\n",
      "6.0\n"
     ]
    }
   ],
   "source": [
    "with tf.Session() as sess:\n",
    "    print(sess.run(b.initializer))\n",
    "    print(sess.run(a))\n",
    "    print(sess.run(c))\n",
    "\n",
    "    print('-'*10)\n",
    "    #### 똑같은 결과\n",
    "    print(b.initializer.run())\n",
    "    # tf.get_default_session().run(b.initializer)\n",
    "    print(a.eval())\n",
    "    print(c.eval())"
   ]
  },
  {
   "cell_type": "markdown",
   "metadata": {},
   "source": [
    "### tf.InteractiveSesison"
   ]
  },
  {
   "cell_type": "code",
   "execution_count": 25,
   "metadata": {},
   "outputs": [
    {
     "name": "stdout",
     "output_type": "stream",
     "text": [
      "2.0\n",
      "6.0\n"
     ]
    }
   ],
   "source": [
    "sess = tf.InteractiveSession()\n",
    "sess.run(b.initializer)\n",
    "print(a.eval())\n",
    "print(c.eval())\n",
    "sess.close()"
   ]
  },
  {
   "cell_type": "markdown",
   "metadata": {},
   "source": [
    "# Graph 관리하기"
   ]
  },
  {
   "cell_type": "markdown",
   "metadata": {},
   "source": [
    "### get_default_graph()"
   ]
  },
  {
   "cell_type": "code",
   "execution_count": 26,
   "metadata": {},
   "outputs": [
    {
     "data": {
      "text/plain": [
       "<tensorflow.python.framework.ops.Graph at 0xb37c3df60>"
      ]
     },
     "execution_count": 26,
     "metadata": {},
     "output_type": "execute_result"
    }
   ],
   "source": [
    "tf.get_default_graph()"
   ]
  },
  {
   "cell_type": "code",
   "execution_count": 27,
   "metadata": {},
   "outputs": [
    {
     "data": {
      "text/plain": [
       "True"
      ]
     },
     "execution_count": 27,
     "metadata": {},
     "output_type": "execute_result"
    }
   ],
   "source": [
    "a = tf.Variable(3)\n",
    "a.graph is tf.get_default_graph()"
   ]
  },
  {
   "cell_type": "markdown",
   "metadata": {},
   "source": [
    "### Graph객체"
   ]
  },
  {
   "cell_type": "code",
   "execution_count": 28,
   "metadata": {},
   "outputs": [],
   "source": [
    "graph = tf.Graph()\n",
    "with graph.as_default():\n",
    "    b = tf.Variable(2)\n",
    "    "
   ]
  },
  {
   "cell_type": "code",
   "execution_count": 29,
   "metadata": {},
   "outputs": [
    {
     "data": {
      "text/plain": [
       "True"
      ]
     },
     "execution_count": 29,
     "metadata": {},
     "output_type": "execute_result"
    }
   ],
   "source": [
    "b.graph is graph"
   ]
  },
  {
   "cell_type": "code",
   "execution_count": 30,
   "metadata": {},
   "outputs": [
    {
     "data": {
      "text/plain": [
       "[<tf.Operation 'Const' type=Const>,\n",
       " <tf.Operation 'Const_1' type=Const>,\n",
       " <tf.Operation 'Const_2' type=Const>,\n",
       " <tf.Operation 'Add' type=Add>,\n",
       " <tf.Operation 'Const_3' type=Const>,\n",
       " <tf.Operation 'Const_4' type=Const>,\n",
       " <tf.Operation 'Const_5' type=Const>,\n",
       " <tf.Operation 'Placeholder' type=Placeholder>,\n",
       " <tf.Operation 'mul/y' type=Const>,\n",
       " <tf.Operation 'mul' type=Mul>,\n",
       " <tf.Operation 'Placeholder_1' type=Placeholder>,\n",
       " <tf.Operation 'Variable/initial_value' type=Const>,\n",
       " <tf.Operation 'Variable' type=VariableV2>,\n",
       " <tf.Operation 'Variable/Assign' type=Assign>,\n",
       " <tf.Operation 'Variable/read' type=Identity>,\n",
       " <tf.Operation 'Variable_1/initial_value' type=Const>,\n",
       " <tf.Operation 'Variable_1' type=VariableV2>,\n",
       " <tf.Operation 'Variable_1/Assign' type=Assign>,\n",
       " <tf.Operation 'Variable_1/read' type=Identity>,\n",
       " <tf.Operation 'mul_1' type=Mul>,\n",
       " <tf.Operation 'add_1' type=Add>,\n",
       " <tf.Operation 'Assign/value' type=Const>,\n",
       " <tf.Operation 'Assign' type=Assign>,\n",
       " <tf.Operation 'Placeholder_2' type=Placeholder>,\n",
       " <tf.Operation 'Variable_2/initial_value' type=Const>,\n",
       " <tf.Operation 'Variable_2' type=VariableV2>,\n",
       " <tf.Operation 'Variable_2/Assign' type=Assign>,\n",
       " <tf.Operation 'Variable_2/read' type=Identity>,\n",
       " <tf.Operation 'Variable_3/initial_value' type=Const>,\n",
       " <tf.Operation 'Variable_3' type=VariableV2>,\n",
       " <tf.Operation 'Variable_3/Assign' type=Assign>,\n",
       " <tf.Operation 'Variable_3/read' type=Identity>,\n",
       " <tf.Operation 'mul_2' type=Mul>,\n",
       " <tf.Operation 'add_2' type=Add>,\n",
       " <tf.Operation 'init' type=NoOp>,\n",
       " <tf.Operation 'Assign_1/value' type=Const>,\n",
       " <tf.Operation 'Assign_1' type=Assign>,\n",
       " <tf.Operation 'Const_6' type=Const>,\n",
       " <tf.Operation 'Const_7' type=Const>,\n",
       " <tf.Operation 'Const_8' type=Const>,\n",
       " <tf.Operation 'Const_9' type=Const>,\n",
       " <tf.Operation 'Rank' type=Const>,\n",
       " <tf.Operation 'Rank_1' type=Const>,\n",
       " <tf.Operation 'Rank_2' type=Const>,\n",
       " <tf.Operation 'Rank_3' type=Const>,\n",
       " <tf.Operation 'Shape' type=Const>,\n",
       " <tf.Operation 'Shape_1' type=Const>,\n",
       " <tf.Operation 'Shape_2' type=Const>,\n",
       " <tf.Operation 'Shape_3' type=Const>,\n",
       " <tf.Operation 'Const_10' type=Const>,\n",
       " <tf.Operation 'Variable_4/initial_value' type=Const>,\n",
       " <tf.Operation 'Variable_4' type=VariableV2>,\n",
       " <tf.Operation 'Variable_4/Assign' type=Assign>,\n",
       " <tf.Operation 'Variable_4/read' type=Identity>,\n",
       " <tf.Operation 'mul_3' type=Mul>,\n",
       " <tf.Operation 'Const_11' type=Const>,\n",
       " <tf.Operation 'Variable_5/initial_value' type=Const>,\n",
       " <tf.Operation 'Variable_5' type=VariableV2>,\n",
       " <tf.Operation 'Variable_5/Assign' type=Assign>,\n",
       " <tf.Operation 'Variable_5/read' type=Identity>,\n",
       " <tf.Operation 'mul_4' type=Mul>,\n",
       " <tf.Operation 'Variable_6/initial_value' type=Const>,\n",
       " <tf.Operation 'Variable_6' type=VariableV2>,\n",
       " <tf.Operation 'Variable_6/Assign' type=Assign>,\n",
       " <tf.Operation 'Variable_6/read' type=Identity>]"
      ]
     },
     "execution_count": 30,
     "metadata": {},
     "output_type": "execute_result"
    }
   ],
   "source": [
    "tf.get_default_graph().get_operations()"
   ]
  },
  {
   "cell_type": "code",
   "execution_count": 31,
   "metadata": {},
   "outputs": [
    {
     "data": {
      "text/plain": [
       "[]"
      ]
     },
     "execution_count": 31,
     "metadata": {},
     "output_type": "execute_result"
    }
   ],
   "source": [
    "tf.reset_default_graph()\n",
    "tf.get_default_graph().get_operations()"
   ]
  },
  {
   "cell_type": "markdown",
   "metadata": {},
   "source": [
    "# 자주 쓰이는 함수들"
   ]
  },
  {
   "cell_type": "markdown",
   "metadata": {},
   "source": [
    "## 상수만드는 함수"
   ]
  },
  {
   "cell_type": "markdown",
   "metadata": {},
   "source": [
    "### zeros"
   ]
  },
  {
   "cell_type": "code",
   "execution_count": 33,
   "metadata": {},
   "outputs": [],
   "source": [
    "import numpy as np"
   ]
  },
  {
   "cell_type": "code",
   "execution_count": 38,
   "metadata": {},
   "outputs": [
    {
     "data": {
      "text/plain": [
       "dtype('int64')"
      ]
     },
     "execution_count": 38,
     "metadata": {},
     "output_type": "execute_result"
    }
   ],
   "source": [
    "arr1 = np.array([1,2,3])\n",
    "arr1"
   ]
  },
  {
   "cell_type": "code",
   "execution_count": 39,
   "metadata": {},
   "outputs": [
    {
     "data": {
      "text/plain": [
       "dtype('int64')"
      ]
     },
     "execution_count": 39,
     "metadata": {},
     "output_type": "execute_result"
    }
   ],
   "source": [
    "arr1.dtype"
   ]
  },
  {
   "cell_type": "code",
   "execution_count": 42,
   "metadata": {},
   "outputs": [
    {
     "data": {
      "text/plain": [
       "(2, 2)"
      ]
     },
     "execution_count": 42,
     "metadata": {},
     "output_type": "execute_result"
    }
   ],
   "source": [
    "arr2 = np.array([[1, 2], [3, 4]])\n",
    "arr2.shape"
   ]
  },
  {
   "cell_type": "code",
   "execution_count": 36,
   "metadata": {},
   "outputs": [
    {
     "data": {
      "text/plain": [
       "array([[0., 0., 0., 0., 0.],\n",
       "       [0., 0., 0., 0., 0.],\n",
       "       [0., 0., 0., 0., 0.],\n",
       "       [0., 0., 0., 0., 0.],\n",
       "       [0., 0., 0., 0., 0.]])"
      ]
     },
     "execution_count": 36,
     "metadata": {},
     "output_type": "execute_result"
    }
   ],
   "source": [
    "np.zeros([5, 5])"
   ]
  },
  {
   "cell_type": "code",
   "execution_count": 43,
   "metadata": {},
   "outputs": [
    {
     "name": "stdout",
     "output_type": "stream",
     "text": [
      "Tensor(\"zeros:0\", shape=(3, 3), dtype=float32)\n",
      "------------------------------\n",
      "[[0. 0. 0.]\n",
      " [0. 0. 0.]\n",
      " [0. 0. 0.]]\n"
     ]
    }
   ],
   "source": [
    "a = tf.zeros((3,3), tf.float32)\n",
    "print(a)\n",
    "print('-'*30)\n",
    "with tf.Session() as sess:\n",
    "    print(sess.run(a))"
   ]
  },
  {
   "cell_type": "code",
   "execution_count": null,
   "metadata": {},
   "outputs": [],
   "source": []
  },
  {
   "cell_type": "markdown",
   "metadata": {},
   "source": [
    "### zeros_like"
   ]
  },
  {
   "cell_type": "code",
   "execution_count": 44,
   "metadata": {},
   "outputs": [
    {
     "name": "stdout",
     "output_type": "stream",
     "text": [
      "(2, 3)\n",
      "------------------------------\n",
      "(2, 3)\n",
      "[[0. 0. 0.]\n",
      " [0. 0. 0.]]\n"
     ]
    }
   ],
   "source": [
    "a = tf.constant([[1,2,3],\n",
    "                 [4,5,6]])\n",
    "print(a.get_shape())\n",
    "\n",
    "print('-'*30)\n",
    "\n",
    "b = tf.zeros_like(a, tf.float32)\n",
    "print(b.get_shape())\n",
    "with tf.Session() as sess:\n",
    "    print(sess.run(b))"
   ]
  },
  {
   "cell_type": "markdown",
   "metadata": {},
   "source": [
    "### ones"
   ]
  },
  {
   "cell_type": "code",
   "execution_count": 45,
   "metadata": {},
   "outputs": [
    {
     "name": "stdout",
     "output_type": "stream",
     "text": [
      "Tensor(\"ones:0\", shape=(3, 3), dtype=float32)\n",
      "------------------------------\n",
      "[[1. 1. 1.]\n",
      " [1. 1. 1.]\n",
      " [1. 1. 1.]]\n"
     ]
    }
   ],
   "source": [
    "a = tf.ones((3,3), tf.float32)\n",
    "print(a)\n",
    "print('-'*30)\n",
    "with tf.Session() as sess:\n",
    "    print(sess.run(a))"
   ]
  },
  {
   "cell_type": "markdown",
   "metadata": {},
   "source": [
    "### ones_like"
   ]
  },
  {
   "cell_type": "code",
   "execution_count": 46,
   "metadata": {},
   "outputs": [
    {
     "name": "stdout",
     "output_type": "stream",
     "text": [
      "(2, 3)\n",
      "------------------------------\n",
      "(2, 3)\n",
      "[[1. 1. 1.]\n",
      " [1. 1. 1.]]\n"
     ]
    }
   ],
   "source": [
    "a = tf.constant([[1,2,3],[4,5,6]])\n",
    "print(a.get_shape())\n",
    "\n",
    "print('-'*30)\n",
    "\n",
    "b = tf.ones_like(a, tf.float32)\n",
    "print(b.get_shape())\n",
    "with tf.Session() as sess:\n",
    "    print(sess.run(b))"
   ]
  },
  {
   "cell_type": "markdown",
   "metadata": {},
   "source": [
    "## 시퀀스 만드는 함수"
   ]
  },
  {
   "cell_type": "markdown",
   "metadata": {},
   "source": [
    "### linspace"
   ]
  },
  {
   "cell_type": "code",
   "execution_count": 47,
   "metadata": {},
   "outputs": [
    {
     "name": "stdout",
     "output_type": "stream",
     "text": [
      "Tensor(\"LinSpace:0\", shape=(10,), dtype=float32)\n",
      "------------------------------\n",
      "[1.        1.2222222 1.4444444 1.6666667 1.8888888 2.1111112 2.3333335\n",
      " 2.5555556 2.7777777 3.       ]\n"
     ]
    }
   ],
   "source": [
    "a = tf.linspace(1.0, 3.0, 10)\n",
    "print(a)\n",
    "print('-'*30)\n",
    "with tf.Session() as sess:\n",
    "    print(sess.run(a))"
   ]
  },
  {
   "cell_type": "markdown",
   "metadata": {},
   "source": [
    "### range"
   ]
  },
  {
   "cell_type": "code",
   "execution_count": 48,
   "metadata": {},
   "outputs": [
    {
     "name": "stdout",
     "output_type": "stream",
     "text": [
      "Tensor(\"range:0\", shape=(5,), dtype=int32)\n",
      "Tensor(\"range_1:0\", shape=(5,), dtype=int32)\n",
      "------------------------------\n",
      "a:  [ 3  6  9 12 15]\n",
      "b:  [0 1 2 3 4]\n"
     ]
    }
   ],
   "source": [
    "# start: 3, limit: 18, delta: 3\n",
    "a = tf.range(3, 18, 3)\n",
    "\n",
    "# limit:5\n",
    "b = tf.range(5)\n",
    "\n",
    "print(a)\n",
    "print(b)\n",
    "print('-'*30)\n",
    "with tf.Session() as sess:\n",
    "    print(\"a: \", sess.run(a))\n",
    "    print(\"b: \", sess.run(b))"
   ]
  },
  {
   "cell_type": "markdown",
   "metadata": {},
   "source": [
    "## 난수 추출 함수"
   ]
  },
  {
   "cell_type": "markdown",
   "metadata": {},
   "source": [
    "### random_normal"
   ]
  },
  {
   "cell_type": "code",
   "execution_count": 49,
   "metadata": {},
   "outputs": [
    {
     "name": "stdout",
     "output_type": "stream",
     "text": [
      "Tensor(\"random_normal:0\", shape=(3, 3), dtype=float32)\n",
      "------------------------------\n",
      "[[-1.0418434   0.21325275 -0.3115172 ]\n",
      " [ 1.9957882  -0.32704294 -0.29983795]\n",
      " [ 1.6735233  -0.75532883 -2.1401532 ]]\n"
     ]
    }
   ],
   "source": [
    "a = tf.random_normal((3,3), dtype=tf.float32)\n",
    "print(a)\n",
    "print('-'*30)\n",
    "with tf.Session() as sess:\n",
    "    print(sess.run(a))"
   ]
  },
  {
   "cell_type": "markdown",
   "metadata": {},
   "source": [
    "### ranom_uniform"
   ]
  },
  {
   "cell_type": "code",
   "execution_count": 50,
   "metadata": {},
   "outputs": [
    {
     "name": "stdout",
     "output_type": "stream",
     "text": [
      "Tensor(\"random_uniform:0\", shape=(3, 3), dtype=float32)\n",
      "------------------------------\n",
      "[[0.1515373  0.48400164 0.0148623 ]\n",
      " [0.63224864 0.75782204 0.44334292]\n",
      " [0.31388438 0.42062473 0.5779035 ]]\n"
     ]
    }
   ],
   "source": [
    "a = tf.random_uniform((3,3), dtype=tf.float32)\n",
    "print(a)\n",
    "print('-'*30)\n",
    "with tf.Session() as sess:\n",
    "    print(sess.run(a))"
   ]
  },
  {
   "cell_type": "markdown",
   "metadata": {},
   "source": [
    "### random_shuffle"
   ]
  },
  {
   "cell_type": "code",
   "execution_count": 62,
   "metadata": {},
   "outputs": [
    {
     "name": "stdout",
     "output_type": "stream",
     "text": [
      "Tensor(\"RandomShuffle_11:0\", shape=(7,), dtype=int32)\n",
      "------------------------------\n",
      "[ 1  4  7 10 13 16 19]\n",
      "[19 16  4 13  1  7 10]\n"
     ]
    }
   ],
   "source": [
    "a = tf.range(1, 20, 3)\n",
    "b = tf.random_shuffle(a, seed=42)\n",
    "# b = tf.random_shuffle(a)\n",
    "\n",
    "print(b)\n",
    "print('-'*30)\n",
    "with tf.Session() as sess:\n",
    "    print(sess.run(a))\n",
    "    print(sess.run(b))"
   ]
  },
  {
   "cell_type": "code",
   "execution_count": 75,
   "metadata": {},
   "outputs": [
    {
     "name": "stdout",
     "output_type": "stream",
     "text": [
      "[[3.1513367 9.283596 ]]\n"
     ]
    }
   ],
   "source": [
    "a = tf.random_uniform((1, 2), 1, 10, seed=0)\n",
    "a = tf.random_uniform((1, 2), 1, 10, seed=1)\n",
    "\n",
    "with tf.Session() as sess:\n",
    "    print(sess.run(a))"
   ]
  },
  {
   "cell_type": "code",
   "execution_count": 92,
   "metadata": {},
   "outputs": [
    {
     "name": "stdout",
     "output_type": "stream",
     "text": [
      "[[0.89902174 0.17357922 0.29836094]\n",
      " [0.30984926 0.90608525 0.35177827]\n",
      " [0.03838742 0.18791246 0.25379074]]\n"
     ]
    }
   ],
   "source": [
    "a = tf.random_uniform((3,3))\n",
    "with tf.Session() as sess:\n",
    "    print(sess.run(a))"
   ]
  },
  {
   "cell_type": "markdown",
   "metadata": {},
   "source": [
    "## set_random_seed"
   ]
  },
  {
   "cell_type": "code",
   "execution_count": 116,
   "metadata": {},
   "outputs": [],
   "source": [
    "# tf.set_random_seed(10)"
   ]
  },
  {
   "cell_type": "code",
   "execution_count": 115,
   "metadata": {},
   "outputs": [],
   "source": [
    "# tf.set_random_seed(0)"
   ]
  },
  {
   "cell_type": "code",
   "execution_count": 118,
   "metadata": {},
   "outputs": [
    {
     "name": "stdout",
     "output_type": "stream",
     "text": [
      "[[0.6014379  0.13249588 0.138376  ]\n",
      " [0.15651369 0.6516638  0.70655644]\n",
      " [0.7373748  0.9538046  0.84751356]]\n"
     ]
    }
   ],
   "source": [
    "# a = tf.random_uniform((3, 3))\n",
    "# with tf.Session() as sess:\n",
    "#     print(sess.run(a))"
   ]
  },
  {
   "cell_type": "code",
   "execution_count": null,
   "metadata": {},
   "outputs": [],
   "source": []
  },
  {
   "cell_type": "markdown",
   "metadata": {},
   "source": [
    "## 텐서변환"
   ]
  },
  {
   "cell_type": "markdown",
   "metadata": {},
   "source": [
    "### tf.cast"
   ]
  },
  {
   "cell_type": "code",
   "execution_count": 119,
   "metadata": {},
   "outputs": [
    {
     "name": "stdout",
     "output_type": "stream",
     "text": [
      "Tensor(\"Const_2:0\", shape=(), dtype=float32)\n",
      "Tensor(\"Cast:0\", shape=(), dtype=int32)\n"
     ]
    }
   ],
   "source": [
    "a = tf.constant(2.2, dtype=tf.float32)\n",
    "print(a)\n",
    "b = tf.cast(a, tf.int32)\n",
    "print(b)"
   ]
  },
  {
   "cell_type": "markdown",
   "metadata": {},
   "source": [
    "### tf.reshape"
   ]
  },
  {
   "cell_type": "code",
   "execution_count": 120,
   "metadata": {},
   "outputs": [
    {
     "data": {
      "text/plain": [
       "<tf.Tensor 'LinSpace_1:0' shape=(100,) dtype=float32>"
      ]
     },
     "execution_count": 120,
     "metadata": {},
     "output_type": "execute_result"
    }
   ],
   "source": [
    "a = tf.linspace(1.0, 10, 100)\n",
    "a"
   ]
  },
  {
   "cell_type": "code",
   "execution_count": 121,
   "metadata": {},
   "outputs": [
    {
     "data": {
      "text/plain": [
       "<tf.Tensor 'Reshape:0' shape=(10, 10) dtype=float32>"
      ]
     },
     "execution_count": 121,
     "metadata": {},
     "output_type": "execute_result"
    }
   ],
   "source": [
    "tf.reshape(a, (10, 10))"
   ]
  },
  {
   "cell_type": "code",
   "execution_count": 122,
   "metadata": {
    "scrolled": true
   },
   "outputs": [
    {
     "data": {
      "text/plain": [
       "<tf.Tensor 'Reshape_1:0' shape=(10, 10) dtype=float32>"
      ]
     },
     "execution_count": 122,
     "metadata": {},
     "output_type": "execute_result"
    }
   ],
   "source": [
    "tf.reshape(a, (10, -1))"
   ]
  },
  {
   "cell_type": "code",
   "execution_count": 123,
   "metadata": {},
   "outputs": [
    {
     "data": {
      "text/plain": [
       "<tf.Tensor 'Reshape_2:0' shape=(5, 20) dtype=float32>"
      ]
     },
     "execution_count": 123,
     "metadata": {},
     "output_type": "execute_result"
    }
   ],
   "source": [
    "tf.reshape(a, (-1, 20))"
   ]
  },
  {
   "cell_type": "markdown",
   "metadata": {},
   "source": [
    "## 수학함수"
   ]
  },
  {
   "cell_type": "markdown",
   "metadata": {},
   "source": [
    "### tf.abs"
   ]
  },
  {
   "cell_type": "code",
   "execution_count": 124,
   "metadata": {},
   "outputs": [
    {
     "name": "stdout",
     "output_type": "stream",
     "text": [
      "[-10.  -9.  -8.  -7.  -6.  -5.  -4.  -3.  -2.  -1.   0.   1.   2.   3.\n",
      "   4.   5.   6.   7.   8.   9.]\n",
      "------------------------------\n",
      "[10.  9.  8.  7.  6.  5.  4.  3.  2.  1.  0.  1.  2.  3.  4.  5.  6.  7.\n",
      "  8.  9.]\n"
     ]
    }
   ],
   "source": [
    "a = tf.range(-10.0, 10, dtype=tf.float32)\n",
    "b = tf.abs(a)\n",
    "\n",
    "with tf.Session() as sess:\n",
    "    print(sess.run(a))\n",
    "    print('-'*30)\n",
    "    print(sess.run(b))"
   ]
  },
  {
   "cell_type": "markdown",
   "metadata": {},
   "source": [
    "### tf.sqrt"
   ]
  },
  {
   "cell_type": "code",
   "execution_count": 125,
   "metadata": {},
   "outputs": [
    {
     "name": "stdout",
     "output_type": "stream",
     "text": [
      "[ 0.  1.  2.  3.  4.  5.  6.  7.  8.  9. 10. 11. 12. 13. 14. 15. 16. 17.\n",
      " 18. 19.]\n",
      "------------------------------\n",
      "[0.         0.99999994 1.4142134  1.7320508  1.9999999  2.236068\n",
      " 2.4494896  2.6457512  2.8284268  2.9999998  3.1622777  3.3166249\n",
      " 3.4641016  3.6055508  3.7416573  3.8729832  3.9999998  4.1231055\n",
      " 4.2426405  4.3588986 ]\n"
     ]
    }
   ],
   "source": [
    "a = tf.range(0, 20, dtype=tf.float32)\n",
    "b = tf.sqrt(a)\n",
    "\n",
    "with tf.Session() as sess:\n",
    "    print(sess.run(a))\n",
    "    print('-'*30)\n",
    "    print(sess.run(b))"
   ]
  },
  {
   "cell_type": "markdown",
   "metadata": {},
   "source": [
    "### tf.exp"
   ]
  },
  {
   "cell_type": "code",
   "execution_count": 126,
   "metadata": {},
   "outputs": [
    {
     "name": "stdout",
     "output_type": "stream",
     "text": [
      "[ 0.  1.  2.  3.  4.  5.  6.  7.  8.  9. 10. 11. 12. 13. 14. 15. 16. 17.\n",
      " 18. 19.]\n",
      "------------------------------\n",
      "[1.0000000e+00 2.7182817e+00 7.3890562e+00 2.0085537e+01 5.4598152e+01\n",
      " 1.4841316e+02 4.0342880e+02 1.0966332e+03 2.9809580e+03 8.1030840e+03\n",
      " 2.2026465e+04 5.9874141e+04 1.6275480e+05 4.4241338e+05 1.2026042e+06\n",
      " 3.2690175e+06 8.8861110e+06 2.4154952e+07 6.5659968e+07 1.7848230e+08]\n"
     ]
    }
   ],
   "source": [
    "a = tf.range(0, 20, dtype=tf.float32)\n",
    "b = tf.exp(a)\n",
    "\n",
    "with tf.Session() as sess:\n",
    "    print(sess.run(a))\n",
    "    print('-'*30)\n",
    "    print(sess.run(b))"
   ]
  },
  {
   "cell_type": "markdown",
   "metadata": {},
   "source": [
    "### tf.log"
   ]
  },
  {
   "cell_type": "code",
   "execution_count": 127,
   "metadata": {},
   "outputs": [
    {
     "name": "stdout",
     "output_type": "stream",
     "text": [
      "[ 1.  2.  3.  4.  5.  6.  7.  8.  9. 10. 11. 12. 13. 14. 15. 16. 17. 18.\n",
      " 19.]\n",
      "------------------------------\n",
      "[0.        0.6931472 1.0986123 1.3862944 1.609438  1.7917595 1.9459102\n",
      " 2.0794415 2.1972246 2.3025851 2.3978953 2.4849067 2.5649493 2.6390574\n",
      " 2.7080503 2.7725887 2.8332133 2.8903718 2.944439 ]\n"
     ]
    }
   ],
   "source": [
    "a = tf.range(1, 20, dtype=tf.float32)\n",
    "b = tf.log(a)\n",
    "\n",
    "with tf.Session() as sess:\n",
    "    print(sess.run(a))\n",
    "    print('-'*30)\n",
    "    print(sess.run(b))"
   ]
  },
  {
   "cell_type": "markdown",
   "metadata": {},
   "source": [
    "### matrix  "
   ]
  },
  {
   "cell_type": "code",
   "execution_count": 129,
   "metadata": {},
   "outputs": [
    {
     "name": "stdout",
     "output_type": "stream",
     "text": [
      "(4, 5) (4, 5)\n"
     ]
    }
   ],
   "source": [
    "X = tf.range(20, dtype=tf.float32)\n",
    "X = tf.reshape(X, (4,5))\n",
    "\n",
    "\n",
    "Y = tf.ones((4,5), dtype=tf.float32)\n",
    "print(X.shape, Y.shape)"
   ]
  },
  {
   "cell_type": "code",
   "execution_count": null,
   "metadata": {},
   "outputs": [],
   "source": []
  },
  {
   "cell_type": "code",
   "execution_count": 130,
   "metadata": {},
   "outputs": [
    {
     "name": "stdout",
     "output_type": "stream",
     "text": [
      "(4, 5) (5, 4)\n"
     ]
    }
   ],
   "source": [
    "# XY = tf.matmul(X, Y) # 오류 발생\n",
    "Y = tf.transpose(Y)\n",
    "print(X.shape, Y.shape)"
   ]
  },
  {
   "cell_type": "code",
   "execution_count": 131,
   "metadata": {},
   "outputs": [
    {
     "name": "stdout",
     "output_type": "stream",
     "text": [
      "Tensor(\"MatMul:0\", shape=(4, 4), dtype=float32)\n",
      "------------------------------\n",
      "[[10. 10. 10. 10.]\n",
      " [35. 35. 35. 35.]\n",
      " [60. 60. 60. 60.]\n",
      " [85. 85. 85. 85.]]\n"
     ]
    }
   ],
   "source": [
    "XY = tf.matmul(X,Y)\n",
    "print(XY)\n",
    "\n",
    "with tf.Session() as sess:\n",
    "    print('-'*30)\n",
    "    print(sess.run(XY))"
   ]
  },
  {
   "cell_type": "markdown",
   "metadata": {},
   "source": [
    "## Reduce --- (sum, prod, min, max, mean, ...)"
   ]
  },
  {
   "cell_type": "markdown",
   "metadata": {},
   "source": [
    "차원을 줄이면서 ~~~ 한다."
   ]
  },
  {
   "cell_type": "code",
   "execution_count": 133,
   "metadata": {},
   "outputs": [
    {
     "name": "stdout",
     "output_type": "stream",
     "text": [
      "10\n",
      "------------------------------\n",
      "[4 6]\n",
      "------------------------------\n",
      "[3 7]\n"
     ]
    }
   ],
   "source": [
    "X = [[1, 2],\n",
    "     [3, 4]]\n",
    "\n",
    "r_sum0 = tf.reduce_sum(X) # 첫번째 배열 (바깥쪽)\n",
    "r_sum1 = tf.reduce_sum(X, axis=0) # 첫번째 배열 (바깥쪽)\n",
    "r_sum2 = tf.reduce_sum(X, axis=1) # 두번째 배열 (안쪽)\n",
    "\n",
    "with tf.Session() as sess:\n",
    "    print(sess.run(r_sum0))\n",
    "    print('-'*30)\n",
    "    \n",
    "    print(sess.run(r_sum1))\n",
    "    print('-'*30)\n",
    "    print(sess.run(r_sum2))"
   ]
  },
  {
   "cell_type": "code",
   "execution_count": 134,
   "metadata": {},
   "outputs": [
    {
     "name": "stdout",
     "output_type": "stream",
     "text": [
      "24\n",
      "------------------------------\n",
      "[3 8]\n",
      "------------------------------\n",
      "[ 2 12]\n"
     ]
    }
   ],
   "source": [
    "X = [[1, 2],\n",
    "     [3, 4]]\n",
    "\n",
    "r_prod0 = tf.reduce_prod(X) # 첫번째 배열 (바깥쪽)\n",
    "r_prod1 = tf.reduce_prod(X, axis=0) # 첫번째 배열 (바깥쪽)\n",
    "r_prod2 = tf.reduce_prod(X, axis=1) # 두번째 배열 (안쪽)\n",
    "\n",
    "with tf.Session() as sess:\n",
    "    print(sess.run(r_prod0))\n",
    "    print('-'*30)\n",
    "    \n",
    "    print(sess.run(r_prod1))\n",
    "    print('-'*30)\n",
    "    print(sess.run(r_prod2))"
   ]
  },
  {
   "cell_type": "markdown",
   "metadata": {},
   "source": [
    "# 연습문제 0 \n",
    "1. X를 range함수를이용해 0부터 16까지의 벡터를 만들고   [0, ... , 15]\n",
    "2. 이를 4,4 matrix로 변환하고\n",
    "3. reduce_mean과 reduce_max들의 결과를 확인하시오.\n"
   ]
  },
  {
   "cell_type": "code",
   "execution_count": 139,
   "metadata": {},
   "outputs": [
    {
     "name": "stdout",
     "output_type": "stream",
     "text": [
      "7\n",
      "[6 7 8 9]\n",
      "[ 1  5  9 13]\n"
     ]
    }
   ],
   "source": [
    "X = tf.range(0, 16)\n",
    "X = tf.reshape(X, [4,4])\n",
    "y = tf.reduce_mean(X)\n",
    "y\n",
    "\n",
    "with tf.Session() as sess:\n",
    "    print(sess.run(y))\n",
    "    print(sess.run(tf.reduce_mean(X, axis=0)))\n",
    "    print(tf.reduce_mean(X, axis=1).eval())"
   ]
  },
  {
   "cell_type": "markdown",
   "metadata": {},
   "source": [
    "# 연습문제1.\n",
    "덧셈 프로그램 작성  \n",
    "상수 두개인 텐서(5, 8)를 작성하고 덧셈을 연산하는 그래프를 작성하시오.  \n",
    "그리고 해당 결과를 출력하고 확인하시오.  \n"
   ]
  },
  {
   "cell_type": "code",
   "execution_count": 143,
   "metadata": {},
   "outputs": [
    {
     "name": "stdout",
     "output_type": "stream",
     "text": [
      "13\n",
      "13\n"
     ]
    }
   ],
   "source": [
    "a = tf.constant(5)\n",
    "b = tf.constant(8)\n",
    "\n",
    "c = a+b\n",
    "c = tf.add(a, b)\n",
    "\n",
    "d = tf.constant([5, 8])\n",
    "\n",
    "with tf.Session() as sess:\n",
    "    print(sess.run(c))\n",
    "    print(sess.run(tf.reduce_sum(d)))"
   ]
  },
  {
   "cell_type": "markdown",
   "metadata": {},
   "source": [
    "# 연습문제2.\n",
    "tf.linspace를 이용해 0부터 10까지 숫자 100개를 만들어서  \n",
    "node1에 선언하고  \n",
    "node2에는 node1에 3을 곱하고  \n",
    "node3에는 float32타입의 placeholder를 선언하시오.  \n",
    "node4에는 node2와 node3를 더하시오.  \n",
    "실행시 node3에 값을 1부터 10까지 하여 node4를 반복 출력하시오.(for문)  "
   ]
  },
  {
   "cell_type": "code",
   "execution_count": 148,
   "metadata": {
    "scrolled": true
   },
   "outputs": [],
   "source": [
    "node1 = tf.linspace(0.0, 10, 100)\n",
    "node2 = node1 * 3 # tf.multiply(node1, 3)\n",
    "node3 = tf.placeholder(tf.float32)\n",
    "node4 = node2 + node3\n",
    "\n"
   ]
  },
  {
   "cell_type": "code",
   "execution_count": 149,
   "metadata": {},
   "outputs": [
    {
     "name": "stdout",
     "output_type": "stream",
     "text": [
      "[ 1.         1.3030303  1.6060606  1.909091   2.2121212  2.5151515\n",
      "  2.818182   3.121212   3.4242425  3.7272725  4.030303   4.333333\n",
      "  4.636364   4.939394   5.242424   5.5454545  5.848485   6.151515\n",
      "  6.454545   6.7575755  7.060606   7.363636   7.666666   7.9696965\n",
      "  8.272728   8.575758   8.878788   9.181818   9.484848   9.787879\n",
      " 10.090909  10.393939  10.69697   11.        11.30303   11.60606\n",
      " 11.90909   12.212121  12.515151  12.818181  13.121212  13.424242\n",
      " 13.727272  14.030303  14.333332  14.636364  14.939393  15.242424\n",
      " 15.545455  15.848484  16.151516  16.454544  16.757576  17.060606\n",
      " 17.363636  17.666666  17.969696  18.272726  18.575758  18.878788\n",
      " 19.181818  19.484848  19.787878  20.090908  20.39394   20.69697\n",
      " 21.        21.30303   21.60606   21.909092  22.21212   22.515152\n",
      " 22.81818   23.121212  23.424242  23.727272  24.030302  24.333332\n",
      " 24.636362  24.939394  25.242424  25.545454  25.848484  26.151516\n",
      " 26.454544  26.757576  27.060606  27.363636  27.666664  27.969696\n",
      " 28.272728  28.575758  28.878786  29.181816  29.484848  29.78788\n",
      " 30.09091   30.393938  30.696968  31.       ]\n",
      "[ 2.         2.3030303  2.6060605  2.909091   3.2121212  3.5151515\n",
      "  3.818182   4.121212   4.4242425  4.7272725  5.030303   5.333333\n",
      "  5.636364   5.939394   6.242424   6.5454545  6.848485   7.151515\n",
      "  7.454545   7.7575755  8.060606   8.363636   8.666666   8.969696\n",
      "  9.272728   9.575758   9.878788  10.181818  10.484848  10.787879\n",
      " 11.090909  11.393939  11.69697   12.        12.30303   12.60606\n",
      " 12.90909   13.212121  13.515151  13.818181  14.121212  14.424242\n",
      " 14.727272  15.030303  15.333332  15.636364  15.939393  16.242424\n",
      " 16.545456  16.848484  17.151516  17.454544  17.757576  18.060606\n",
      " 18.363636  18.666666  18.969696  19.272726  19.575758  19.878788\n",
      " 20.181818  20.484848  20.787878  21.090908  21.39394   21.69697\n",
      " 22.        22.30303   22.60606   22.909092  23.21212   23.515152\n",
      " 23.81818   24.121212  24.424242  24.727272  25.030302  25.333332\n",
      " 25.636362  25.939394  26.242424  26.545454  26.848484  27.151516\n",
      " 27.454544  27.757576  28.060606  28.363636  28.666664  28.969696\n",
      " 29.272728  29.575758  29.878786  30.181816  30.484848  30.78788\n",
      " 31.09091   31.393938  31.696968  32.       ]\n",
      "[ 3.         3.3030303  3.6060605  3.909091   4.212121   4.5151515\n",
      "  4.818182   5.121212   5.4242425  5.7272725  6.030303   6.333333\n",
      "  6.636364   6.939394   7.242424   7.5454545  7.848485   8.151515\n",
      "  8.454545   8.757576   9.060606   9.363636   9.666666   9.969696\n",
      " 10.272728  10.575758  10.878788  11.181818  11.484848  11.787879\n",
      " 12.090909  12.393939  12.69697   13.        13.30303   13.60606\n",
      " 13.90909   14.212121  14.515151  14.818181  15.121212  15.424242\n",
      " 15.727272  16.030304  16.333332  16.636364  16.939392  17.242424\n",
      " 17.545456  17.848484  18.151516  18.454544  18.757576  19.060606\n",
      " 19.363636  19.666666  19.969696  20.272726  20.575758  20.878788\n",
      " 21.181818  21.484848  21.787878  22.090908  22.39394   22.69697\n",
      " 23.        23.30303   23.60606   23.909092  24.21212   24.515152\n",
      " 24.81818   25.121212  25.424242  25.727272  26.030302  26.333332\n",
      " 26.636362  26.939394  27.242424  27.545454  27.848484  28.151516\n",
      " 28.454544  28.757576  29.060606  29.363636  29.666664  29.969696\n",
      " 30.272728  30.575758  30.878786  31.181816  31.484848  31.78788\n",
      " 32.09091   32.393936  32.696968  33.       ]\n",
      "[ 4.         4.3030305  4.6060605  4.909091   5.212121   5.5151515\n",
      "  5.818182   6.121212   6.4242425  6.7272725  7.030303   7.333333\n",
      "  7.636364   7.939394   8.242424   8.545454   8.848485   9.151515\n",
      "  9.454545   9.757576  10.060606  10.363636  10.666666  10.969696\n",
      " 11.272728  11.575758  11.878788  12.181818  12.484848  12.787879\n",
      " 13.090909  13.393939  13.69697   14.        14.30303   14.60606\n",
      " 14.90909   15.212121  15.515151  15.818181  16.121212  16.424242\n",
      " 16.727272  17.030304  17.333332  17.636364  17.939392  18.242424\n",
      " 18.545456  18.848484  19.151516  19.454544  19.757576  20.060606\n",
      " 20.363636  20.666666  20.969696  21.272726  21.575758  21.878788\n",
      " 22.181818  22.484848  22.787878  23.090908  23.39394   23.69697\n",
      " 24.        24.30303   24.60606   24.909092  25.21212   25.515152\n",
      " 25.81818   26.121212  26.424242  26.727272  27.030302  27.333332\n",
      " 27.636362  27.939394  28.242424  28.545454  28.848484  29.151516\n",
      " 29.454544  29.757576  30.060606  30.363636  30.666664  30.969696\n",
      " 31.272728  31.575758  31.878786  32.181816  32.484848  32.78788\n",
      " 33.09091   33.393936  33.696968  34.       ]\n",
      "[ 5.         5.3030305  5.6060605  5.909091   6.212121   6.5151515\n",
      "  6.818182   7.121212   7.4242425  7.7272725  8.030303   8.333333\n",
      "  8.636364   8.939394   9.242424   9.545454   9.848485  10.151515\n",
      " 10.454545  10.757576  11.060606  11.363636  11.666666  11.969696\n",
      " 12.272728  12.575758  12.878788  13.181818  13.484848  13.787879\n",
      " 14.090909  14.393939  14.69697   15.        15.30303   15.60606\n",
      " 15.90909   16.21212   16.515152  16.81818   17.121212  17.424242\n",
      " 17.727272  18.030304  18.333332  18.636364  18.939392  19.242424\n",
      " 19.545456  19.848484  20.151516  20.454544  20.757576  21.060606\n",
      " 21.363636  21.666666  21.969696  22.272726  22.575758  22.878788\n",
      " 23.181818  23.484848  23.787878  24.090908  24.39394   24.69697\n",
      " 25.        25.30303   25.60606   25.909092  26.21212   26.515152\n",
      " 26.81818   27.121212  27.424242  27.727272  28.030302  28.333332\n",
      " 28.636362  28.939394  29.242424  29.545454  29.848484  30.151516\n",
      " 30.454544  30.757576  31.060606  31.363636  31.666664  31.969696\n",
      " 32.272728  32.57576   32.878784  33.181816  33.484848  33.78788\n",
      " 34.09091   34.393936  34.696968  35.       ]\n",
      "[ 6.         6.3030305  6.6060605  6.909091   7.212121   7.5151515\n",
      "  7.818182   8.121212   8.424242   8.727272   9.030303   9.333333\n",
      "  9.636364   9.939394  10.242424  10.545454  10.848485  11.151515\n",
      " 11.454545  11.757576  12.060606  12.363636  12.666666  12.969696\n",
      " 13.272728  13.575758  13.878788  14.181818  14.484848  14.787879\n",
      " 15.090909  15.393939  15.69697   16.        16.30303   16.60606\n",
      " 16.90909   17.21212   17.515152  17.81818   18.121212  18.424242\n",
      " 18.727272  19.030304  19.333332  19.636364  19.939392  20.242424\n",
      " 20.545456  20.848484  21.151516  21.454544  21.757576  22.060606\n",
      " 22.363636  22.666666  22.969696  23.272726  23.575758  23.878788\n",
      " 24.181818  24.484848  24.787878  25.090908  25.39394   25.69697\n",
      " 26.        26.30303   26.60606   26.909092  27.21212   27.515152\n",
      " 27.81818   28.121212  28.424242  28.727272  29.030302  29.333332\n",
      " 29.636362  29.939394  30.242424  30.545454  30.848484  31.151516\n",
      " 31.454544  31.757576  32.060608  32.363636  32.666664  32.969696\n",
      " 33.272728  33.57576   33.878784  34.181816  34.484848  34.78788\n",
      " 35.09091   35.393936  35.696968  36.       ]\n",
      "[ 7.         7.3030305  7.6060605  7.909091   8.212121   8.515152\n",
      "  8.818182   9.121212   9.424242   9.727272  10.030303  10.333333\n",
      " 10.636364  10.939394  11.242424  11.545454  11.848485  12.151515\n",
      " 12.454545  12.757576  13.060606  13.363636  13.666666  13.969696\n",
      " 14.272728  14.575758  14.878788  15.181818  15.484848  15.787879\n",
      " 16.090908  16.39394   16.69697   17.        17.30303   17.60606\n",
      " 17.90909   18.21212   18.515152  18.81818   19.121212  19.424242\n",
      " 19.727272  20.030304  20.333332  20.636364  20.939392  21.242424\n",
      " 21.545456  21.848484  22.151516  22.454544  22.757576  23.060606\n",
      " 23.363636  23.666666  23.969696  24.272726  24.575758  24.878788\n",
      " 25.181818  25.484848  25.787878  26.090908  26.39394   26.69697\n",
      " 27.        27.30303   27.60606   27.909092  28.21212   28.515152\n",
      " 28.81818   29.121212  29.424242  29.727272  30.030302  30.333332\n",
      " 30.636362  30.939394  31.242424  31.545454  31.848484  32.151516\n",
      " 32.454544  32.757576  33.060608  33.363636  33.666664  33.969696\n",
      " 34.272728  34.57576   34.878784  35.181816  35.484848  35.78788\n",
      " 36.09091   36.393936  36.696968  37.       ]\n",
      "[ 8.        8.30303   8.606061  8.909091  9.212121  9.515152  9.818182\n",
      " 10.121212 10.424242 10.727272 11.030303 11.333333 11.636364 11.939394\n",
      " 12.242424 12.545454 12.848485 13.151515 13.454545 13.757576 14.060606\n",
      " 14.363636 14.666666 14.969696 15.272728 15.575758 15.878788 16.181818\n",
      " 16.484848 16.78788  17.090908 17.39394  17.69697  18.       18.30303\n",
      " 18.60606  18.90909  19.21212  19.515152 19.81818  20.121212 20.424242\n",
      " 20.727272 21.030304 21.333332 21.636364 21.939392 22.242424 22.545456\n",
      " 22.848484 23.151516 23.454544 23.757576 24.060606 24.363636 24.666666\n",
      " 24.969696 25.272726 25.575758 25.878788 26.181818 26.484848 26.787878\n",
      " 27.090908 27.39394  27.69697  28.       28.30303  28.60606  28.909092\n",
      " 29.21212  29.515152 29.81818  30.121212 30.424242 30.727272 31.030302\n",
      " 31.333332 31.636362 31.939394 32.242424 32.545456 32.848484 33.151516\n",
      " 33.454544 33.757576 34.060608 34.363636 34.666664 34.969696 35.272728\n",
      " 35.57576  35.878784 36.181816 36.484848 36.78788  37.09091  37.393936\n",
      " 37.696968 38.      ]\n",
      "[ 9.        9.30303   9.606061  9.909091 10.212121 10.515152 10.818182\n",
      " 11.121212 11.424242 11.727272 12.030303 12.333333 12.636364 12.939394\n",
      " 13.242424 13.545454 13.848485 14.151515 14.454545 14.757576 15.060606\n",
      " 15.363636 15.666666 15.969696 16.272728 16.575758 16.878788 17.181818\n",
      " 17.484848 17.78788  18.090908 18.39394  18.69697  19.       19.30303\n",
      " 19.60606  19.90909  20.21212  20.515152 20.81818  21.121212 21.424242\n",
      " 21.727272 22.030304 22.333332 22.636364 22.939392 23.242424 23.545456\n",
      " 23.848484 24.151516 24.454544 24.757576 25.060606 25.363636 25.666666\n",
      " 25.969696 26.272726 26.575758 26.878788 27.181818 27.484848 27.787878\n",
      " 28.090908 28.39394  28.69697  29.       29.30303  29.60606  29.909092\n",
      " 30.21212  30.515152 30.81818  31.121212 31.424242 31.727272 32.030304\n",
      " 32.333332 32.63636  32.939392 33.242424 33.545456 33.848484 34.151516\n",
      " 34.454544 34.757576 35.060608 35.363636 35.666664 35.969696 36.272728\n",
      " 36.57576  36.878784 37.181816 37.484848 37.78788  38.09091  38.393936\n",
      " 38.696968 39.      ]\n",
      "[10.       10.30303  10.606061 10.909091 11.212121 11.515152 11.818182\n",
      " 12.121212 12.424242 12.727272 13.030303 13.333333 13.636364 13.939394\n",
      " 14.242424 14.545454 14.848485 15.151515 15.454545 15.757576 16.060606\n",
      " 16.363636 16.666666 16.969696 17.272728 17.575758 17.878788 18.181818\n",
      " 18.484848 18.78788  19.090908 19.39394  19.69697  20.       20.30303\n",
      " 20.60606  20.90909  21.21212  21.515152 21.81818  22.121212 22.424242\n",
      " 22.727272 23.030304 23.333332 23.636364 23.939392 24.242424 24.545456\n",
      " 24.848484 25.151516 25.454544 25.757576 26.060606 26.363636 26.666666\n",
      " 26.969696 27.272726 27.575758 27.878788 28.181818 28.484848 28.787878\n",
      " 29.090908 29.39394  29.69697  30.       30.30303  30.60606  30.909092\n",
      " 31.21212  31.515152 31.81818  32.121212 32.42424  32.727272 33.030304\n",
      " 33.333332 33.63636  33.939392 34.242424 34.545456 34.848484 35.151516\n",
      " 35.454544 35.757576 36.060608 36.363636 36.666664 36.969696 37.272728\n",
      " 37.57576  37.878784 38.181816 38.484848 38.78788  39.09091  39.393936\n",
      " 39.696968 40.      ]\n"
     ]
    }
   ],
   "source": [
    "with tf.Session() as sess:\n",
    "    for i in range(1, 11):\n",
    "        print(sess.run(node4, feed_dict={node3:i}))"
   ]
  },
  {
   "cell_type": "code",
   "execution_count": null,
   "metadata": {},
   "outputs": [],
   "source": []
  },
  {
   "cell_type": "code",
   "execution_count": null,
   "metadata": {},
   "outputs": [],
   "source": []
  },
  {
   "cell_type": "code",
   "execution_count": null,
   "metadata": {},
   "outputs": [],
   "source": []
  },
  {
   "cell_type": "markdown",
   "metadata": {},
   "source": [
    "# 모범답안"
   ]
  },
  {
   "cell_type": "markdown",
   "metadata": {},
   "source": [
    "### 연습문제1"
   ]
  },
  {
   "cell_type": "code",
   "execution_count": null,
   "metadata": {},
   "outputs": [],
   "source": [
    "# node1 = tf.constant(5) # 오류 발생\n",
    "node1 = tf.constant(5, dtype=tf.float32) # node1 = tf.constant(5.0)\n",
    "node2 = tf.constant(8.3)\n",
    "node3 = tf.add(node1,node2)\n",
    "# node3 = node1 + node2\n",
    "\n",
    "with tf.Session() as sess:\n",
    "    print(node3.eval())"
   ]
  },
  {
   "cell_type": "code",
   "execution_count": null,
   "metadata": {},
   "outputs": [],
   "source": []
  },
  {
   "cell_type": "markdown",
   "metadata": {},
   "source": [
    "### 연습문제2"
   ]
  },
  {
   "cell_type": "code",
   "execution_count": null,
   "metadata": {},
   "outputs": [],
   "source": [
    "node1 = tf.linspace(0.0,10,100)\n",
    "node2 = node1*3\n",
    "node3 = tf.placeholder(tf.float32)\n",
    "node4 = node2 + node3\n",
    "\n",
    "with tf.Session() as session:\n",
    "    for i in range(1, 11):\n",
    "        result = session.run(node4, feed_dict={node3:i})\n",
    "        print(result)\n",
    "        print('-'*50)"
   ]
  },
  {
   "cell_type": "markdown",
   "metadata": {},
   "source": [
    "# 실습으로 구현하는 TensorFlow"
   ]
  },
  {
   "cell_type": "markdown",
   "metadata": {},
   "source": [
    "## Califonia Dataset으로 Linear Regression 구현하기"
   ]
  },
  {
   "cell_type": "markdown",
   "metadata": {},
   "source": [
    "### 실행순서\n",
    "1. Data Load (Califonia Data)\n",
    "2. Data 전처리\n",
    "3. Graph 정의( Linear Regression)\n",
    "4. 실행"
   ]
  },
  {
   "cell_type": "code",
   "execution_count": 15,
   "metadata": {},
   "outputs": [],
   "source": [
    "import numpy as np\n",
    "import tensorflow as tf\n",
    "from sklearn.datasets import fetch_california_housing\n",
    "\n",
    "def reset_all(seed=0):\n",
    "    # 왜 할까요? 생각해봅시다.\n",
    "    tf.reset_default_graph() # graph 초기화\n",
    "    tf.set_random_seed(seed) # tf.random_seed 초기화\n",
    "    np.random.seed(seed) # np.random_seed 초기화"
   ]
  },
  {
   "cell_type": "code",
   "execution_count": 16,
   "metadata": {},
   "outputs": [],
   "source": [
    "reset_all()"
   ]
  },
  {
   "cell_type": "markdown",
   "metadata": {},
   "source": [
    "## 1.Data 로드"
   ]
  },
  {
   "cell_type": "code",
   "execution_count": 33,
   "metadata": {},
   "outputs": [],
   "source": [
    "housing = fetch_california_housing()"
   ]
  },
  {
   "cell_type": "code",
   "execution_count": 34,
   "metadata": {},
   "outputs": [
    {
     "data": {
      "text/plain": [
       "dict_keys(['data', 'target', 'feature_names', 'DESCR'])"
      ]
     },
     "execution_count": 34,
     "metadata": {},
     "output_type": "execute_result"
    }
   ],
   "source": [
    "housing.keys()"
   ]
  },
  {
   "cell_type": "code",
   "execution_count": 35,
   "metadata": {},
   "outputs": [
    {
     "name": "stdout",
     "output_type": "stream",
     "text": [
      ".. _california_housing_dataset:\n",
      "\n",
      "California Housing dataset\n",
      "--------------------------\n",
      "\n",
      "**Data Set Characteristics:**\n",
      "\n",
      "    :Number of Instances: 20640\n",
      "\n",
      "    :Number of Attributes: 8 numeric, predictive attributes and the target\n",
      "\n",
      "    :Attribute Information:\n",
      "        - MedInc        median income in block\n",
      "        - HouseAge      median house age in block\n",
      "        - AveRooms      average number of rooms\n",
      "        - AveBedrms     average number of bedrooms\n",
      "        - Population    block population\n",
      "        - AveOccup      average house occupancy\n",
      "        - Latitude      house block latitude\n",
      "        - Longitude     house block longitude\n",
      "\n",
      "    :Missing Attribute Values: None\n",
      "\n",
      "This dataset was obtained from the StatLib repository.\n",
      "http://lib.stat.cmu.edu/datasets/\n",
      "\n",
      "The target variable is the median house value for California districts.\n",
      "\n",
      "This dataset was derived from the 1990 U.S. census, using one row per census\n",
      "block group. A block group is the smallest geographical unit for which the U.S.\n",
      "Census Bureau publishes sample data (a block group typically has a population\n",
      "of 600 to 3,000 people).\n",
      "\n",
      "It can be downloaded/loaded using the\n",
      ":func:`sklearn.datasets.fetch_california_housing` function.\n",
      "\n",
      ".. topic:: References\n",
      "\n",
      "    - Pace, R. Kelley and Ronald Barry, Sparse Spatial Autoregressions,\n",
      "      Statistics and Probability Letters, 33 (1997) 291-297\n",
      "\n"
     ]
    }
   ],
   "source": [
    "print(housing['DESCR'])"
   ]
  },
  {
   "cell_type": "code",
   "execution_count": 36,
   "metadata": {
    "scrolled": true
   },
   "outputs": [
    {
     "data": {
      "text/plain": [
       "array([[   8.3252    ,   41.        ,    6.98412698, ...,    2.55555556,\n",
       "          37.88      , -122.23      ],\n",
       "       [   8.3014    ,   21.        ,    6.23813708, ...,    2.10984183,\n",
       "          37.86      , -122.22      ],\n",
       "       [   7.2574    ,   52.        ,    8.28813559, ...,    2.80225989,\n",
       "          37.85      , -122.24      ],\n",
       "       ...,\n",
       "       [   1.7       ,   17.        ,    5.20554273, ...,    2.3256351 ,\n",
       "          39.43      , -121.22      ],\n",
       "       [   1.8672    ,   18.        ,    5.32951289, ...,    2.12320917,\n",
       "          39.43      , -121.32      ],\n",
       "       [   2.3886    ,   16.        ,    5.25471698, ...,    2.61698113,\n",
       "          39.37      , -121.24      ]])"
      ]
     },
     "execution_count": 36,
     "metadata": {},
     "output_type": "execute_result"
    }
   ],
   "source": [
    "housing.data"
   ]
  },
  {
   "cell_type": "code",
   "execution_count": 37,
   "metadata": {},
   "outputs": [
    {
     "data": {
      "text/plain": [
       "array([4.526, 3.585, 3.521, ..., 0.923, 0.847, 0.894])"
      ]
     },
     "execution_count": 37,
     "metadata": {},
     "output_type": "execute_result"
    }
   ],
   "source": [
    "housing.target"
   ]
  },
  {
   "cell_type": "code",
   "execution_count": 38,
   "metadata": {},
   "outputs": [
    {
     "data": {
      "text/plain": [
       "['MedInc',\n",
       " 'HouseAge',\n",
       " 'AveRooms',\n",
       " 'AveBedrms',\n",
       " 'Population',\n",
       " 'AveOccup',\n",
       " 'Latitude',\n",
       " 'Longitude']"
      ]
     },
     "execution_count": 38,
     "metadata": {},
     "output_type": "execute_result"
    }
   ],
   "source": [
    "housing.feature_names"
   ]
  },
  {
   "cell_type": "code",
   "execution_count": null,
   "metadata": {},
   "outputs": [],
   "source": []
  },
  {
   "cell_type": "code",
   "execution_count": 39,
   "metadata": {},
   "outputs": [],
   "source": [
    "housing_data = housing.data # X\n",
    "housing_label = housing.target # Y\n",
    "\n",
    "m, n = housing_data.shape # shape 저장 (m X n)행렬\n",
    "# bias 추가. (1)"
   ]
  },
  {
   "cell_type": "code",
   "execution_count": 40,
   "metadata": {},
   "outputs": [
    {
     "data": {
      "text/plain": [
       "(20640, 8)"
      ]
     },
     "execution_count": 40,
     "metadata": {},
     "output_type": "execute_result"
    }
   ],
   "source": [
    "m, n"
   ]
  },
  {
   "cell_type": "markdown",
   "metadata": {},
   "source": [
    "#### data 탐색하기"
   ]
  },
  {
   "cell_type": "code",
   "execution_count": 41,
   "metadata": {},
   "outputs": [
    {
     "data": {
      "text/html": [
       "<div>\n",
       "<style scoped>\n",
       "    .dataframe tbody tr th:only-of-type {\n",
       "        vertical-align: middle;\n",
       "    }\n",
       "\n",
       "    .dataframe tbody tr th {\n",
       "        vertical-align: top;\n",
       "    }\n",
       "\n",
       "    .dataframe thead th {\n",
       "        text-align: right;\n",
       "    }\n",
       "</style>\n",
       "<table border=\"1\" class=\"dataframe\">\n",
       "  <thead>\n",
       "    <tr style=\"text-align: right;\">\n",
       "      <th></th>\n",
       "      <th>MedInc</th>\n",
       "      <th>HouseAge</th>\n",
       "      <th>AveRooms</th>\n",
       "      <th>AveBedrms</th>\n",
       "      <th>Population</th>\n",
       "      <th>AveOccup</th>\n",
       "      <th>Latitude</th>\n",
       "      <th>Longitude</th>\n",
       "    </tr>\n",
       "  </thead>\n",
       "  <tbody>\n",
       "    <tr>\n",
       "      <th>0</th>\n",
       "      <td>8.3252</td>\n",
       "      <td>41.0</td>\n",
       "      <td>6.984127</td>\n",
       "      <td>1.023810</td>\n",
       "      <td>322.0</td>\n",
       "      <td>2.555556</td>\n",
       "      <td>37.88</td>\n",
       "      <td>-122.23</td>\n",
       "    </tr>\n",
       "    <tr>\n",
       "      <th>1</th>\n",
       "      <td>8.3014</td>\n",
       "      <td>21.0</td>\n",
       "      <td>6.238137</td>\n",
       "      <td>0.971880</td>\n",
       "      <td>2401.0</td>\n",
       "      <td>2.109842</td>\n",
       "      <td>37.86</td>\n",
       "      <td>-122.22</td>\n",
       "    </tr>\n",
       "    <tr>\n",
       "      <th>2</th>\n",
       "      <td>7.2574</td>\n",
       "      <td>52.0</td>\n",
       "      <td>8.288136</td>\n",
       "      <td>1.073446</td>\n",
       "      <td>496.0</td>\n",
       "      <td>2.802260</td>\n",
       "      <td>37.85</td>\n",
       "      <td>-122.24</td>\n",
       "    </tr>\n",
       "    <tr>\n",
       "      <th>3</th>\n",
       "      <td>5.6431</td>\n",
       "      <td>52.0</td>\n",
       "      <td>5.817352</td>\n",
       "      <td>1.073059</td>\n",
       "      <td>558.0</td>\n",
       "      <td>2.547945</td>\n",
       "      <td>37.85</td>\n",
       "      <td>-122.25</td>\n",
       "    </tr>\n",
       "    <tr>\n",
       "      <th>4</th>\n",
       "      <td>3.8462</td>\n",
       "      <td>52.0</td>\n",
       "      <td>6.281853</td>\n",
       "      <td>1.081081</td>\n",
       "      <td>565.0</td>\n",
       "      <td>2.181467</td>\n",
       "      <td>37.85</td>\n",
       "      <td>-122.25</td>\n",
       "    </tr>\n",
       "  </tbody>\n",
       "</table>\n",
       "</div>"
      ],
      "text/plain": [
       "   MedInc  HouseAge  AveRooms  AveBedrms  Population  AveOccup  Latitude  \\\n",
       "0  8.3252      41.0  6.984127   1.023810       322.0  2.555556     37.88   \n",
       "1  8.3014      21.0  6.238137   0.971880      2401.0  2.109842     37.86   \n",
       "2  7.2574      52.0  8.288136   1.073446       496.0  2.802260     37.85   \n",
       "3  5.6431      52.0  5.817352   1.073059       558.0  2.547945     37.85   \n",
       "4  3.8462      52.0  6.281853   1.081081       565.0  2.181467     37.85   \n",
       "\n",
       "   Longitude  \n",
       "0    -122.23  \n",
       "1    -122.22  \n",
       "2    -122.24  \n",
       "3    -122.25  \n",
       "4    -122.25  "
      ]
     },
     "execution_count": 41,
     "metadata": {},
     "output_type": "execute_result"
    }
   ],
   "source": [
    "import pandas as pd\n",
    "housing_df = pd.DataFrame(housing.data, \n",
    "                          columns=housing.feature_names)\n",
    "housing_df.head()"
   ]
  },
  {
   "cell_type": "code",
   "execution_count": 42,
   "metadata": {},
   "outputs": [
    {
     "name": "stdout",
     "output_type": "stream",
     "text": [
      "<class 'pandas.core.frame.DataFrame'>\n",
      "RangeIndex: 20640 entries, 0 to 20639\n",
      "Data columns (total 8 columns):\n",
      "MedInc        20640 non-null float64\n",
      "HouseAge      20640 non-null float64\n",
      "AveRooms      20640 non-null float64\n",
      "AveBedrms     20640 non-null float64\n",
      "Population    20640 non-null float64\n",
      "AveOccup      20640 non-null float64\n",
      "Latitude      20640 non-null float64\n",
      "Longitude     20640 non-null float64\n",
      "dtypes: float64(8)\n",
      "memory usage: 1.3 MB\n"
     ]
    }
   ],
   "source": [
    "# 결측치는 없네요.\n",
    "# 모든 데이터는 float 형이구요.\n",
    "housing_df.info()"
   ]
  },
  {
   "cell_type": "code",
   "execution_count": 43,
   "metadata": {},
   "outputs": [
    {
     "data": {
      "text/html": [
       "<div>\n",
       "<style scoped>\n",
       "    .dataframe tbody tr th:only-of-type {\n",
       "        vertical-align: middle;\n",
       "    }\n",
       "\n",
       "    .dataframe tbody tr th {\n",
       "        vertical-align: top;\n",
       "    }\n",
       "\n",
       "    .dataframe thead th {\n",
       "        text-align: right;\n",
       "    }\n",
       "</style>\n",
       "<table border=\"1\" class=\"dataframe\">\n",
       "  <thead>\n",
       "    <tr style=\"text-align: right;\">\n",
       "      <th></th>\n",
       "      <th>MedInc</th>\n",
       "      <th>HouseAge</th>\n",
       "      <th>AveRooms</th>\n",
       "      <th>AveBedrms</th>\n",
       "      <th>Population</th>\n",
       "      <th>AveOccup</th>\n",
       "      <th>Latitude</th>\n",
       "      <th>Longitude</th>\n",
       "    </tr>\n",
       "  </thead>\n",
       "  <tbody>\n",
       "    <tr>\n",
       "      <th>count</th>\n",
       "      <td>20640.000000</td>\n",
       "      <td>20640.000000</td>\n",
       "      <td>20640.000000</td>\n",
       "      <td>20640.000000</td>\n",
       "      <td>20640.000000</td>\n",
       "      <td>20640.000000</td>\n",
       "      <td>20640.000000</td>\n",
       "      <td>20640.000000</td>\n",
       "    </tr>\n",
       "    <tr>\n",
       "      <th>mean</th>\n",
       "      <td>3.870671</td>\n",
       "      <td>28.639486</td>\n",
       "      <td>5.429000</td>\n",
       "      <td>1.096675</td>\n",
       "      <td>1425.476744</td>\n",
       "      <td>3.070655</td>\n",
       "      <td>35.631861</td>\n",
       "      <td>-119.569704</td>\n",
       "    </tr>\n",
       "    <tr>\n",
       "      <th>std</th>\n",
       "      <td>1.899822</td>\n",
       "      <td>12.585558</td>\n",
       "      <td>2.474173</td>\n",
       "      <td>0.473911</td>\n",
       "      <td>1132.462122</td>\n",
       "      <td>10.386050</td>\n",
       "      <td>2.135952</td>\n",
       "      <td>2.003532</td>\n",
       "    </tr>\n",
       "    <tr>\n",
       "      <th>min</th>\n",
       "      <td>0.499900</td>\n",
       "      <td>1.000000</td>\n",
       "      <td>0.846154</td>\n",
       "      <td>0.333333</td>\n",
       "      <td>3.000000</td>\n",
       "      <td>0.692308</td>\n",
       "      <td>32.540000</td>\n",
       "      <td>-124.350000</td>\n",
       "    </tr>\n",
       "    <tr>\n",
       "      <th>25%</th>\n",
       "      <td>2.563400</td>\n",
       "      <td>18.000000</td>\n",
       "      <td>4.440716</td>\n",
       "      <td>1.006079</td>\n",
       "      <td>787.000000</td>\n",
       "      <td>2.429741</td>\n",
       "      <td>33.930000</td>\n",
       "      <td>-121.800000</td>\n",
       "    </tr>\n",
       "    <tr>\n",
       "      <th>50%</th>\n",
       "      <td>3.534800</td>\n",
       "      <td>29.000000</td>\n",
       "      <td>5.229129</td>\n",
       "      <td>1.048780</td>\n",
       "      <td>1166.000000</td>\n",
       "      <td>2.818116</td>\n",
       "      <td>34.260000</td>\n",
       "      <td>-118.490000</td>\n",
       "    </tr>\n",
       "    <tr>\n",
       "      <th>75%</th>\n",
       "      <td>4.743250</td>\n",
       "      <td>37.000000</td>\n",
       "      <td>6.052381</td>\n",
       "      <td>1.099526</td>\n",
       "      <td>1725.000000</td>\n",
       "      <td>3.282261</td>\n",
       "      <td>37.710000</td>\n",
       "      <td>-118.010000</td>\n",
       "    </tr>\n",
       "    <tr>\n",
       "      <th>max</th>\n",
       "      <td>15.000100</td>\n",
       "      <td>52.000000</td>\n",
       "      <td>141.909091</td>\n",
       "      <td>34.066667</td>\n",
       "      <td>35682.000000</td>\n",
       "      <td>1243.333333</td>\n",
       "      <td>41.950000</td>\n",
       "      <td>-114.310000</td>\n",
       "    </tr>\n",
       "  </tbody>\n",
       "</table>\n",
       "</div>"
      ],
      "text/plain": [
       "             MedInc      HouseAge      AveRooms     AveBedrms    Population  \\\n",
       "count  20640.000000  20640.000000  20640.000000  20640.000000  20640.000000   \n",
       "mean       3.870671     28.639486      5.429000      1.096675   1425.476744   \n",
       "std        1.899822     12.585558      2.474173      0.473911   1132.462122   \n",
       "min        0.499900      1.000000      0.846154      0.333333      3.000000   \n",
       "25%        2.563400     18.000000      4.440716      1.006079    787.000000   \n",
       "50%        3.534800     29.000000      5.229129      1.048780   1166.000000   \n",
       "75%        4.743250     37.000000      6.052381      1.099526   1725.000000   \n",
       "max       15.000100     52.000000    141.909091     34.066667  35682.000000   \n",
       "\n",
       "           AveOccup      Latitude     Longitude  \n",
       "count  20640.000000  20640.000000  20640.000000  \n",
       "mean       3.070655     35.631861   -119.569704  \n",
       "std       10.386050      2.135952      2.003532  \n",
       "min        0.692308     32.540000   -124.350000  \n",
       "25%        2.429741     33.930000   -121.800000  \n",
       "50%        2.818116     34.260000   -118.490000  \n",
       "75%        3.282261     37.710000   -118.010000  \n",
       "max     1243.333333     41.950000   -114.310000  "
      ]
     },
     "execution_count": 43,
     "metadata": {},
     "output_type": "execute_result"
    }
   ],
   "source": [
    "housing_df.describe()\n",
    "# 확인해보니.. 표준편차 차이가 크네요. \n",
    "# 그리고 값의 범위도 다 달라요.\n",
    "# Feature Scaling이 필요하겠군요."
   ]
  },
  {
   "cell_type": "markdown",
   "metadata": {},
   "source": [
    "## 2. 전처리하기"
   ]
  },
  {
   "cell_type": "code",
   "execution_count": 44,
   "metadata": {},
   "outputs": [
    {
     "name": "stdout",
     "output_type": "stream",
     "text": [
      "mean:  [ 3.87067100e+00  2.86394864e+01  5.42899974e+00  1.09667515e+00\n",
      "  1.42547674e+03  3.07065516e+00  3.56318614e+01 -1.19569704e+02]\n",
      "shape:  (20640, 8)\n"
     ]
    }
   ],
   "source": [
    "# 전처리가 필요하다.\n",
    "# 데이터간 스케일이 크면 학습이 잘 안된다. (속도가 더디거나 발산함.(lr을 줄여야함))\n",
    "print(\"mean: \", housing_data.mean(axis=0)) \n",
    "print(\"shape: \", housing_data.shape)"
   ]
  },
  {
   "cell_type": "markdown",
   "metadata": {},
   "source": [
    "### 표준화"
   ]
  },
  {
   "cell_type": "code",
   "execution_count": 45,
   "metadata": {},
   "outputs": [],
   "source": [
    "from sklearn.preprocessing import StandardScaler, MinMaxScaler # sklearn의 StandardScaler 사용\n",
    "scaler = StandardScaler() # 표준화\n",
    "scaled_housing_data = scaler.fit_transform(housing_data) "
   ]
  },
  {
   "cell_type": "code",
   "execution_count": 46,
   "metadata": {},
   "outputs": [
    {
     "data": {
      "text/html": [
       "<div>\n",
       "<style scoped>\n",
       "    .dataframe tbody tr th:only-of-type {\n",
       "        vertical-align: middle;\n",
       "    }\n",
       "\n",
       "    .dataframe tbody tr th {\n",
       "        vertical-align: top;\n",
       "    }\n",
       "\n",
       "    .dataframe thead th {\n",
       "        text-align: right;\n",
       "    }\n",
       "</style>\n",
       "<table border=\"1\" class=\"dataframe\">\n",
       "  <thead>\n",
       "    <tr style=\"text-align: right;\">\n",
       "      <th></th>\n",
       "      <th>MedInc</th>\n",
       "      <th>HouseAge</th>\n",
       "      <th>AveRooms</th>\n",
       "      <th>AveBedrms</th>\n",
       "      <th>Population</th>\n",
       "      <th>AveOccup</th>\n",
       "      <th>Latitude</th>\n",
       "      <th>Longitude</th>\n",
       "    </tr>\n",
       "  </thead>\n",
       "  <tbody>\n",
       "    <tr>\n",
       "      <th>count</th>\n",
       "      <td>2.064000e+04</td>\n",
       "      <td>2.064000e+04</td>\n",
       "      <td>2.064000e+04</td>\n",
       "      <td>2.064000e+04</td>\n",
       "      <td>2.064000e+04</td>\n",
       "      <td>2.064000e+04</td>\n",
       "      <td>2.064000e+04</td>\n",
       "      <td>2.064000e+04</td>\n",
       "    </tr>\n",
       "    <tr>\n",
       "      <th>mean</th>\n",
       "      <td>6.609700e-17</td>\n",
       "      <td>5.508083e-18</td>\n",
       "      <td>6.609700e-17</td>\n",
       "      <td>-1.060306e-16</td>\n",
       "      <td>-1.101617e-17</td>\n",
       "      <td>3.442552e-18</td>\n",
       "      <td>-1.079584e-15</td>\n",
       "      <td>-8.526513e-15</td>\n",
       "    </tr>\n",
       "    <tr>\n",
       "      <th>std</th>\n",
       "      <td>1.000024e+00</td>\n",
       "      <td>1.000024e+00</td>\n",
       "      <td>1.000024e+00</td>\n",
       "      <td>1.000024e+00</td>\n",
       "      <td>1.000024e+00</td>\n",
       "      <td>1.000024e+00</td>\n",
       "      <td>1.000024e+00</td>\n",
       "      <td>1.000024e+00</td>\n",
       "    </tr>\n",
       "    <tr>\n",
       "      <th>min</th>\n",
       "      <td>-1.774299e+00</td>\n",
       "      <td>-2.196180e+00</td>\n",
       "      <td>-1.852319e+00</td>\n",
       "      <td>-1.610768e+00</td>\n",
       "      <td>-1.256123e+00</td>\n",
       "      <td>-2.290000e-01</td>\n",
       "      <td>-1.447568e+00</td>\n",
       "      <td>-2.385992e+00</td>\n",
       "    </tr>\n",
       "    <tr>\n",
       "      <th>25%</th>\n",
       "      <td>-6.881186e-01</td>\n",
       "      <td>-8.453931e-01</td>\n",
       "      <td>-3.994496e-01</td>\n",
       "      <td>-1.911716e-01</td>\n",
       "      <td>-5.638089e-01</td>\n",
       "      <td>-6.171062e-02</td>\n",
       "      <td>-7.967887e-01</td>\n",
       "      <td>-1.113209e+00</td>\n",
       "    </tr>\n",
       "    <tr>\n",
       "      <th>50%</th>\n",
       "      <td>-1.767951e-01</td>\n",
       "      <td>2.864572e-02</td>\n",
       "      <td>-8.078489e-02</td>\n",
       "      <td>-1.010650e-01</td>\n",
       "      <td>-2.291318e-01</td>\n",
       "      <td>-2.431585e-02</td>\n",
       "      <td>-6.422871e-01</td>\n",
       "      <td>5.389137e-01</td>\n",
       "    </tr>\n",
       "    <tr>\n",
       "      <th>75%</th>\n",
       "      <td>4.593063e-01</td>\n",
       "      <td>6.643103e-01</td>\n",
       "      <td>2.519615e-01</td>\n",
       "      <td>6.015869e-03</td>\n",
       "      <td>2.644949e-01</td>\n",
       "      <td>2.037453e-02</td>\n",
       "      <td>9.729566e-01</td>\n",
       "      <td>7.784964e-01</td>\n",
       "    </tr>\n",
       "    <tr>\n",
       "      <th>max</th>\n",
       "      <td>5.858286e+00</td>\n",
       "      <td>1.856182e+00</td>\n",
       "      <td>5.516324e+01</td>\n",
       "      <td>6.957171e+01</td>\n",
       "      <td>3.025033e+01</td>\n",
       "      <td>1.194191e+02</td>\n",
       "      <td>2.958068e+00</td>\n",
       "      <td>2.625280e+00</td>\n",
       "    </tr>\n",
       "  </tbody>\n",
       "</table>\n",
       "</div>"
      ],
      "text/plain": [
       "             MedInc      HouseAge      AveRooms     AveBedrms    Population  \\\n",
       "count  2.064000e+04  2.064000e+04  2.064000e+04  2.064000e+04  2.064000e+04   \n",
       "mean   6.609700e-17  5.508083e-18  6.609700e-17 -1.060306e-16 -1.101617e-17   \n",
       "std    1.000024e+00  1.000024e+00  1.000024e+00  1.000024e+00  1.000024e+00   \n",
       "min   -1.774299e+00 -2.196180e+00 -1.852319e+00 -1.610768e+00 -1.256123e+00   \n",
       "25%   -6.881186e-01 -8.453931e-01 -3.994496e-01 -1.911716e-01 -5.638089e-01   \n",
       "50%   -1.767951e-01  2.864572e-02 -8.078489e-02 -1.010650e-01 -2.291318e-01   \n",
       "75%    4.593063e-01  6.643103e-01  2.519615e-01  6.015869e-03  2.644949e-01   \n",
       "max    5.858286e+00  1.856182e+00  5.516324e+01  6.957171e+01  3.025033e+01   \n",
       "\n",
       "           AveOccup      Latitude     Longitude  \n",
       "count  2.064000e+04  2.064000e+04  2.064000e+04  \n",
       "mean   3.442552e-18 -1.079584e-15 -8.526513e-15  \n",
       "std    1.000024e+00  1.000024e+00  1.000024e+00  \n",
       "min   -2.290000e-01 -1.447568e+00 -2.385992e+00  \n",
       "25%   -6.171062e-02 -7.967887e-01 -1.113209e+00  \n",
       "50%   -2.431585e-02 -6.422871e-01  5.389137e-01  \n",
       "75%    2.037453e-02  9.729566e-01  7.784964e-01  \n",
       "max    1.194191e+02  2.958068e+00  2.625280e+00  "
      ]
     },
     "execution_count": 46,
     "metadata": {},
     "output_type": "execute_result"
    }
   ],
   "source": [
    "# 평균이 0이고 표준편차가 1.\n",
    "pd.DataFrame(scaled_housing_data, columns=housing.feature_names).describe()"
   ]
  },
  {
   "cell_type": "code",
   "execution_count": 47,
   "metadata": {},
   "outputs": [],
   "source": [
    "# 정규화 예)\n",
    "scaler2 = MinMaxScaler()\n",
    "scaled_housing_data2 = scaler2.fit_transform(housing_data)"
   ]
  },
  {
   "cell_type": "code",
   "execution_count": 48,
   "metadata": {},
   "outputs": [
    {
     "data": {
      "text/html": [
       "<div>\n",
       "<style scoped>\n",
       "    .dataframe tbody tr th:only-of-type {\n",
       "        vertical-align: middle;\n",
       "    }\n",
       "\n",
       "    .dataframe tbody tr th {\n",
       "        vertical-align: top;\n",
       "    }\n",
       "\n",
       "    .dataframe thead th {\n",
       "        text-align: right;\n",
       "    }\n",
       "</style>\n",
       "<table border=\"1\" class=\"dataframe\">\n",
       "  <thead>\n",
       "    <tr style=\"text-align: right;\">\n",
       "      <th></th>\n",
       "      <th>MedInc</th>\n",
       "      <th>HouseAge</th>\n",
       "      <th>AveRooms</th>\n",
       "      <th>AveBedrms</th>\n",
       "      <th>Population</th>\n",
       "      <th>AveOccup</th>\n",
       "      <th>Latitude</th>\n",
       "      <th>Longitude</th>\n",
       "    </tr>\n",
       "  </thead>\n",
       "  <tbody>\n",
       "    <tr>\n",
       "      <th>count</th>\n",
       "      <td>20640.000000</td>\n",
       "      <td>20640.000000</td>\n",
       "      <td>20640.000000</td>\n",
       "      <td>20640.000000</td>\n",
       "      <td>20640.000000</td>\n",
       "      <td>20640.000000</td>\n",
       "      <td>20640.000000</td>\n",
       "      <td>20640.000000</td>\n",
       "    </tr>\n",
       "    <tr>\n",
       "      <th>mean</th>\n",
       "      <td>0.232464</td>\n",
       "      <td>0.541951</td>\n",
       "      <td>0.032488</td>\n",
       "      <td>0.022629</td>\n",
       "      <td>0.039869</td>\n",
       "      <td>0.001914</td>\n",
       "      <td>0.328572</td>\n",
       "      <td>0.476125</td>\n",
       "    </tr>\n",
       "    <tr>\n",
       "      <th>std</th>\n",
       "      <td>0.131020</td>\n",
       "      <td>0.246776</td>\n",
       "      <td>0.017539</td>\n",
       "      <td>0.014049</td>\n",
       "      <td>0.031740</td>\n",
       "      <td>0.008358</td>\n",
       "      <td>0.226988</td>\n",
       "      <td>0.199555</td>\n",
       "    </tr>\n",
       "    <tr>\n",
       "      <th>min</th>\n",
       "      <td>0.000000</td>\n",
       "      <td>0.000000</td>\n",
       "      <td>0.000000</td>\n",
       "      <td>0.000000</td>\n",
       "      <td>0.000000</td>\n",
       "      <td>0.000000</td>\n",
       "      <td>0.000000</td>\n",
       "      <td>0.000000</td>\n",
       "    </tr>\n",
       "    <tr>\n",
       "      <th>25%</th>\n",
       "      <td>0.142308</td>\n",
       "      <td>0.333333</td>\n",
       "      <td>0.025482</td>\n",
       "      <td>0.019943</td>\n",
       "      <td>0.021974</td>\n",
       "      <td>0.001398</td>\n",
       "      <td>0.147715</td>\n",
       "      <td>0.253984</td>\n",
       "    </tr>\n",
       "    <tr>\n",
       "      <th>50%</th>\n",
       "      <td>0.209301</td>\n",
       "      <td>0.549020</td>\n",
       "      <td>0.031071</td>\n",
       "      <td>0.021209</td>\n",
       "      <td>0.032596</td>\n",
       "      <td>0.001711</td>\n",
       "      <td>0.182784</td>\n",
       "      <td>0.583665</td>\n",
       "    </tr>\n",
       "    <tr>\n",
       "      <th>75%</th>\n",
       "      <td>0.292641</td>\n",
       "      <td>0.705882</td>\n",
       "      <td>0.036907</td>\n",
       "      <td>0.022713</td>\n",
       "      <td>0.048264</td>\n",
       "      <td>0.002084</td>\n",
       "      <td>0.549416</td>\n",
       "      <td>0.631474</td>\n",
       "    </tr>\n",
       "    <tr>\n",
       "      <th>max</th>\n",
       "      <td>1.000000</td>\n",
       "      <td>1.000000</td>\n",
       "      <td>1.000000</td>\n",
       "      <td>1.000000</td>\n",
       "      <td>1.000000</td>\n",
       "      <td>1.000000</td>\n",
       "      <td>1.000000</td>\n",
       "      <td>1.000000</td>\n",
       "    </tr>\n",
       "  </tbody>\n",
       "</table>\n",
       "</div>"
      ],
      "text/plain": [
       "             MedInc      HouseAge      AveRooms     AveBedrms    Population  \\\n",
       "count  20640.000000  20640.000000  20640.000000  20640.000000  20640.000000   \n",
       "mean       0.232464      0.541951      0.032488      0.022629      0.039869   \n",
       "std        0.131020      0.246776      0.017539      0.014049      0.031740   \n",
       "min        0.000000      0.000000      0.000000      0.000000      0.000000   \n",
       "25%        0.142308      0.333333      0.025482      0.019943      0.021974   \n",
       "50%        0.209301      0.549020      0.031071      0.021209      0.032596   \n",
       "75%        0.292641      0.705882      0.036907      0.022713      0.048264   \n",
       "max        1.000000      1.000000      1.000000      1.000000      1.000000   \n",
       "\n",
       "           AveOccup      Latitude     Longitude  \n",
       "count  20640.000000  20640.000000  20640.000000  \n",
       "mean       0.001914      0.328572      0.476125  \n",
       "std        0.008358      0.226988      0.199555  \n",
       "min        0.000000      0.000000      0.000000  \n",
       "25%        0.001398      0.147715      0.253984  \n",
       "50%        0.001711      0.182784      0.583665  \n",
       "75%        0.002084      0.549416      0.631474  \n",
       "max        1.000000      1.000000      1.000000  "
      ]
     },
     "execution_count": 48,
     "metadata": {},
     "output_type": "execute_result"
    }
   ],
   "source": [
    "scaled_housing_data2\n",
    "# 평균이 0이고 표준편차가 1.\n",
    "pd.DataFrame(scaled_housing_data2, columns=housing.feature_names).describe()"
   ]
  },
  {
   "cell_type": "markdown",
   "metadata": {},
   "source": [
    "### 결측치 처리"
   ]
  },
  {
   "cell_type": "code",
   "execution_count": 49,
   "metadata": {},
   "outputs": [
    {
     "name": "stdout",
     "output_type": "stream",
     "text": [
      "<class 'pandas.core.frame.DataFrame'>\n",
      "RangeIndex: 20640 entries, 0 to 20639\n",
      "Data columns (total 8 columns):\n",
      "MedInc        20640 non-null float64\n",
      "HouseAge      20640 non-null float64\n",
      "AveRooms      20640 non-null float64\n",
      "AveBedrms     20640 non-null float64\n",
      "Population    20640 non-null float64\n",
      "AveOccup      20640 non-null float64\n",
      "Latitude      20640 non-null float64\n",
      "Longitude     20640 non-null float64\n",
      "dtypes: float64(8)\n",
      "memory usage: 1.3 MB\n"
     ]
    }
   ],
   "source": [
    "# 결측치가 없어요. --> 처리할 게 없어요.\n",
    "pd.DataFrame(scaled_housing_data, columns=housing.feature_names).info()"
   ]
  },
  {
   "cell_type": "markdown",
   "metadata": {},
   "source": [
    "### bias 데이터에 추가"
   ]
  },
  {
   "cell_type": "code",
   "execution_count": 52,
   "metadata": {},
   "outputs": [
    {
     "data": {
      "text/plain": [
       "(20640, 8)"
      ]
     },
     "execution_count": 52,
     "metadata": {},
     "output_type": "execute_result"
    }
   ],
   "source": [
    "scaled_housing_data.shape"
   ]
  },
  {
   "cell_type": "code",
   "execution_count": 53,
   "metadata": {},
   "outputs": [
    {
     "name": "stdout",
     "output_type": "stream",
     "text": [
      "mean(항목간):  [ 1.00000000e+00  6.60969987e-17  5.50808322e-18  6.60969987e-17\n",
      " -1.06030602e-16 -1.10161664e-17  3.44255201e-18 -1.07958431e-15\n",
      " -8.52651283e-15]\n",
      "mean(전체):  0.11111111111111005\n",
      "shape:  (20640, 9)\n"
     ]
    }
   ],
   "source": [
    "# np.c_ 함수는 concatenate 함수 (연결한다!)\n",
    "# bias에 행렬 추가\n",
    "scaled_housing_data_plus_bias = np.c_[np.ones((m, 1)), \n",
    "                                      scaled_housing_data] ## bias 추가\n",
    "\n",
    "print(\"mean(항목간): \", scaled_housing_data_plus_bias.mean(axis=0))\n",
    "print(\"mean(전체): \", scaled_housing_data_plus_bias.mean())\n",
    "print(\"shape: \",scaled_housing_data_plus_bias.shape)"
   ]
  },
  {
   "cell_type": "code",
   "execution_count": null,
   "metadata": {},
   "outputs": [],
   "source": []
  },
  {
   "cell_type": "markdown",
   "metadata": {},
   "source": [
    "## 3. Graph 정의"
   ]
  },
  {
   "cell_type": "markdown",
   "metadata": {},
   "source": [
    "#### 0. epoch, learning_rate 정의\n",
    "#### 1. X와 y정의  (Placeholder)\n",
    "#### 2. Hypothesis&Cost 함수 정의\n",
    "#### 3. Optimizer정의"
   ]
  },
  {
   "cell_type": "code",
   "execution_count": 54,
   "metadata": {},
   "outputs": [],
   "source": [
    "# 그래프 초기화\n",
    "tf.reset_default_graph()"
   ]
  },
  {
   "cell_type": "code",
   "execution_count": 55,
   "metadata": {},
   "outputs": [],
   "source": [
    "n_epochs = 1000 # epoch --> 학습횟수(반복횟수)\n",
    "lr = 0.01 # learning rate"
   ]
  },
  {
   "cell_type": "markdown",
   "metadata": {},
   "source": [
    "#### 1. X와 y정의"
   ]
  },
  {
   "cell_type": "code",
   "execution_count": 58,
   "metadata": {},
   "outputs": [],
   "source": [
    "n = 8"
   ]
  },
  {
   "cell_type": "code",
   "execution_count": 59,
   "metadata": {},
   "outputs": [],
   "source": [
    "X = tf.placeholder(dtype=tf.float32, shape=(None, 9), name=\"X\")\n",
    "y = tf.placeholder(dtype=tf.float32, shape=(None, 1), name='y')"
   ]
  },
  {
   "cell_type": "markdown",
   "metadata": {},
   "source": [
    "#### Hypothesis&Cost 정의"
   ]
  },
  {
   "cell_type": "code",
   "execution_count": 60,
   "metadata": {},
   "outputs": [
    {
     "data": {
      "text/plain": [
       "(20640, 8)"
      ]
     },
     "execution_count": 60,
     "metadata": {},
     "output_type": "execute_result"
    }
   ],
   "source": [
    "m,n"
   ]
  },
  {
   "cell_type": "code",
   "execution_count": 61,
   "metadata": {},
   "outputs": [],
   "source": [
    "# M: 데이터의 개수, N: Feature의 개수\n",
    "# n(feature의 개수) +1 --> bias\n",
    "W = tf.Variable(tf.random_uniform([n+1, 1], -1.0, 1.0), name='Weight')  # N+1 X 1 행렬\n",
    "y_pred = tf.matmul(X, W, name='predictions') # hypothesis  --> M X 1행렬  = M X N+1 * N+1 X 1 "
   ]
  },
  {
   "cell_type": "code",
   "execution_count": 62,
   "metadata": {},
   "outputs": [],
   "source": [
    "# ==> y값은 MX1 로 넣어줘야함 행렬연산 위해\n",
    "error = y_pred - y # MX1행렬 (데이터의 개수 만큼 error가 나옴.) --> Data 1개당 에러 (오차)  \n",
    "\n",
    "# Mean Sqaure Error\n",
    "mse = tf.reduce_mean(tf.square(error), name='mse') # Cost Function"
   ]
  },
  {
   "cell_type": "markdown",
   "metadata": {},
   "source": [
    "#### optimizer 방법1. 직접 미분"
   ]
  },
  {
   "cell_type": "code",
   "execution_count": 66,
   "metadata": {},
   "outputs": [],
   "source": [
    "# Optimizer = Gradient Descent\n",
    "\n",
    "# (N+1) X M  *  M X 1 = (N+1) X 1 행렬 --> (Feature+1)의 개수만큼 나오지요.\n",
    "gradients = 2/m * tf.matmul(tf.transpose(X), error) # feature 하나당 기울기 계산. (편미분)\n",
    "\n",
    "training_op = tf.assign(W, W - (lr * gradients)) # optimizer 역할 (gradient 업데이트)"
   ]
  },
  {
   "cell_type": "markdown",
   "metadata": {},
   "source": [
    "#### optimizer 방법2. 자동 미분"
   ]
  },
  {
   "cell_type": "code",
   "execution_count": null,
   "metadata": {},
   "outputs": [],
   "source": [
    "# tensorflow의 자동 미분 기능 (기울기 미분 자동)\n",
    "gradients = tf.gradients(mse, [W])[0]  # W에 대한 mse 함수\n",
    "training_op = tf.assign(W, W - (lr * gradients)) # optimizer 역할 (gradient 업데이트)"
   ]
  },
  {
   "cell_type": "markdown",
   "metadata": {},
   "source": [
    "#### optimizer 방법3. 옵티마이저 사용"
   ]
  },
  {
   "cell_type": "code",
   "execution_count": 5,
   "metadata": {},
   "outputs": [
    {
     "ename": "NameError",
     "evalue": "name 'tf' is not defined",
     "output_type": "error",
     "traceback": [
      "\u001b[0;31m---------------------------------------------------------------------------\u001b[0m",
      "\u001b[0;31mNameError\u001b[0m                                 Traceback (most recent call last)",
      "\u001b[0;32m<ipython-input-5-967f3eec80b2>\u001b[0m in \u001b[0;36m<module>\u001b[0;34m\u001b[0m\n\u001b[0;32m----> 1\u001b[0;31m \u001b[0moptimizer\u001b[0m \u001b[0;34m=\u001b[0m \u001b[0mtf\u001b[0m\u001b[0;34m.\u001b[0m\u001b[0mtrain\u001b[0m\u001b[0;34m.\u001b[0m\u001b[0mGradientDescentOptimizer\u001b[0m\u001b[0;34m(\u001b[0m\u001b[0mlearning_rate\u001b[0m\u001b[0;34m=\u001b[0m\u001b[0mlr\u001b[0m\u001b[0;34m)\u001b[0m\u001b[0;34m\u001b[0m\u001b[0;34m\u001b[0m\u001b[0m\n\u001b[0m\u001b[1;32m      2\u001b[0m \u001b[0;31m# mse를 최소화하는게 목적!\u001b[0m\u001b[0;34m\u001b[0m\u001b[0;34m\u001b[0m\u001b[0;34m\u001b[0m\u001b[0m\n\u001b[1;32m      3\u001b[0m \u001b[0mtraining_op\u001b[0m \u001b[0;34m=\u001b[0m \u001b[0moptimizer\u001b[0m\u001b[0;34m.\u001b[0m\u001b[0mminimize\u001b[0m\u001b[0;34m(\u001b[0m\u001b[0mmse\u001b[0m\u001b[0;34m)\u001b[0m\u001b[0;34m\u001b[0m\u001b[0;34m\u001b[0m\u001b[0m\n",
      "\u001b[0;31mNameError\u001b[0m: name 'tf' is not defined"
     ]
    }
   ],
   "source": [
    "optimizer = tf.train.GradientDescentOptimizer(learning_rate=lr)\n",
    "# mse를 최소화하는게 목적!\n",
    "training_op = optimizer.minimize(mse) "
   ]
  },
  {
   "cell_type": "markdown",
   "metadata": {},
   "source": [
    "### label reshape"
   ]
  },
  {
   "cell_type": "code",
   "execution_count": 6,
   "metadata": {},
   "outputs": [
    {
     "ename": "NameError",
     "evalue": "name 'housing_label' is not defined",
     "output_type": "error",
     "traceback": [
      "\u001b[0;31m---------------------------------------------------------------------------\u001b[0m",
      "\u001b[0;31mNameError\u001b[0m                                 Traceback (most recent call last)",
      "\u001b[0;32m<ipython-input-6-8a7ea1e316a2>\u001b[0m in \u001b[0;36m<module>\u001b[0;34m\u001b[0m\n\u001b[0;32m----> 1\u001b[0;31m \u001b[0mhousing_label\u001b[0m\u001b[0;34m.\u001b[0m\u001b[0mshape\u001b[0m\u001b[0;34m\u001b[0m\u001b[0;34m\u001b[0m\u001b[0m\n\u001b[0m",
      "\u001b[0;31mNameError\u001b[0m: name 'housing_label' is not defined"
     ]
    }
   ],
   "source": [
    "housing_label.shape"
   ]
  },
  {
   "cell_type": "code",
   "execution_count": 64,
   "metadata": {},
   "outputs": [
    {
     "data": {
      "text/plain": [
       "(20640, 1)"
      ]
     },
     "execution_count": 64,
     "metadata": {},
     "output_type": "execute_result"
    }
   ],
   "source": [
    "housing_label.shape\n",
    "# 행렬간 연산을 위해선 2차원 행렬로 만들어줘야함.\n",
    "housing_label = housing_label.reshape(-1, 1)\n",
    "housing_label.shape"
   ]
  },
  {
   "cell_type": "code",
   "execution_count": 67,
   "metadata": {
    "scrolled": true
   },
   "outputs": [
    {
     "name": "stdout",
     "output_type": "stream",
     "text": [
      "Epoch 0 MSE = 6.9214044\n",
      "Epoch 100 MSE = 0.9112286\n",
      "Epoch 200 MSE = 0.7390546\n",
      "Epoch 300 MSE = 0.67768735\n",
      "Epoch 400 MSE = 0.63489336\n",
      "Epoch 500 MSE = 0.60407835\n",
      "Epoch 600 MSE = 0.5818535\n",
      "Epoch 700 MSE = 0.565822\n",
      "Epoch 800 MSE = 0.554258\n",
      "Epoch 900 MSE = 0.54591644\n"
     ]
    },
    {
     "data": {
      "text/plain": [
       "array([[ 2.0685523 ],\n",
       "       [ 0.75253147],\n",
       "       [ 0.15356329],\n",
       "       [-0.0277367 ],\n",
       "       [ 0.06854108],\n",
       "       [ 0.00916122],\n",
       "       [-0.04062733],\n",
       "       [-0.71850365],\n",
       "       [-0.6757292 ]], dtype=float32)"
      ]
     },
     "execution_count": 67,
     "metadata": {},
     "output_type": "execute_result"
    }
   ],
   "source": [
    "init = tf.global_variables_initializer()\n",
    "\n",
    "with tf.Session() as sess:\n",
    "    sess.run(init)\n",
    "\n",
    "    for epoch in range(n_epochs):\n",
    "        if epoch % 100 == 0:\n",
    "            # placeholder 추가\n",
    "            print(\"Epoch\", epoch, \"MSE =\", \n",
    "                  mse.eval(feed_dict={\n",
    "                      X:scaled_housing_data_plus_bias, \n",
    "                      y:housing_label})\n",
    "                 )\n",
    "        \n",
    "        # weight 업데이트\n",
    "        sess.run(training_op, feed_dict={X:scaled_housing_data_plus_bias,\n",
    "                                         y:housing_label})\n",
    "    \n",
    "    best_weight = W.eval()\n",
    "\n",
    "best_weight"
   ]
  },
  {
   "cell_type": "markdown",
   "metadata": {},
   "source": [
    "# Linear Regression 눈으로 확인하기"
   ]
  },
  {
   "cell_type": "code",
   "execution_count": 7,
   "metadata": {},
   "outputs": [],
   "source": [
    "import tensorflow as tf\n",
    "import matplotlib.pyplot as plt"
   ]
  },
  {
   "cell_type": "markdown",
   "metadata": {},
   "source": [
    "### 1. dataLoad"
   ]
  },
  {
   "cell_type": "code",
   "execution_count": 8,
   "metadata": {},
   "outputs": [],
   "source": [
    "# y = 2*x + 1\n",
    "# w[1] = 2, w[0]= 1\n",
    "x_data = [1, 2, 3]\n",
    "y_data = [3, 5, 7]"
   ]
  },
  {
   "cell_type": "markdown",
   "metadata": {},
   "source": [
    "### 2. Graph 정의"
   ]
  },
  {
   "cell_type": "code",
   "execution_count": 9,
   "metadata": {},
   "outputs": [],
   "source": [
    "# W1과 W0을 구하는게 우리의 목표!\n",
    "# 일단 하나 정하고 조정하기. ==> Variable을 쓰고, 초기값 설정\n",
    "W = tf.Variable(tf.random_uniform([1], -100, 100)) # W1 - Weight\n",
    "b = tf.Variable(tf.random_uniform([1], -100, 100)) # W0 - bias\n",
    "\n",
    "# name: 나중에 텐서보드등으로 값의 변화를 추적하거나 살펴보기 쉽게 하기 위해 이름을 붙여준다.\n",
    "# 왜 tf.placeholder를 사용하는가? 생각해보자!\n",
    "# \n",
    "# 새로운 데이터를 예측하기 위해서 훈련을 합니다.\n",
    "# --> 기존데이터로 훈련을 하고, 훈련된 모델을 새로운 데이터로 바꿀 수 있어야 합니다.\n",
    "X = tf.placeholder(tf.float32, name=\"X\") # 훈련 데이터\n",
    "Y = tf.placeholder(tf.float32, name=\"Y\") # 정답 데이터"
   ]
  },
  {
   "cell_type": "code",
   "execution_count": 10,
   "metadata": {},
   "outputs": [],
   "source": [
    "# hypothesis 정의\n",
    "# W 와 X 가 행렬이 아니므로 tf.matmul 이 아니라 기본 곱셈 기호를 사용한다.\n",
    "hypothesis = W * X + b\n",
    "\n",
    "# Cost Function을 작성한다. (손실 함수)\n",
    "# mean(h - Y)^2 : 예측값과 실제값의 차이의 제곱의 평균\n",
    "err = tf.square(hypothesis - Y)\n",
    "cost = tf.reduce_mean(err)\n"
   ]
  },
  {
   "cell_type": "code",
   "execution_count": 11,
   "metadata": {},
   "outputs": [],
   "source": [
    "# 훈련률: 0.1: optimizer가 Variable을(Weight를) 자동으로 조정한다.\n",
    "optimizer = tf.train.GradientDescentOptimizer(learning_rate=0.1) \n",
    "\n",
    "# 비용을 최소화 하는 것이 최종 목표\n",
    "train_op = optimizer.minimize(cost)  # compute_gradients, apply_gradients가 실행됩니다."
   ]
  },
  {
   "cell_type": "markdown",
   "metadata": {},
   "source": [
    "### 3. 학습"
   ]
  },
  {
   "cell_type": "code",
   "execution_count": 13,
   "metadata": {},
   "outputs": [
    {
     "name": "stdout",
     "output_type": "stream",
     "text": [
      "None\n",
      " step: 0\n",
      " cost:26056.724609375\n",
      " Weight: [-2.1322784] \n",
      " bias:[28.964125]\n",
      "--------------------------------------------------\n"
     ]
    },
    {
     "data": {
      "image/png": "[encoded data removed]",
      "text/plain": [
       "<Figure size 432x288 with 1 Axes>"
      ]
     },
     "metadata": {
      "needs_background": "light"
     },
     "output_type": "display_data"
    },
    {
     "name": "stdout",
     "output_type": "stream",
     "text": [
      "None\n",
      " step: 20\n",
      " cost:35.43223190307617\n",
      " Weight: [-4.747261] \n",
      " bias:[16.33811]\n",
      "--------------------------------------------------\n"
     ]
    },
    {
     "data": {
      "image/png": "[encoded data removed]",
      "text/plain": [
       "<Figure size 432x288 with 1 Axes>"
      ]
     },
     "metadata": {
      "needs_background": "light"
     },
     "output_type": "display_data"
    },
    {
     "name": "stdout",
     "output_type": "stream",
     "text": [
      "None\n",
      " step: 40\n",
      " cost:13.387248992919922\n",
      " Weight: [-2.1473815] \n",
      " bias:[10.427973]\n",
      "--------------------------------------------------\n"
     ]
    },
    {
     "data": {
      "image/png": "[encoded data removed]",
      "text/plain": [
       "<Figure size 432x288 with 1 Axes>"
      ]
     },
     "metadata": {
      "needs_background": "light"
     },
     "output_type": "display_data"
    },
    {
     "name": "stdout",
     "output_type": "stream",
     "text": [
      "None\n",
      " step: 60\n",
      " cost:5.058064937591553\n",
      " Weight: [-0.5492975] \n",
      " bias:[6.795152]\n",
      "--------------------------------------------------\n"
     ]
    },
    {
     "data": {
      "image/png": "[encoded data removed]",
      "text/plain": [
       "<Figure size 432x288 with 1 Axes>"
      ]
     },
     "metadata": {
      "needs_background": "light"
     },
     "output_type": "display_data"
    },
    {
     "name": "stdout",
     "output_type": "stream",
     "text": [
      "None\n",
      " step: 80\n",
      " cost:1.9110736846923828\n",
      " Weight: [0.43300715] \n",
      " bias:[4.562143]\n",
      "--------------------------------------------------\n"
     ]
    },
    {
     "data": {
      "image/png": "[encoded data removed]",
      "text/plain": [
       "<Figure size 432x288 with 1 Axes>"
      ]
     },
     "metadata": {
      "needs_background": "light"
     },
     "output_type": "display_data"
    },
    {
     "name": "stdout",
     "output_type": "stream",
     "text": [
      "None\n",
      " step: 100\n",
      " cost:0.7220552563667297\n",
      " Weight: [1.0368066] \n",
      " bias:[3.189565]\n",
      "--------------------------------------------------\n"
     ]
    },
    {
     "data": {
      "image/png": "[encoded data removed]",
      "text/plain": [
       "<Figure size 432x288 with 1 Axes>"
      ]
     },
     "metadata": {
      "needs_background": "light"
     },
     "output_type": "display_data"
    },
    {
     "name": "stdout",
     "output_type": "stream",
     "text": [
      "None\n",
      " step: 120\n",
      " cost:0.2728119194507599\n",
      " Weight: [1.4079479] \n",
      " bias:[2.3458736]\n",
      "--------------------------------------------------\n"
     ]
    },
    {
     "data": {
      "image/png": "[encoded data removed]",
      "text/plain": [
       "<Figure size 432x288 with 1 Axes>"
      ]
     },
     "metadata": {
      "needs_background": "light"
     },
     "output_type": "display_data"
    },
    {
     "name": "stdout",
     "output_type": "stream",
     "text": [
      "None\n",
      " step: 140\n",
      " cost:0.10307563096284866\n",
      " Weight: [1.6360795] \n",
      " bias:[1.8272766]\n",
      "--------------------------------------------------\n"
     ]
    },
    {
     "data": {
      "image/png": "[encoded data removed]",
      "text/plain": [
       "<Figure size 432x288 with 1 Axes>"
      ]
     },
     "metadata": {
      "needs_background": "light"
     },
     "output_type": "display_data"
    },
    {
     "name": "stdout",
     "output_type": "stream",
     "text": [
      "None\n",
      " step: 160\n",
      " cost:0.03894476220011711\n",
      " Weight: [1.7763067] \n",
      " bias:[1.5085073]\n",
      "--------------------------------------------------\n"
     ]
    },
    {
     "data": {
      "image/png": "[encoded data removed]",
      "text/plain": [
       "<Figure size 432x288 with 1 Axes>"
      ]
     },
     "metadata": {
      "needs_background": "light"
     },
     "output_type": "display_data"
    },
    {
     "name": "stdout",
     "output_type": "stream",
     "text": [
      "None\n",
      " step: 180\n",
      " cost:0.014714385382831097\n",
      " Weight: [1.862501] \n",
      " bias:[1.3125674]\n",
      "--------------------------------------------------\n"
     ]
    },
    {
     "data": {
      "image/png": "[encoded data removed]",
      "text/plain": [
       "<Figure size 432x288 with 1 Axes>"
      ]
     },
     "metadata": {
      "needs_background": "light"
     },
     "output_type": "display_data"
    },
    {
     "name": "stdout",
     "output_type": "stream",
     "text": [
      "None\n",
      " step: 200\n",
      " cost:0.005559463519603014\n",
      " Weight: [1.9154826] \n",
      " bias:[1.1921277]\n",
      "--------------------------------------------------\n"
     ]
    },
    {
     "data": {
      "image/png": "[encoded data removed]",
      "text/plain": [
       "<Figure size 432x288 with 1 Axes>"
      ]
     },
     "metadata": {
      "needs_background": "light"
     },
     "output_type": "display_data"
    },
    {
     "name": "stdout",
     "output_type": "stream",
     "text": [
      "None\n",
      " step: 220\n",
      " cost:0.0021005284506827593\n",
      " Weight: [1.9480492] \n",
      " bias:[1.1180965]\n",
      "--------------------------------------------------\n"
     ]
    },
    {
     "data": {
      "image/png": "[encoded data removed]",
      "text/plain": [
       "<Figure size 432x288 with 1 Axes>"
      ]
     },
     "metadata": {
      "needs_background": "light"
     },
     "output_type": "display_data"
    },
    {
     "name": "stdout",
     "output_type": "stream",
     "text": [
      "None\n",
      " step: 240\n",
      " cost:0.0007936409674584866\n",
      " Weight: [1.968067] \n",
      " bias:[1.0725912]\n",
      "--------------------------------------------------\n"
     ]
    },
    {
     "data": {
      "image/png": "[encoded data removed]",
      "text/plain": [
       "<Figure size 432x288 with 1 Axes>"
      ]
     },
     "metadata": {
      "needs_background": "light"
     },
     "output_type": "display_data"
    },
    {
     "name": "stdout",
     "output_type": "stream",
     "text": [
      "None\n",
      " step: 260\n",
      " cost:0.00029985851142555475\n",
      " Weight: [1.9803716] \n",
      " bias:[1.0446202]\n",
      "--------------------------------------------------\n"
     ]
    },
    {
     "data": {
      "image/png": "[encoded data removed]",
      "text/plain": [
       "<Figure size 432x288 with 1 Axes>"
      ]
     },
     "metadata": {
      "needs_background": "light"
     },
     "output_type": "display_data"
    },
    {
     "name": "stdout",
     "output_type": "stream",
     "text": [
      "None\n",
      " step: 280\n",
      " cost:0.00011329507833579555\n",
      " Weight: [1.9879348] \n",
      " bias:[1.027427]\n",
      "--------------------------------------------------\n"
     ]
    },
    {
     "data": {
      "image/png": "[encoded data removed]",
      "text/plain": [
       "<Figure size 432x288 with 1 Axes>"
      ]
     },
     "metadata": {
      "needs_background": "light"
     },
     "output_type": "display_data"
    },
    {
     "name": "stdout",
     "output_type": "stream",
     "text": [
      "\n",
      "=== Test ===\n",
      "X: 5, Y: [10.979279]\n",
      "X: 2.5, Y: [5.9982767]\n",
      "Weight와 bias\n",
      "[array([1.992401], dtype=float32), array([1.0172741], dtype=float32)]\n"
     ]
    }
   ],
   "source": [
    "# 세션 생성 및 초기화.\n",
    "with tf.Session() as sess:\n",
    "    sess.run(tf.global_variables_initializer()) # 변수 초기화\n",
    "\n",
    "    # 최적화를 300번 수행합니다.\n",
    "    for step in range(300):\n",
    "        # sess.run 을 통해 train_op 와 cost 그래프를 계산한다.\n",
    "        # 이 때, Hypothesis에 넣어야 할 실제값을 feed_dict 을 통해 전달합니다.\n",
    "        _, cost_val, weight, bias = sess.run([train_op, cost, W, b], \n",
    "                                             feed_dict={X: x_data, Y: y_data})\n",
    "        \n",
    "        # _는 None값. --> compute_gradients, apply_gradients가 실행됩니다.\n",
    "        # --> W값 자동으로 조정합니다.\n",
    "        \n",
    "        if step%20==0:\n",
    "            # 20번에 한번씩 진행하기\n",
    "            print(_)\n",
    "            print(\" step: {}\\n cost:{}\\n Weight: {} \\n bias:{}\".format(step, cost_val, weight, bias))\n",
    "            print(\"-\"*50)\n",
    "            h = sess.run(hypothesis, feed_dict={X: x_data})\n",
    "            \n",
    "            plt.plot(x_data, h)\n",
    "            plt.scatter(x_data, y_data)\n",
    "            plt.show()\n",
    "\n",
    "    # 최적화가 완료된 모델에 테스트 값을 넣고 결과가 잘 나오는지 확인해봅니다.\n",
    "    print(\"\\n=== Test ===\")\n",
    "    print(\"X: 5, Y:\", sess.run(hypothesis, feed_dict={X: 5}))\n",
    "    print(\"X: 2.5, Y:\", sess.run(hypothesis, feed_dict={X: 2.5}))\n",
    "    print(\"Weight와 bias\")\n",
    "    print(sess.run([W, b]))\n"
   ]
  },
  {
   "cell_type": "code",
   "execution_count": null,
   "metadata": {},
   "outputs": [],
   "source": []
  },
  {
   "cell_type": "code",
   "execution_count": null,
   "metadata": {},
   "outputs": [],
   "source": []
  },
  {
   "cell_type": "markdown",
   "metadata": {},
   "source": [
    "# 연습문제3. Boston Data LinearRegression"
   ]
  },
  {
   "cell_type": "markdown",
   "metadata": {},
   "source": [
    "### 1. DataLoad"
   ]
  },
  {
   "cell_type": "code",
   "execution_count": 11,
   "metadata": {},
   "outputs": [],
   "source": [
    "import tensorflow as tf\n",
    "from sklearn import datasets\n",
    "from sklearn import model_selection\n",
    "from sklearn.preprocessing import StandardScaler\n",
    "import pandas as pd\n",
    "import numpy as np"
   ]
  },
  {
   "cell_type": "code",
   "execution_count": 54,
   "metadata": {},
   "outputs": [],
   "source": [
    "def reset_all(seed=42):\n",
    "    seed=42\n",
    "    tf.reset_default_graph()\n",
    "    tf.set_random_seed(seed)\n",
    "    np.random.seed(seed)"
   ]
  },
  {
   "cell_type": "code",
   "execution_count": 14,
   "metadata": {},
   "outputs": [
    {
     "data": {
      "text/plain": [
       "dict_keys(['data', 'target', 'feature_names', 'DESCR', 'filename'])"
      ]
     },
     "execution_count": 14,
     "metadata": {},
     "output_type": "execute_result"
    }
   ],
   "source": [
    "# boston 집값 예측\n",
    "boston = datasets.load_boston()\n",
    "boston.keys()"
   ]
  },
  {
   "cell_type": "code",
   "execution_count": 15,
   "metadata": {},
   "outputs": [],
   "source": [
    "# boston data 설명\n",
    "\"\"\"\n",
    "CRIM\t자치시(town) 별 1인당 범죄율\n",
    "ZN\t25,000 평방피트를 초과하는 거주지역의 비율\n",
    "INDUS\t비소매상업지역이 점유하고 있는 토지의 비율\n",
    "CHAS\t찰스강에 대한 더미변수(강의 경계에 위치한 경우는 1, 아니면 0)\n",
    "NOX\t10ppm 당 농축 일산화질소\n",
    "RM\t주택 1가구당 평균 방의 개수\n",
    "AGE\t1940년 이전에 건축된 소유주택의 비율\n",
    "DIS\t5개의 보스턴 직업센터까지의 접근성 지수\n",
    "RAD\t방사형 도로까지의 접근성 지수\n",
    "TAX\t10,000 달러 당 재산세율\n",
    "PTRATIO\t자치시(town)별 학생/교사 비율\n",
    "B\t1000(Bk-0.63)^2, 여기서 Bk는 자치시별 흑인의 비율을 말함.\n",
    "LSTAT\t모집단의 하위계층의 비율(%)\n",
    "MEDV\t본인 소유의 주택가격(중앙값) (단위: $1,000)\n",
    "\"\"\"\n",
    "# boston의 범죄율 등으로 집값 예측\n",
    "boston_housing = boston.data\n",
    "boston_label = boston.target\n",
    "m, n = boston_housing.shape # shape 저장 (m X n)행렬"
   ]
  },
  {
   "cell_type": "code",
   "execution_count": null,
   "metadata": {},
   "outputs": [],
   "source": [
    "## code 시작!"
   ]
  },
  {
   "cell_type": "markdown",
   "metadata": {},
   "source": [
    "### 2. 전처리"
   ]
  },
  {
   "cell_type": "code",
   "execution_count": null,
   "metadata": {},
   "outputs": [],
   "source": []
  },
  {
   "cell_type": "code",
   "execution_count": null,
   "metadata": {},
   "outputs": [],
   "source": []
  },
  {
   "cell_type": "markdown",
   "metadata": {},
   "source": [
    "## 3. Graph 정의"
   ]
  },
  {
   "cell_type": "code",
   "execution_count": null,
   "metadata": {},
   "outputs": [],
   "source": [
    "## 3. Graph 정의"
   ]
  },
  {
   "cell_type": "code",
   "execution_count": null,
   "metadata": {},
   "outputs": [],
   "source": []
  },
  {
   "cell_type": "markdown",
   "metadata": {},
   "source": [
    "## 4. 수행"
   ]
  },
  {
   "cell_type": "code",
   "execution_count": null,
   "metadata": {},
   "outputs": [],
   "source": []
  },
  {
   "cell_type": "code",
   "execution_count": null,
   "metadata": {},
   "outputs": [],
   "source": []
  },
  {
   "cell_type": "code",
   "execution_count": null,
   "metadata": {},
   "outputs": [],
   "source": []
  },
  {
   "cell_type": "code",
   "execution_count": null,
   "metadata": {},
   "outputs": [],
   "source": []
  },
  {
   "cell_type": "code",
   "execution_count": null,
   "metadata": {},
   "outputs": [],
   "source": []
  },
  {
   "cell_type": "markdown",
   "metadata": {},
   "source": [
    "# 모범 답안"
   ]
  },
  {
   "cell_type": "markdown",
   "metadata": {},
   "source": [
    "### 2. 전처리"
   ]
  },
  {
   "cell_type": "code",
   "execution_count": 16,
   "metadata": {},
   "outputs": [],
   "source": [
    "boston_df = pd.DataFrame(boston_housing, columns=boston.feature_names)"
   ]
  },
  {
   "cell_type": "code",
   "execution_count": 18,
   "metadata": {},
   "outputs": [
    {
     "data": {
      "text/html": [
       "<div>\n",
       "<style scoped>\n",
       "    .dataframe tbody tr th:only-of-type {\n",
       "        vertical-align: middle;\n",
       "    }\n",
       "\n",
       "    .dataframe tbody tr th {\n",
       "        vertical-align: top;\n",
       "    }\n",
       "\n",
       "    .dataframe thead th {\n",
       "        text-align: right;\n",
       "    }\n",
       "</style>\n",
       "<table border=\"1\" class=\"dataframe\">\n",
       "  <thead>\n",
       "    <tr style=\"text-align: right;\">\n",
       "      <th></th>\n",
       "      <th>CRIM</th>\n",
       "      <th>ZN</th>\n",
       "      <th>INDUS</th>\n",
       "      <th>CHAS</th>\n",
       "      <th>NOX</th>\n",
       "      <th>RM</th>\n",
       "      <th>AGE</th>\n",
       "      <th>DIS</th>\n",
       "      <th>RAD</th>\n",
       "      <th>TAX</th>\n",
       "      <th>PTRATIO</th>\n",
       "      <th>B</th>\n",
       "      <th>LSTAT</th>\n",
       "    </tr>\n",
       "  </thead>\n",
       "  <tbody>\n",
       "    <tr>\n",
       "      <th>count</th>\n",
       "      <td>506.000000</td>\n",
       "      <td>506.000000</td>\n",
       "      <td>506.000000</td>\n",
       "      <td>506.000000</td>\n",
       "      <td>506.000000</td>\n",
       "      <td>506.000000</td>\n",
       "      <td>506.000000</td>\n",
       "      <td>506.000000</td>\n",
       "      <td>506.000000</td>\n",
       "      <td>506.000000</td>\n",
       "      <td>506.000000</td>\n",
       "      <td>506.000000</td>\n",
       "      <td>506.000000</td>\n",
       "    </tr>\n",
       "    <tr>\n",
       "      <th>mean</th>\n",
       "      <td>3.613524</td>\n",
       "      <td>11.363636</td>\n",
       "      <td>11.136779</td>\n",
       "      <td>0.069170</td>\n",
       "      <td>0.554695</td>\n",
       "      <td>6.284634</td>\n",
       "      <td>68.574901</td>\n",
       "      <td>3.795043</td>\n",
       "      <td>9.549407</td>\n",
       "      <td>408.237154</td>\n",
       "      <td>18.455534</td>\n",
       "      <td>356.674032</td>\n",
       "      <td>12.653063</td>\n",
       "    </tr>\n",
       "    <tr>\n",
       "      <th>std</th>\n",
       "      <td>8.601545</td>\n",
       "      <td>23.322453</td>\n",
       "      <td>6.860353</td>\n",
       "      <td>0.253994</td>\n",
       "      <td>0.115878</td>\n",
       "      <td>0.702617</td>\n",
       "      <td>28.148861</td>\n",
       "      <td>2.105710</td>\n",
       "      <td>8.707259</td>\n",
       "      <td>168.537116</td>\n",
       "      <td>2.164946</td>\n",
       "      <td>91.294864</td>\n",
       "      <td>7.141062</td>\n",
       "    </tr>\n",
       "    <tr>\n",
       "      <th>min</th>\n",
       "      <td>0.006320</td>\n",
       "      <td>0.000000</td>\n",
       "      <td>0.460000</td>\n",
       "      <td>0.000000</td>\n",
       "      <td>0.385000</td>\n",
       "      <td>3.561000</td>\n",
       "      <td>2.900000</td>\n",
       "      <td>1.129600</td>\n",
       "      <td>1.000000</td>\n",
       "      <td>187.000000</td>\n",
       "      <td>12.600000</td>\n",
       "      <td>0.320000</td>\n",
       "      <td>1.730000</td>\n",
       "    </tr>\n",
       "    <tr>\n",
       "      <th>25%</th>\n",
       "      <td>0.082045</td>\n",
       "      <td>0.000000</td>\n",
       "      <td>5.190000</td>\n",
       "      <td>0.000000</td>\n",
       "      <td>0.449000</td>\n",
       "      <td>5.885500</td>\n",
       "      <td>45.025000</td>\n",
       "      <td>2.100175</td>\n",
       "      <td>4.000000</td>\n",
       "      <td>279.000000</td>\n",
       "      <td>17.400000</td>\n",
       "      <td>375.377500</td>\n",
       "      <td>6.950000</td>\n",
       "    </tr>\n",
       "    <tr>\n",
       "      <th>50%</th>\n",
       "      <td>0.256510</td>\n",
       "      <td>0.000000</td>\n",
       "      <td>9.690000</td>\n",
       "      <td>0.000000</td>\n",
       "      <td>0.538000</td>\n",
       "      <td>6.208500</td>\n",
       "      <td>77.500000</td>\n",
       "      <td>3.207450</td>\n",
       "      <td>5.000000</td>\n",
       "      <td>330.000000</td>\n",
       "      <td>19.050000</td>\n",
       "      <td>391.440000</td>\n",
       "      <td>11.360000</td>\n",
       "    </tr>\n",
       "    <tr>\n",
       "      <th>75%</th>\n",
       "      <td>3.677083</td>\n",
       "      <td>12.500000</td>\n",
       "      <td>18.100000</td>\n",
       "      <td>0.000000</td>\n",
       "      <td>0.624000</td>\n",
       "      <td>6.623500</td>\n",
       "      <td>94.075000</td>\n",
       "      <td>5.188425</td>\n",
       "      <td>24.000000</td>\n",
       "      <td>666.000000</td>\n",
       "      <td>20.200000</td>\n",
       "      <td>396.225000</td>\n",
       "      <td>16.955000</td>\n",
       "    </tr>\n",
       "    <tr>\n",
       "      <th>max</th>\n",
       "      <td>88.976200</td>\n",
       "      <td>100.000000</td>\n",
       "      <td>27.740000</td>\n",
       "      <td>1.000000</td>\n",
       "      <td>0.871000</td>\n",
       "      <td>8.780000</td>\n",
       "      <td>100.000000</td>\n",
       "      <td>12.126500</td>\n",
       "      <td>24.000000</td>\n",
       "      <td>711.000000</td>\n",
       "      <td>22.000000</td>\n",
       "      <td>396.900000</td>\n",
       "      <td>37.970000</td>\n",
       "    </tr>\n",
       "  </tbody>\n",
       "</table>\n",
       "</div>"
      ],
      "text/plain": [
       "             CRIM          ZN       INDUS        CHAS         NOX          RM  \\\n",
       "count  506.000000  506.000000  506.000000  506.000000  506.000000  506.000000   \n",
       "mean     3.613524   11.363636   11.136779    0.069170    0.554695    6.284634   \n",
       "std      8.601545   23.322453    6.860353    0.253994    0.115878    0.702617   \n",
       "min      0.006320    0.000000    0.460000    0.000000    0.385000    3.561000   \n",
       "25%      0.082045    0.000000    5.190000    0.000000    0.449000    5.885500   \n",
       "50%      0.256510    0.000000    9.690000    0.000000    0.538000    6.208500   \n",
       "75%      3.677083   12.500000   18.100000    0.000000    0.624000    6.623500   \n",
       "max     88.976200  100.000000   27.740000    1.000000    0.871000    8.780000   \n",
       "\n",
       "              AGE         DIS         RAD         TAX     PTRATIO           B  \\\n",
       "count  506.000000  506.000000  506.000000  506.000000  506.000000  506.000000   \n",
       "mean    68.574901    3.795043    9.549407  408.237154   18.455534  356.674032   \n",
       "std     28.148861    2.105710    8.707259  168.537116    2.164946   91.294864   \n",
       "min      2.900000    1.129600    1.000000  187.000000   12.600000    0.320000   \n",
       "25%     45.025000    2.100175    4.000000  279.000000   17.400000  375.377500   \n",
       "50%     77.500000    3.207450    5.000000  330.000000   19.050000  391.440000   \n",
       "75%     94.075000    5.188425   24.000000  666.000000   20.200000  396.225000   \n",
       "max    100.000000   12.126500   24.000000  711.000000   22.000000  396.900000   \n",
       "\n",
       "            LSTAT  \n",
       "count  506.000000  \n",
       "mean    12.653063  \n",
       "std      7.141062  \n",
       "min      1.730000  \n",
       "25%      6.950000  \n",
       "50%     11.360000  \n",
       "75%     16.955000  \n",
       "max     37.970000  "
      ]
     },
     "execution_count": 18,
     "metadata": {},
     "output_type": "execute_result"
    }
   ],
   "source": [
    "boston_df.describe()"
   ]
  },
  {
   "cell_type": "code",
   "execution_count": 19,
   "metadata": {},
   "outputs": [
    {
     "name": "stdout",
     "output_type": "stream",
     "text": [
      "<class 'pandas.core.frame.DataFrame'>\n",
      "RangeIndex: 506 entries, 0 to 505\n",
      "Data columns (total 13 columns):\n",
      "CRIM       506 non-null float64\n",
      "ZN         506 non-null float64\n",
      "INDUS      506 non-null float64\n",
      "CHAS       506 non-null float64\n",
      "NOX        506 non-null float64\n",
      "RM         506 non-null float64\n",
      "AGE        506 non-null float64\n",
      "DIS        506 non-null float64\n",
      "RAD        506 non-null float64\n",
      "TAX        506 non-null float64\n",
      "PTRATIO    506 non-null float64\n",
      "B          506 non-null float64\n",
      "LSTAT      506 non-null float64\n",
      "dtypes: float64(13)\n",
      "memory usage: 51.5 KB\n"
     ]
    }
   ],
   "source": [
    "# 결측치 없음\n",
    "boston_df.info()"
   ]
  },
  {
   "cell_type": "code",
   "execution_count": 21,
   "metadata": {},
   "outputs": [],
   "source": [
    "from sklearn.preprocessing import StandardScaler\n",
    "scaler = StandardScaler()\n",
    "scaled_boston_housing = scaler.fit_transform(boston_housing) "
   ]
  },
  {
   "cell_type": "markdown",
   "metadata": {},
   "source": [
    "### bias 데이터에 추가"
   ]
  },
  {
   "cell_type": "code",
   "execution_count": 22,
   "metadata": {},
   "outputs": [
    {
     "name": "stdout",
     "output_type": "stream",
     "text": [
      "mean(항목간):  [ 1.00000000e+00 -8.78743718e-17 -6.34319123e-16 -2.68291099e-15\n",
      "  4.70199198e-16  2.49032240e-15 -1.14523016e-14 -1.40785495e-15\n",
      "  9.21090169e-16  5.44140929e-16 -8.86861950e-16 -9.20563581e-15\n",
      "  8.16310129e-15 -3.37016317e-16]\n",
      "mean(전체):  0.0714285714285704\n",
      "shape:  (506, 14)\n"
     ]
    }
   ],
   "source": [
    "# np.c_ 함수는 concatenate 함수 (연결한다!)\n",
    "# bias에 행렬 추가\n",
    "scaled_boston_housing_plus_bias = np.c_[np.ones((m, 1)), \n",
    "                                        scaled_boston_housing] \n",
    "## bias 추가\n",
    "\n",
    "print(\"mean(항목간): \", scaled_boston_housing_plus_bias.mean(axis=0))\n",
    "print(\"mean(전체): \", scaled_boston_housing_plus_bias.mean())\n",
    "print(\"shape: \",scaled_boston_housing_plus_bias.shape)"
   ]
  },
  {
   "cell_type": "markdown",
   "metadata": {},
   "source": [
    "## 3. Graph 정의"
   ]
  },
  {
   "cell_type": "code",
   "execution_count": 23,
   "metadata": {},
   "outputs": [],
   "source": [
    "# 그래프 초기화\n",
    "tf.reset_default_graph()"
   ]
  },
  {
   "cell_type": "code",
   "execution_count": 24,
   "metadata": {},
   "outputs": [],
   "source": [
    "n_epochs = 1000 # epoch --> 학습횟수(반복횟수)\n",
    "lr = 0.01 # learning rate"
   ]
  },
  {
   "cell_type": "markdown",
   "metadata": {},
   "source": [
    "#### 1. X와 y정의"
   ]
  },
  {
   "cell_type": "code",
   "execution_count": 25,
   "metadata": {},
   "outputs": [
    {
     "data": {
      "text/plain": [
       "(506, 14)"
      ]
     },
     "execution_count": 25,
     "metadata": {},
     "output_type": "execute_result"
    }
   ],
   "source": [
    "scaled_boston_housing_plus_bias.shape"
   ]
  },
  {
   "cell_type": "code",
   "execution_count": 26,
   "metadata": {},
   "outputs": [],
   "source": [
    "X = tf.placeholder(dtype=tf.float32, shape=(None, n+1), name=\"X\")\n",
    "y = tf.placeholder(dtype=tf.float32, shape=(None, 1), name='y')"
   ]
  },
  {
   "cell_type": "markdown",
   "metadata": {},
   "source": [
    "#### Hypothesis&Cost 정의"
   ]
  },
  {
   "cell_type": "code",
   "execution_count": 27,
   "metadata": {
    "scrolled": true
   },
   "outputs": [
    {
     "data": {
      "text/plain": [
       "(506, 13)"
      ]
     },
     "execution_count": 27,
     "metadata": {},
     "output_type": "execute_result"
    }
   ],
   "source": [
    "m,n"
   ]
  },
  {
   "cell_type": "code",
   "execution_count": 30,
   "metadata": {},
   "outputs": [],
   "source": [
    "# M: 데이터의 개수, N: Feature의 개수\n",
    "# n(feature의 개수) +1 --> bias\n",
    "W = tf.Variable(tf.random_uniform([n+1, 1], -1.0, 1.0), name='Weight')  # N+1 X 1 행렬\n",
    "y_pred = tf.matmul(X, W, name='predictions') # hypothesis  --> M X 1행렬  = M X N+1 * N+1 X 1 "
   ]
  },
  {
   "cell_type": "code",
   "execution_count": 31,
   "metadata": {},
   "outputs": [],
   "source": [
    "# ==> y값은 MX1 로 넣어줘야함 행렬연산 위해\n",
    "error = y_pred - y # MX1행렬 (데이터의 개수 만큼 error가 나옴.) --> Data 1개당 에러 (오차)  \n",
    "\n",
    "# Mean Sqaure Error\n",
    "mse = tf.reduce_mean(tf.square(error), name='mse') # Cost Function"
   ]
  },
  {
   "cell_type": "markdown",
   "metadata": {},
   "source": [
    "#### 옵티마이저"
   ]
  },
  {
   "cell_type": "code",
   "execution_count": 32,
   "metadata": {},
   "outputs": [],
   "source": [
    "optimizer = tf.train.GradientDescentOptimizer(learning_rate=lr)\n",
    "# mse를 최소화하는게 목적!\n",
    "training_op = optimizer.minimize(mse) "
   ]
  },
  {
   "cell_type": "markdown",
   "metadata": {},
   "source": [
    "### label reshape"
   ]
  },
  {
   "cell_type": "code",
   "execution_count": 33,
   "metadata": {},
   "outputs": [
    {
     "name": "stdout",
     "output_type": "stream",
     "text": [
      "(506,)\n"
     ]
    },
    {
     "data": {
      "text/plain": [
       "(506, 1)"
      ]
     },
     "execution_count": 33,
     "metadata": {},
     "output_type": "execute_result"
    }
   ],
   "source": [
    "print(boston_label.shape)\n",
    "# 행렬간 연산을 위해선 2차원 행렬로 만들어줘야함.\n",
    "boston_label = boston_label.reshape(-1, 1)\n",
    "boston_label.shape"
   ]
  },
  {
   "cell_type": "markdown",
   "metadata": {},
   "source": [
    "## 4. 실행"
   ]
  },
  {
   "cell_type": "code",
   "execution_count": 34,
   "metadata": {
    "scrolled": true
   },
   "outputs": [
    {
     "name": "stdout",
     "output_type": "stream",
     "text": [
      "Epoch 0 MSE = 564.6932\n",
      "Epoch 100 MSE = 32.05525\n",
      "Epoch 200 MSE = 22.857368\n",
      "Epoch 300 MSE = 22.373857\n",
      "Epoch 400 MSE = 22.192314\n",
      "Epoch 500 MSE = 22.089935\n",
      "Epoch 600 MSE = 22.028353\n",
      "Epoch 700 MSE = 21.989452\n",
      "Epoch 800 MSE = 21.96371\n",
      "Epoch 900 MSE = 21.945982\n"
     ]
    },
    {
     "data": {
      "text/plain": [
       "array([[22.53276   ],\n",
       "       [-0.8809414 ],\n",
       "       [ 1.005699  ],\n",
       "       [-0.05171305],\n",
       "       [ 0.7081686 ],\n",
       "       [-1.9393833 ],\n",
       "       [ 2.7261667 ],\n",
       "       [-0.02324395],\n",
       "       [-3.0577457 ],\n",
       "       [ 2.1692865 ],\n",
       "       [-1.5528117 ],\n",
       "       [-2.0243301 ],\n",
       "       [ 0.85032994],\n",
       "       [-3.7232866 ]], dtype=float32)"
      ]
     },
     "execution_count": 34,
     "metadata": {},
     "output_type": "execute_result"
    }
   ],
   "source": [
    "init = tf.global_variables_initializer()\n",
    "\n",
    "with tf.Session() as sess:\n",
    "    sess.run(init)\n",
    "\n",
    "    for epoch in range(n_epochs):\n",
    "        if epoch % 100 == 0:\n",
    "            # feed_dict 추가\n",
    "            print(\"Epoch\", epoch, \"MSE =\", \n",
    "                  mse.eval(feed_dict={\n",
    "                      X:scaled_boston_housing_plus_bias, \n",
    "                      y:boston_label})\n",
    "                 )\n",
    "        \n",
    "        # weight 업데이트\n",
    "        sess.run(training_op, feed_dict={X:scaled_boston_housing_plus_bias, y:boston_label})\n",
    "    \n",
    "    best_weight = W.eval()\n",
    "\n",
    "best_weight"
   ]
  },
  {
   "cell_type": "markdown",
   "metadata": {},
   "source": [
    "# 텐서보드 사용하기"
   ]
  },
  {
   "cell_type": "code",
   "execution_count": 38,
   "metadata": {},
   "outputs": [],
   "source": [
    "from datetime import datetime"
   ]
  },
  {
   "cell_type": "code",
   "execution_count": 46,
   "metadata": {},
   "outputs": [],
   "source": [
    "now = datetime.now().strftime(\"%Y%m%d%H%M%S\")\n",
    "root_logdir = './tf_logs/asia'\n",
    "# root_logdir = './tf_logs/asia'\n",
    "logdir = \"{}/{}\".format(root_logdir, now)"
   ]
  },
  {
   "cell_type": "code",
   "execution_count": 47,
   "metadata": {},
   "outputs": [],
   "source": [
    "mse_summary = tf.summary.scalar('MSE', mse)   # scalar에 대한 summary 기록 ==> 이것도 tensor\n",
    "file_writer = tf.summary.FileWriter(logdir, tf.get_default_graph()) # 현재 그래프에 대한 내용. (filewriter를 통해 기록할 수 있음)"
   ]
  },
  {
   "cell_type": "markdown",
   "metadata": {},
   "source": [
    "#### 보스턴 학습 데이터 입니다."
   ]
  },
  {
   "cell_type": "code",
   "execution_count": 48,
   "metadata": {},
   "outputs": [
    {
     "data": {
      "text/plain": [
       "array([[22.53276   ],\n",
       "       [-0.8631007 ],\n",
       "       [ 0.96993655],\n",
       "       [-0.14281543],\n",
       "       [ 0.7216418 ],\n",
       "       [-1.917378  ],\n",
       "       [ 2.7498016 ],\n",
       "       [-0.04267005],\n",
       "       [-3.0557425 ],\n",
       "       [ 1.93106   ],\n",
       "       [-1.2840827 ],\n",
       "       [-2.0161119 ],\n",
       "       [ 0.8502691 ],\n",
       "       [-3.70693   ]], dtype=float32)"
      ]
     },
     "execution_count": 48,
     "metadata": {},
     "output_type": "execute_result"
    }
   ],
   "source": [
    "init = tf.global_variables_initializer()\n",
    "\n",
    "with tf.Session() as sess:\n",
    "    sess.run(init)\n",
    "\n",
    "    for epoch in range(n_epochs):\n",
    "        if epoch % 100 == 0:\n",
    "            # feed_dict 추가\n",
    "            # summary 만들기\n",
    "            summary_str = mse_summary.eval(\n",
    "                feed_dict={\n",
    "                    X: scaled_boston_housing_plus_bias, \n",
    "                    y: boston_label})\n",
    "            \n",
    "            step = epoch\n",
    "            # summary 추가.\n",
    "            file_writer.add_summary(summary_str, step)\n",
    "        \n",
    "        # weight 업데이트\n",
    "        sess.run(training_op, \n",
    "                 feed_dict={X:scaled_boston_housing_plus_bias, \n",
    "                            y:boston_label})\n",
    "    \n",
    "    best_weight = W.eval()\n",
    "\n",
    "best_weight\n",
    "\n"
   ]
  },
  {
   "cell_type": "code",
   "execution_count": 49,
   "metadata": {},
   "outputs": [],
   "source": [
    "file_writer.close()"
   ]
  },
  {
   "cell_type": "code",
   "execution_count": 50,
   "metadata": {},
   "outputs": [],
   "source": [
    "# !ls\n",
    "# !dir"
   ]
  },
  {
   "cell_type": "code",
   "execution_count": 51,
   "metadata": {},
   "outputs": [
    {
     "name": "stdout",
     "output_type": "stream",
     "text": [
      "/bin/sh: dir: command not found\r\n"
     ]
    }
   ],
   "source": [
    "# 파일 추가\n",
    "# !ls {root_logdir}/*\n"
   ]
  },
  {
   "cell_type": "code",
   "execution_count": 52,
   "metadata": {},
   "outputs": [
    {
     "name": "stdout",
     "output_type": "stream",
     "text": [
      "pyenv: tensorboard: command not found\n",
      "\n",
      "The `tensorboard' command exists in these Python versions:\n",
      "  3.6.6\n",
      "\n"
     ]
    }
   ],
   "source": [
    "import sys\n",
    "!tensorboard --logdir {root_logdir}"
   ]
  },
  {
   "cell_type": "code",
   "execution_count": null,
   "metadata": {},
   "outputs": [],
   "source": []
  },
  {
   "cell_type": "markdown",
   "metadata": {},
   "source": [
    "# 연습문제 4. diabetes 데이터"
   ]
  },
  {
   "cell_type": "markdown",
   "metadata": {},
   "source": [
    "442명의 당뇨병 환자를 대상으로한 검사 결과를 나타내는 데이터이다.\n",
    "\n",
    "타겟 데이터\n",
    "\n",
    "1년 뒤 측정한 당뇨병의 진행률\n",
    "특징 데이터 (이 데이터셋의 특징 데이터는 모두 정규화된 값이다.)\n",
    "\n",
    "Age\n",
    "Sex\n",
    "Body mass index\n",
    "Average blood pressure\n",
    "S1\n",
    "S2\n",
    "S3\n",
    "S4\n",
    "S5\n",
    "S6"
   ]
  },
  {
   "cell_type": "code",
   "execution_count": null,
   "metadata": {},
   "outputs": [],
   "source": []
  },
  {
   "cell_type": "markdown",
   "metadata": {},
   "source": [
    "# 1. 데이터 로드 "
   ]
  },
  {
   "cell_type": "code",
   "execution_count": 55,
   "metadata": {},
   "outputs": [],
   "source": [
    "reset_all()"
   ]
  },
  {
   "cell_type": "code",
   "execution_count": 56,
   "metadata": {},
   "outputs": [
    {
     "data": {
      "text/html": [
       "<div>\n",
       "<style scoped>\n",
       "    .dataframe tbody tr th:only-of-type {\n",
       "        vertical-align: middle;\n",
       "    }\n",
       "\n",
       "    .dataframe tbody tr th {\n",
       "        vertical-align: top;\n",
       "    }\n",
       "\n",
       "    .dataframe thead th {\n",
       "        text-align: right;\n",
       "    }\n",
       "</style>\n",
       "<table border=\"1\" class=\"dataframe\">\n",
       "  <thead>\n",
       "    <tr style=\"text-align: right;\">\n",
       "      <th></th>\n",
       "      <th>age</th>\n",
       "      <th>sex</th>\n",
       "      <th>bmi</th>\n",
       "      <th>bp</th>\n",
       "      <th>s1</th>\n",
       "      <th>s2</th>\n",
       "      <th>s3</th>\n",
       "      <th>s4</th>\n",
       "      <th>s5</th>\n",
       "      <th>s6</th>\n",
       "    </tr>\n",
       "  </thead>\n",
       "  <tbody>\n",
       "    <tr>\n",
       "      <th>0</th>\n",
       "      <td>0.038076</td>\n",
       "      <td>0.050680</td>\n",
       "      <td>0.061696</td>\n",
       "      <td>0.021872</td>\n",
       "      <td>-0.044223</td>\n",
       "      <td>-0.034821</td>\n",
       "      <td>-0.043401</td>\n",
       "      <td>-0.002592</td>\n",
       "      <td>0.019908</td>\n",
       "      <td>-0.017646</td>\n",
       "    </tr>\n",
       "    <tr>\n",
       "      <th>1</th>\n",
       "      <td>-0.001882</td>\n",
       "      <td>-0.044642</td>\n",
       "      <td>-0.051474</td>\n",
       "      <td>-0.026328</td>\n",
       "      <td>-0.008449</td>\n",
       "      <td>-0.019163</td>\n",
       "      <td>0.074412</td>\n",
       "      <td>-0.039493</td>\n",
       "      <td>-0.068330</td>\n",
       "      <td>-0.092204</td>\n",
       "    </tr>\n",
       "    <tr>\n",
       "      <th>2</th>\n",
       "      <td>0.085299</td>\n",
       "      <td>0.050680</td>\n",
       "      <td>0.044451</td>\n",
       "      <td>-0.005671</td>\n",
       "      <td>-0.045599</td>\n",
       "      <td>-0.034194</td>\n",
       "      <td>-0.032356</td>\n",
       "      <td>-0.002592</td>\n",
       "      <td>0.002864</td>\n",
       "      <td>-0.025930</td>\n",
       "    </tr>\n",
       "    <tr>\n",
       "      <th>3</th>\n",
       "      <td>-0.089063</td>\n",
       "      <td>-0.044642</td>\n",
       "      <td>-0.011595</td>\n",
       "      <td>-0.036656</td>\n",
       "      <td>0.012191</td>\n",
       "      <td>0.024991</td>\n",
       "      <td>-0.036038</td>\n",
       "      <td>0.034309</td>\n",
       "      <td>0.022692</td>\n",
       "      <td>-0.009362</td>\n",
       "    </tr>\n",
       "    <tr>\n",
       "      <th>4</th>\n",
       "      <td>0.005383</td>\n",
       "      <td>-0.044642</td>\n",
       "      <td>-0.036385</td>\n",
       "      <td>0.021872</td>\n",
       "      <td>0.003935</td>\n",
       "      <td>0.015596</td>\n",
       "      <td>0.008142</td>\n",
       "      <td>-0.002592</td>\n",
       "      <td>-0.031991</td>\n",
       "      <td>-0.046641</td>\n",
       "    </tr>\n",
       "  </tbody>\n",
       "</table>\n",
       "</div>"
      ],
      "text/plain": [
       "        age       sex       bmi        bp        s1        s2        s3  \\\n",
       "0  0.038076  0.050680  0.061696  0.021872 -0.044223 -0.034821 -0.043401   \n",
       "1 -0.001882 -0.044642 -0.051474 -0.026328 -0.008449 -0.019163  0.074412   \n",
       "2  0.085299  0.050680  0.044451 -0.005671 -0.045599 -0.034194 -0.032356   \n",
       "3 -0.089063 -0.044642 -0.011595 -0.036656  0.012191  0.024991 -0.036038   \n",
       "4  0.005383 -0.044642 -0.036385  0.021872  0.003935  0.015596  0.008142   \n",
       "\n",
       "         s4        s5        s6  \n",
       "0 -0.002592  0.019908 -0.017646  \n",
       "1 -0.039493 -0.068330 -0.092204  \n",
       "2 -0.002592  0.002864 -0.025930  \n",
       "3  0.034309  0.022692 -0.009362  \n",
       "4 -0.002592 -0.031991 -0.046641  "
      ]
     },
     "execution_count": 56,
     "metadata": {},
     "output_type": "execute_result"
    }
   ],
   "source": [
    "from sklearn.datasets import load_diabetes\n",
    "from sklearn.model_selection import train_test_split\n",
    "import pandas as pd\n",
    "\n",
    "diabetes = load_diabetes()\n",
    "diabetes_df = pd.DataFrame(diabetes.data, columns=diabetes.feature_names)\n",
    "diabetes_df.head()"
   ]
  },
  {
   "cell_type": "code",
   "execution_count": 57,
   "metadata": {},
   "outputs": [
    {
     "data": {
      "text/html": [
       "<div>\n",
       "<style scoped>\n",
       "    .dataframe tbody tr th:only-of-type {\n",
       "        vertical-align: middle;\n",
       "    }\n",
       "\n",
       "    .dataframe tbody tr th {\n",
       "        vertical-align: top;\n",
       "    }\n",
       "\n",
       "    .dataframe thead th {\n",
       "        text-align: right;\n",
       "    }\n",
       "</style>\n",
       "<table border=\"1\" class=\"dataframe\">\n",
       "  <thead>\n",
       "    <tr style=\"text-align: right;\">\n",
       "      <th></th>\n",
       "      <th>age</th>\n",
       "      <th>sex</th>\n",
       "      <th>bmi</th>\n",
       "      <th>bp</th>\n",
       "      <th>s1</th>\n",
       "      <th>s2</th>\n",
       "      <th>s3</th>\n",
       "      <th>s4</th>\n",
       "      <th>s5</th>\n",
       "      <th>s6</th>\n",
       "    </tr>\n",
       "  </thead>\n",
       "  <tbody>\n",
       "    <tr>\n",
       "      <th>count</th>\n",
       "      <td>4.420000e+02</td>\n",
       "      <td>4.420000e+02</td>\n",
       "      <td>4.420000e+02</td>\n",
       "      <td>4.420000e+02</td>\n",
       "      <td>4.420000e+02</td>\n",
       "      <td>4.420000e+02</td>\n",
       "      <td>4.420000e+02</td>\n",
       "      <td>4.420000e+02</td>\n",
       "      <td>4.420000e+02</td>\n",
       "      <td>4.420000e+02</td>\n",
       "    </tr>\n",
       "    <tr>\n",
       "      <th>mean</th>\n",
       "      <td>-3.639623e-16</td>\n",
       "      <td>1.309912e-16</td>\n",
       "      <td>-8.013951e-16</td>\n",
       "      <td>1.289818e-16</td>\n",
       "      <td>-9.042540e-17</td>\n",
       "      <td>1.301121e-16</td>\n",
       "      <td>-4.563971e-16</td>\n",
       "      <td>3.863174e-16</td>\n",
       "      <td>-3.848103e-16</td>\n",
       "      <td>-3.398488e-16</td>\n",
       "    </tr>\n",
       "    <tr>\n",
       "      <th>std</th>\n",
       "      <td>4.761905e-02</td>\n",
       "      <td>4.761905e-02</td>\n",
       "      <td>4.761905e-02</td>\n",
       "      <td>4.761905e-02</td>\n",
       "      <td>4.761905e-02</td>\n",
       "      <td>4.761905e-02</td>\n",
       "      <td>4.761905e-02</td>\n",
       "      <td>4.761905e-02</td>\n",
       "      <td>4.761905e-02</td>\n",
       "      <td>4.761905e-02</td>\n",
       "    </tr>\n",
       "    <tr>\n",
       "      <th>min</th>\n",
       "      <td>-1.072256e-01</td>\n",
       "      <td>-4.464164e-02</td>\n",
       "      <td>-9.027530e-02</td>\n",
       "      <td>-1.123996e-01</td>\n",
       "      <td>-1.267807e-01</td>\n",
       "      <td>-1.156131e-01</td>\n",
       "      <td>-1.023071e-01</td>\n",
       "      <td>-7.639450e-02</td>\n",
       "      <td>-1.260974e-01</td>\n",
       "      <td>-1.377672e-01</td>\n",
       "    </tr>\n",
       "    <tr>\n",
       "      <th>25%</th>\n",
       "      <td>-3.729927e-02</td>\n",
       "      <td>-4.464164e-02</td>\n",
       "      <td>-3.422907e-02</td>\n",
       "      <td>-3.665645e-02</td>\n",
       "      <td>-3.424784e-02</td>\n",
       "      <td>-3.035840e-02</td>\n",
       "      <td>-3.511716e-02</td>\n",
       "      <td>-3.949338e-02</td>\n",
       "      <td>-3.324879e-02</td>\n",
       "      <td>-3.317903e-02</td>\n",
       "    </tr>\n",
       "    <tr>\n",
       "      <th>50%</th>\n",
       "      <td>5.383060e-03</td>\n",
       "      <td>-4.464164e-02</td>\n",
       "      <td>-7.283766e-03</td>\n",
       "      <td>-5.670611e-03</td>\n",
       "      <td>-4.320866e-03</td>\n",
       "      <td>-3.819065e-03</td>\n",
       "      <td>-6.584468e-03</td>\n",
       "      <td>-2.592262e-03</td>\n",
       "      <td>-1.947634e-03</td>\n",
       "      <td>-1.077698e-03</td>\n",
       "    </tr>\n",
       "    <tr>\n",
       "      <th>75%</th>\n",
       "      <td>3.807591e-02</td>\n",
       "      <td>5.068012e-02</td>\n",
       "      <td>3.124802e-02</td>\n",
       "      <td>3.564384e-02</td>\n",
       "      <td>2.835801e-02</td>\n",
       "      <td>2.984439e-02</td>\n",
       "      <td>2.931150e-02</td>\n",
       "      <td>3.430886e-02</td>\n",
       "      <td>3.243323e-02</td>\n",
       "      <td>2.791705e-02</td>\n",
       "    </tr>\n",
       "    <tr>\n",
       "      <th>max</th>\n",
       "      <td>1.107267e-01</td>\n",
       "      <td>5.068012e-02</td>\n",
       "      <td>1.705552e-01</td>\n",
       "      <td>1.320442e-01</td>\n",
       "      <td>1.539137e-01</td>\n",
       "      <td>1.987880e-01</td>\n",
       "      <td>1.811791e-01</td>\n",
       "      <td>1.852344e-01</td>\n",
       "      <td>1.335990e-01</td>\n",
       "      <td>1.356118e-01</td>\n",
       "    </tr>\n",
       "  </tbody>\n",
       "</table>\n",
       "</div>"
      ],
      "text/plain": [
       "                age           sex           bmi            bp            s1  \\\n",
       "count  4.420000e+02  4.420000e+02  4.420000e+02  4.420000e+02  4.420000e+02   \n",
       "mean  -3.639623e-16  1.309912e-16 -8.013951e-16  1.289818e-16 -9.042540e-17   \n",
       "std    4.761905e-02  4.761905e-02  4.761905e-02  4.761905e-02  4.761905e-02   \n",
       "min   -1.072256e-01 -4.464164e-02 -9.027530e-02 -1.123996e-01 -1.267807e-01   \n",
       "25%   -3.729927e-02 -4.464164e-02 -3.422907e-02 -3.665645e-02 -3.424784e-02   \n",
       "50%    5.383060e-03 -4.464164e-02 -7.283766e-03 -5.670611e-03 -4.320866e-03   \n",
       "75%    3.807591e-02  5.068012e-02  3.124802e-02  3.564384e-02  2.835801e-02   \n",
       "max    1.107267e-01  5.068012e-02  1.705552e-01  1.320442e-01  1.539137e-01   \n",
       "\n",
       "                 s2            s3            s4            s5            s6  \n",
       "count  4.420000e+02  4.420000e+02  4.420000e+02  4.420000e+02  4.420000e+02  \n",
       "mean   1.301121e-16 -4.563971e-16  3.863174e-16 -3.848103e-16 -3.398488e-16  \n",
       "std    4.761905e-02  4.761905e-02  4.761905e-02  4.761905e-02  4.761905e-02  \n",
       "min   -1.156131e-01 -1.023071e-01 -7.639450e-02 -1.260974e-01 -1.377672e-01  \n",
       "25%   -3.035840e-02 -3.511716e-02 -3.949338e-02 -3.324879e-02 -3.317903e-02  \n",
       "50%   -3.819065e-03 -6.584468e-03 -2.592262e-03 -1.947634e-03 -1.077698e-03  \n",
       "75%    2.984439e-02  2.931150e-02  3.430886e-02  3.243323e-02  2.791705e-02  \n",
       "max    1.987880e-01  1.811791e-01  1.852344e-01  1.335990e-01  1.356118e-01  "
      ]
     },
     "execution_count": 57,
     "metadata": {},
     "output_type": "execute_result"
    }
   ],
   "source": [
    "diabetes_df.describe()"
   ]
  },
  {
   "cell_type": "code",
   "execution_count": 58,
   "metadata": {},
   "outputs": [
    {
     "name": "stdout",
     "output_type": "stream",
     "text": [
      "<class 'pandas.core.frame.DataFrame'>\n",
      "RangeIndex: 442 entries, 0 to 441\n",
      "Data columns (total 10 columns):\n",
      "age    442 non-null float64\n",
      "sex    442 non-null float64\n",
      "bmi    442 non-null float64\n",
      "bp     442 non-null float64\n",
      "s1     442 non-null float64\n",
      "s2     442 non-null float64\n",
      "s3     442 non-null float64\n",
      "s4     442 non-null float64\n",
      "s5     442 non-null float64\n",
      "s6     442 non-null float64\n",
      "dtypes: float64(10)\n",
      "memory usage: 34.6 KB\n"
     ]
    }
   ],
   "source": [
    "diabetes_df.info()"
   ]
  },
  {
   "cell_type": "markdown",
   "metadata": {},
   "source": [
    "# 시작!"
   ]
  },
  {
   "cell_type": "code",
   "execution_count": null,
   "metadata": {},
   "outputs": [],
   "source": []
  },
  {
   "cell_type": "code",
   "execution_count": null,
   "metadata": {},
   "outputs": [],
   "source": []
  },
  {
   "cell_type": "code",
   "execution_count": null,
   "metadata": {},
   "outputs": [],
   "source": []
  },
  {
   "cell_type": "code",
   "execution_count": null,
   "metadata": {},
   "outputs": [],
   "source": []
  },
  {
   "cell_type": "code",
   "execution_count": null,
   "metadata": {},
   "outputs": [],
   "source": []
  },
  {
   "cell_type": "markdown",
   "metadata": {},
   "source": [
    "# 모범답안"
   ]
  },
  {
   "cell_type": "code",
   "execution_count": 59,
   "metadata": {},
   "outputs": [
    {
     "data": {
      "text/html": [
       "<div>\n",
       "<style scoped>\n",
       "    .dataframe tbody tr th:only-of-type {\n",
       "        vertical-align: middle;\n",
       "    }\n",
       "\n",
       "    .dataframe tbody tr th {\n",
       "        vertical-align: top;\n",
       "    }\n",
       "\n",
       "    .dataframe thead th {\n",
       "        text-align: right;\n",
       "    }\n",
       "</style>\n",
       "<table border=\"1\" class=\"dataframe\">\n",
       "  <thead>\n",
       "    <tr style=\"text-align: right;\">\n",
       "      <th></th>\n",
       "      <th>age</th>\n",
       "      <th>sex</th>\n",
       "      <th>bmi</th>\n",
       "      <th>bp</th>\n",
       "      <th>s1</th>\n",
       "      <th>s2</th>\n",
       "      <th>s3</th>\n",
       "      <th>s4</th>\n",
       "      <th>s5</th>\n",
       "      <th>s6</th>\n",
       "    </tr>\n",
       "  </thead>\n",
       "  <tbody>\n",
       "    <tr>\n",
       "      <th>count</th>\n",
       "      <td>4.420000e+02</td>\n",
       "      <td>4.420000e+02</td>\n",
       "      <td>4.420000e+02</td>\n",
       "      <td>4.420000e+02</td>\n",
       "      <td>4.420000e+02</td>\n",
       "      <td>4.420000e+02</td>\n",
       "      <td>4.420000e+02</td>\n",
       "      <td>4.420000e+02</td>\n",
       "      <td>4.420000e+02</td>\n",
       "      <td>4.420000e+02</td>\n",
       "    </tr>\n",
       "    <tr>\n",
       "      <th>mean</th>\n",
       "      <td>-3.639623e-16</td>\n",
       "      <td>1.309912e-16</td>\n",
       "      <td>-8.013951e-16</td>\n",
       "      <td>1.289818e-16</td>\n",
       "      <td>-9.042540e-17</td>\n",
       "      <td>1.301121e-16</td>\n",
       "      <td>-4.563971e-16</td>\n",
       "      <td>3.863174e-16</td>\n",
       "      <td>-3.848103e-16</td>\n",
       "      <td>-3.398488e-16</td>\n",
       "    </tr>\n",
       "    <tr>\n",
       "      <th>std</th>\n",
       "      <td>4.761905e-02</td>\n",
       "      <td>4.761905e-02</td>\n",
       "      <td>4.761905e-02</td>\n",
       "      <td>4.761905e-02</td>\n",
       "      <td>4.761905e-02</td>\n",
       "      <td>4.761905e-02</td>\n",
       "      <td>4.761905e-02</td>\n",
       "      <td>4.761905e-02</td>\n",
       "      <td>4.761905e-02</td>\n",
       "      <td>4.761905e-02</td>\n",
       "    </tr>\n",
       "    <tr>\n",
       "      <th>min</th>\n",
       "      <td>-1.072256e-01</td>\n",
       "      <td>-4.464164e-02</td>\n",
       "      <td>-9.027530e-02</td>\n",
       "      <td>-1.123996e-01</td>\n",
       "      <td>-1.267807e-01</td>\n",
       "      <td>-1.156131e-01</td>\n",
       "      <td>-1.023071e-01</td>\n",
       "      <td>-7.639450e-02</td>\n",
       "      <td>-1.260974e-01</td>\n",
       "      <td>-1.377672e-01</td>\n",
       "    </tr>\n",
       "    <tr>\n",
       "      <th>25%</th>\n",
       "      <td>-3.729927e-02</td>\n",
       "      <td>-4.464164e-02</td>\n",
       "      <td>-3.422907e-02</td>\n",
       "      <td>-3.665645e-02</td>\n",
       "      <td>-3.424784e-02</td>\n",
       "      <td>-3.035840e-02</td>\n",
       "      <td>-3.511716e-02</td>\n",
       "      <td>-3.949338e-02</td>\n",
       "      <td>-3.324879e-02</td>\n",
       "      <td>-3.317903e-02</td>\n",
       "    </tr>\n",
       "    <tr>\n",
       "      <th>50%</th>\n",
       "      <td>5.383060e-03</td>\n",
       "      <td>-4.464164e-02</td>\n",
       "      <td>-7.283766e-03</td>\n",
       "      <td>-5.670611e-03</td>\n",
       "      <td>-4.320866e-03</td>\n",
       "      <td>-3.819065e-03</td>\n",
       "      <td>-6.584468e-03</td>\n",
       "      <td>-2.592262e-03</td>\n",
       "      <td>-1.947634e-03</td>\n",
       "      <td>-1.077698e-03</td>\n",
       "    </tr>\n",
       "    <tr>\n",
       "      <th>75%</th>\n",
       "      <td>3.807591e-02</td>\n",
       "      <td>5.068012e-02</td>\n",
       "      <td>3.124802e-02</td>\n",
       "      <td>3.564384e-02</td>\n",
       "      <td>2.835801e-02</td>\n",
       "      <td>2.984439e-02</td>\n",
       "      <td>2.931150e-02</td>\n",
       "      <td>3.430886e-02</td>\n",
       "      <td>3.243323e-02</td>\n",
       "      <td>2.791705e-02</td>\n",
       "    </tr>\n",
       "    <tr>\n",
       "      <th>max</th>\n",
       "      <td>1.107267e-01</td>\n",
       "      <td>5.068012e-02</td>\n",
       "      <td>1.705552e-01</td>\n",
       "      <td>1.320442e-01</td>\n",
       "      <td>1.539137e-01</td>\n",
       "      <td>1.987880e-01</td>\n",
       "      <td>1.811791e-01</td>\n",
       "      <td>1.852344e-01</td>\n",
       "      <td>1.335990e-01</td>\n",
       "      <td>1.356118e-01</td>\n",
       "    </tr>\n",
       "  </tbody>\n",
       "</table>\n",
       "</div>"
      ],
      "text/plain": [
       "                age           sex           bmi            bp            s1  \\\n",
       "count  4.420000e+02  4.420000e+02  4.420000e+02  4.420000e+02  4.420000e+02   \n",
       "mean  -3.639623e-16  1.309912e-16 -8.013951e-16  1.289818e-16 -9.042540e-17   \n",
       "std    4.761905e-02  4.761905e-02  4.761905e-02  4.761905e-02  4.761905e-02   \n",
       "min   -1.072256e-01 -4.464164e-02 -9.027530e-02 -1.123996e-01 -1.267807e-01   \n",
       "25%   -3.729927e-02 -4.464164e-02 -3.422907e-02 -3.665645e-02 -3.424784e-02   \n",
       "50%    5.383060e-03 -4.464164e-02 -7.283766e-03 -5.670611e-03 -4.320866e-03   \n",
       "75%    3.807591e-02  5.068012e-02  3.124802e-02  3.564384e-02  2.835801e-02   \n",
       "max    1.107267e-01  5.068012e-02  1.705552e-01  1.320442e-01  1.539137e-01   \n",
       "\n",
       "                 s2            s3            s4            s5            s6  \n",
       "count  4.420000e+02  4.420000e+02  4.420000e+02  4.420000e+02  4.420000e+02  \n",
       "mean   1.301121e-16 -4.563971e-16  3.863174e-16 -3.848103e-16 -3.398488e-16  \n",
       "std    4.761905e-02  4.761905e-02  4.761905e-02  4.761905e-02  4.761905e-02  \n",
       "min   -1.156131e-01 -1.023071e-01 -7.639450e-02 -1.260974e-01 -1.377672e-01  \n",
       "25%   -3.035840e-02 -3.511716e-02 -3.949338e-02 -3.324879e-02 -3.317903e-02  \n",
       "50%   -3.819065e-03 -6.584468e-03 -2.592262e-03 -1.947634e-03 -1.077698e-03  \n",
       "75%    2.984439e-02  2.931150e-02  3.430886e-02  3.243323e-02  2.791705e-02  \n",
       "max    1.987880e-01  1.811791e-01  1.852344e-01  1.335990e-01  1.356118e-01  "
      ]
     },
     "execution_count": 59,
     "metadata": {},
     "output_type": "execute_result"
    }
   ],
   "source": [
    "# 충분히 작네요. \n",
    "# 스케일링이 크게 필요해보이진 않을 거 같은데..\n",
    "diabetes_df.describe()\n",
    "\n",
    "## 이유는..? 이미 정규화가 되어있어서 그렇습니다."
   ]
  },
  {
   "cell_type": "code",
   "execution_count": 61,
   "metadata": {},
   "outputs": [],
   "source": [
    "diabetes_data = diabetes.data"
   ]
  },
  {
   "cell_type": "code",
   "execution_count": 62,
   "metadata": {},
   "outputs": [
    {
     "data": {
      "text/plain": [
       "((353, 10), (353,), (89, 10), (89,))"
      ]
     },
     "execution_count": 62,
     "metadata": {},
     "output_type": "execute_result"
    }
   ],
   "source": [
    "# 이번엔 test와 trainset을 나눠서 합니다.\n",
    "X_train, X_test, y_train, y_test = train_test_split(\n",
    "    diabetes_data, diabetes.target, test_size=0.2)\n",
    "\n",
    "X_train.shape, y_train.shape, X_test.shape, y_test.shape"
   ]
  },
  {
   "cell_type": "markdown",
   "metadata": {},
   "source": [
    "### bias 추가"
   ]
  },
  {
   "cell_type": "code",
   "execution_count": 63,
   "metadata": {},
   "outputs": [],
   "source": [
    "def plus_bias(X):\n",
    "    # 왜 이번엔 함수로?\n",
    "    m = X.shape[0]\n",
    "    return np.c_[np.ones((m, 1)), X]"
   ]
  },
  {
   "cell_type": "code",
   "execution_count": 64,
   "metadata": {},
   "outputs": [],
   "source": [
    "X_train_plus_bias = plus_bias(X_train)\n",
    "X_test_plus_bias = plus_bias(X_test)\n",
    "\n",
    "y_train_reshaped = y_train.reshape(-1, 1)\n",
    "y_test_reshaped = y_test.reshape(-1, 1)"
   ]
  },
  {
   "cell_type": "markdown",
   "metadata": {},
   "source": [
    "## 3. Graph 정의"
   ]
  },
  {
   "cell_type": "code",
   "execution_count": 65,
   "metadata": {},
   "outputs": [],
   "source": [
    "n_epochs = 5000 # epoch --> 학습횟수(반복횟수)\n",
    "lr = 0.03 # learning rate"
   ]
  },
  {
   "cell_type": "code",
   "execution_count": 66,
   "metadata": {},
   "outputs": [],
   "source": [
    "m, n= X_train_plus_bias.shape"
   ]
  },
  {
   "cell_type": "markdown",
   "metadata": {},
   "source": [
    "#### 1. X와 y정의"
   ]
  },
  {
   "cell_type": "code",
   "execution_count": 67,
   "metadata": {},
   "outputs": [],
   "source": [
    "X = tf.placeholder(dtype=tf.float32, shape=(None, n), name=\"X\")\n",
    "y = tf.placeholder(dtype=tf.float32, shape=(None, y_train_reshaped.shape[1]), name='y')"
   ]
  },
  {
   "cell_type": "markdown",
   "metadata": {},
   "source": [
    "#### Hypothesis&Cost 정의"
   ]
  },
  {
   "cell_type": "code",
   "execution_count": 68,
   "metadata": {
    "scrolled": true
   },
   "outputs": [
    {
     "data": {
      "text/plain": [
       "(353, 11)"
      ]
     },
     "execution_count": 68,
     "metadata": {},
     "output_type": "execute_result"
    }
   ],
   "source": [
    "m,n"
   ]
  },
  {
   "cell_type": "code",
   "execution_count": 69,
   "metadata": {},
   "outputs": [],
   "source": [
    "# M: 데이터의 개수, N: Feature_bias 의 개수\n",
    "W = tf.Variable(tf.random_uniform([n, 1], -1.0, 1.0), name='Weight')  # N X 1 행렬\n",
    "y_pred = tf.matmul(X, W, name='predictions') # hypothesis  --> M X 1행렬  = M X N+1 * N+1 X 1 \n",
    "\n",
    "error = y_pred - y\n",
    "\n",
    "# Mean Sqaure Error\n",
    "mse = tf.reduce_mean(tf.square(error), name='mse') # Cost Function"
   ]
  },
  {
   "cell_type": "markdown",
   "metadata": {},
   "source": [
    "#### 옵티마이저"
   ]
  },
  {
   "cell_type": "code",
   "execution_count": 70,
   "metadata": {},
   "outputs": [],
   "source": [
    "optimizer = tf.train.GradientDescentOptimizer(learning_rate=lr)\n",
    "\n",
    "training_op = optimizer.minimize(mse)  # mse를 최소화하는게 목적!"
   ]
  },
  {
   "cell_type": "markdown",
   "metadata": {},
   "source": [
    "# 수행"
   ]
  },
  {
   "cell_type": "code",
   "execution_count": 71,
   "metadata": {},
   "outputs": [
    {
     "name": "stdout",
     "output_type": "stream",
     "text": [
      "Epoch 0 MSE = 29998.41\n",
      "Epoch 100 MSE = 5839.485\n",
      "Epoch 200 MSE = 5631.319\n",
      "Epoch 300 MSE = 5441.8486\n",
      "Epoch 400 MSE = 5269.153\n",
      "Epoch 500 MSE = 5111.5923\n",
      "Epoch 600 MSE = 4967.694\n",
      "Epoch 700 MSE = 4836.135\n",
      "Epoch 800 MSE = 4715.721\n",
      "Epoch 900 MSE = 4605.3833\n"
     ]
    },
    {
     "data": {
      "text/plain": [
       "(array([[153.09004 ],\n",
       "        [ 31.66079 ],\n",
       "        [ -5.749164],\n",
       "        [112.84558 ],\n",
       "        [ 84.02444 ],\n",
       "        [ 27.668213],\n",
       "        [ 19.12077 ],\n",
       "        [-68.2439  ],\n",
       "        [ 71.166756],\n",
       "        [100.066956],\n",
       "        [ 69.105095]], dtype=float32), array([[170.84494 ],\n",
       "        [158.75958 ],\n",
       "        [167.64336 ],\n",
       "        [124.49739 ],\n",
       "        [120.108086],\n",
       "        [116.64476 ],\n",
       "        [161.7869  ],\n",
       "        [187.03165 ],\n",
       "        [158.71529 ],\n",
       "        [129.50626 ],\n",
       "        [130.90677 ],\n",
       "        [166.54294 ],\n",
       "        [137.19746 ],\n",
       "        [186.71356 ],\n",
       "        [130.36237 ],\n",
       "        [158.94563 ],\n",
       "        [121.72857 ],\n",
       "        [147.60957 ],\n",
       "        [152.75877 ],\n",
       "        [163.77487 ],\n",
       "        [150.80801 ],\n",
       "        [152.35587 ],\n",
       "        [161.5927  ],\n",
       "        [171.45946 ],\n",
       "        [176.62851 ],\n",
       "        [169.59076 ],\n",
       "        [153.47829 ],\n",
       "        [145.2044  ],\n",
       "        [147.40991 ],\n",
       "        [127.423485],\n",
       "        [154.30984 ],\n",
       "        [147.95189 ],\n",
       "        [137.06596 ],\n",
       "        [130.01204 ],\n",
       "        [158.07568 ],\n",
       "        [149.775   ],\n",
       "        [157.0999  ],\n",
       "        [161.28299 ],\n",
       "        [136.79372 ],\n",
       "        [166.59062 ],\n",
       "        [122.82332 ],\n",
       "        [161.1107  ],\n",
       "        [129.99239 ],\n",
       "        [172.53357 ],\n",
       "        [173.34155 ],\n",
       "        [176.6285  ],\n",
       "        [164.50908 ],\n",
       "        [186.33145 ],\n",
       "        [163.77377 ],\n",
       "        [128.68036 ],\n",
       "        [170.28271 ],\n",
       "        [128.04681 ],\n",
       "        [177.47554 ],\n",
       "        [189.66454 ],\n",
       "        [131.52068 ],\n",
       "        [184.29492 ],\n",
       "        [178.20584 ],\n",
       "        [153.60144 ],\n",
       "        [177.72256 ],\n",
       "        [163.7426  ],\n",
       "        [165.94489 ],\n",
       "        [166.96962 ],\n",
       "        [161.56354 ],\n",
       "        [143.87593 ],\n",
       "        [179.79283 ],\n",
       "        [141.69328 ],\n",
       "        [162.11444 ],\n",
       "        [140.00995 ],\n",
       "        [140.53421 ],\n",
       "        [163.15674 ],\n",
       "        [159.10846 ],\n",
       "        [150.44652 ],\n",
       "        [126.0193  ],\n",
       "        [128.18028 ],\n",
       "        [146.53584 ],\n",
       "        [144.92014 ],\n",
       "        [158.6872  ],\n",
       "        [152.44113 ],\n",
       "        [127.6904  ],\n",
       "        [141.65672 ],\n",
       "        [140.52403 ],\n",
       "        [158.5396  ],\n",
       "        [129.48486 ],\n",
       "        [144.62502 ],\n",
       "        [158.75703 ],\n",
       "        [170.49107 ],\n",
       "        [188.20714 ],\n",
       "        [171.06075 ],\n",
       "        [177.28134 ],\n",
       "        [178.97186 ],\n",
       "        [158.5515  ],\n",
       "        [140.14378 ],\n",
       "        [169.7941  ],\n",
       "        [160.16623 ],\n",
       "        [131.29904 ],\n",
       "        [153.90657 ],\n",
       "        [151.40576 ],\n",
       "        [133.14268 ],\n",
       "        [162.3764  ],\n",
       "        [176.20433 ],\n",
       "        [161.42049 ],\n",
       "        [123.78313 ],\n",
       "        [146.71484 ],\n",
       "        [164.5359  ],\n",
       "        [152.22897 ],\n",
       "        [188.18324 ],\n",
       "        [131.62926 ],\n",
       "        [187.59984 ],\n",
       "        [175.76253 ],\n",
       "        [173.7359  ],\n",
       "        [140.04512 ],\n",
       "        [141.6852  ],\n",
       "        [179.00612 ],\n",
       "        [178.7172  ],\n",
       "        [144.63531 ],\n",
       "        [136.00746 ],\n",
       "        [153.85548 ],\n",
       "        [169.94972 ],\n",
       "        [122.78934 ],\n",
       "        [170.4425  ],\n",
       "        [158.64174 ],\n",
       "        [156.08607 ],\n",
       "        [160.05388 ],\n",
       "        [139.2657  ],\n",
       "        [141.58165 ],\n",
       "        [188.85748 ],\n",
       "        [152.2432  ],\n",
       "        [173.20296 ],\n",
       "        [137.95062 ],\n",
       "        [130.56381 ],\n",
       "        [168.07857 ],\n",
       "        [149.96326 ],\n",
       "        [172.08643 ],\n",
       "        [137.0075  ],\n",
       "        [145.31375 ],\n",
       "        [195.09647 ],\n",
       "        [144.44534 ],\n",
       "        [169.37775 ],\n",
       "        [183.16693 ],\n",
       "        [174.86188 ],\n",
       "        [171.27794 ],\n",
       "        [171.78085 ],\n",
       "        [150.84879 ],\n",
       "        [171.69666 ],\n",
       "        [174.31934 ],\n",
       "        [183.24464 ],\n",
       "        [165.14302 ],\n",
       "        [152.40866 ],\n",
       "        [139.57077 ],\n",
       "        [186.98694 ],\n",
       "        [160.19446 ],\n",
       "        [166.96564 ],\n",
       "        [140.47937 ],\n",
       "        [121.88046 ],\n",
       "        [130.4462  ],\n",
       "        [138.07562 ],\n",
       "        [127.50961 ],\n",
       "        [172.7044  ],\n",
       "        [135.59636 ],\n",
       "        [172.86537 ],\n",
       "        [192.92442 ],\n",
       "        [172.57861 ],\n",
       "        [167.59122 ],\n",
       "        [128.11366 ],\n",
       "        [161.4153  ],\n",
       "        [137.22171 ],\n",
       "        [151.95277 ],\n",
       "        [139.45296 ],\n",
       "        [163.22284 ],\n",
       "        [149.1524  ],\n",
       "        [157.2667  ],\n",
       "        [158.2034  ],\n",
       "        [147.7886  ],\n",
       "        [178.06813 ],\n",
       "        [121.96064 ],\n",
       "        [156.07204 ],\n",
       "        [142.70987 ],\n",
       "        [157.22798 ],\n",
       "        [146.15446 ],\n",
       "        [116.485985],\n",
       "        [170.6453  ],\n",
       "        [160.82364 ],\n",
       "        [165.78719 ],\n",
       "        [173.72649 ],\n",
       "        [147.41954 ],\n",
       "        [126.264145],\n",
       "        [138.76869 ],\n",
       "        [132.14146 ],\n",
       "        [139.60072 ],\n",
       "        [159.5764  ],\n",
       "        [157.9657  ],\n",
       "        [148.60707 ],\n",
       "        [126.44447 ],\n",
       "        [201.99156 ],\n",
       "        [174.55017 ],\n",
       "        [113.33351 ],\n",
       "        [168.13531 ],\n",
       "        [129.15102 ],\n",
       "        [149.72003 ],\n",
       "        [126.88392 ],\n",
       "        [170.03304 ],\n",
       "        [169.698   ],\n",
       "        [137.64278 ],\n",
       "        [138.57948 ],\n",
       "        [138.30008 ],\n",
       "        [129.75507 ],\n",
       "        [165.13707 ],\n",
       "        [119.64969 ],\n",
       "        [167.57938 ],\n",
       "        [144.42583 ],\n",
       "        [138.44023 ],\n",
       "        [157.28586 ],\n",
       "        [178.18263 ],\n",
       "        [146.06049 ],\n",
       "        [189.8116  ],\n",
       "        [137.9465  ],\n",
       "        [120.43648 ],\n",
       "        [156.9837  ],\n",
       "        [161.50409 ],\n",
       "        [161.60101 ],\n",
       "        [193.48837 ],\n",
       "        [135.50682 ],\n",
       "        [144.49164 ],\n",
       "        [174.05518 ],\n",
       "        [125.745476],\n",
       "        [157.83714 ],\n",
       "        [128.28838 ],\n",
       "        [163.2323  ],\n",
       "        [137.04155 ],\n",
       "        [126.006256],\n",
       "        [141.9026  ],\n",
       "        [126.4064  ],\n",
       "        [184.71535 ],\n",
       "        [161.28368 ],\n",
       "        [125.34981 ],\n",
       "        [185.33904 ],\n",
       "        [158.03377 ],\n",
       "        [145.19432 ],\n",
       "        [183.86237 ],\n",
       "        [151.49716 ],\n",
       "        [142.83458 ],\n",
       "        [176.959   ],\n",
       "        [123.491455],\n",
       "        [146.25482 ],\n",
       "        [144.8425  ],\n",
       "        [166.54703 ],\n",
       "        [180.53497 ],\n",
       "        [130.24889 ],\n",
       "        [170.97736 ],\n",
       "        [129.29382 ],\n",
       "        [158.50452 ],\n",
       "        [160.40399 ],\n",
       "        [142.01471 ],\n",
       "        [166.55728 ],\n",
       "        [134.50664 ],\n",
       "        [141.90263 ],\n",
       "        [168.69322 ],\n",
       "        [176.58612 ],\n",
       "        [158.95055 ],\n",
       "        [187.2558  ],\n",
       "        [143.13322 ],\n",
       "        [173.4718  ],\n",
       "        [163.61633 ],\n",
       "        [167.7538  ],\n",
       "        [163.75443 ],\n",
       "        [154.48259 ],\n",
       "        [149.98917 ],\n",
       "        [172.82806 ],\n",
       "        [195.06715 ],\n",
       "        [144.75067 ],\n",
       "        [156.64464 ],\n",
       "        [173.65257 ],\n",
       "        [184.25623 ],\n",
       "        [128.64154 ],\n",
       "        [134.89539 ],\n",
       "        [194.5732  ],\n",
       "        [133.01878 ],\n",
       "        [174.94417 ],\n",
       "        [161.65431 ],\n",
       "        [161.84042 ],\n",
       "        [151.37083 ],\n",
       "        [146.29312 ],\n",
       "        [156.70186 ],\n",
       "        [123.56805 ],\n",
       "        [172.28061 ],\n",
       "        [165.03369 ],\n",
       "        [161.95035 ],\n",
       "        [161.84444 ],\n",
       "        [125.38853 ],\n",
       "        [124.28762 ],\n",
       "        [185.73392 ],\n",
       "        [167.33209 ],\n",
       "        [155.238   ],\n",
       "        [147.34645 ],\n",
       "        [157.5463  ],\n",
       "        [148.66464 ],\n",
       "        [154.00528 ],\n",
       "        [155.93819 ],\n",
       "        [140.29034 ],\n",
       "        [135.225   ],\n",
       "        [131.77277 ],\n",
       "        [180.08498 ],\n",
       "        [120.44748 ],\n",
       "        [155.07608 ],\n",
       "        [147.84578 ],\n",
       "        [140.35997 ],\n",
       "        [145.88452 ],\n",
       "        [161.63557 ],\n",
       "        [156.76477 ],\n",
       "        [141.03578 ],\n",
       "        [146.2013  ],\n",
       "        [155.83813 ],\n",
       "        [148.6819  ],\n",
       "        [148.40274 ],\n",
       "        [141.04152 ],\n",
       "        [153.68404 ],\n",
       "        [114.48677 ],\n",
       "        [178.75955 ],\n",
       "        [128.25099 ],\n",
       "        [138.27917 ],\n",
       "        [149.89005 ],\n",
       "        [163.8544  ],\n",
       "        [161.29219 ],\n",
       "        [133.82802 ],\n",
       "        [175.00111 ],\n",
       "        [128.94264 ],\n",
       "        [166.9637  ],\n",
       "        [140.35567 ],\n",
       "        [145.96588 ],\n",
       "        [158.47641 ],\n",
       "        [141.45102 ],\n",
       "        [152.0459  ],\n",
       "        [136.71455 ],\n",
       "        [122.189125],\n",
       "        [159.01624 ],\n",
       "        [177.85976 ],\n",
       "        [143.56912 ],\n",
       "        [167.71623 ],\n",
       "        [149.23941 ],\n",
       "        [143.96982 ],\n",
       "        [149.35349 ],\n",
       "        [168.95808 ],\n",
       "        [125.5025  ],\n",
       "        [167.48302 ],\n",
       "        [124.79078 ],\n",
       "        [136.64336 ],\n",
       "        [156.68674 ],\n",
       "        [176.19353 ],\n",
       "        [120.98798 ],\n",
       "        [159.57683 ],\n",
       "        [141.57504 ],\n",
       "        [141.07237 ],\n",
       "        [146.53781 ]], dtype=float32))"
      ]
     },
     "execution_count": 71,
     "metadata": {},
     "output_type": "execute_result"
    }
   ],
   "source": [
    "init = tf.global_variables_initializer()\n",
    "\n",
    "with tf.Session() as sess:\n",
    "    sess.run(init)\n",
    "\n",
    "    for epoch in range(n_epochs):\n",
    "        if epoch % 100 == 0:\n",
    "            # feed_dict 추가\n",
    "            print(\"Epoch\", epoch, \"MSE =\", \n",
    "                  mse.eval(feed_dict={\n",
    "                      X:X_train_plus_bias, \n",
    "                      y:y_train_reshaped})\n",
    "                 )\n",
    "        \n",
    "        # weight 업데이트\n",
    "        sess.run(training_op, feed_dict={X:X_train_plus_bias, y:y_train_reshaped})\n",
    "    \n",
    "    best_weight = W.eval()\n",
    "    train_y_pred = y_pred.eval(feed_dict={X:X_train_plus_bias})\n",
    "    \n",
    "\n",
    "best_weight, train_y_pred"
   ]
  },
  {
   "cell_type": "markdown",
   "metadata": {},
   "source": [
    "# training set 학습의 평가"
   ]
  },
  {
   "cell_type": "code",
   "execution_count": 72,
   "metadata": {},
   "outputs": [
    {
     "data": {
      "text/plain": [
       "0.25874554397703575"
      ]
     },
     "execution_count": 72,
     "metadata": {},
     "output_type": "execute_result"
    }
   ],
   "source": [
    "# https://scikit-learn.org/stable/modules/generated/sklearn.metrics.r2_score.html\n",
    "from sklearn.metrics import r2_score\n",
    "# r2_score(y_true, y_pred) # 사용법\n",
    "r2_score(y_train_reshaped, train_y_pred)"
   ]
  },
  {
   "cell_type": "markdown",
   "metadata": {},
   "source": [
    "# Test"
   ]
  },
  {
   "cell_type": "code",
   "execution_count": null,
   "metadata": {},
   "outputs": [],
   "source": [
    "init = tf.global_variables_initializer()\n",
    "with tf.Session() as sess:\n",
    "    sess.run(init)\n",
    "    sess.run(tf.assign(W, best_weight))\n",
    "    \n",
    "    test_y_pred = y_pred.eval(feed_dict={X:X_test_plus_bias})\n",
    "    "
   ]
  },
  {
   "cell_type": "code",
   "execution_count": null,
   "metadata": {},
   "outputs": [],
   "source": [
    "test_y_pred.shape"
   ]
  },
  {
   "cell_type": "code",
   "execution_count": null,
   "metadata": {},
   "outputs": [],
   "source": [
    "r2_score(y_test_reshaped, test_y_pred)"
   ]
  },
  {
   "cell_type": "code",
   "execution_count": null,
   "metadata": {},
   "outputs": [],
   "source": []
  },
  {
   "cell_type": "code",
   "execution_count": null,
   "metadata": {},
   "outputs": [],
   "source": []
  },
  {
   "cell_type": "markdown",
   "metadata": {},
   "source": [
    "# 이름 범위 - 관련 노드를 묶기"
   ]
  },
  {
   "cell_type": "markdown",
   "metadata": {},
   "source": [
    "##### boston_data로"
   ]
  },
  {
   "cell_type": "code",
   "execution_count": null,
   "metadata": {},
   "outputs": [],
   "source": [
    "reset_all()"
   ]
  },
  {
   "cell_type": "code",
   "execution_count": null,
   "metadata": {},
   "outputs": [],
   "source": [
    "now = datetime.now().strftime(\"%Y%m%d%H%M%S\")\n",
    "root_logdir = \"tf_logs/boston\"\n",
    "logdir = \"{}/{}/\".format(root_logdir, now)\n",
    "\n",
    "n_epochs = 1000\n",
    "learning_rate = 0.01\n",
    "\n",
    "X = tf.placeholder(tf.float32, shape=(None, n + 1), name=\"X\")\n",
    "y = tf.placeholder(tf.float32, shape=(None, 1), name=\"y\")\n",
    "W = tf.Variable(tf.random_uniform([n + 1, 1], -1.0, 1.0, seed=42), name=\"Weight\")\n",
    "y_pred = tf.matmul(X, W, name=\"predictions\")"
   ]
  },
  {
   "cell_type": "markdown",
   "metadata": {},
   "source": [
    "#### Hypothesis&Cost 정의"
   ]
  },
  {
   "cell_type": "code",
   "execution_count": null,
   "metadata": {
    "scrolled": true
   },
   "outputs": [],
   "source": [
    "m,n"
   ]
  },
  {
   "cell_type": "code",
   "execution_count": null,
   "metadata": {},
   "outputs": [],
   "source": [
    "# M: 데이터의 개수, N: Feature의 개수\n",
    "# n(feature의 개수) +1 --> bias\n",
    "W = tf.Variable(tf.random_uniform([n+1, 1], -1.0, 1.0), name='Weight')  # N+1 X 1 행렬\n",
    "y_pred = tf.matmul(X, W, name='predictions') # hypothesis  --> M X 1행렬  = M X N+1 * N+1 X 1 "
   ]
  },
  {
   "cell_type": "markdown",
   "metadata": {},
   "source": [
    "# 이름 범위로 묶기! (중요)"
   ]
  },
  {
   "cell_type": "code",
   "execution_count": null,
   "metadata": {},
   "outputs": [],
   "source": [
    "# 이름 범위로 묶기\n",
    "# ==> y값은 MX1 로 넣어줘야함 행렬연산 위해\n",
    "with tf.name_scope(\"loss\") as scope: \n",
    "    error = y_pred - y  # MX1행렬 (데이터의 개수 만큼 error가 나옴.) --> Data 1개당 에러 (오차)  \n",
    "    mse = tf.reduce_mean(tf.square(error), name=\"mse\")"
   ]
  },
  {
   "cell_type": "markdown",
   "metadata": {},
   "source": [
    "#### 옵티마이저"
   ]
  },
  {
   "cell_type": "code",
   "execution_count": null,
   "metadata": {},
   "outputs": [],
   "source": [
    "optimizer = tf.train.GradientDescentOptimizer(learning_rate=lr)\n",
    "# mse를 최소화하는게 목적!\n",
    "training_op = optimizer.minimize(mse) \n",
    "\n",
    "print(boston_label.shape)\n",
    "# 행렬간 연산을 위해선 2차원 행렬로 만들어줘야함.\n",
    "boston_label = boston_label.reshape(-1, 1)\n",
    "boston_label.shape"
   ]
  },
  {
   "cell_type": "markdown",
   "metadata": {},
   "source": [
    "## 4. 실행"
   ]
  },
  {
   "cell_type": "code",
   "execution_count": null,
   "metadata": {
    "scrolled": true
   },
   "outputs": [],
   "source": [
    "init = tf.global_variables_initializer()\n",
    "\n",
    "mse_summary = tf.summary.scalar('MSE', mse)\n",
    "file_writer = tf.summary.FileWriter(logdir, tf.get_default_graph())\n",
    "\n",
    "with tf.Session() as sess:\n",
    "    sess.run(init)\n",
    "\n",
    "    for epoch in range(n_epochs):\n",
    "        if epoch % 100 == 0:\n",
    "            # feed_dict 추가\n",
    "            print(\"Epoch\", epoch, \"MSE =\", \n",
    "                  mse.eval(feed_dict={\n",
    "                      X:scaled_boston_housing_plus_bias, \n",
    "                      y:boston_label})\n",
    "                 )\n",
    "        \n",
    "        # weight 업데이트\n",
    "        sess.run(training_op, feed_dict={X:scaled_boston_housing_plus_bias, y:boston_label})\n",
    "    \n",
    "    best_weight = W.eval()\n",
    "\n",
    "best_weight"
   ]
  },
  {
   "cell_type": "code",
   "execution_count": null,
   "metadata": {},
   "outputs": [],
   "source": [
    "file_writer.close()\n",
    "import sys\n",
    "!tensorboard --logdir {root_logdir}"
   ]
  },
  {
   "cell_type": "code",
   "execution_count": null,
   "metadata": {},
   "outputs": [],
   "source": []
  },
  {
   "cell_type": "code",
   "execution_count": null,
   "metadata": {},
   "outputs": [],
   "source": []
  },
  {
   "cell_type": "markdown",
   "metadata": {},
   "source": [
    "# Logistic Regression 눈으로 확인하기"
   ]
  },
  {
   "cell_type": "code",
   "execution_count": null,
   "metadata": {},
   "outputs": [],
   "source": [
    "import tensorflow as tf\n",
    "import matplotlib.pyplot as plt\n",
    "import numpy as np\n",
    "\n",
    "X_train = np.linspace(-1, 1, 10)  # 예를 위한 X 데이터\n",
    "y_train = np.asmatrix([0,0,0,0,1,1,1,1,1,1]).T\n",
    "X_train = np.asmatrix(X_train).T\n",
    "\n",
    "\n",
    "n_dim = X_train.shape[1]\n",
    "\n",
    "lr = tf.constant(0.01,dtype=tf.float32)\n",
    "num_epochs = 3000\n",
    "\n",
    "X = tf.placeholder(tf.float32, [X_train.shape[0],n_dim])\n",
    "y = tf.placeholder(tf.float32, [X_train.shape[0],1])\n",
    "w = tf.Variable(np.ones([n_dim,1]),dtype=tf.float32)\n",
    "b = tf.Variable(0, dtype=tf.float32)\n",
    "init = tf.global_variables_initializer()\n",
    "\n",
    "yhat = (1./(1+tf.exp(tf.matmul(X,w) + b)))\n",
    "loss = tf.reduce_mean(tf.square(yhat - y))\n",
    "train_op = tf.train.GradientDescentOptimizer(lr).minimize(loss)\n",
    "\n",
    "\n",
    "#initialize session\n",
    "sess = tf.Session()\n",
    "sess.run(init)\n",
    "\n",
    "loss_history = []\n",
    "for epoch in range(num_epochs):\n",
    "    sess.run(train_op,feed_dict={X: X_train, y: y_train})\n",
    "    loss_history.append(sess.run(loss,feed_dict={X: X_train, y: y_train}))\n",
    "\n",
    "\n",
    "plt.plot(range(len(loss_history)),loss_history)\n",
    "plt.show()\n",
    "\n",
    "w = sess.run(w)\n",
    "b = sess.run(b)\n",
    "print(\"W: %.4f\" % w) \n",
    "print(\"b: %.4f\" % b) \n",
    "\n",
    "print (1./(1+np.exp(np.dot(X_train,w) + b)))\n"
   ]
  },
  {
   "cell_type": "code",
   "execution_count": null,
   "metadata": {},
   "outputs": [],
   "source": []
  },
  {
   "cell_type": "code",
   "execution_count": null,
   "metadata": {},
   "outputs": [],
   "source": []
  },
  {
   "cell_type": "code",
   "execution_count": null,
   "metadata": {},
   "outputs": [],
   "source": []
  },
  {
   "cell_type": "code",
   "execution_count": null,
   "metadata": {},
   "outputs": [],
   "source": []
  },
  {
   "cell_type": "code",
   "execution_count": null,
   "metadata": {},
   "outputs": [],
   "source": []
  },
  {
   "cell_type": "code",
   "execution_count": null,
   "metadata": {},
   "outputs": [],
   "source": []
  },
  {
   "cell_type": "code",
   "execution_count": null,
   "metadata": {},
   "outputs": [],
   "source": []
  },
  {
   "cell_type": "markdown",
   "metadata": {},
   "source": [
    "# 1장 끝 - 종료"
   ]
  },
  {
   "cell_type": "code",
   "execution_count": null,
   "metadata": {},
   "outputs": [],
   "source": []
  },
  {
   "cell_type": "code",
   "execution_count": null,
   "metadata": {},
   "outputs": [],
   "source": []
  },
  {
   "cell_type": "code",
   "execution_count": null,
   "metadata": {},
   "outputs": [],
   "source": []
  },
  {
   "cell_type": "code",
   "execution_count": null,
   "metadata": {},
   "outputs": [],
   "source": []
  },
  {
   "cell_type": "code",
   "execution_count": null,
   "metadata": {},
   "outputs": [],
   "source": []
  },
  {
   "cell_type": "code",
   "execution_count": null,
   "metadata": {},
   "outputs": [],
   "source": []
  },
  {
   "cell_type": "code",
   "execution_count": null,
   "metadata": {},
   "outputs": [],
   "source": []
  },
  {
   "cell_type": "code",
   "execution_count": null,
   "metadata": {},
   "outputs": [],
   "source": []
  },
  {
   "cell_type": "code",
   "execution_count": null,
   "metadata": {},
   "outputs": [],
   "source": []
  },
  {
   "cell_type": "code",
   "execution_count": null,
   "metadata": {},
   "outputs": [],
   "source": []
  },
  {
   "cell_type": "code",
   "execution_count": null,
   "metadata": {},
   "outputs": [],
   "source": []
  },
  {
   "cell_type": "markdown",
   "metadata": {},
   "source": [
    "# 모범 답안"
   ]
  },
  {
   "cell_type": "markdown",
   "metadata": {},
   "source": [
    "### 2. graph 정의"
   ]
  },
  {
   "cell_type": "code",
   "execution_count": null,
   "metadata": {},
   "outputs": [],
   "source": [
    "# Weight와 bias 정의\n",
    "W = tf.Variable(tf.random_normal([train_X.shape[1], 1])) # 13길이의 열벡터를 랜덤하게 만듬 \n",
    "b = tf.Variable(tf.random_normal([1]))\n",
    "\n",
    "# X data와, Y data 정의\n",
    "X = tf.placeholder(tf.float32, shape=(None, train_X.shape[1]))\n",
    "Y = tf.placeholder(tf.float32)"
   ]
  },
  {
   "cell_type": "code",
   "execution_count": null,
   "metadata": {},
   "outputs": [],
   "source": [
    "# hypothesis와 Cost함수 정의\n",
    "hypothesis = tf.matmul(X, W) + b\n",
    "\n",
    "# 오차 제곱의 평균\n",
    "cost = tf.reduce_mean(tf.square(hypothesis - Y))\n",
    "print(cost)"
   ]
  },
  {
   "cell_type": "code",
   "execution_count": null,
   "metadata": {},
   "outputs": [],
   "source": [
    "# Optimizer\n",
    "learning_rate = 1.0e-6\n",
    "optimizer = tf.train.GradientDescentOptimizer(learning_rate=learning_rate)\n",
    "train_op = optimizer.minimize(cost)"
   ]
  },
  {
   "cell_type": "markdown",
   "metadata": {},
   "source": [
    "### 3. 훈련 (session.run)"
   ]
  },
  {
   "cell_type": "code",
   "execution_count": null,
   "metadata": {
    "scrolled": true
   },
   "outputs": [],
   "source": [
    "import numpy as np\n",
    "tf.set_random_seed(0)\n",
    "\n",
    "with tf.Session() as session:\n",
    "    # W와 b를 초기화\n",
    "    session.run(tf.global_variables_initializer())\n",
    "    \n",
    "    for step in range(1000000):\n",
    "        # 우리가 알고 싶은 값\n",
    "        _, cost_val, W_val, b_val = session.run([train_op, cost, W, b], feed_dict={X:train_X, Y:train_Y})\n",
    "        # 끝났지만 진행 상황을 알고 싶다.\n",
    "        if step%100000==0:\n",
    "            # 20번에 한번씩 진행하기\n",
    "            print(\" step: {}\\n cost:{}\\n Weight: {} \\n bias:{}\".format(step, cost_val, W_val, b_val))\n",
    "            print(\"-\"*50)\n",
    "            \n",
    "    # 최적화가 완료된 모델에 테스트 값을 넣고 결과가 잘 나오는지 확인해봅니다.\n",
    "    print(\"\\n=== Test ===\")\n",
    "    pred_test = session.run(hypothesis, feed_dict={X: test_X})\n",
    "    pred_train = session.run(hypothesis, feed_dict={X: train_X})\n",
    "    print(\"pred: \", pred)\n",
    "    print(\"Weight와 bias: \", session.run([W, b]))\n",
    "    \n",
    "    print(\"=\"*50)\n",
    "print(np.array(zip(pred_test.flatten(), test_Y.flatten())))"
   ]
  },
  {
   "cell_type": "markdown",
   "metadata": {},
   "source": [
    "### 4. Test"
   ]
  },
  {
   "cell_type": "code",
   "execution_count": null,
   "metadata": {},
   "outputs": [],
   "source": []
  },
  {
   "cell_type": "markdown",
   "metadata": {},
   "source": [
    "# Linear Regression 실습하기"
   ]
  },
  {
   "cell_type": "code",
   "execution_count": null,
   "metadata": {},
   "outputs": [],
   "source": [
    "import tensorflow as tf\n",
    "import matplotlib.pyplot as plt"
   ]
  },
  {
   "cell_type": "markdown",
   "metadata": {},
   "source": [
    "### 1. dataLoad"
   ]
  },
  {
   "cell_type": "code",
   "execution_count": null,
   "metadata": {},
   "outputs": [],
   "source": [
    "# y = 2*x + 1\n",
    "# w[1] = 2, w[0]= 1\n",
    "x_data = [1, 2, 3]\n",
    "y_data = [3, 5, 7]"
   ]
  },
  {
   "cell_type": "markdown",
   "metadata": {},
   "source": [
    "### 2. Graph 정의"
   ]
  },
  {
   "cell_type": "code",
   "execution_count": null,
   "metadata": {},
   "outputs": [],
   "source": [
    "# W1과 W0을 구하는게 우리의 목표!\n",
    "# 일단 하나 정하고 조정하기. ==> Variable을 쓰고, 초기값 설정\n",
    "W = tf.Variable(tf.random_uniform([1], -100, 100)) # W1 - Weight\n",
    "b = tf.Variable(tf.random_uniform([1], -100, 100)) # W0 - bias\n",
    "\n",
    "# name: 나중에 텐서보드등으로 값의 변화를 추적하거나 살펴보기 쉽게 하기 위해 이름을 붙여준다.\n",
    "# 왜 tf.placeholder를 사용하는가? 생각해보자!\n",
    "# \n",
    "# 새로운 데이터를 예측하기 위해서 훈련을 합니다.\n",
    "# --> 기존데이터로 훈련을 하고, 훈련된 모델을 새로운 데이터로 바꿀 수 있어야 합니다.\n",
    "X = tf.placeholder(tf.float32, name=\"X\") # 훈련 데이터\n",
    "Y = tf.placeholder(tf.float32, name=\"Y\") # 정답 데이터"
   ]
  },
  {
   "cell_type": "code",
   "execution_count": null,
   "metadata": {},
   "outputs": [],
   "source": [
    "# hypothesis 정의\n",
    "# W 와 X 가 행렬이 아니므로 tf.matmul 이 아니라 기본 곱셈 기호를 사용한다.\n",
    "hypothesis = W * X + b\n",
    "\n",
    "# Cost Function을 작성한다. (손실 함수)\n",
    "# mean(h - Y)^2 : 예측값과 실제값의 차이의 제곱의 평균\n",
    "err = tf.square(hypothesis - Y)\n",
    "cost = tf.reduce_mean(err)\n"
   ]
  },
  {
   "cell_type": "code",
   "execution_count": null,
   "metadata": {},
   "outputs": [],
   "source": [
    "# 훈련률: 0.1: optimizer가 Variable을(Weight를) 자동으로 조정한다.\n",
    "optimizer = tf.train.GradientDescentOptimizer(learning_rate=0.1) \n",
    "\n",
    "# 비용을 최소화 하는 것이 최종 목표\n",
    "train_op = optimizer.minimize(cost)  # compute_gradients, apply_gradients가 실행됩니다."
   ]
  },
  {
   "cell_type": "markdown",
   "metadata": {},
   "source": [
    "### 3. 학습"
   ]
  },
  {
   "cell_type": "code",
   "execution_count": null,
   "metadata": {},
   "outputs": [],
   "source": [
    "# 세션 생성 및 초기화.\n",
    "with tf.Session() as sess:\n",
    "    writer = tf.summary.FileWriter('./summary', session.graph)\n",
    "    sess.run(tf.global_variables_initializer()) # 변수 초기화\n",
    "\n",
    "    # 최적화를 300번 수행합니다.\n",
    "    for step in range(300):\n",
    "        # sess.run 을 통해 train_op 와 cost 그래프를 계산한다.\n",
    "        # 이 때, Hypothesis에 넣어야 할 실제값을 feed_dict 을 통해 전달합니다.\n",
    "        _, cost_val, weight, bias = sess.run([train_op, cost, W, b], feed_dict={X: x_data, Y: y_data})\n",
    "        \n",
    "        # _는 None값. --> compute_gradients, apply_gradients가 실행됩니다.\n",
    "        # --> W값 자동으로 조정합니다.\n",
    "        \n",
    "        if step%20==0:\n",
    "            # 20번에 한번씩 진행하기\n",
    "            print(_)\n",
    "            print(\" step: {}\\n cost:{}\\n Weight: {} \\n bias:{}\".format(step, cost_val, weight, bias))\n",
    "            print(\"-\"*50)\n",
    "            h = sess.run(hypothesis, feed_dict={X: x_data})\n",
    "            \n",
    "            plt.plot(x_data, h)\n",
    "            plt.scatter(x_data, y_data)\n",
    "            plt.show()\n",
    "\n",
    "    # 최적화가 완료된 모델에 테스트 값을 넣고 결과가 잘 나오는지 확인해봅니다.\n",
    "    print(\"\\n=== Test ===\")\n",
    "    print(\"X: 5, Y:\", sess.run(hypothesis, feed_dict={X: 5}))\n",
    "    print(\"X: 2.5, Y:\", sess.run(hypothesis, feed_dict={X: 2.5}))\n",
    "    print(\"Weight와 bias\")\n",
    "    print(sess.run([W, b]))\n"
   ]
  },
  {
   "cell_type": "code",
   "execution_count": null,
   "metadata": {},
   "outputs": [],
   "source": []
  },
  {
   "cell_type": "code",
   "execution_count": null,
   "metadata": {},
   "outputs": [],
   "source": [
    "# optimizer 선택 with data"
   ]
  },
  {
   "cell_type": "code",
   "execution_count": null,
   "metadata": {},
   "outputs": [],
   "source": []
  },
  {
   "cell_type": "code",
   "execution_count": null,
   "metadata": {},
   "outputs": [],
   "source": []
  },
  {
   "cell_type": "markdown",
   "metadata": {},
   "source": [
    "# TensorFlow Graph Final"
   ]
  },
  {
   "cell_type": "code",
   "execution_count": null,
   "metadata": {},
   "outputs": [],
   "source": [
    "import tensorflow as tf\n",
    "node1 = tf.constant(2, dtype=tf.float32)\n",
    "node2 = tf.constant(3, dtype=tf.float32)\n",
    "node3 = tf.placeholder(tf.float32)\n",
    "node4 = tf.placeholder(tf.float32)\n",
    "\n",
    "node5 = node1*node2 + (node3/node4)\n",
    "# 동일합니다.\n",
    "# node4 = tf.add(tf.multiply(node1, node2), node3)"
   ]
  },
  {
   "cell_type": "code",
   "execution_count": null,
   "metadata": {},
   "outputs": [],
   "source": [
    "# with절 사용시 close 안해줘도 됨.\n",
    "with tf.Session() as session:\n",
    "    writer = tf.summary.FileWriter('./summary', session.graph)\n",
    "    print(writer)\n",
    "    result = session.run(node4, feed_dict={node3: 8, node4:2})\n",
    "    print(result)"
   ]
  },
  {
   "cell_type": "code",
   "execution_count": null,
   "metadata": {},
   "outputs": [],
   "source": [
    "# tensorboard\n",
    "!tensorboard --logdir=\"./summary\""
   ]
  },
  {
   "cell_type": "code",
   "execution_count": null,
   "metadata": {},
   "outputs": [],
   "source": []
  }
 ],
 "metadata": {
  "kernelspec": {
   "display_name": "Python 3",
   "language": "python",
   "name": "python3"
  },
  "language_info": {
   "codemirror_mode": {
    "name": "ipython",
    "version": 3
   },
   "file_extension": ".py",
   "mimetype": "text/x-python",
   "name": "python",
   "nbconvert_exporter": "python",
   "pygments_lexer": "ipython3",
   "version": "3.6.8"
  }
 },
 "nbformat": 4,
 "nbformat_minor": 2
}
